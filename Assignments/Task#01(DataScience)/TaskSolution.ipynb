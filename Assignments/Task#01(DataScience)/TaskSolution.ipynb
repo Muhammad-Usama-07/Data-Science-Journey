{
 "cells": [
  {
   "cell_type": "markdown",
   "metadata": {},
   "source": [
    "# Task 01"
   ]
  },
  {
   "cell_type": "markdown",
   "metadata": {},
   "source": [
    "## Categorical-variables.Visualization-techniques-exercise-Solution\n",
    "Ice cream shop"
   ]
  },
  {
   "cell_type": "markdown",
   "metadata": {},
   "source": [
    "1. **Background:** There is an ice cream shop, that is operating in New York, LA and San Francisco.\n",
    "2. **Data:**       You have sold 12,327 ice creams in New York; 17,129 in LA and 19,923 in San Francisco.\n",
    "3. **Task:**       Order the data in a frequency distribution table.   "
   ]
  },
  {
   "cell_type": "code",
   "execution_count": 2,
   "metadata": {},
   "outputs": [],
   "source": [
    "import numpy as np\n",
    "import pandas as pd"
   ]
  },
  {
   "cell_type": "code",
   "execution_count": 3,
   "metadata": {},
   "outputs": [
    {
     "data": {
      "text/html": [
       "<div>\n",
       "<style scoped>\n",
       "    .dataframe tbody tr th:only-of-type {\n",
       "        vertical-align: middle;\n",
       "    }\n",
       "\n",
       "    .dataframe tbody tr th {\n",
       "        vertical-align: top;\n",
       "    }\n",
       "\n",
       "    .dataframe thead th {\n",
       "        text-align: right;\n",
       "    }\n",
       "</style>\n",
       "<table border=\"1\" class=\"dataframe\">\n",
       "  <thead>\n",
       "    <tr style=\"text-align: right;\">\n",
       "      <th></th>\n",
       "      <th>Frequency</th>\n",
       "    </tr>\n",
       "  </thead>\n",
       "  <tbody>\n",
       "    <tr>\n",
       "      <th>New York</th>\n",
       "      <td>12327</td>\n",
       "    </tr>\n",
       "    <tr>\n",
       "      <th>LA</th>\n",
       "      <td>17129</td>\n",
       "    </tr>\n",
       "    <tr>\n",
       "      <th>San Francisco</th>\n",
       "      <td>19923</td>\n",
       "    </tr>\n",
       "    <tr>\n",
       "      <th>Total</th>\n",
       "      <td>49379</td>\n",
       "    </tr>\n",
       "  </tbody>\n",
       "</table>\n",
       "</div>"
      ],
      "text/plain": [
       "               Frequency\n",
       "New York           12327\n",
       "LA                 17129\n",
       "San Francisco      19923\n",
       "Total              49379"
      ]
     },
     "execution_count": 3,
     "metadata": {},
     "output_type": "execute_result"
    }
   ],
   "source": [
    "frequency = {'Frequency':[12327,17129,19923]}\n",
    "frequency['Frequency'].append(sum(frequency['Frequency']))\n",
    "Categorical_variables_Data = pd.DataFrame(frequency, index=['New York', 'LA', 'San Francisco','Total'])\n",
    "Categorical_variables_Data"
   ]
  },
  {
   "cell_type": "markdown",
   "metadata": {},
   "source": [
    "# Task 02"
   ]
  },
  {
   "cell_type": "markdown",
   "metadata": {},
   "source": [
    "## Cross-table-and-scatter-plot-exercise-solution"
   ]
  },
  {
   "cell_type": "markdown",
   "metadata": {},
   "source": [
    "Cross table"
   ]
  },
  {
   "cell_type": "markdown",
   "metadata": {},
   "source": [
    "1. Background: You have employment data about country X. You have been asked to prepare a cross-table showing that data. \n",
    "                60% of 18 to 25-year-olds are employed\n",
    "                85% of 25 to 35-year-olds are employed\n",
    "                5% of 35 to 45-year-olds are unemployed\n",
    "                3% of 45 to 55-year-olds are unemployed\n",
    "                3% of 55 to 65-year-olds are unemployed\n",
    "                All 65+ are employed. Note: the definition of unemployed is: without a job, but actively searching for one.  \n",
    "                That's probably why all 65+s are employed.\n",
    "2. Task 1:      Create a cross table summarizing the data you have been given.\n",
    "3. Task 2:      Create a side-by-side bar chart (it is called clustered column chart in Excel), in order to visually enhance your summary."
   ]
  },
  {
   "cell_type": "code",
   "execution_count": 5,
   "metadata": {},
   "outputs": [
    {
     "data": {
      "text/html": [
       "<div>\n",
       "<style scoped>\n",
       "    .dataframe tbody tr th:only-of-type {\n",
       "        vertical-align: middle;\n",
       "    }\n",
       "\n",
       "    .dataframe tbody tr th {\n",
       "        vertical-align: top;\n",
       "    }\n",
       "\n",
       "    .dataframe thead th {\n",
       "        text-align: right;\n",
       "    }\n",
       "</style>\n",
       "<table border=\"1\" class=\"dataframe\">\n",
       "  <thead>\n",
       "    <tr style=\"text-align: right;\">\n",
       "      <th></th>\n",
       "      <th>Employed</th>\n",
       "      <th>Unemployed</th>\n",
       "      <th>Total</th>\n",
       "    </tr>\n",
       "  </thead>\n",
       "  <tbody>\n",
       "    <tr>\n",
       "      <th>18-25</th>\n",
       "      <td>60</td>\n",
       "      <td>40</td>\n",
       "      <td>100</td>\n",
       "    </tr>\n",
       "    <tr>\n",
       "      <th>25-35</th>\n",
       "      <td>85</td>\n",
       "      <td>15</td>\n",
       "      <td>100</td>\n",
       "    </tr>\n",
       "    <tr>\n",
       "      <th>35-45</th>\n",
       "      <td>95</td>\n",
       "      <td>5</td>\n",
       "      <td>100</td>\n",
       "    </tr>\n",
       "    <tr>\n",
       "      <th>45-55</th>\n",
       "      <td>97</td>\n",
       "      <td>3</td>\n",
       "      <td>100</td>\n",
       "    </tr>\n",
       "    <tr>\n",
       "      <th>55-65</th>\n",
       "      <td>97</td>\n",
       "      <td>3</td>\n",
       "      <td>100</td>\n",
       "    </tr>\n",
       "    <tr>\n",
       "      <th>65+</th>\n",
       "      <td>100</td>\n",
       "      <td>0</td>\n",
       "      <td>100</td>\n",
       "    </tr>\n",
       "    <tr>\n",
       "      <th>Total</th>\n",
       "      <td>534</td>\n",
       "      <td>66</td>\n",
       "      <td>600</td>\n",
       "    </tr>\n",
       "  </tbody>\n",
       "</table>\n",
       "</div>"
      ],
      "text/plain": [
       "       Employed  Unemployed  Total\n",
       "18-25        60          40    100\n",
       "25-35        85          15    100\n",
       "35-45        95           5    100\n",
       "45-55        97           3    100\n",
       "55-65        97           3    100\n",
       "65+         100           0    100\n",
       "Total       534          66    600"
      ]
     },
     "execution_count": 5,
     "metadata": {},
     "output_type": "execute_result"
    }
   ],
   "source": [
    "cross_table_data = {'Employed':[60,85,95,97,97,100],'Unemployed':[40,15,5,3,3,0],'Total':[100,100,100,100,100,100]}\n",
    "cross_table_data['Employed'].append(sum(cross_table_data['Employed']))\n",
    "cross_table_data['Unemployed'].append(sum(cross_table_data['Unemployed']))\n",
    "cross_table_data['Total'].append(sum(cross_table_data['Total']))\n",
    "cross_table = pd.DataFrame(cross_table_data, index=['18-25', '25-35', '35-45','45-55','55-65','65+','Total'])\n",
    "cross_table"
   ]
  },
  {
   "cell_type": "code",
   "execution_count": null,
   "metadata": {},
   "outputs": [],
   "source": []
  }
 ],
 "metadata": {
  "kernelspec": {
   "display_name": "Python 3",
   "language": "python",
   "name": "python3"
  },
  "language_info": {
   "codemirror_mode": {
    "name": "ipython",
    "version": 3
   },
   "file_extension": ".py",
   "mimetype": "text/x-python",
   "name": "python",
   "nbconvert_exporter": "python",
   "pygments_lexer": "ipython3",
   "version": "3.8.3"
  }
 },
 "nbformat": 4,
 "nbformat_minor": 4
}
