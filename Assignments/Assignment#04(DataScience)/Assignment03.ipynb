{
  "nbformat": 4,
  "nbformat_minor": 0,
  "metadata": {
    "colab": {
      "name": "Assignment03.ipynb",
      "provenance": []
    }
  },
  "cells": [
    {
      "cell_type": "markdown",
      "metadata": {
        "id": "D91J3aXN-5Th"
      },
      "source": [
        "# Standard normal distribution"
      ]
    },
    {
      "cell_type": "code",
      "metadata": {
        "id": "AwD9wpTs_CvQ"
      },
      "source": [
        ""
      ],
      "execution_count": null,
      "outputs": []
    }
  ]
}