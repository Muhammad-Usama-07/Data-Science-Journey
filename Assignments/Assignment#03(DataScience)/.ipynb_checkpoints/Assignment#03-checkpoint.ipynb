{
  "nbformat": 4,
  "nbformat_minor": 0,
  "metadata": {
    "kernelspec": {
      "display_name": "Python 3",
      "language": "python",
      "name": "python3"
    },
    "language_info": {
      "codemirror_mode": {
        "name": "ipython",
        "version": 3
      },
      "file_extension": ".py",
      "mimetype": "text/x-python",
      "name": "python",
      "nbconvert_exporter": "python",
      "pygments_lexer": "ipython3",
      "version": "3.8.3"
    },
    "colab": {
      "name": "Assignment#03-checkpoint.ipynb",
      "provenance": []
    }
  },
  "cells": [
    {
      "cell_type": "code",
      "metadata": {
        "id": "vPa7ZeDT42jw"
      },
      "source": [
        "import numpy as np\n",
        "import pandas as pd"
      ],
      "execution_count": 1,
      "outputs": []
    },
    {
      "cell_type": "code",
      "metadata": {
        "colab": {
          "base_uri": "https://localhost:8080/",
          "height": 460
        },
        "id": "RkIslnpS42jy",
        "outputId": "e2d8f08e-9513-4782-d1e8-3ba7789e64ea"
      },
      "source": [
        "data = pd.read_excel('Practical-example.Descriptive-statistics-exercise-solution.xlsx')\n",
        "data"
      ],
      "execution_count": 3,
      "outputs": [
        {
          "output_type": "execute_result",
          "data": {
            "text/html": [
              "<div>\n",
              "<style scoped>\n",
              "    .dataframe tbody tr th:only-of-type {\n",
              "        vertical-align: middle;\n",
              "    }\n",
              "\n",
              "    .dataframe tbody tr th {\n",
              "        vertical-align: top;\n",
              "    }\n",
              "\n",
              "    .dataframe thead th {\n",
              "        text-align: right;\n",
              "    }\n",
              "</style>\n",
              "<table border=\"1\" class=\"dataframe\">\n",
              "  <thead>\n",
              "    <tr style=\"text-align: right;\">\n",
              "      <th></th>\n",
              "      <th>ID</th>\n",
              "      <th>Building</th>\n",
              "      <th>Year of sale</th>\n",
              "      <th>Month of sale</th>\n",
              "      <th>Type of property</th>\n",
              "      <th>Property #</th>\n",
              "      <th>Area (ft.)</th>\n",
              "      <th>Price</th>\n",
              "      <th>Status</th>\n",
              "      <th>Unnamed: 9</th>\n",
              "      <th>Customer ID</th>\n",
              "      <th>Entity</th>\n",
              "      <th>Name</th>\n",
              "      <th>Surname</th>\n",
              "      <th>Age at time of purchase</th>\n",
              "      <th>Interval</th>\n",
              "      <th>Y</th>\n",
              "      <th>M</th>\n",
              "      <th>D</th>\n",
              "      <th>Gender</th>\n",
              "      <th>Country</th>\n",
              "      <th>State</th>\n",
              "      <th>Purpose</th>\n",
              "      <th>Deal satisfaction</th>\n",
              "      <th>Mortgage</th>\n",
              "      <th>Source</th>\n",
              "    </tr>\n",
              "  </thead>\n",
              "  <tbody>\n",
              "    <tr>\n",
              "      <th>0</th>\n",
              "      <td>1030</td>\n",
              "      <td>1</td>\n",
              "      <td>2005.0</td>\n",
              "      <td>11.0</td>\n",
              "      <td>Apartment</td>\n",
              "      <td>30</td>\n",
              "      <td>743.0856</td>\n",
              "      <td>246172.6760</td>\n",
              "      <td>Sold</td>\n",
              "      <td>NaN</td>\n",
              "      <td>C0028</td>\n",
              "      <td>Individual</td>\n",
              "      <td>Madalyn</td>\n",
              "      <td>Mercer</td>\n",
              "      <td>19</td>\n",
              "      <td>18-25</td>\n",
              "      <td>1986.0</td>\n",
              "      <td>6.0</td>\n",
              "      <td>21.0</td>\n",
              "      <td>F</td>\n",
              "      <td>USA</td>\n",
              "      <td>California</td>\n",
              "      <td>Home</td>\n",
              "      <td>5.0</td>\n",
              "      <td>No</td>\n",
              "      <td>Website</td>\n",
              "    </tr>\n",
              "    <tr>\n",
              "      <th>1</th>\n",
              "      <td>1029</td>\n",
              "      <td>1</td>\n",
              "      <td>2005.0</td>\n",
              "      <td>10.0</td>\n",
              "      <td>Apartment</td>\n",
              "      <td>29</td>\n",
              "      <td>756.2128</td>\n",
              "      <td>246331.9040</td>\n",
              "      <td>Sold</td>\n",
              "      <td>NaN</td>\n",
              "      <td>C0027</td>\n",
              "      <td>Individual</td>\n",
              "      <td>Lara</td>\n",
              "      <td>Carrillo</td>\n",
              "      <td>22</td>\n",
              "      <td>18-25</td>\n",
              "      <td>1983.0</td>\n",
              "      <td>2.0</td>\n",
              "      <td>24.0</td>\n",
              "      <td>F</td>\n",
              "      <td>USA</td>\n",
              "      <td>California</td>\n",
              "      <td>Home</td>\n",
              "      <td>5.0</td>\n",
              "      <td>No</td>\n",
              "      <td>Website</td>\n",
              "    </tr>\n",
              "    <tr>\n",
              "      <th>2</th>\n",
              "      <td>2002</td>\n",
              "      <td>2</td>\n",
              "      <td>2007.0</td>\n",
              "      <td>7.0</td>\n",
              "      <td>Apartment</td>\n",
              "      <td>2</td>\n",
              "      <td>587.2808</td>\n",
              "      <td>209280.9104</td>\n",
              "      <td>Sold</td>\n",
              "      <td>NaN</td>\n",
              "      <td>C0112</td>\n",
              "      <td>Individual</td>\n",
              "      <td>Donavan</td>\n",
              "      <td>Flowers</td>\n",
              "      <td>22</td>\n",
              "      <td>18-25</td>\n",
              "      <td>1985.0</td>\n",
              "      <td>12.0</td>\n",
              "      <td>27.0</td>\n",
              "      <td>M</td>\n",
              "      <td>USA</td>\n",
              "      <td>California</td>\n",
              "      <td>Home</td>\n",
              "      <td>1.0</td>\n",
              "      <td>Yes</td>\n",
              "      <td>Client</td>\n",
              "    </tr>\n",
              "    <tr>\n",
              "      <th>3</th>\n",
              "      <td>2031</td>\n",
              "      <td>2</td>\n",
              "      <td>2007.0</td>\n",
              "      <td>12.0</td>\n",
              "      <td>Apartment</td>\n",
              "      <td>31</td>\n",
              "      <td>1604.7464</td>\n",
              "      <td>452667.0064</td>\n",
              "      <td>Sold</td>\n",
              "      <td>NaN</td>\n",
              "      <td>C0160</td>\n",
              "      <td>Individual</td>\n",
              "      <td>Darien</td>\n",
              "      <td>Dorsey</td>\n",
              "      <td>22</td>\n",
              "      <td>18-25</td>\n",
              "      <td>1985.0</td>\n",
              "      <td>12.0</td>\n",
              "      <td>27.0</td>\n",
              "      <td>M</td>\n",
              "      <td>USA</td>\n",
              "      <td>California</td>\n",
              "      <td>Investment</td>\n",
              "      <td>3.0</td>\n",
              "      <td>Yes</td>\n",
              "      <td>Website</td>\n",
              "    </tr>\n",
              "    <tr>\n",
              "      <th>4</th>\n",
              "      <td>1049</td>\n",
              "      <td>1</td>\n",
              "      <td>2004.0</td>\n",
              "      <td>11.0</td>\n",
              "      <td>Apartment</td>\n",
              "      <td>49</td>\n",
              "      <td>1375.4508</td>\n",
              "      <td>467083.3132</td>\n",
              "      <td>Sold</td>\n",
              "      <td>NaN</td>\n",
              "      <td>C0014</td>\n",
              "      <td>Individual</td>\n",
              "      <td>Alessandra</td>\n",
              "      <td>Perry</td>\n",
              "      <td>25</td>\n",
              "      <td>18-25</td>\n",
              "      <td>1979.0</td>\n",
              "      <td>5.0</td>\n",
              "      <td>15.0</td>\n",
              "      <td>F</td>\n",
              "      <td>USA</td>\n",
              "      <td>California</td>\n",
              "      <td>Home</td>\n",
              "      <td>4.0</td>\n",
              "      <td>No</td>\n",
              "      <td>Agency</td>\n",
              "    </tr>\n",
              "    <tr>\n",
              "      <th>...</th>\n",
              "      <td>...</td>\n",
              "      <td>...</td>\n",
              "      <td>...</td>\n",
              "      <td>...</td>\n",
              "      <td>...</td>\n",
              "      <td>...</td>\n",
              "      <td>...</td>\n",
              "      <td>...</td>\n",
              "      <td>...</td>\n",
              "      <td>...</td>\n",
              "      <td>...</td>\n",
              "      <td>...</td>\n",
              "      <td>...</td>\n",
              "      <td>...</td>\n",
              "      <td>...</td>\n",
              "      <td>...</td>\n",
              "      <td>...</td>\n",
              "      <td>...</td>\n",
              "      <td>...</td>\n",
              "      <td>...</td>\n",
              "      <td>...</td>\n",
              "      <td>...</td>\n",
              "      <td>...</td>\n",
              "      <td>...</td>\n",
              "      <td>...</td>\n",
              "      <td>...</td>\n",
              "    </tr>\n",
              "    <tr>\n",
              "      <th>262</th>\n",
              "      <td>5044</td>\n",
              "      <td>5</td>\n",
              "      <td>NaN</td>\n",
              "      <td>NaN</td>\n",
              "      <td>Apartment</td>\n",
              "      <td>44</td>\n",
              "      <td>1238.5836</td>\n",
              "      <td>322610.7392</td>\n",
              "      <td>NaN</td>\n",
              "      <td>NaN</td>\n",
              "      <td>NaN</td>\n",
              "      <td>NaN</td>\n",
              "      <td>NaN</td>\n",
              "      <td>NaN</td>\n",
              "      <td>NaN</td>\n",
              "      <td>NaN</td>\n",
              "      <td>NaN</td>\n",
              "      <td>NaN</td>\n",
              "      <td>NaN</td>\n",
              "      <td>NaN</td>\n",
              "      <td>NaN</td>\n",
              "      <td>NaN</td>\n",
              "      <td>NaN</td>\n",
              "      <td>NaN</td>\n",
              "      <td>NaN</td>\n",
              "      <td>NaN</td>\n",
              "    </tr>\n",
              "    <tr>\n",
              "      <th>263</th>\n",
              "      <td>5047</td>\n",
              "      <td>5</td>\n",
              "      <td>NaN</td>\n",
              "      <td>NaN</td>\n",
              "      <td>Apartment</td>\n",
              "      <td>47</td>\n",
              "      <td>794.5184</td>\n",
              "      <td>279191.2560</td>\n",
              "      <td>NaN</td>\n",
              "      <td>NaN</td>\n",
              "      <td>NaN</td>\n",
              "      <td>NaN</td>\n",
              "      <td>NaN</td>\n",
              "      <td>NaN</td>\n",
              "      <td>NaN</td>\n",
              "      <td>NaN</td>\n",
              "      <td>NaN</td>\n",
              "      <td>NaN</td>\n",
              "      <td>NaN</td>\n",
              "      <td>NaN</td>\n",
              "      <td>NaN</td>\n",
              "      <td>NaN</td>\n",
              "      <td>NaN</td>\n",
              "      <td>NaN</td>\n",
              "      <td>NaN</td>\n",
              "      <td>NaN</td>\n",
              "    </tr>\n",
              "    <tr>\n",
              "      <th>264</th>\n",
              "      <td>5048</td>\n",
              "      <td>5</td>\n",
              "      <td>NaN</td>\n",
              "      <td>NaN</td>\n",
              "      <td>Apartment</td>\n",
              "      <td>48</td>\n",
              "      <td>1013.2692</td>\n",
              "      <td>287996.5296</td>\n",
              "      <td>NaN</td>\n",
              "      <td>NaN</td>\n",
              "      <td>NaN</td>\n",
              "      <td>NaN</td>\n",
              "      <td>NaN</td>\n",
              "      <td>NaN</td>\n",
              "      <td>NaN</td>\n",
              "      <td>NaN</td>\n",
              "      <td>NaN</td>\n",
              "      <td>NaN</td>\n",
              "      <td>NaN</td>\n",
              "      <td>NaN</td>\n",
              "      <td>NaN</td>\n",
              "      <td>NaN</td>\n",
              "      <td>NaN</td>\n",
              "      <td>NaN</td>\n",
              "      <td>NaN</td>\n",
              "      <td>NaN</td>\n",
              "    </tr>\n",
              "    <tr>\n",
              "      <th>265</th>\n",
              "      <td>5050</td>\n",
              "      <td>5</td>\n",
              "      <td>NaN</td>\n",
              "      <td>NaN</td>\n",
              "      <td>Apartment</td>\n",
              "      <td>50</td>\n",
              "      <td>1074.7088</td>\n",
              "      <td>365868.7776</td>\n",
              "      <td>NaN</td>\n",
              "      <td>NaN</td>\n",
              "      <td>NaN</td>\n",
              "      <td>NaN</td>\n",
              "      <td>NaN</td>\n",
              "      <td>NaN</td>\n",
              "      <td>NaN</td>\n",
              "      <td>NaN</td>\n",
              "      <td>NaN</td>\n",
              "      <td>NaN</td>\n",
              "      <td>NaN</td>\n",
              "      <td>NaN</td>\n",
              "      <td>NaN</td>\n",
              "      <td>NaN</td>\n",
              "      <td>NaN</td>\n",
              "      <td>NaN</td>\n",
              "      <td>NaN</td>\n",
              "      <td>NaN</td>\n",
              "    </tr>\n",
              "    <tr>\n",
              "      <th>266</th>\n",
              "      <td>5051</td>\n",
              "      <td>5</td>\n",
              "      <td>NaN</td>\n",
              "      <td>NaN</td>\n",
              "      <td>Apartment</td>\n",
              "      <td>51</td>\n",
              "      <td>789.2460</td>\n",
              "      <td>199216.4040</td>\n",
              "      <td>NaN</td>\n",
              "      <td>NaN</td>\n",
              "      <td>NaN</td>\n",
              "      <td>NaN</td>\n",
              "      <td>NaN</td>\n",
              "      <td>NaN</td>\n",
              "      <td>NaN</td>\n",
              "      <td>NaN</td>\n",
              "      <td>NaN</td>\n",
              "      <td>NaN</td>\n",
              "      <td>NaN</td>\n",
              "      <td>NaN</td>\n",
              "      <td>NaN</td>\n",
              "      <td>NaN</td>\n",
              "      <td>NaN</td>\n",
              "      <td>NaN</td>\n",
              "      <td>NaN</td>\n",
              "      <td>NaN</td>\n",
              "    </tr>\n",
              "  </tbody>\n",
              "</table>\n",
              "<p>267 rows × 26 columns</p>\n",
              "</div>"
            ],
            "text/plain": [
              "       ID  Building  Year of sale  ...  Deal satisfaction Mortgage   Source\n",
              "0    1030         1        2005.0  ...                5.0       No  Website\n",
              "1    1029         1        2005.0  ...                5.0       No  Website\n",
              "2    2002         2        2007.0  ...                1.0      Yes   Client\n",
              "3    2031         2        2007.0  ...                3.0      Yes  Website\n",
              "4    1049         1        2004.0  ...                4.0       No   Agency\n",
              "..    ...       ...           ...  ...                ...      ...      ...\n",
              "262  5044         5           NaN  ...                NaN      NaN      NaN\n",
              "263  5047         5           NaN  ...                NaN      NaN      NaN\n",
              "264  5048         5           NaN  ...                NaN      NaN      NaN\n",
              "265  5050         5           NaN  ...                NaN      NaN      NaN\n",
              "266  5051         5           NaN  ...                NaN      NaN      NaN\n",
              "\n",
              "[267 rows x 26 columns]"
            ]
          },
          "metadata": {
            "tags": []
          },
          "execution_count": 3
        }
      ]
    },
    {
      "cell_type": "markdown",
      "metadata": {
        "id": "Cu3opPLE42jz"
      },
      "source": [
        "# Task # 01"
      ]
    },
    {
      "cell_type": "markdown",
      "metadata": {
        "id": "QTpHu-dP42jz"
      },
      "source": [
        "Variable\tType of data\tLevel of measurement\tComment\n",
        "1. Cust ID\tCategorical\tNominal\tThis variable has the same properties as ID.\n",
        "2. Mortgage\tCategorical\tNominal\tThis is a Binary variable. Like a Yes/No question or Gender.\n",
        "3. Year of sale\tNumerical, discrete\tInterval\tYear is a numerical variable. It is always discrete. The level of measurement is questionable, but we would treat it as interval, as the 0 year would be the time when the Big Bang happened. The current BC-AD calendar was arbitrary chosen (similarly to degrees Celsius and Fahrenheit).\n"
      ]
    },
    {
      "cell_type": "markdown",
      "metadata": {
        "id": "BfAO37ys42j0"
      },
      "source": [
        "# Task # 02\n",
        " Create a frequency distribution graph (that is a histogram with the highest possible number of bins - 272). Use data on all apartments, no matter if sold or not."
      ]
    },
    {
      "cell_type": "code",
      "metadata": {
        "colab": {
          "base_uri": "https://localhost:8080/",
          "height": 282
        },
        "id": "l2RlWw7g42j0",
        "outputId": "9581be09-4972-4e3d-9adc-aa8f79a1f2b1"
      },
      "source": [
        "data['Price'].hist(bins = 272)"
      ],
      "execution_count": 4,
      "outputs": [
        {
          "output_type": "execute_result",
          "data": {
            "text/plain": [
              "<matplotlib.axes._subplots.AxesSubplot at 0x7f6e5977bad0>"
            ]
          },
          "metadata": {
            "tags": []
          },
          "execution_count": 4
        },
        {
          "output_type": "display_data",
          "data": {
            "image/png": "[encoded data removed]",
            "text/plain": [
              "<Figure size 432x288 with 1 Axes>"
            ]
          },
          "metadata": {
            "tags": [],
            "needs_background": "light"
          }
        }
      ]
    },
    {
      "cell_type": "markdown",
      "metadata": {
        "id": "7niL-ztE42j0"
      },
      "source": [
        "# Task # 03\n",
        " Create a histogram which represents the Price variable. Choose interval width (bins) of length $100,000. If you don't know how to do that, refer to the Course notes on descriptive statistics provided with the first lecture in this section.\n",
        " Use the data on all apartments, no matter if sold or not."
      ]
    },
    {
      "cell_type": "code",
      "metadata": {
        "colab": {
          "base_uri": "https://localhost:8080/",
          "height": 407
        },
        "id": "4My5trWU42j1",
        "outputId": "12233c02-a7c3-4e29-8972-d3d2e5a1c78d"
      },
      "source": [
        "hist,bin_edges = np.histogram(data['Price'])\n",
        "catagori = pd.cut(data['Price'],bin_edges)\n",
        "pd.value_counts(catagori).sort_index().plot.bar(width=0.9235)"
      ],
      "execution_count": 5,
      "outputs": [
        {
          "output_type": "execute_result",
          "data": {
            "text/plain": [
              "<matplotlib.axes._subplots.AxesSubplot at 0x7f6e5933add0>"
            ]
          },
          "metadata": {
            "tags": []
          },
          "execution_count": 5
        },
        {
          "output_type": "display_data",
          "data": {
            "image/png": "[encoded data removed]",
            "text/plain": [
              "<Figure size 432x288 with 1 Axes>"
            ]
          },
          "metadata": {
            "tags": [],
            "needs_background": "light"
          }
        }
      ]
    },
    {
      "cell_type": "markdown",
      "metadata": {
        "id": "mRdoBUSL42j1"
      },
      "source": [
        "# Task # 04\n",
        "The histograms point to similar insights - most of the apartment prices are concentrated in the interval ($217,564.07 to 317,564.07)"
      ]
    },
    {
      "cell_type": "markdown",
      "metadata": {
        "id": "zSMcXR8w42j1"
      },
      "source": [
        "# Task # 05\n",
        " Create a scatter plot showing the relationship between Price and Area. Use the data on all apartments, no matter if sold or not. Interpret the results."
      ]
    },
    {
      "cell_type": "code",
      "metadata": {
        "colab": {
          "base_uri": "https://localhost:8080/",
          "height": 296
        },
        "id": "766hh86m42j2",
        "outputId": "898f3396-8bf7-46b5-8b14-403385a8bab0"
      },
      "source": [
        "data.plot.scatter(x='Area (ft.)',y='Price',c= 'DarkBlue')"
      ],
      "execution_count": 6,
      "outputs": [
        {
          "output_type": "execute_result",
          "data": {
            "text/plain": [
              "<matplotlib.axes._subplots.AxesSubplot at 0x7f6e58b49d50>"
            ]
          },
          "metadata": {
            "tags": []
          },
          "execution_count": 6
        },
        {
          "output_type": "display_data",
          "data": {
            "image/png": "[encoded data removed]",
            "text/plain": [
              "<Figure size 432x288 with 1 Axes>"
            ]
          },
          "metadata": {
            "tags": [],
            "needs_background": "light"
          }
        }
      ]
    },
    {
      "cell_type": "markdown",
      "metadata": {
        "id": "-nGdnKaZ48ul"
      },
      "source": [
        "# Task # 06"
      ]
    },
    {
      "cell_type": "code",
      "metadata": {
        "colab": {
          "base_uri": "https://localhost:8080/",
          "height": 287
        },
        "id": "pG1Yrjm142j2",
        "outputId": "d2a8202b-e95f-437b-c588-cada2965e3e4"
      },
      "source": [
        "freq = pd.value_counts(data['Country'])\n",
        "rel_freq = round(freq/sum(freq)*100).astype(int)\n",
        "dataf = pd.DataFrame({'Frequency':freq,'Relative Frequency':rel_freq.astype(str) + '%','Cummulative Frequency':rel_freq.cumsum().astype(str) + '%'})\n",
        "dataf"
      ],
      "execution_count": 8,
      "outputs": [
        {
          "output_type": "execute_result",
          "data": {
            "text/html": [
              "<div>\n",
              "<style scoped>\n",
              "    .dataframe tbody tr th:only-of-type {\n",
              "        vertical-align: middle;\n",
              "    }\n",
              "\n",
              "    .dataframe tbody tr th {\n",
              "        vertical-align: top;\n",
              "    }\n",
              "\n",
              "    .dataframe thead th {\n",
              "        text-align: right;\n",
              "    }\n",
              "</style>\n",
              "<table border=\"1\" class=\"dataframe\">\n",
              "  <thead>\n",
              "    <tr style=\"text-align: right;\">\n",
              "      <th></th>\n",
              "      <th>Frequency</th>\n",
              "      <th>Relative Frequency</th>\n",
              "      <th>Cummulative Frequency</th>\n",
              "    </tr>\n",
              "  </thead>\n",
              "  <tbody>\n",
              "    <tr>\n",
              "      <th>USA</th>\n",
              "      <td>177</td>\n",
              "      <td>91%</td>\n",
              "      <td>91%</td>\n",
              "    </tr>\n",
              "    <tr>\n",
              "      <th>Canada</th>\n",
              "      <td>7</td>\n",
              "      <td>4%</td>\n",
              "      <td>95%</td>\n",
              "    </tr>\n",
              "    <tr>\n",
              "      <th>Russia</th>\n",
              "      <td>4</td>\n",
              "      <td>2%</td>\n",
              "      <td>97%</td>\n",
              "    </tr>\n",
              "    <tr>\n",
              "      <th>UK</th>\n",
              "      <td>2</td>\n",
              "      <td>1%</td>\n",
              "      <td>98%</td>\n",
              "    </tr>\n",
              "    <tr>\n",
              "      <th>Belgium</th>\n",
              "      <td>2</td>\n",
              "      <td>1%</td>\n",
              "      <td>99%</td>\n",
              "    </tr>\n",
              "    <tr>\n",
              "      <th>Denmark</th>\n",
              "      <td>1</td>\n",
              "      <td>1%</td>\n",
              "      <td>100%</td>\n",
              "    </tr>\n",
              "    <tr>\n",
              "      <th>Mexico</th>\n",
              "      <td>1</td>\n",
              "      <td>1%</td>\n",
              "      <td>101%</td>\n",
              "    </tr>\n",
              "    <tr>\n",
              "      <th>Germany</th>\n",
              "      <td>1</td>\n",
              "      <td>1%</td>\n",
              "      <td>102%</td>\n",
              "    </tr>\n",
              "  </tbody>\n",
              "</table>\n",
              "</div>"
            ],
            "text/plain": [
              "         Frequency Relative Frequency Cummulative Frequency\n",
              "USA            177                91%                   91%\n",
              "Canada           7                 4%                   95%\n",
              "Russia           4                 2%                   97%\n",
              "UK               2                 1%                   98%\n",
              "Belgium          2                 1%                   99%\n",
              "Denmark          1                 1%                  100%\n",
              "Mexico           1                 1%                  101%\n",
              "Germany          1                 1%                  102%"
            ]
          },
          "metadata": {
            "tags": []
          },
          "execution_count": 8
        }
      ]
    },
    {
      "cell_type": "markdown",
      "metadata": {
        "id": "qr3yJjes52wk"
      },
      "source": [
        "# Task # 07"
      ]
    },
    {
      "cell_type": "code",
      "metadata": {
        "colab": {
          "base_uri": "https://localhost:8080/",
          "height": 264
        },
        "id": "pNq4J-wE5nBL",
        "outputId": "31e48310-b112-452d-a268-1ffd69fcb254"
      },
      "source": [
        "import matplotlib.pyplot as plt\n",
        "from matplotlib.ticker import PercentFormatter\n",
        "df_sorted = dataf.sort_values(by='Frequency',ascending=False)\n",
        "dataf[\"cumpercentage\"] = dataf[\"Frequency\"].cumsum()/dataf[\"Frequency\"].sum()*100\n",
        "fig, ax = plt.subplots()\n",
        "ax.bar(df_sorted.index, df_sorted[\"Frequency\"], color=\"C0\")\n",
        "for p in ax.patches:                 \n",
        "    ax.annotate(np.round(p.get_height(),decimals=2),(p.get_x()+p.get_width()/2., 0),ha='center',va='center',xytext=(0, 5), textcoords='offset points')\n",
        "ax2 = ax.twinx()\n",
        "ax2.plot(dataf.index, dataf[\"cumpercentage\"], color=\"C1\", marker=\"D\", ms=7)\n",
        "ax2.yaxis.set_major_formatter(PercentFormatter())\n",
        "\n",
        "ax.tick_params(axis=\"y\", colors=\"C0\")\n",
        "ax2.tick_params(axis=\"y\", colors=\"C1\")\n",
        "plt.show()"
      ],
      "execution_count": 10,
      "outputs": [
        {
          "output_type": "display_data",
          "data": {
            "image/png": "[encoded data removed]",
            "text/plain": [
              "<Figure size 432x288 with 2 Axes>"
            ]
          },
          "metadata": {
            "tags": []
          }
        }
      ]
    },
    {
      "cell_type": "markdown",
      "metadata": {
        "id": "5lCllgMR6jHF"
      },
      "source": [
        "# Task 8 & 9"
      ]
    },
    {
      "cell_type": "code",
      "metadata": {
        "colab": {
          "base_uri": "https://localhost:8080/"
        },
        "id": "5I6UE3DM59Hz",
        "outputId": "1881d75c-3465-42d7-85b4-3ebd40d454e7"
      },
      "source": [
        "#Task 08: Calculate the mean, median, mode, skewness, variance and standard deviation of Price for all apartments, no matter if sold or not.\n",
        "print(f\"Mean: {data['Price'].mean()}\")\n",
        "print(f\"Median: {data['Price'].median()}\")\n",
        "print(f\"Mode: {data['Price'].mode()}\")\n",
        "print(f\"Skew: {data['Price'].skew()}\")\n",
        "print(f\"Variance: {data['Price'].var()}\")\n",
        "print(f\"St. dev.: {data['Price'].std()}\")\n",
        "# Task 09: We will only comment on the skew, as it is a bit tougher. The skew is right (positive). This means that most aparments are relatively cheap with a tiny portion that is more expensive."
      ],
      "execution_count": 11,
      "outputs": [
        {
          "output_type": "stream",
          "text": [
            "Mean: 281171.9015011236\n",
            "Median: 249075.6568\n",
            "Mode: 0    460001.256\n",
            "dtype: float64\n",
            "Skew: 1.0960149435317839\n",
            "Variance: 7942217700.92089\n",
            "St. dev.: 89119.12084912468\n"
          ],
          "name": "stdout"
        }
      ]
    },
    {
      "cell_type": "markdown",
      "metadata": {
        "id": "cBmg16Wk9jMD"
      },
      "source": [
        "# Task 10"
      ]
    },
    {
      "cell_type": "code",
      "metadata": {
        "colab": {
          "base_uri": "https://localhost:8080/"
        },
        "id": "fIdS2myg6mKs",
        "outputId": "d894f960-cfd3-4559-bcbe-2e1b273f3a71"
      },
      "source": [
        "#Calculate the mean, median, mode, skewness, variance and standard deviation of Price for all apartments, no matter if sold or not.\n",
        "print(f\"Covariance: {data['Price'].cov(data['Area (ft.)'])}\")\n",
        "print(f\"Median: {data['Price'].corr(data['Area (ft.)'])}\")"
      ],
      "execution_count": 21,
      "outputs": [
        {
          "output_type": "stream",
          "text": [
            "Covariance: 24147721.72581886\n",
            "Median: 0.9510873774316205\n"
          ],
          "name": "stdout"
        }
      ]
    },
    {
      "cell_type": "code",
      "metadata": {
        "id": "KOiPuP2w6_HE"
      },
      "source": [
        ""
      ],
      "execution_count": null,
      "outputs": []
    }
  ]
}