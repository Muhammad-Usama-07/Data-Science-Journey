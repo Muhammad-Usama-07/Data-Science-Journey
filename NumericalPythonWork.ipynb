{
 "cells": [
  {
   "cell_type": "markdown",
   "metadata": {},
   "source": [
    "# Numpy:"
   ]
  },
  {
   "cell_type": "markdown",
   "metadata": {},
   "source": [
    "short for Numerical Python, is one of the most important foundational packages for numerical computing in Python."
   ]
  },
  {
   "cell_type": "markdown",
   "metadata": {},
   "source": [
    "### What are the benefits of Numpy?, and why we need this?"
   ]
  },
  {
   "cell_type": "markdown",
   "metadata": {},
   "source": [
    "NumPy arrays have several advantages over Python lists.These benefits are focused on providing high-performance manipulation of sequences of homogenous data items.\n",
    "Several of these benefits are as follows:\n",
    "    \n",
    "• Contiguous allocation in memory (contiguous memory allocation means by dividing the memory partitions into fixed size partitions.)\n",
    "\n",
    "• Vectorized operations (which takes a nested sequence of objects or numpy arrays as inputs and returns a single numpy array or a tuple of numpy arrays.)\n",
    "\n",
    "• Boolean selection (selecting array element by giving true or false values)\n",
    "\n",
    "• Sliceability (selecting specific range of items from the matrix)"
   ]
  },
  {
   "cell_type": "code",
   "execution_count": null,
   "metadata": {},
   "outputs": [],
   "source": []
  }
 ],
 "metadata": {
  "kernelspec": {
   "display_name": "Python 3",
   "language": "python",
   "name": "python3"
  },
  "language_info": {
   "codemirror_mode": {
    "name": "ipython",
    "version": 3
   },
   "file_extension": ".py",
   "mimetype": "text/x-python",
   "name": "python",
   "nbconvert_exporter": "python",
   "pygments_lexer": "ipython3",
   "version": "3.8.3"
  }
 },
 "nbformat": 4,
 "nbformat_minor": 4
}
