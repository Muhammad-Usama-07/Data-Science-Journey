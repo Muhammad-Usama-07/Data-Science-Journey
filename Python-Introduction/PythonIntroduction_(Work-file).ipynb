{
 "cells": [
  {
   "cell_type": "markdown",
   "id": "602b9acf",
   "metadata": {},
   "source": [
    "# Python Basics"
   ]
  },
  {
   "cell_type": "markdown",
   "id": "fe9c9aff",
   "metadata": {},
   "source": [
    "## Example"
   ]
  },
  {
   "cell_type": "code",
   "execution_count": 1,
   "id": "03a9b734",
   "metadata": {},
   "outputs": [
    {
     "name": "stdout",
     "output_type": "stream",
     "text": [
      "0.625\n",
      "17\n"
     ]
    }
   ],
   "source": [
    "print(5 / 8)\n",
    "\n",
    "# Print the sum of 7 and 10\n",
    "print(7+10)"
   ]
  },
  {
   "cell_type": "markdown",
   "id": "868bbef3",
   "metadata": {},
   "source": [
    "## Division"
   ]
  },
  {
   "cell_type": "code",
   "execution_count": 11,
   "id": "a42a3080",
   "metadata": {},
   "outputs": [
    {
     "name": "stdout",
     "output_type": "stream",
     "text": [
      "0.625\n"
     ]
    }
   ],
   "source": [
    "print(5 / 8)"
   ]
  },
  {
   "cell_type": "markdown",
   "id": "886c8054",
   "metadata": {},
   "source": [
    "## Addition"
   ]
  },
  {
   "cell_type": "code",
   "execution_count": 12,
   "id": "fb84901f",
   "metadata": {},
   "outputs": [
    {
     "name": "stdout",
     "output_type": "stream",
     "text": [
      "17\n"
     ]
    }
   ],
   "source": [
    "print(7 + 10)"
   ]
  },
  {
   "cell_type": "markdown",
   "id": "11b40cec",
   "metadata": {},
   "source": [
    "## Basic calculator operatios in python"
   ]
  },
  {
   "cell_type": "code",
   "execution_count": 13,
   "id": "3d51ec04",
   "metadata": {},
   "outputs": [
    {
     "name": "stdout",
     "output_type": "stream",
     "text": [
      "10\n",
      "0\n",
      "15\n",
      "5.0\n",
      "4\n",
      "16\n",
      "194.87171000000012\n"
     ]
    }
   ],
   "source": [
    "# Addition, subtraction\n",
    "print(5 + 5)\n",
    "print(5 - 5)\n",
    "\n",
    "# Multiplication, division, modulo, and exponentiation\n",
    "print(3 * 5)\n",
    "print(10 / 2)\n",
    "print(18 % 7)\n",
    "print(4 ** 2)\n",
    "\n",
    "# How much is your $100 worth after 7 years?\n",
    "print(100*1.1**7)\n"
   ]
  },
  {
   "cell_type": "markdown",
   "id": "6749b49d",
   "metadata": {},
   "source": [
    "## Variable Assignment"
   ]
  },
  {
   "cell_type": "code",
   "execution_count": 14,
   "id": "c349ea42",
   "metadata": {},
   "outputs": [
    {
     "name": "stdout",
     "output_type": "stream",
     "text": [
      "100\n"
     ]
    }
   ],
   "source": [
    "# Create a variable savings\n",
    "savings = 100\n",
    "\n",
    "# Print out savings\n",
    "print(savings)"
   ]
  },
  {
   "cell_type": "markdown",
   "id": "1a1ee9b4",
   "metadata": {},
   "source": [
    "## Calculator using variable assignment"
   ]
  },
  {
   "cell_type": "code",
   "execution_count": 15,
   "id": "22f20b47",
   "metadata": {},
   "outputs": [
    {
     "name": "stdout",
     "output_type": "stream",
     "text": [
      "194.87171000000012\n"
     ]
    }
   ],
   "source": [
    "# Create a variable savings\n",
    "savings = 100\n",
    "\n",
    "# Create a variable growth_multiplier\n",
    "growth_multiplier = 1.1\n",
    "\n",
    "# Calculate result\n",
    "result = savings*growth_multiplier**7\n",
    "\n",
    "# Print out result\n",
    "print(result)\n"
   ]
  },
  {
   "cell_type": "markdown",
   "id": "07940bab",
   "metadata": {},
   "source": [
    "## String data type"
   ]
  },
  {
   "cell_type": "code",
   "execution_count": 16,
   "id": "2d7d60d6",
   "metadata": {},
   "outputs": [
    {
     "data": {
      "text/plain": [
       "'compound interest'"
      ]
     },
     "execution_count": 16,
     "metadata": {},
     "output_type": "execute_result"
    }
   ],
   "source": [
    "desc = \"compound interest\"\n",
    "desc"
   ]
  },
  {
   "cell_type": "markdown",
   "id": "89be1576",
   "metadata": {},
   "source": [
    "## Boolean data type"
   ]
  },
  {
   "cell_type": "code",
   "execution_count": 17,
   "id": "79ae7968",
   "metadata": {},
   "outputs": [
    {
     "data": {
      "text/plain": [
       "True"
      ]
     },
     "execution_count": 17,
     "metadata": {},
     "output_type": "execute_result"
    }
   ],
   "source": [
    "profitable = True\n",
    "profitable"
   ]
  },
  {
   "cell_type": "markdown",
   "id": "cd7be108",
   "metadata": {},
   "source": [
    "## Operations using other types of variable"
   ]
  },
  {
   "cell_type": "code",
   "execution_count": 18,
   "id": "14a82c18",
   "metadata": {},
   "outputs": [
    {
     "name": "stdout",
     "output_type": "stream",
     "text": [
      "<class 'float'>\n",
      "compound interestcompound interest\n"
     ]
    }
   ],
   "source": [
    "savings = 100\n",
    "growth_multiplier = 1.1\n",
    "desc = \"compound interest\"\n",
    "\n",
    "# Assigning product of growth_multiplier and savings to year1\n",
    "year1 = growth_multiplier*savings\n",
    "\n",
    "# Printing the type of year1\n",
    "print(type(year1))\n",
    "\n",
    "# Assigning sum of desc and desc to doubledesc\n",
    "doubledesc = desc+desc\n",
    "\n",
    "# Print out doubledesc\n",
    "print(doubledesc)\n"
   ]
  },
  {
   "cell_type": "markdown",
   "id": "69c7e348",
   "metadata": {},
   "source": [
    "## Converting differerent types of variables"
   ]
  },
  {
   "cell_type": "code",
   "execution_count": 19,
   "id": "5eee4bca",
   "metadata": {},
   "outputs": [
    {
     "name": "stdout",
     "output_type": "stream",
     "text": [
      "I started with $100 and now have $194.87171000000012. Awesome!\n"
     ]
    }
   ],
   "source": [
    "savings = 100\n",
    "result = 100 * 1.10 ** 7\n",
    "\n",
    "# Fixing printout result\n",
    "print(\"I started with $\" + str(savings) + \" and now have $\" + str(result) + \". Awesome!\")\n",
    "\n",
    "# Defining pi_string\n",
    "pi_string = \"3.1415926\"\n",
    "\n",
    "# Convert pi_string into float\n",
    "pi_float = float(pi_string)"
   ]
  },
  {
   "cell_type": "markdown",
   "id": "efea1a78",
   "metadata": {},
   "source": [
    "# Python Lists"
   ]
  },
  {
   "cell_type": "markdown",
   "id": "6fedb0ec",
   "metadata": {},
   "source": [
    "## Creating a list"
   ]
  },
  {
   "cell_type": "code",
   "execution_count": 20,
   "id": "313ad6d9",
   "metadata": {},
   "outputs": [
    {
     "name": "stdout",
     "output_type": "stream",
     "text": [
      "[11.25, 18.0, 20.0, 10.75, 9.5]\n"
     ]
    }
   ],
   "source": [
    "# Area Variables\n",
    "hall = 11.25\n",
    "kit = 18.0\n",
    "liv = 20.0\n",
    "bed = 10.75\n",
    "bath = 9.50\n",
    "\n",
    "# Creating list using areas variables\n",
    "areas = [hall, kit, liv, bed, bath]\n",
    "\n",
    "# Print areas\n",
    "print(areas)\n"
   ]
  },
  {
   "cell_type": "markdown",
   "id": "46251146",
   "metadata": {},
   "source": [
    "## Creating list with different types"
   ]
  },
  {
   "cell_type": "code",
   "execution_count": 21,
   "id": "d370c67a",
   "metadata": {},
   "outputs": [
    {
     "name": "stdout",
     "output_type": "stream",
     "text": [
      "['hallway', 11.25, 'kitchen', 18.0, 'living room', 20.0, 'bedroom', 10.75, 'bathroom', 9.5]\n"
     ]
    }
   ],
   "source": [
    "# Area Variables\n",
    "hall = 11.25\n",
    "kit = 18.0\n",
    "liv = 20.0\n",
    "bed = 10.75\n",
    "bath = 9.50\n",
    "\n",
    "# Adapting list areas\n",
    "areas = [\"hallway\", hall, \"kitchen\", kit, \"living room\", liv, \"bedroom\", bed, \"bathroom\", bath]\n",
    "\n",
    "# Print areas\n",
    "print(areas)"
   ]
  },
  {
   "cell_type": "markdown",
   "id": "0babd741",
   "metadata": {},
   "source": [
    "## Creating List of lists (2D)"
   ]
  },
  {
   "cell_type": "code",
   "execution_count": 22,
   "id": "fdc9913f",
   "metadata": {},
   "outputs": [
    {
     "name": "stdout",
     "output_type": "stream",
     "text": [
      "[['hallway', 11.25], ['kitchen', 18.0], ['living room', 20.0], ['bedroom', 10.75], ['bathroom', 9.5]]\n",
      "<class 'list'>\n"
     ]
    }
   ],
   "source": [
    "# Area variables\n",
    "hall = 11.25\n",
    "kit = 18.0\n",
    "liv = 20.0\n",
    "bed = 10.75\n",
    "bath = 9.50\n",
    "\n",
    "# creating list variable house by giving house information as list of lists\n",
    "house = [[\"hallway\", hall],\n",
    "         [\"kitchen\", kit],\n",
    "         [\"living room\", liv],\n",
    "         [\"bedroom\",bed],\n",
    "         [\"bathroom\",bath]]\n",
    "\n",
    "# Print out house\n",
    "print(house)\n",
    "\n",
    "# Print out the type of house\n",
    "print(type(house))"
   ]
  },
  {
   "cell_type": "markdown",
   "id": "97551319",
   "metadata": {},
   "source": [
    "## Subset and conquer"
   ]
  },
  {
   "cell_type": "code",
   "execution_count": 23,
   "id": "1d404edb",
   "metadata": {},
   "outputs": [
    {
     "name": "stdout",
     "output_type": "stream",
     "text": [
      "11.25\n",
      "9.5\n",
      "20.0\n"
     ]
    }
   ],
   "source": [
    "# Creating areas list\n",
    "areas = [\"hallway\", 11.25, \"kitchen\", 18.0, \"living room\", 20.0, \"bedroom\", 10.75, \"bathroom\", 9.50]\n",
    "\n",
    "# Print out second element from areas\n",
    "print(areas[1])\n",
    "\n",
    "# Print out last element from areas\n",
    "print(areas[-1])\n",
    "\n",
    "# Print out the area of the living room\n",
    "print(areas[5])"
   ]
  },
  {
   "cell_type": "code",
   "execution_count": null,
   "id": "23fd3114",
   "metadata": {},
   "outputs": [],
   "source": []
  }
 ],
 "metadata": {
  "kernelspec": {
   "display_name": "Python 3 (ipykernel)",
   "language": "python",
   "name": "python3"
  },
  "language_info": {
   "codemirror_mode": {
    "name": "ipython",
    "version": 3
   },
   "file_extension": ".py",
   "mimetype": "text/x-python",
   "name": "python",
   "nbconvert_exporter": "python",
   "pygments_lexer": "ipython3",
   "version": "3.9.7"
  }
 },
 "nbformat": 4,
 "nbformat_minor": 5
}
