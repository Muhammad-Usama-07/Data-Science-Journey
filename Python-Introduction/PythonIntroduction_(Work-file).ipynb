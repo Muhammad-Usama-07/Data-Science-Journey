{
 "cells": [
  {
   "cell_type": "markdown",
   "id": "3b8c1807",
   "metadata": {},
   "source": [
    "# Python Basics"
   ]
  },
  {
   "cell_type": "markdown",
   "id": "ffb725fd",
   "metadata": {},
   "source": [
    "## Example"
   ]
  },
  {
   "cell_type": "code",
   "execution_count": 1,
   "id": "bc22d6ee",
   "metadata": {},
   "outputs": [
    {
     "name": "stdout",
     "output_type": "stream",
     "text": [
      "0.625\n",
      "17\n"
     ]
    }
   ],
   "source": [
    "print(5 / 8)\n",
    "\n",
    "# Print the sum of 7 and 10\n",
    "print(7+10)"
   ]
  },
  {
   "cell_type": "markdown",
   "id": "c7aebd69",
   "metadata": {},
   "source": [
    "## Division"
   ]
  },
  {
   "cell_type": "code",
   "execution_count": 11,
   "id": "65441970",
   "metadata": {},
   "outputs": [
    {
     "name": "stdout",
     "output_type": "stream",
     "text": [
      "0.625\n"
     ]
    }
   ],
   "source": [
    "print(5 / 8)"
   ]
  },
  {
   "cell_type": "markdown",
   "id": "e58a5792",
   "metadata": {},
   "source": [
    "## Addition"
   ]
  },
  {
   "cell_type": "code",
   "execution_count": 12,
   "id": "1a835b70",
   "metadata": {},
   "outputs": [
    {
     "name": "stdout",
     "output_type": "stream",
     "text": [
      "17\n"
     ]
    }
   ],
   "source": [
    "print(7 + 10)"
   ]
  },
  {
   "cell_type": "markdown",
   "id": "8224bb1c",
   "metadata": {},
   "source": [
    "## Basic calculator operatios in python"
   ]
  },
  {
   "cell_type": "code",
   "execution_count": 13,
   "id": "15978562",
   "metadata": {},
   "outputs": [
    {
     "name": "stdout",
     "output_type": "stream",
     "text": [
      "10\n",
      "0\n",
      "15\n",
      "5.0\n",
      "4\n",
      "16\n",
      "194.87171000000012\n"
     ]
    }
   ],
   "source": [
    "# Addition, subtraction\n",
    "print(5 + 5)\n",
    "print(5 - 5)\n",
    "\n",
    "# Multiplication, division, modulo, and exponentiation\n",
    "print(3 * 5)\n",
    "print(10 / 2)\n",
    "print(18 % 7)\n",
    "print(4 ** 2)\n",
    "\n",
    "# How much is your $100 worth after 7 years?\n",
    "print(100*1.1**7)\n"
   ]
  },
  {
   "cell_type": "markdown",
   "id": "a8756493",
   "metadata": {},
   "source": [
    "## Variable Assignment"
   ]
  },
  {
   "cell_type": "code",
   "execution_count": 14,
   "id": "a2b14097",
   "metadata": {},
   "outputs": [
    {
     "name": "stdout",
     "output_type": "stream",
     "text": [
      "100\n"
     ]
    }
   ],
   "source": [
    "# Create a variable savings\n",
    "savings = 100\n",
    "\n",
    "# Print out savings\n",
    "print(savings)"
   ]
  },
  {
   "cell_type": "markdown",
   "id": "e41650fa",
   "metadata": {},
   "source": [
    "## Calculator using variable assignment"
   ]
  },
  {
   "cell_type": "code",
   "execution_count": 15,
   "id": "0700f8f7",
   "metadata": {},
   "outputs": [
    {
     "name": "stdout",
     "output_type": "stream",
     "text": [
      "194.87171000000012\n"
     ]
    }
   ],
   "source": [
    "# Create a variable savings\n",
    "savings = 100\n",
    "\n",
    "# Create a variable growth_multiplier\n",
    "growth_multiplier = 1.1\n",
    "\n",
    "# Calculate result\n",
    "result = savings*growth_multiplier**7\n",
    "\n",
    "# Print out result\n",
    "print(result)\n"
   ]
  },
  {
   "cell_type": "markdown",
   "id": "0e009613",
   "metadata": {},
   "source": [
    "## String data type"
   ]
  },
  {
   "cell_type": "code",
   "execution_count": 16,
   "id": "9b4fec9f",
   "metadata": {},
   "outputs": [
    {
     "data": {
      "text/plain": [
       "'compound interest'"
      ]
     },
     "execution_count": 16,
     "metadata": {},
     "output_type": "execute_result"
    }
   ],
   "source": [
    "desc = \"compound interest\"\n",
    "desc"
   ]
  },
  {
   "cell_type": "markdown",
   "id": "3d8e0226",
   "metadata": {},
   "source": [
    "## Boolean data type"
   ]
  },
  {
   "cell_type": "code",
   "execution_count": 17,
   "id": "c6335391",
   "metadata": {},
   "outputs": [
    {
     "data": {
      "text/plain": [
       "True"
      ]
     },
     "execution_count": 17,
     "metadata": {},
     "output_type": "execute_result"
    }
   ],
   "source": [
    "profitable = True\n",
    "profitable"
   ]
  },
  {
   "cell_type": "markdown",
   "id": "f1b92236",
   "metadata": {},
   "source": [
    "## Operations using other types of variable"
   ]
  },
  {
   "cell_type": "code",
   "execution_count": 18,
   "id": "3756884c",
   "metadata": {},
   "outputs": [
    {
     "name": "stdout",
     "output_type": "stream",
     "text": [
      "<class 'float'>\n",
      "compound interestcompound interest\n"
     ]
    }
   ],
   "source": [
    "savings = 100\n",
    "growth_multiplier = 1.1\n",
    "desc = \"compound interest\"\n",
    "\n",
    "# Assigning product of growth_multiplier and savings to year1\n",
    "year1 = growth_multiplier*savings\n",
    "\n",
    "# Printing the type of year1\n",
    "print(type(year1))\n",
    "\n",
    "# Assigning sum of desc and desc to doubledesc\n",
    "doubledesc = desc+desc\n",
    "\n",
    "# Print out doubledesc\n",
    "print(doubledesc)\n"
   ]
  },
  {
   "cell_type": "markdown",
   "id": "a02f7350",
   "metadata": {},
   "source": [
    "## Converting differerent types of variables"
   ]
  },
  {
   "cell_type": "code",
   "execution_count": 19,
   "id": "81089b41",
   "metadata": {},
   "outputs": [
    {
     "name": "stdout",
     "output_type": "stream",
     "text": [
      "I started with $100 and now have $194.87171000000012. Awesome!\n"
     ]
    }
   ],
   "source": [
    "savings = 100\n",
    "result = 100 * 1.10 ** 7\n",
    "\n",
    "# Fixing printout result\n",
    "print(\"I started with $\" + str(savings) + \" and now have $\" + str(result) + \". Awesome!\")\n",
    "\n",
    "# Defining pi_string\n",
    "pi_string = \"3.1415926\"\n",
    "\n",
    "# Convert pi_string into float\n",
    "pi_float = float(pi_string)"
   ]
  },
  {
   "cell_type": "markdown",
   "id": "bd287e95",
   "metadata": {},
   "source": [
    "# Python Lists"
   ]
  },
  {
   "cell_type": "markdown",
   "id": "66c68691",
   "metadata": {},
   "source": [
    "## Creating a list"
   ]
  },
  {
   "cell_type": "code",
   "execution_count": 20,
   "id": "b45b5396",
   "metadata": {},
   "outputs": [
    {
     "name": "stdout",
     "output_type": "stream",
     "text": [
      "[11.25, 18.0, 20.0, 10.75, 9.5]\n"
     ]
    }
   ],
   "source": [
    "# Area Variables\n",
    "hall = 11.25\n",
    "kit = 18.0\n",
    "liv = 20.0\n",
    "bed = 10.75\n",
    "bath = 9.50\n",
    "\n",
    "# Creating list using areas variables\n",
    "areas = [hall, kit, liv, bed, bath]\n",
    "\n",
    "# Print areas\n",
    "print(areas)\n"
   ]
  },
  {
   "cell_type": "markdown",
   "id": "97bf6946",
   "metadata": {},
   "source": [
    "## Creating list with different types"
   ]
  },
  {
   "cell_type": "code",
   "execution_count": 21,
   "id": "073a3715",
   "metadata": {},
   "outputs": [
    {
     "name": "stdout",
     "output_type": "stream",
     "text": [
      "['hallway', 11.25, 'kitchen', 18.0, 'living room', 20.0, 'bedroom', 10.75, 'bathroom', 9.5]\n"
     ]
    }
   ],
   "source": [
    "# Area Variables\n",
    "hall = 11.25\n",
    "kit = 18.0\n",
    "liv = 20.0\n",
    "bed = 10.75\n",
    "bath = 9.50\n",
    "\n",
    "# Adapting list areas\n",
    "areas = [\"hallway\", hall, \"kitchen\", kit, \"living room\", liv, \"bedroom\", bed, \"bathroom\", bath]\n",
    "\n",
    "# Print areas\n",
    "print(areas)"
   ]
  },
  {
   "cell_type": "markdown",
   "id": "70d51ca9",
   "metadata": {},
   "source": [
    "## Creating List of lists (2D)"
   ]
  },
  {
   "cell_type": "code",
   "execution_count": 22,
   "id": "f78fea1c",
   "metadata": {},
   "outputs": [
    {
     "name": "stdout",
     "output_type": "stream",
     "text": [
      "[['hallway', 11.25], ['kitchen', 18.0], ['living room', 20.0], ['bedroom', 10.75], ['bathroom', 9.5]]\n",
      "<class 'list'>\n"
     ]
    }
   ],
   "source": [
    "# Area variables\n",
    "hall = 11.25\n",
    "kit = 18.0\n",
    "liv = 20.0\n",
    "bed = 10.75\n",
    "bath = 9.50\n",
    "\n",
    "# creating list variable house by giving house information as list of lists\n",
    "house = [[\"hallway\", hall],\n",
    "         [\"kitchen\", kit],\n",
    "         [\"living room\", liv],\n",
    "         [\"bedroom\",bed],\n",
    "         [\"bathroom\",bath]]\n",
    "\n",
    "# Print out house\n",
    "print(house)\n",
    "\n",
    "# Print out the type of house\n",
    "print(type(house))"
   ]
  },
  {
   "cell_type": "markdown",
   "id": "2da5b050",
   "metadata": {},
   "source": [
    "## Subset and conquer"
   ]
  },
  {
   "cell_type": "code",
   "execution_count": 23,
   "id": "58ab8676",
   "metadata": {},
   "outputs": [
    {
     "name": "stdout",
     "output_type": "stream",
     "text": [
      "11.25\n",
      "9.5\n",
      "20.0\n"
     ]
    }
   ],
   "source": [
    "# Creating areas list\n",
    "areas = [\"hallway\", 11.25, \"kitchen\", 18.0, \"living room\", 20.0, \"bedroom\", 10.75, \"bathroom\", 9.50]\n",
    "\n",
    "# Print out second element from areas\n",
    "print(areas[1])\n",
    "\n",
    "# Print out last element from areas\n",
    "print(areas[-1])\n",
    "\n",
    "# Print out the area of the living room\n",
    "print(areas[5])"
   ]
  },
  {
   "cell_type": "markdown",
   "id": "ac5af4f3",
   "metadata": {},
   "source": [
    "## Subset and calculate"
   ]
  },
  {
   "cell_type": "code",
   "execution_count": 24,
   "id": "eda31c60",
   "metadata": {},
   "outputs": [
    {
     "name": "stdout",
     "output_type": "stream",
     "text": [
      "28.75\n"
     ]
    }
   ],
   "source": [
    "# Create the areas list\n",
    "areas = [\"hallway\", 11.25, \"kitchen\", 18.0, \"living room\", 20.0, \"bedroom\", 10.75, \"bathroom\", 9.50]\n",
    "\n",
    "# Sum of kitchen and bedroom area: eat_sleep_area\n",
    "eat_sleep_area = areas[3] + areas[-3]\n",
    "\n",
    "# Print the variable eat_sleep_area\n",
    "print(eat_sleep_area)"
   ]
  },
  {
   "cell_type": "code",
   "execution_count": null,
   "id": "e0094ff0",
   "metadata": {},
   "outputs": [],
   "source": []
  }
 ],
 "metadata": {
  "kernelspec": {
   "display_name": "Python 3 (ipykernel)",
   "language": "python",
   "name": "python3"
  },
  "language_info": {
   "codemirror_mode": {
    "name": "ipython",
    "version": 3
   },
   "file_extension": ".py",
   "mimetype": "text/x-python",
   "name": "python",
   "nbconvert_exporter": "python",
   "pygments_lexer": "ipython3",
   "version": "3.9.7"
  }
 },
 "nbformat": 4,
 "nbformat_minor": 5
}
