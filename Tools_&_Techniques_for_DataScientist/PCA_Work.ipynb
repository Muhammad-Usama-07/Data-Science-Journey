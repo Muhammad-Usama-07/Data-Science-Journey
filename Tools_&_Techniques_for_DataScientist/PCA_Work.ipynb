{
  "cells": [
    {
      "cell_type": "markdown",
      "metadata": {
        "id": "view-in-github",
        "colab_type": "text"
      },
      "source": [
        "<a href=\"https://colab.research.google.com/github/Muhammad-Usama-07/Data-Science-Journey/blob/main/Tools_%26_Techniques_for_DataScientist/PCA_Work.ipynb\" target=\"_parent\"><img src=\"https://colab.research.google.com/assets/colab-badge.svg\" alt=\"Open In Colab\"/></a>"
      ]
    },
    {
      "cell_type": "markdown",
      "id": "758f4908",
      "metadata": {
        "id": "758f4908"
      },
      "source": [
        "# Import Libraries"
      ]
    },
    {
      "cell_type": "code",
      "source": [
        "import pandas as pd\n",
        "import numpy as np\n",
        "import matplotlib.pyplot as plt\n",
        "%matplotlib inline"
      ],
      "metadata": {
        "id": "WezWAi0JCBl1"
      },
      "id": "WezWAi0JCBl1",
      "execution_count": 1,
      "outputs": []
    },
    {
      "cell_type": "markdown",
      "source": [
        "# Create PCA Class"
      ],
      "metadata": {
        "id": "rB7Z_SiFCtGg"
      },
      "id": "rB7Z_SiFCtGg"
    },
    {
      "cell_type": "code",
      "source": [
        "class PCA:\n",
        "    def __init__(self, n_components): \n",
        "        self.n_components = n_components \n",
        "        self.components = None \n",
        "        self.mean = None\n",
        "    def fit(self, X):\n",
        "        # Mean centering\n",
        "        self.mean = np.mean(X, axis=0)\n",
        "        X = X - self.mean\n",
        "\n",
        "        # covariance (needs samples as columns) \n",
        "#         print('X: ', X)\n",
        "        cov = np.cov(X.T)\n",
        "        \n",
        "        # eigenvalues, eigenvectors\n",
        "        eigenvalues, eigenvectors = np.linalg.eig(cov)\n",
        "        \n",
        "        # → eigenvector v = [:,i]\n",
        "        # transpose for easier calculations eigenvectors = eigenvectors.T\n",
        "        idxs = np.argsort (eigenvalues) [::-1]\n",
        "        eigenvalues = eigenvalues[idxs]\n",
        "        eigenvectors = eigenvectors[idxs]\n",
        "\n",
        "        # store first n eigenvectors\n",
        "        self.components = eigenvectors [0: self.n_components]\n",
        "        print(self.components)\n",
        "    def transform(self, X):\n",
        "        # project data\n",
        "        X = X - self.mean\n",
        "        return np.dot(X, self.components.T)"
      ],
      "metadata": {
        "id": "FYqm9somCME8"
      },
      "id": "FYqm9somCME8",
      "execution_count": null,
      "outputs": []
    }
  ],
  "metadata": {
    "kernelspec": {
      "display_name": "Python 3 (ipykernel)",
      "language": "python",
      "name": "python3"
    },
    "language_info": {
      "codemirror_mode": {
        "name": "ipython",
        "version": 3
      },
      "file_extension": ".py",
      "mimetype": "text/x-python",
      "name": "python",
      "nbconvert_exporter": "python",
      "pygments_lexer": "ipython3",
      "version": "3.11.1"
    },
    "colab": {
      "provenance": [],
      "include_colab_link": true
    }
  },
  "nbformat": 4,
  "nbformat_minor": 5
}