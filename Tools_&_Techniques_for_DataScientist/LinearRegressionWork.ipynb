{
  "cells": [
    {
      "cell_type": "markdown",
      "metadata": {
        "id": "view-in-github",
        "colab_type": "text"
      },
      "source": [
        "<a href=\"https://colab.research.google.com/github/Muhammad-Usama-07/Data-Science-Journey/blob/main/Tools_%26_Techniques_for_DataScientist/LinearRegressionWork.ipynb\" target=\"_parent\"><img src=\"https://colab.research.google.com/assets/colab-badge.svg\" alt=\"Open In Colab\"/></a>"
      ]
    },
    {
      "cell_type": "markdown",
      "id": "b77eada6",
      "metadata": {
        "id": "b77eada6"
      },
      "source": [
        "# Import Libraries"
      ]
    },
    {
      "cell_type": "code",
      "execution_count": 1,
      "id": "76acb1ad",
      "metadata": {
        "id": "76acb1ad"
      },
      "outputs": [],
      "source": [
        "import pandas as pd  \n",
        "import numpy as np  \n",
        "import matplotlib.pyplot as plt  \n",
        "import seaborn as seabornInstance \n",
        "from sklearn.model_selection import train_test_split \n",
        "from sklearn.linear_model import LinearRegression\n",
        "from sklearn import metrics\n",
        "%matplotlib inline"
      ]
    },
    {
      "cell_type": "markdown",
      "source": [
        "# Read Data"
      ],
      "metadata": {
        "id": "Rq4rOpp8PgRP"
      },
      "id": "Rq4rOpp8PgRP"
    },
    {
      "cell_type": "code",
      "execution_count": 2,
      "id": "23f7ee8b",
      "metadata": {
        "colab": {
          "base_uri": "https://localhost:8080/",
          "height": 206
        },
        "id": "23f7ee8b",
        "outputId": "6a30dcfd-0a4d-42dc-98f2-3148818a14be"
      },
      "outputs": [
        {
          "output_type": "execute_result",
          "data": {
            "text/plain": [
              "         date  precipitation  temp_max  temp_min  wind  weather\n",
              "0  2012-01-01            0.0      12.8       5.0   4.7  drizzle\n",
              "1  2012-01-02           10.9      10.6       2.8   4.5     rain\n",
              "2  2012-01-03            0.8      11.7       7.2   2.3     rain\n",
              "3  2012-01-04           20.3      12.2       5.6   4.7     rain\n",
              "4  2012-01-05            1.3       8.9       2.8   6.1     rain"
            ],
            "text/html": [
              "\n",
              "  <div id=\"df-0b610ef6-d201-47bd-a011-b088bc2258e3\">\n",
              "    <div class=\"colab-df-container\">\n",
              "      <div>\n",
              "<style scoped>\n",
              "    .dataframe tbody tr th:only-of-type {\n",
              "        vertical-align: middle;\n",
              "    }\n",
              "\n",
              "    .dataframe tbody tr th {\n",
              "        vertical-align: top;\n",
              "    }\n",
              "\n",
              "    .dataframe thead th {\n",
              "        text-align: right;\n",
              "    }\n",
              "</style>\n",
              "<table border=\"1\" class=\"dataframe\">\n",
              "  <thead>\n",
              "    <tr style=\"text-align: right;\">\n",
              "      <th></th>\n",
              "      <th>date</th>\n",
              "      <th>precipitation</th>\n",
              "      <th>temp_max</th>\n",
              "      <th>temp_min</th>\n",
              "      <th>wind</th>\n",
              "      <th>weather</th>\n",
              "    </tr>\n",
              "  </thead>\n",
              "  <tbody>\n",
              "    <tr>\n",
              "      <th>0</th>\n",
              "      <td>2012-01-01</td>\n",
              "      <td>0.0</td>\n",
              "      <td>12.8</td>\n",
              "      <td>5.0</td>\n",
              "      <td>4.7</td>\n",
              "      <td>drizzle</td>\n",
              "    </tr>\n",
              "    <tr>\n",
              "      <th>1</th>\n",
              "      <td>2012-01-02</td>\n",
              "      <td>10.9</td>\n",
              "      <td>10.6</td>\n",
              "      <td>2.8</td>\n",
              "      <td>4.5</td>\n",
              "      <td>rain</td>\n",
              "    </tr>\n",
              "    <tr>\n",
              "      <th>2</th>\n",
              "      <td>2012-01-03</td>\n",
              "      <td>0.8</td>\n",
              "      <td>11.7</td>\n",
              "      <td>7.2</td>\n",
              "      <td>2.3</td>\n",
              "      <td>rain</td>\n",
              "    </tr>\n",
              "    <tr>\n",
              "      <th>3</th>\n",
              "      <td>2012-01-04</td>\n",
              "      <td>20.3</td>\n",
              "      <td>12.2</td>\n",
              "      <td>5.6</td>\n",
              "      <td>4.7</td>\n",
              "      <td>rain</td>\n",
              "    </tr>\n",
              "    <tr>\n",
              "      <th>4</th>\n",
              "      <td>2012-01-05</td>\n",
              "      <td>1.3</td>\n",
              "      <td>8.9</td>\n",
              "      <td>2.8</td>\n",
              "      <td>6.1</td>\n",
              "      <td>rain</td>\n",
              "    </tr>\n",
              "  </tbody>\n",
              "</table>\n",
              "</div>\n",
              "      <button class=\"colab-df-convert\" onclick=\"convertToInteractive('df-0b610ef6-d201-47bd-a011-b088bc2258e3')\"\n",
              "              title=\"Convert this dataframe to an interactive table.\"\n",
              "              style=\"display:none;\">\n",
              "        \n",
              "  <svg xmlns=\"http://www.w3.org/2000/svg\" height=\"24px\"viewBox=\"0 0 24 24\"\n",
              "       width=\"24px\">\n",
              "    <path d=\"M0 0h24v24H0V0z\" fill=\"none\"/>\n",
              "    <path d=\"M18.56 5.44l.94 2.06.94-2.06 2.06-.94-2.06-.94-.94-2.06-.94 2.06-2.06.94zm-11 1L8.5 8.5l.94-2.06 2.06-.94-2.06-.94L8.5 2.5l-.94 2.06-2.06.94zm10 10l.94 2.06.94-2.06 2.06-.94-2.06-.94-.94-2.06-.94 2.06-2.06.94z\"/><path d=\"M17.41 7.96l-1.37-1.37c-.4-.4-.92-.59-1.43-.59-.52 0-1.04.2-1.43.59L10.3 9.45l-7.72 7.72c-.78.78-.78 2.05 0 2.83L4 21.41c.39.39.9.59 1.41.59.51 0 1.02-.2 1.41-.59l7.78-7.78 2.81-2.81c.8-.78.8-2.07 0-2.86zM5.41 20L4 18.59l7.72-7.72 1.47 1.35L5.41 20z\"/>\n",
              "  </svg>\n",
              "      </button>\n",
              "      \n",
              "  <style>\n",
              "    .colab-df-container {\n",
              "      display:flex;\n",
              "      flex-wrap:wrap;\n",
              "      gap: 12px;\n",
              "    }\n",
              "\n",
              "    .colab-df-convert {\n",
              "      background-color: #E8F0FE;\n",
              "      border: none;\n",
              "      border-radius: 50%;\n",
              "      cursor: pointer;\n",
              "      display: none;\n",
              "      fill: #1967D2;\n",
              "      height: 32px;\n",
              "      padding: 0 0 0 0;\n",
              "      width: 32px;\n",
              "    }\n",
              "\n",
              "    .colab-df-convert:hover {\n",
              "      background-color: #E2EBFA;\n",
              "      box-shadow: 0px 1px 2px rgba(60, 64, 67, 0.3), 0px 1px 3px 1px rgba(60, 64, 67, 0.15);\n",
              "      fill: #174EA6;\n",
              "    }\n",
              "\n",
              "    [theme=dark] .colab-df-convert {\n",
              "      background-color: #3B4455;\n",
              "      fill: #D2E3FC;\n",
              "    }\n",
              "\n",
              "    [theme=dark] .colab-df-convert:hover {\n",
              "      background-color: #434B5C;\n",
              "      box-shadow: 0px 1px 3px 1px rgba(0, 0, 0, 0.15);\n",
              "      filter: drop-shadow(0px 1px 2px rgba(0, 0, 0, 0.3));\n",
              "      fill: #FFFFFF;\n",
              "    }\n",
              "  </style>\n",
              "\n",
              "      <script>\n",
              "        const buttonEl =\n",
              "          document.querySelector('#df-0b610ef6-d201-47bd-a011-b088bc2258e3 button.colab-df-convert');\n",
              "        buttonEl.style.display =\n",
              "          google.colab.kernel.accessAllowed ? 'block' : 'none';\n",
              "\n",
              "        async function convertToInteractive(key) {\n",
              "          const element = document.querySelector('#df-0b610ef6-d201-47bd-a011-b088bc2258e3');\n",
              "          const dataTable =\n",
              "            await google.colab.kernel.invokeFunction('convertToInteractive',\n",
              "                                                     [key], {});\n",
              "          if (!dataTable) return;\n",
              "\n",
              "          const docLinkHtml = 'Like what you see? Visit the ' +\n",
              "            '<a target=\"_blank\" href=https://colab.research.google.com/notebooks/data_table.ipynb>data table notebook</a>'\n",
              "            + ' to learn more about interactive tables.';\n",
              "          element.innerHTML = '';\n",
              "          dataTable['output_type'] = 'display_data';\n",
              "          await google.colab.output.renderOutput(dataTable, element);\n",
              "          const docLink = document.createElement('div');\n",
              "          docLink.innerHTML = docLinkHtml;\n",
              "          element.appendChild(docLink);\n",
              "        }\n",
              "      </script>\n",
              "    </div>\n",
              "  </div>\n",
              "  "
            ]
          },
          "metadata": {},
          "execution_count": 2
        }
      ],
      "source": [
        "data = pd.read_csv('seattle-weather.csv')\n",
        "data.head()"
      ]
    },
    {
      "cell_type": "markdown",
      "source": [
        "# Stats of the Dataset"
      ],
      "metadata": {
        "id": "UMXzVcs2QIxV"
      },
      "id": "UMXzVcs2QIxV"
    },
    {
      "cell_type": "code",
      "source": [
        "data.describe()"
      ],
      "metadata": {
        "colab": {
          "base_uri": "https://localhost:8080/",
          "height": 300
        },
        "id": "17w2JdTbP1Vb",
        "outputId": "9b302a40-0ad9-454a-d804-5f2deb8810ec"
      },
      "id": "17w2JdTbP1Vb",
      "execution_count": 3,
      "outputs": [
        {
          "output_type": "execute_result",
          "data": {
            "text/plain": [
              "       precipitation     temp_max     temp_min         wind\n",
              "count    1461.000000  1461.000000  1461.000000  1461.000000\n",
              "mean        3.029432    16.439083     8.234771     3.241136\n",
              "std         6.680194     7.349758     5.023004     1.437825\n",
              "min         0.000000    -1.600000    -7.100000     0.400000\n",
              "25%         0.000000    10.600000     4.400000     2.200000\n",
              "50%         0.000000    15.600000     8.300000     3.000000\n",
              "75%         2.800000    22.200000    12.200000     4.000000\n",
              "max        55.900000    35.600000    18.300000     9.500000"
            ],
            "text/html": [
              "\n",
              "  <div id=\"df-d7e1bb96-5854-49fe-97f8-5ef9d6164ef9\">\n",
              "    <div class=\"colab-df-container\">\n",
              "      <div>\n",
              "<style scoped>\n",
              "    .dataframe tbody tr th:only-of-type {\n",
              "        vertical-align: middle;\n",
              "    }\n",
              "\n",
              "    .dataframe tbody tr th {\n",
              "        vertical-align: top;\n",
              "    }\n",
              "\n",
              "    .dataframe thead th {\n",
              "        text-align: right;\n",
              "    }\n",
              "</style>\n",
              "<table border=\"1\" class=\"dataframe\">\n",
              "  <thead>\n",
              "    <tr style=\"text-align: right;\">\n",
              "      <th></th>\n",
              "      <th>precipitation</th>\n",
              "      <th>temp_max</th>\n",
              "      <th>temp_min</th>\n",
              "      <th>wind</th>\n",
              "    </tr>\n",
              "  </thead>\n",
              "  <tbody>\n",
              "    <tr>\n",
              "      <th>count</th>\n",
              "      <td>1461.000000</td>\n",
              "      <td>1461.000000</td>\n",
              "      <td>1461.000000</td>\n",
              "      <td>1461.000000</td>\n",
              "    </tr>\n",
              "    <tr>\n",
              "      <th>mean</th>\n",
              "      <td>3.029432</td>\n",
              "      <td>16.439083</td>\n",
              "      <td>8.234771</td>\n",
              "      <td>3.241136</td>\n",
              "    </tr>\n",
              "    <tr>\n",
              "      <th>std</th>\n",
              "      <td>6.680194</td>\n",
              "      <td>7.349758</td>\n",
              "      <td>5.023004</td>\n",
              "      <td>1.437825</td>\n",
              "    </tr>\n",
              "    <tr>\n",
              "      <th>min</th>\n",
              "      <td>0.000000</td>\n",
              "      <td>-1.600000</td>\n",
              "      <td>-7.100000</td>\n",
              "      <td>0.400000</td>\n",
              "    </tr>\n",
              "    <tr>\n",
              "      <th>25%</th>\n",
              "      <td>0.000000</td>\n",
              "      <td>10.600000</td>\n",
              "      <td>4.400000</td>\n",
              "      <td>2.200000</td>\n",
              "    </tr>\n",
              "    <tr>\n",
              "      <th>50%</th>\n",
              "      <td>0.000000</td>\n",
              "      <td>15.600000</td>\n",
              "      <td>8.300000</td>\n",
              "      <td>3.000000</td>\n",
              "    </tr>\n",
              "    <tr>\n",
              "      <th>75%</th>\n",
              "      <td>2.800000</td>\n",
              "      <td>22.200000</td>\n",
              "      <td>12.200000</td>\n",
              "      <td>4.000000</td>\n",
              "    </tr>\n",
              "    <tr>\n",
              "      <th>max</th>\n",
              "      <td>55.900000</td>\n",
              "      <td>35.600000</td>\n",
              "      <td>18.300000</td>\n",
              "      <td>9.500000</td>\n",
              "    </tr>\n",
              "  </tbody>\n",
              "</table>\n",
              "</div>\n",
              "      <button class=\"colab-df-convert\" onclick=\"convertToInteractive('df-d7e1bb96-5854-49fe-97f8-5ef9d6164ef9')\"\n",
              "              title=\"Convert this dataframe to an interactive table.\"\n",
              "              style=\"display:none;\">\n",
              "        \n",
              "  <svg xmlns=\"http://www.w3.org/2000/svg\" height=\"24px\"viewBox=\"0 0 24 24\"\n",
              "       width=\"24px\">\n",
              "    <path d=\"M0 0h24v24H0V0z\" fill=\"none\"/>\n",
              "    <path d=\"M18.56 5.44l.94 2.06.94-2.06 2.06-.94-2.06-.94-.94-2.06-.94 2.06-2.06.94zm-11 1L8.5 8.5l.94-2.06 2.06-.94-2.06-.94L8.5 2.5l-.94 2.06-2.06.94zm10 10l.94 2.06.94-2.06 2.06-.94-2.06-.94-.94-2.06-.94 2.06-2.06.94z\"/><path d=\"M17.41 7.96l-1.37-1.37c-.4-.4-.92-.59-1.43-.59-.52 0-1.04.2-1.43.59L10.3 9.45l-7.72 7.72c-.78.78-.78 2.05 0 2.83L4 21.41c.39.39.9.59 1.41.59.51 0 1.02-.2 1.41-.59l7.78-7.78 2.81-2.81c.8-.78.8-2.07 0-2.86zM5.41 20L4 18.59l7.72-7.72 1.47 1.35L5.41 20z\"/>\n",
              "  </svg>\n",
              "      </button>\n",
              "      \n",
              "  <style>\n",
              "    .colab-df-container {\n",
              "      display:flex;\n",
              "      flex-wrap:wrap;\n",
              "      gap: 12px;\n",
              "    }\n",
              "\n",
              "    .colab-df-convert {\n",
              "      background-color: #E8F0FE;\n",
              "      border: none;\n",
              "      border-radius: 50%;\n",
              "      cursor: pointer;\n",
              "      display: none;\n",
              "      fill: #1967D2;\n",
              "      height: 32px;\n",
              "      padding: 0 0 0 0;\n",
              "      width: 32px;\n",
              "    }\n",
              "\n",
              "    .colab-df-convert:hover {\n",
              "      background-color: #E2EBFA;\n",
              "      box-shadow: 0px 1px 2px rgba(60, 64, 67, 0.3), 0px 1px 3px 1px rgba(60, 64, 67, 0.15);\n",
              "      fill: #174EA6;\n",
              "    }\n",
              "\n",
              "    [theme=dark] .colab-df-convert {\n",
              "      background-color: #3B4455;\n",
              "      fill: #D2E3FC;\n",
              "    }\n",
              "\n",
              "    [theme=dark] .colab-df-convert:hover {\n",
              "      background-color: #434B5C;\n",
              "      box-shadow: 0px 1px 3px 1px rgba(0, 0, 0, 0.15);\n",
              "      filter: drop-shadow(0px 1px 2px rgba(0, 0, 0, 0.3));\n",
              "      fill: #FFFFFF;\n",
              "    }\n",
              "  </style>\n",
              "\n",
              "      <script>\n",
              "        const buttonEl =\n",
              "          document.querySelector('#df-d7e1bb96-5854-49fe-97f8-5ef9d6164ef9 button.colab-df-convert');\n",
              "        buttonEl.style.display =\n",
              "          google.colab.kernel.accessAllowed ? 'block' : 'none';\n",
              "\n",
              "        async function convertToInteractive(key) {\n",
              "          const element = document.querySelector('#df-d7e1bb96-5854-49fe-97f8-5ef9d6164ef9');\n",
              "          const dataTable =\n",
              "            await google.colab.kernel.invokeFunction('convertToInteractive',\n",
              "                                                     [key], {});\n",
              "          if (!dataTable) return;\n",
              "\n",
              "          const docLinkHtml = 'Like what you see? Visit the ' +\n",
              "            '<a target=\"_blank\" href=https://colab.research.google.com/notebooks/data_table.ipynb>data table notebook</a>'\n",
              "            + ' to learn more about interactive tables.';\n",
              "          element.innerHTML = '';\n",
              "          dataTable['output_type'] = 'display_data';\n",
              "          await google.colab.output.renderOutput(dataTable, element);\n",
              "          const docLink = document.createElement('div');\n",
              "          docLink.innerHTML = docLinkHtml;\n",
              "          element.appendChild(docLink);\n",
              "        }\n",
              "      </script>\n",
              "    </div>\n",
              "  </div>\n",
              "  "
            ]
          },
          "metadata": {},
          "execution_count": 3
        }
      ]
    },
    {
      "cell_type": "markdown",
      "source": [
        "# 2d Plot to See Relationship Between Variables "
      ],
      "metadata": {
        "id": "LFQsCJ-OQspE"
      },
      "id": "LFQsCJ-OQspE"
    },
    {
      "cell_type": "markdown",
      "source": [
        "## Taking Minimum and  Maximum Temperature for Doing Analysis"
      ],
      "metadata": {
        "id": "viPKsMB9SVOU"
      },
      "id": "viPKsMB9SVOU"
    },
    {
      "cell_type": "code",
      "source": [
        "data.plot(x='temp_min', y='temp_max', style='o')  \n",
        "plt.title('MinTemp vs MaxTemp')  \n",
        "plt.xlabel('MinTemp')  \n",
        "plt.ylabel('MaxTemp')  \n",
        "plt.show()"
      ],
      "metadata": {
        "colab": {
          "base_uri": "https://localhost:8080/",
          "height": 295
        },
        "id": "khV4gYcfQSxB",
        "outputId": "716d39e9-4daf-404b-de72-03cd65087732"
      },
      "id": "khV4gYcfQSxB",
      "execution_count": 4,
      "outputs": [
        {
          "output_type": "display_data",
          "data": {
            "text/plain": [
              "<Figure size 432x288 with 1 Axes>"
            ],
            "image/png": "[encoded data removed]"
          },
          "metadata": {
            "needs_background": "light"
          }
        }
      ]
    },
    {
      "cell_type": "markdown",
      "source": [
        "# Dividing Data Into “Attributes” and “Labels”"
      ],
      "metadata": {
        "id": "BD96-ftxTN4w"
      },
      "id": "BD96-ftxTN4w"
    },
    {
      "cell_type": "code",
      "source": [
        "X = data['temp_min'].values.reshape(-1,1) # attributes\n",
        "y = data['temp_max'].values.reshape(-1,1) # labels"
      ],
      "metadata": {
        "id": "tRzchAbvQyrg"
      },
      "id": "tRzchAbvQyrg",
      "execution_count": 6,
      "outputs": []
    },
    {
      "cell_type": "markdown",
      "source": [
        "# Split Data into Trainig and Testing (80%, 20%) Respectively"
      ],
      "metadata": {
        "id": "BESZDyadUjWq"
      },
      "id": "BESZDyadUjWq"
    },
    {
      "cell_type": "code",
      "source": [
        "X_train, X_test, y_train, y_test = train_test_split(X, y, test_size=0.2, random_state=0)\n"
      ],
      "metadata": {
        "id": "-JWGBJkATjCF"
      },
      "id": "-JWGBJkATjCF",
      "execution_count": 7,
      "outputs": []
    },
    {
      "cell_type": "markdown",
      "source": [
        "# Training Data"
      ],
      "metadata": {
        "id": "3l81T6NndFMJ"
      },
      "id": "3l81T6NndFMJ"
    },
    {
      "cell_type": "code",
      "source": [
        "regressor = LinearRegression()  \n",
        "regressor.fit(X_train, y_train) "
      ],
      "metadata": {
        "colab": {
          "base_uri": "https://localhost:8080/"
        },
        "id": "jUP9g_FaU3NG",
        "outputId": "9345ea08-0534-496a-ba61-91372b272787"
      },
      "id": "jUP9g_FaU3NG",
      "execution_count": 8,
      "outputs": [
        {
          "output_type": "execute_result",
          "data": {
            "text/plain": [
              "LinearRegression()"
            ]
          },
          "metadata": {},
          "execution_count": 8
        }
      ]
    },
    {
      "cell_type": "markdown",
      "source": [
        "# Slope and Intercept Value"
      ],
      "metadata": {
        "id": "As8i-yACddDf"
      },
      "id": "As8i-yACddDf"
    },
    {
      "cell_type": "code",
      "source": [
        "#To retrieve the intercept:\n",
        "print(regressor.intercept_)\n",
        "\n",
        "#For retrieving the slope:\n",
        "print(regressor.coef_)"
      ],
      "metadata": {
        "colab": {
          "base_uri": "https://localhost:8080/"
        },
        "id": "35kLI7S6dMX2",
        "outputId": "5202efa1-ec70-4eac-f196-a76b8ca9b0bb"
      },
      "id": "35kLI7S6dMX2",
      "execution_count": 9,
      "outputs": [
        {
          "output_type": "stream",
          "name": "stdout",
          "text": [
            "[6.00577259]\n",
            "[[1.27128412]]\n"
          ]
        }
      ]
    },
    {
      "cell_type": "markdown",
      "source": [
        "## Hence the Equation Becomes\n",
        "  ### y = mx + c\n",
        "  ### y = (1.27128412) * x + 6.00577259"
      ],
      "metadata": {
        "id": "_2qsopEQdu6Y"
      },
      "id": "_2qsopEQdu6Y"
    },
    {
      "cell_type": "markdown",
      "source": [
        "# Predition on Test Data"
      ],
      "metadata": {
        "id": "da1JZAPIesF2"
      },
      "id": "da1JZAPIesF2"
    },
    {
      "cell_type": "code",
      "source": [
        "y_pred = regressor.predict(X_test)"
      ],
      "metadata": {
        "id": "_i9zk6oDdj0H"
      },
      "id": "_i9zk6oDdj0H",
      "execution_count": 10,
      "outputs": []
    },
    {
      "cell_type": "markdown",
      "source": [
        "## Prediction Values"
      ],
      "metadata": {
        "id": "KRS_4IYMe05y"
      },
      "id": "KRS_4IYMe05y"
    },
    {
      "cell_type": "code",
      "source": [
        "y_pred"
      ],
      "metadata": {
        "colab": {
          "base_uri": "https://localhost:8080/"
        },
        "id": "8evFNDeTewTG",
        "outputId": "2bd712ef-ae09-4f28-b924-fea120fdbac8"
      },
      "id": "8evFNDeTewTG",
      "execution_count": 11,
      "outputs": [
        {
          "output_type": "execute_result",
          "data": {
            "text/plain": [
              "array([[21.51543891],\n",
              "       [15.92178876],\n",
              "       [18.71861384],\n",
              "       [15.92178876],\n",
              "       [15.15901829],\n",
              "       [14.52337622],\n",
              "       [15.92178876],\n",
              "       [24.31226398],\n",
              "       [16.55743082],\n",
              "       [11.59942274],\n",
              "       [27.23621747],\n",
              "       [12.36219321],\n",
              "       [24.31226398],\n",
              "       [27.23621747],\n",
              "       [17.95584336],\n",
              "       [17.3202013 ],\n",
              "       [24.31226398],\n",
              "       [12.36219321],\n",
              "       [10.2010102 ],\n",
              "       [17.95584336],\n",
              "       [17.3202013 ],\n",
              "       [12.36219321],\n",
              "       [ 9.56536814],\n",
              "       [25.07503446],\n",
              "       [22.91385145],\n",
              "       [24.31226398],\n",
              "       [17.95584336],\n",
              "       [13.76060575],\n",
              "       [21.51543891],\n",
              "       [12.36219321],\n",
              "       [11.59942274],\n",
              "       [14.52337622],\n",
              "       [10.2010102 ],\n",
              "       [ 9.56536814],\n",
              "       [16.55743082],\n",
              "       [15.92178876],\n",
              "       [12.36219321],\n",
              "       [16.55743082],\n",
              "       [13.76060575],\n",
              "       [17.3202013 ],\n",
              "       [17.95584336],\n",
              "       [11.59942274],\n",
              "       [14.52337622],\n",
              "       [ 7.40418512],\n",
              "       [25.07503446],\n",
              "       [ 8.1669556 ],\n",
              "       [ 3.33607592],\n",
              "       [22.91385145],\n",
              "       [20.87979685],\n",
              "       [ 3.33607592],\n",
              "       [18.71861384],\n",
              "       [14.52337622],\n",
              "       [21.51543891],\n",
              "       [10.2010102 ],\n",
              "       [12.36219321],\n",
              "       [25.07503446],\n",
              "       [22.91385145],\n",
              "       [ 9.56536814],\n",
              "       [22.91385145],\n",
              "       [11.59942274],\n",
              "       [13.12496369],\n",
              "       [18.71861384],\n",
              "       [22.27820938],\n",
              "       [24.31226398],\n",
              "       [22.91385145],\n",
              "       [19.48138431],\n",
              "       [22.91385145],\n",
              "       [10.2010102 ],\n",
              "       [27.87185953],\n",
              "       [13.76060575],\n",
              "       [ 7.40418512],\n",
              "       [ 6.76854306],\n",
              "       [20.11702637],\n",
              "       [ 8.1669556 ],\n",
              "       [12.36219321],\n",
              "       [20.87979685],\n",
              "       [15.92178876],\n",
              "       [25.07503446],\n",
              "       [16.55743082],\n",
              "       [20.87979685],\n",
              "       [ 8.1669556 ],\n",
              "       [17.3202013 ],\n",
              "       [22.27820938],\n",
              "       [17.3202013 ],\n",
              "       [17.3202013 ],\n",
              "       [25.83780493],\n",
              "       [16.55743082],\n",
              "       [20.11702637],\n",
              "       [22.91385145],\n",
              "       [13.12496369],\n",
              "       [21.51543891],\n",
              "       [ 6.00577259],\n",
              "       [13.76060575],\n",
              "       [10.2010102 ],\n",
              "       [ 8.1669556 ],\n",
              "       [ 1.81053497],\n",
              "       [24.31226398],\n",
              "       [19.48138431],\n",
              "       [22.91385145],\n",
              "       [10.96378067],\n",
              "       [18.71861384],\n",
              "       [10.96378067],\n",
              "       [21.51543891],\n",
              "       [18.71861384],\n",
              "       [ 8.1669556 ],\n",
              "       [13.76060575],\n",
              "       [ 8.80259766],\n",
              "       [18.71861384],\n",
              "       [13.76060575],\n",
              "       [18.71861384],\n",
              "       [17.95584336],\n",
              "       [27.87185953],\n",
              "       [22.27820938],\n",
              "       [ 7.40418512],\n",
              "       [22.27820938],\n",
              "       [ 6.00577259],\n",
              "       [25.07503446],\n",
              "       [26.473447  ],\n",
              "       [ 7.40418512],\n",
              "       [15.92178876],\n",
              "       [18.71861384],\n",
              "       [25.07503446],\n",
              "       [12.36219321],\n",
              "       [23.67662192],\n",
              "       [10.2010102 ],\n",
              "       [10.96378067],\n",
              "       [17.3202013 ],\n",
              "       [ 1.0477645 ],\n",
              "       [25.07503446],\n",
              "       [14.52337622],\n",
              "       [12.36219321],\n",
              "       [23.67662192],\n",
              "       [20.11702637],\n",
              "       [25.83780493],\n",
              "       [15.92178876],\n",
              "       [12.36219321],\n",
              "       [13.76060575],\n",
              "       [18.71861384],\n",
              "       [22.91385145],\n",
              "       [20.11702637],\n",
              "       [15.15901829],\n",
              "       [ 8.80259766],\n",
              "       [17.3202013 ],\n",
              "       [23.67662192],\n",
              "       [20.11702637],\n",
              "       [14.52337622],\n",
              "       [10.96378067],\n",
              "       [27.23621747],\n",
              "       [ 6.76854306],\n",
              "       [25.07503446],\n",
              "       [ 9.56536814],\n",
              "       [14.52337622],\n",
              "       [23.67662192],\n",
              "       [ 8.1669556 ],\n",
              "       [15.92178876],\n",
              "       [21.51543891],\n",
              "       [12.36219321],\n",
              "       [ 8.1669556 ],\n",
              "       [28.63463001],\n",
              "       [ 7.40418512],\n",
              "       [22.91385145],\n",
              "       [13.76060575],\n",
              "       [25.07503446],\n",
              "       [13.76060575],\n",
              "       [25.07503446],\n",
              "       [15.15901829],\n",
              "       [ 6.76854306],\n",
              "       [22.27820938],\n",
              "       [15.92178876],\n",
              "       [16.55743082],\n",
              "       [20.87979685],\n",
              "       [10.96378067],\n",
              "       [27.87185953],\n",
              "       [24.31226398],\n",
              "       [10.96378067],\n",
              "       [13.12496369],\n",
              "       [ 8.1669556 ],\n",
              "       [10.2010102 ],\n",
              "       [23.67662192],\n",
              "       [23.67662192],\n",
              "       [20.87979685],\n",
              "       [22.27820938],\n",
              "       [18.71861384],\n",
              "       [ 6.76854306],\n",
              "       [22.27820938],\n",
              "       [14.52337622],\n",
              "       [27.23621747],\n",
              "       [13.12496369],\n",
              "       [16.55743082],\n",
              "       [19.48138431],\n",
              "       [25.83780493],\n",
              "       [18.71861384],\n",
              "       [22.91385145],\n",
              "       [ 2.44617704],\n",
              "       [19.48138431],\n",
              "       [10.2010102 ],\n",
              "       [20.87979685],\n",
              "       [18.71861384],\n",
              "       [19.48138431],\n",
              "       [ 8.80259766],\n",
              "       [ 4.60736005],\n",
              "       [13.76060575],\n",
              "       [20.11702637],\n",
              "       [13.76060575],\n",
              "       [17.95584336],\n",
              "       [22.27820938],\n",
              "       [11.59942274],\n",
              "       [17.3202013 ],\n",
              "       [20.11702637],\n",
              "       [25.83780493],\n",
              "       [ 2.44617704],\n",
              "       [19.48138431],\n",
              "       [11.59942274],\n",
              "       [15.15901829],\n",
              "       [ 9.56536814],\n",
              "       [21.51543891],\n",
              "       [19.48138431],\n",
              "       [13.76060575],\n",
              "       [11.59942274],\n",
              "       [10.96378067],\n",
              "       [ 9.56536814],\n",
              "       [26.473447  ],\n",
              "       [15.92178876],\n",
              "       [ 9.56536814],\n",
              "       [20.11702637],\n",
              "       [20.87979685],\n",
              "       [15.15901829],\n",
              "       [ 6.76854306],\n",
              "       [18.71861384],\n",
              "       [20.87979685],\n",
              "       [10.2010102 ],\n",
              "       [15.15901829],\n",
              "       [20.87979685],\n",
              "       [13.12496369],\n",
              "       [11.59942274],\n",
              "       [15.15901829],\n",
              "       [25.07503446],\n",
              "       [10.2010102 ],\n",
              "       [15.92178876],\n",
              "       [10.2010102 ],\n",
              "       [20.11702637],\n",
              "       [20.87979685],\n",
              "       [22.91385145],\n",
              "       [15.15901829],\n",
              "       [ 9.56536814],\n",
              "       [18.71861384],\n",
              "       [18.71861384],\n",
              "       [20.87979685],\n",
              "       [16.55743082],\n",
              "       [22.91385145],\n",
              "       [25.07503446],\n",
              "       [18.71861384],\n",
              "       [ 9.56536814],\n",
              "       [ 5.24300211],\n",
              "       [15.92178876],\n",
              "       [ 9.56536814],\n",
              "       [22.91385145],\n",
              "       [20.11702637],\n",
              "       [24.31226398],\n",
              "       [13.12496369],\n",
              "       [ 4.60736005],\n",
              "       [15.15901829],\n",
              "       [25.83780493],\n",
              "       [22.91385145],\n",
              "       [26.473447  ],\n",
              "       [19.48138431],\n",
              "       [ 7.40418512],\n",
              "       [13.76060575],\n",
              "       [20.87979685],\n",
              "       [22.91385145],\n",
              "       [26.473447  ],\n",
              "       [21.51543891],\n",
              "       [10.2010102 ],\n",
              "       [13.76060575],\n",
              "       [25.07503446],\n",
              "       [11.59942274],\n",
              "       [19.48138431],\n",
              "       [20.87979685],\n",
              "       [11.59942274],\n",
              "       [22.91385145],\n",
              "       [21.51543891],\n",
              "       [20.87979685],\n",
              "       [13.76060575],\n",
              "       [25.83780493],\n",
              "       [23.67662192],\n",
              "       [17.95584336],\n",
              "       [14.52337622],\n",
              "       [ 9.56536814],\n",
              "       [11.59942274],\n",
              "       [15.15901829],\n",
              "       [18.71861384],\n",
              "       [10.96378067],\n",
              "       [21.51543891]])"
            ]
          },
          "metadata": {},
          "execution_count": 11
        }
      ]
    },
    {
      "cell_type": "markdown",
      "source": [
        "# Compare Actual and Predicted Values using DataFrame"
      ],
      "metadata": {
        "id": "hPwJu0MKfSpM"
      },
      "id": "hPwJu0MKfSpM"
    },
    {
      "cell_type": "code",
      "source": [
        "df = pd.DataFrame({'Actual': y_test.flatten(), 'Predicted': y_pred.flatten()})\n",
        "df"
      ],
      "metadata": {
        "colab": {
          "base_uri": "https://localhost:8080/",
          "height": 424
        },
        "id": "p5IvaCyve47Q",
        "outputId": "fab61c5b-724c-4d02-ba6f-ed3995d8ef9c"
      },
      "id": "p5IvaCyve47Q",
      "execution_count": 12,
      "outputs": [
        {
          "output_type": "execute_result",
          "data": {
            "text/plain": [
              "     Actual  Predicted\n",
              "0      20.0  21.515439\n",
              "1      10.6  15.921789\n",
              "2      14.4  18.718614\n",
              "3      23.9  15.921789\n",
              "4      12.8  15.159018\n",
              "..      ...        ...\n",
              "288    10.6  11.599423\n",
              "289    17.2  15.159018\n",
              "290    22.8  18.718614\n",
              "291     6.7  10.963781\n",
              "292    22.8  21.515439\n",
              "\n",
              "[293 rows x 2 columns]"
            ],
            "text/html": [
              "\n",
              "  <div id=\"df-74af0de4-1539-48ce-9a7c-aed41c39d6de\">\n",
              "    <div class=\"colab-df-container\">\n",
              "      <div>\n",
              "<style scoped>\n",
              "    .dataframe tbody tr th:only-of-type {\n",
              "        vertical-align: middle;\n",
              "    }\n",
              "\n",
              "    .dataframe tbody tr th {\n",
              "        vertical-align: top;\n",
              "    }\n",
              "\n",
              "    .dataframe thead th {\n",
              "        text-align: right;\n",
              "    }\n",
              "</style>\n",
              "<table border=\"1\" class=\"dataframe\">\n",
              "  <thead>\n",
              "    <tr style=\"text-align: right;\">\n",
              "      <th></th>\n",
              "      <th>Actual</th>\n",
              "      <th>Predicted</th>\n",
              "    </tr>\n",
              "  </thead>\n",
              "  <tbody>\n",
              "    <tr>\n",
              "      <th>0</th>\n",
              "      <td>20.0</td>\n",
              "      <td>21.515439</td>\n",
              "    </tr>\n",
              "    <tr>\n",
              "      <th>1</th>\n",
              "      <td>10.6</td>\n",
              "      <td>15.921789</td>\n",
              "    </tr>\n",
              "    <tr>\n",
              "      <th>2</th>\n",
              "      <td>14.4</td>\n",
              "      <td>18.718614</td>\n",
              "    </tr>\n",
              "    <tr>\n",
              "      <th>3</th>\n",
              "      <td>23.9</td>\n",
              "      <td>15.921789</td>\n",
              "    </tr>\n",
              "    <tr>\n",
              "      <th>4</th>\n",
              "      <td>12.8</td>\n",
              "      <td>15.159018</td>\n",
              "    </tr>\n",
              "    <tr>\n",
              "      <th>...</th>\n",
              "      <td>...</td>\n",
              "      <td>...</td>\n",
              "    </tr>\n",
              "    <tr>\n",
              "      <th>288</th>\n",
              "      <td>10.6</td>\n",
              "      <td>11.599423</td>\n",
              "    </tr>\n",
              "    <tr>\n",
              "      <th>289</th>\n",
              "      <td>17.2</td>\n",
              "      <td>15.159018</td>\n",
              "    </tr>\n",
              "    <tr>\n",
              "      <th>290</th>\n",
              "      <td>22.8</td>\n",
              "      <td>18.718614</td>\n",
              "    </tr>\n",
              "    <tr>\n",
              "      <th>291</th>\n",
              "      <td>6.7</td>\n",
              "      <td>10.963781</td>\n",
              "    </tr>\n",
              "    <tr>\n",
              "      <th>292</th>\n",
              "      <td>22.8</td>\n",
              "      <td>21.515439</td>\n",
              "    </tr>\n",
              "  </tbody>\n",
              "</table>\n",
              "<p>293 rows × 2 columns</p>\n",
              "</div>\n",
              "      <button class=\"colab-df-convert\" onclick=\"convertToInteractive('df-74af0de4-1539-48ce-9a7c-aed41c39d6de')\"\n",
              "              title=\"Convert this dataframe to an interactive table.\"\n",
              "              style=\"display:none;\">\n",
              "        \n",
              "  <svg xmlns=\"http://www.w3.org/2000/svg\" height=\"24px\"viewBox=\"0 0 24 24\"\n",
              "       width=\"24px\">\n",
              "    <path d=\"M0 0h24v24H0V0z\" fill=\"none\"/>\n",
              "    <path d=\"M18.56 5.44l.94 2.06.94-2.06 2.06-.94-2.06-.94-.94-2.06-.94 2.06-2.06.94zm-11 1L8.5 8.5l.94-2.06 2.06-.94-2.06-.94L8.5 2.5l-.94 2.06-2.06.94zm10 10l.94 2.06.94-2.06 2.06-.94-2.06-.94-.94-2.06-.94 2.06-2.06.94z\"/><path d=\"M17.41 7.96l-1.37-1.37c-.4-.4-.92-.59-1.43-.59-.52 0-1.04.2-1.43.59L10.3 9.45l-7.72 7.72c-.78.78-.78 2.05 0 2.83L4 21.41c.39.39.9.59 1.41.59.51 0 1.02-.2 1.41-.59l7.78-7.78 2.81-2.81c.8-.78.8-2.07 0-2.86zM5.41 20L4 18.59l7.72-7.72 1.47 1.35L5.41 20z\"/>\n",
              "  </svg>\n",
              "      </button>\n",
              "      \n",
              "  <style>\n",
              "    .colab-df-container {\n",
              "      display:flex;\n",
              "      flex-wrap:wrap;\n",
              "      gap: 12px;\n",
              "    }\n",
              "\n",
              "    .colab-df-convert {\n",
              "      background-color: #E8F0FE;\n",
              "      border: none;\n",
              "      border-radius: 50%;\n",
              "      cursor: pointer;\n",
              "      display: none;\n",
              "      fill: #1967D2;\n",
              "      height: 32px;\n",
              "      padding: 0 0 0 0;\n",
              "      width: 32px;\n",
              "    }\n",
              "\n",
              "    .colab-df-convert:hover {\n",
              "      background-color: #E2EBFA;\n",
              "      box-shadow: 0px 1px 2px rgba(60, 64, 67, 0.3), 0px 1px 3px 1px rgba(60, 64, 67, 0.15);\n",
              "      fill: #174EA6;\n",
              "    }\n",
              "\n",
              "    [theme=dark] .colab-df-convert {\n",
              "      background-color: #3B4455;\n",
              "      fill: #D2E3FC;\n",
              "    }\n",
              "\n",
              "    [theme=dark] .colab-df-convert:hover {\n",
              "      background-color: #434B5C;\n",
              "      box-shadow: 0px 1px 3px 1px rgba(0, 0, 0, 0.15);\n",
              "      filter: drop-shadow(0px 1px 2px rgba(0, 0, 0, 0.3));\n",
              "      fill: #FFFFFF;\n",
              "    }\n",
              "  </style>\n",
              "\n",
              "      <script>\n",
              "        const buttonEl =\n",
              "          document.querySelector('#df-74af0de4-1539-48ce-9a7c-aed41c39d6de button.colab-df-convert');\n",
              "        buttonEl.style.display =\n",
              "          google.colab.kernel.accessAllowed ? 'block' : 'none';\n",
              "\n",
              "        async function convertToInteractive(key) {\n",
              "          const element = document.querySelector('#df-74af0de4-1539-48ce-9a7c-aed41c39d6de');\n",
              "          const dataTable =\n",
              "            await google.colab.kernel.invokeFunction('convertToInteractive',\n",
              "                                                     [key], {});\n",
              "          if (!dataTable) return;\n",
              "\n",
              "          const docLinkHtml = 'Like what you see? Visit the ' +\n",
              "            '<a target=\"_blank\" href=https://colab.research.google.com/notebooks/data_table.ipynb>data table notebook</a>'\n",
              "            + ' to learn more about interactive tables.';\n",
              "          element.innerHTML = '';\n",
              "          dataTable['output_type'] = 'display_data';\n",
              "          await google.colab.output.renderOutput(dataTable, element);\n",
              "          const docLink = document.createElement('div');\n",
              "          docLink.innerHTML = docLinkHtml;\n",
              "          element.appendChild(docLink);\n",
              "        }\n",
              "      </script>\n",
              "    </div>\n",
              "  </div>\n",
              "  "
            ]
          },
          "metadata": {},
          "execution_count": 12
        }
      ]
    },
    {
      "cell_type": "markdown",
      "source": [
        "# Visualize Comparison"
      ],
      "metadata": {
        "id": "e7gSEK1if81G"
      },
      "id": "e7gSEK1if81G"
    },
    {
      "cell_type": "code",
      "source": [
        "df1 = df.head(25)\n",
        "df1.plot(kind='bar',figsize=(16,10))\n",
        "plt.grid(which='major', linestyle='-', linewidth='0.5', color='green')\n",
        "plt.grid(which='minor', linestyle=':', linewidth='0.5', color='black')\n",
        "plt.show()"
      ],
      "metadata": {
        "colab": {
          "base_uri": "https://localhost:8080/",
          "height": 594
        },
        "id": "0NTXJnuyfczn",
        "outputId": "54a42128-a920-4b0d-fa6c-284b8e748c94"
      },
      "id": "0NTXJnuyfczn",
      "execution_count": 13,
      "outputs": [
        {
          "output_type": "display_data",
          "data": {
            "text/plain": [
              "<Figure size 1152x720 with 1 Axes>"
            ],
            "image/png": "[encoded data removed]"
          },
          "metadata": {
            "needs_background": "light"
          }
        }
      ]
    },
    {
      "cell_type": "markdown",
      "source": [
        "# Plot \" Best Fit \" line"
      ],
      "metadata": {
        "id": "dEwvRjM3gqee"
      },
      "id": "dEwvRjM3gqee"
    },
    {
      "cell_type": "code",
      "source": [
        "plt.scatter(X_test, y_test,  color='gray')\n",
        "plt.plot(X_test, y_pred, color='red', linewidth=2)\n",
        "plt.show()"
      ],
      "metadata": {
        "colab": {
          "base_uri": "https://localhost:8080/",
          "height": 265
        },
        "id": "HQPADQAlgF_v",
        "outputId": "e1f81427-89db-4d95-de56-e2d00b82ac0c"
      },
      "id": "HQPADQAlgF_v",
      "execution_count": 14,
      "outputs": [
        {
          "output_type": "display_data",
          "data": {
            "text/plain": [
              "<Figure size 432x288 with 1 Axes>"
            ],
            "image/png": "[encoded data removed]"
          },
          "metadata": {
            "needs_background": "light"
          }
        }
      ]
    },
    {
      "cell_type": "markdown",
      "source": [
        "# Calculating\n",
        "## Mean Absolute Error (MAE)\n",
        "## Mean Squared Error (MSE)\n",
        "## Root Mean Squared Error (RMSE)"
      ],
      "metadata": {
        "id": "5k2SR3I_hVyu"
      },
      "id": "5k2SR3I_hVyu"
    },
    {
      "cell_type": "code",
      "source": [
        "print('Mean Absolute Error:', metrics.mean_absolute_error(y_test, y_pred))  \n",
        "print('Mean Squared Error:', metrics.mean_squared_error(y_test, y_pred))  \n",
        "print('Root Mean Squared Error:', np.sqrt(metrics.mean_squared_error(y_test, y_pred)))"
      ],
      "metadata": {
        "colab": {
          "base_uri": "https://localhost:8080/"
        },
        "id": "nr8OaC09g5Lm",
        "outputId": "64a461d5-0eda-4b3a-c83e-2062cc162685"
      },
      "id": "nr8OaC09g5Lm",
      "execution_count": 15,
      "outputs": [
        {
          "output_type": "stream",
          "name": "stdout",
          "text": [
            "Mean Absolute Error: 2.814461486372697\n",
            "Mean Squared Error: 11.89886444956574\n",
            "Root Mean Squared Error: 3.449473068392583\n"
          ]
        }
      ]
    },
    {
      "cell_type": "code",
      "source": [],
      "metadata": {
        "id": "kI-cjWVDhuDE"
      },
      "id": "kI-cjWVDhuDE",
      "execution_count": null,
      "outputs": []
    }
  ],
  "metadata": {
    "kernelspec": {
      "display_name": "Python 3 (ipykernel)",
      "language": "python",
      "name": "python3"
    },
    "language_info": {
      "codemirror_mode": {
        "name": "ipython",
        "version": 3
      },
      "file_extension": ".py",
      "mimetype": "text/x-python",
      "name": "python",
      "nbconvert_exporter": "python",
      "pygments_lexer": "ipython3",
      "version": "3.11.1"
    },
    "colab": {
      "provenance": [],
      "toc_visible": true,
      "include_colab_link": true
    }
  },
  "nbformat": 4,
  "nbformat_minor": 5
}