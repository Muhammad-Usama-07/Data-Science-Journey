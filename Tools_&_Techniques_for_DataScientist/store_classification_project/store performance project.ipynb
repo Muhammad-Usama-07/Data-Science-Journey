{
 "cells": [
  {
   "attachments": {},
   "cell_type": "markdown",
   "id": "6749f20f",
   "metadata": {},
   "source": [
    "<h1>Machine Learning Project</h1>\n",
    "<h3>Project Name: Store Performance Classification</h3>"
   ]
  },
  {
   "attachments": {},
   "cell_type": "markdown",
   "id": "7ad9aa46",
   "metadata": {},
   "source": [
    "# Step 0 - Import Libraries\n",
    "using all the module that are import \n"
   ]
  },
  {
   "cell_type": "code",
   "execution_count": 1,
   "id": "286aa167",
   "metadata": {},
   "outputs": [],
   "source": [
    "import numpy as np\n",
    "import pandas as pd\n",
    "\n",
    "import seaborn as sns\n",
    "import matplotlib.pyplot as plt\n",
    "\n",
    "import warnings\n",
    "warnings.filterwarnings(\"ignore\")\n",
    "\n",
    "from sklearn.preprocessing import LabelEncoder\n",
    "from sklearn.preprocessing import OneHotEncoder\n",
    "from sklearn.preprocessing import MinMaxScaler\n",
    "\n",
    "from sklearn.model_selection import train_test_split\n",
    "\n",
    "from sklearn.tree import DecisionTreeClassifier\n",
    "from sklearn.linear_model import LogisticRegression\n",
    "from sklearn.svm import SVC\n",
    "\n",
    "from sklearn.metrics import confusion_matrix, accuracy_score"
   ]
  },
  {
   "attachments": {},
   "cell_type": "markdown",
   "id": "36acdafe",
   "metadata": {},
   "source": [
    "# Step 1 - Import the Data Set"
   ]
  },
  {
   "attachments": {},
   "cell_type": "markdown",
   "id": "40c9ac4c",
   "metadata": {},
   "source": [
    "### Loading the dataset from file"
   ]
  },
  {
   "attachments": {},
   "cell_type": "markdown",
   "id": "694e4388",
   "metadata": {},
   "source": [
    "#### In this step, the dataset from a csv (comma-seperated-values) is imported into a pandas dataframe"
   ]
  },
  {
   "cell_type": "code",
   "execution_count": 2,
   "id": "68b77c05",
   "metadata": {},
   "outputs": [],
   "source": [
    "dataset_path = \"storedata.csv\""
   ]
  },
  {
   "cell_type": "code",
   "execution_count": 3,
   "id": "aacc4d89",
   "metadata": {},
   "outputs": [],
   "source": [
    "dataset = pd.read_csv(dataset_path, index_col = None)\n"
   ]
  },
  {
   "attachments": {},
   "cell_type": "markdown",
   "id": "81073f3a",
   "metadata": {},
   "source": [
    "# Step 2 - Data Exploration"
   ]
  },
  {
   "attachments": {},
   "cell_type": "markdown",
   "id": "f8c44c5f",
   "metadata": {},
   "source": [
    "#### Visualizing first 10 rows of the dataset\n",
    "#### In this step, the dataset is displayed to see the columns and data inside them.\n",
    "#### Data cleaning will be propocessed at the end of this step as all the columns would have been explored"
   ]
  },
  {
   "cell_type": "code",
   "execution_count": 4,
   "id": "c8c88ef1",
   "metadata": {
    "scrolled": true
   },
   "outputs": [
    {
     "data": {
      "text/html": [
       "<div>\n",
       "<style scoped>\n",
       "    .dataframe tbody tr th:only-of-type {\n",
       "        vertical-align: middle;\n",
       "    }\n",
       "\n",
       "    .dataframe tbody tr th {\n",
       "        vertical-align: top;\n",
       "    }\n",
       "\n",
       "    .dataframe thead th {\n",
       "        text-align: right;\n",
       "    }\n",
       "</style>\n",
       "<table border=\"1\" class=\"dataframe\">\n",
       "  <thead>\n",
       "    <tr style=\"text-align: right;\">\n",
       "      <th></th>\n",
       "      <th>Town</th>\n",
       "      <th>Country</th>\n",
       "      <th>Store ID</th>\n",
       "      <th>Manager name</th>\n",
       "      <th>Staff</th>\n",
       "      <th>Floor Space</th>\n",
       "      <th>Window</th>\n",
       "      <th>Car park</th>\n",
       "      <th>Demographic score</th>\n",
       "      <th>Location</th>\n",
       "      <th>40min population</th>\n",
       "      <th>30 min population</th>\n",
       "      <th>20 min population</th>\n",
       "      <th>10 min population</th>\n",
       "      <th>Store age</th>\n",
       "      <th>Clearance space</th>\n",
       "      <th>Competition number</th>\n",
       "      <th>Competition score</th>\n",
       "      <th>Performance</th>\n",
       "    </tr>\n",
       "  </thead>\n",
       "  <tbody>\n",
       "    <tr>\n",
       "      <th>0</th>\n",
       "      <td>Swinton (Greater Manchester)</td>\n",
       "      <td>UK</td>\n",
       "      <td>1437</td>\n",
       "      <td>Roger</td>\n",
       "      <td>9</td>\n",
       "      <td>18526</td>\n",
       "      <td>121</td>\n",
       "      <td>Yes</td>\n",
       "      <td>10</td>\n",
       "      <td>Retail Park</td>\n",
       "      <td>1288374</td>\n",
       "      <td>1138224</td>\n",
       "      <td>1006986</td>\n",
       "      <td>1002340</td>\n",
       "      <td>3</td>\n",
       "      <td>238</td>\n",
       "      <td>16</td>\n",
       "      <td>16</td>\n",
       "      <td>Good</td>\n",
       "    </tr>\n",
       "    <tr>\n",
       "      <th>1</th>\n",
       "      <td>Stamford</td>\n",
       "      <td>UK</td>\n",
       "      <td>1544</td>\n",
       "      <td>Ella</td>\n",
       "      <td>8</td>\n",
       "      <td>18569</td>\n",
       "      <td>121</td>\n",
       "      <td>Yes</td>\n",
       "      <td>11</td>\n",
       "      <td>Shopping Centre</td>\n",
       "      <td>1086225</td>\n",
       "      <td>1015321</td>\n",
       "      <td>1012182</td>\n",
       "      <td>1008436</td>\n",
       "      <td>4</td>\n",
       "      <td>384</td>\n",
       "      <td>15</td>\n",
       "      <td>19</td>\n",
       "      <td>Good</td>\n",
       "    </tr>\n",
       "    <tr>\n",
       "      <th>2</th>\n",
       "      <td>Skipton</td>\n",
       "      <td>UK</td>\n",
       "      <td>2039</td>\n",
       "      <td>Valentina</td>\n",
       "      <td>-2</td>\n",
       "      <td>12288</td>\n",
       "      <td>105</td>\n",
       "      <td>No</td>\n",
       "      <td>12</td>\n",
       "      <td>Retail Park</td>\n",
       "      <td>1595638</td>\n",
       "      <td>1281661</td>\n",
       "      <td>1104490</td>\n",
       "      <td>1011395</td>\n",
       "      <td>11</td>\n",
       "      <td>219</td>\n",
       "      <td>13</td>\n",
       "      <td>18</td>\n",
       "      <td>Bad</td>\n",
       "    </tr>\n",
       "    <tr>\n",
       "      <th>3</th>\n",
       "      <td>Stratton</td>\n",
       "      <td>UK</td>\n",
       "      <td>2055</td>\n",
       "      <td>Antonia</td>\n",
       "      <td>7</td>\n",
       "      <td>17092</td>\n",
       "      <td>117</td>\n",
       "      <td>No</td>\n",
       "      <td>14</td>\n",
       "      <td>High Street</td>\n",
       "      <td>1179395</td>\n",
       "      <td>1022959</td>\n",
       "      <td>1009496</td>\n",
       "      <td>1002169</td>\n",
       "      <td>5</td>\n",
       "      <td>261</td>\n",
       "      <td>15</td>\n",
       "      <td>12</td>\n",
       "      <td>Bad</td>\n",
       "    </tr>\n",
       "    <tr>\n",
       "      <th>4</th>\n",
       "      <td>Shepperton</td>\n",
       "      <td>UK</td>\n",
       "      <td>2141</td>\n",
       "      <td>Gabriel</td>\n",
       "      <td>7</td>\n",
       "      <td>11307</td>\n",
       "      <td>103</td>\n",
       "      <td>No</td>\n",
       "      <td>18</td>\n",
       "      <td>Retail Park</td>\n",
       "      <td>1398558</td>\n",
       "      <td>1085170</td>\n",
       "      <td>1003137</td>\n",
       "      <td>1002513</td>\n",
       "      <td>7</td>\n",
       "      <td>200</td>\n",
       "      <td>19</td>\n",
       "      <td>13</td>\n",
       "      <td>Bad</td>\n",
       "    </tr>\n",
       "    <tr>\n",
       "      <th>5</th>\n",
       "      <td>Southwell</td>\n",
       "      <td>UK</td>\n",
       "      <td>2309</td>\n",
       "      <td>Sarah</td>\n",
       "      <td>7</td>\n",
       "      <td>17888</td>\n",
       "      <td>119</td>\n",
       "      <td>Yes</td>\n",
       "      <td>19</td>\n",
       "      <td>Retail Park</td>\n",
       "      <td>1614716</td>\n",
       "      <td>1325848</td>\n",
       "      <td>1220059</td>\n",
       "      <td>1193318</td>\n",
       "      <td>2</td>\n",
       "      <td>394</td>\n",
       "      <td>17</td>\n",
       "      <td>11</td>\n",
       "      <td>Good</td>\n",
       "    </tr>\n",
       "    <tr>\n",
       "      <th>6</th>\n",
       "      <td>Swinton (South Yorkshire)</td>\n",
       "      <td>UK</td>\n",
       "      <td>3800</td>\n",
       "      <td>James</td>\n",
       "      <td>8</td>\n",
       "      <td>13814</td>\n",
       "      <td>109</td>\n",
       "      <td>Yes</td>\n",
       "      <td>17</td>\n",
       "      <td>High Street</td>\n",
       "      <td>1323396</td>\n",
       "      <td>1047485</td>\n",
       "      <td>1000888</td>\n",
       "      <td>1000844</td>\n",
       "      <td>5</td>\n",
       "      <td>228</td>\n",
       "      <td>11</td>\n",
       "      <td>14</td>\n",
       "      <td>Bad</td>\n",
       "    </tr>\n",
       "    <tr>\n",
       "      <th>7</th>\n",
       "      <td>Sowerby Bridge</td>\n",
       "      <td>UK</td>\n",
       "      <td>4214</td>\n",
       "      <td>Ashley</td>\n",
       "      <td>9</td>\n",
       "      <td>15643</td>\n",
       "      <td>114</td>\n",
       "      <td>Y</td>\n",
       "      <td>11</td>\n",
       "      <td>Retail Park</td>\n",
       "      <td>1052606</td>\n",
       "      <td>1025407</td>\n",
       "      <td>1004490</td>\n",
       "      <td>1000319</td>\n",
       "      <td>4</td>\n",
       "      <td>258</td>\n",
       "      <td>12</td>\n",
       "      <td>16</td>\n",
       "      <td>Good</td>\n",
       "    </tr>\n",
       "    <tr>\n",
       "      <th>8</th>\n",
       "      <td>Sheffield</td>\n",
       "      <td>UK</td>\n",
       "      <td>4857</td>\n",
       "      <td>Guilherme</td>\n",
       "      <td>9</td>\n",
       "      <td>13869</td>\n",
       "      <td>109</td>\n",
       "      <td>Yes</td>\n",
       "      <td>12</td>\n",
       "      <td>Shopping Centre</td>\n",
       "      <td>1537032</td>\n",
       "      <td>1301956</td>\n",
       "      <td>1220364</td>\n",
       "      <td>1057921</td>\n",
       "      <td>9</td>\n",
       "      <td>217</td>\n",
       "      <td>19</td>\n",
       "      <td>14</td>\n",
       "      <td>Good</td>\n",
       "    </tr>\n",
       "    <tr>\n",
       "      <th>9</th>\n",
       "      <td>Stanley</td>\n",
       "      <td>UK</td>\n",
       "      <td>4860</td>\n",
       "      <td>Grace</td>\n",
       "      <td>7</td>\n",
       "      <td>12071</td>\n",
       "      <td>105</td>\n",
       "      <td>Yes</td>\n",
       "      <td>19</td>\n",
       "      <td>High Street</td>\n",
       "      <td>1141000</td>\n",
       "      <td>1029186</td>\n",
       "      <td>1005096</td>\n",
       "      <td>1000687</td>\n",
       "      <td>6</td>\n",
       "      <td>222</td>\n",
       "      <td>16</td>\n",
       "      <td>18</td>\n",
       "      <td>Good</td>\n",
       "    </tr>\n",
       "    <tr>\n",
       "      <th>10</th>\n",
       "      <td>Shepshed</td>\n",
       "      <td>UK</td>\n",
       "      <td>7491</td>\n",
       "      <td>Franco</td>\n",
       "      <td>9</td>\n",
       "      <td>13487</td>\n",
       "      <td>108</td>\n",
       "      <td>Y</td>\n",
       "      <td>15</td>\n",
       "      <td>Retail Park</td>\n",
       "      <td>1066359</td>\n",
       "      <td>1032143</td>\n",
       "      <td>1012703</td>\n",
       "      <td>1001537</td>\n",
       "      <td>10</td>\n",
       "      <td>246</td>\n",
       "      <td>15</td>\n",
       "      <td>13</td>\n",
       "      <td>Good</td>\n",
       "    </tr>\n",
       "    <tr>\n",
       "      <th>11</th>\n",
       "      <td>Staines</td>\n",
       "      <td>UK</td>\n",
       "      <td>7566</td>\n",
       "      <td>Olivia</td>\n",
       "      <td>8</td>\n",
       "      <td>11071</td>\n",
       "      <td>102</td>\n",
       "      <td>No</td>\n",
       "      <td>12</td>\n",
       "      <td>Retail Park</td>\n",
       "      <td>1514670</td>\n",
       "      <td>1400857</td>\n",
       "      <td>1319646</td>\n",
       "      <td>1010879</td>\n",
       "      <td>11</td>\n",
       "      <td>202</td>\n",
       "      <td>15</td>\n",
       "      <td>10</td>\n",
       "      <td>Bad</td>\n",
       "    </tr>\n",
       "    <tr>\n",
       "      <th>12</th>\n",
       "      <td>Sutton</td>\n",
       "      <td>UK</td>\n",
       "      <td>8207</td>\n",
       "      <td>Olivia</td>\n",
       "      <td>8</td>\n",
       "      <td>18923</td>\n",
       "      <td>122</td>\n",
       "      <td>Yes</td>\n",
       "      <td>18</td>\n",
       "      <td>Shopping Centre</td>\n",
       "      <td>1270676</td>\n",
       "      <td>1175257</td>\n",
       "      <td>1032335</td>\n",
       "      <td>1020164</td>\n",
       "      <td>9</td>\n",
       "      <td>237</td>\n",
       "      <td>10</td>\n",
       "      <td>17</td>\n",
       "      <td>Good</td>\n",
       "    </tr>\n",
       "    <tr>\n",
       "      <th>13</th>\n",
       "      <td>Stafford</td>\n",
       "      <td>UK</td>\n",
       "      <td>9171</td>\n",
       "      <td>Emily</td>\n",
       "      <td>8</td>\n",
       "      <td>13827</td>\n",
       "      <td>109</td>\n",
       "      <td>Yes</td>\n",
       "      <td>12</td>\n",
       "      <td>Retail Park</td>\n",
       "      <td>1132725</td>\n",
       "      <td>1102537</td>\n",
       "      <td>1058262</td>\n",
       "      <td>1012348</td>\n",
       "      <td>7</td>\n",
       "      <td>242</td>\n",
       "      <td>19</td>\n",
       "      <td>13</td>\n",
       "      <td>Good</td>\n",
       "    </tr>\n",
       "    <tr>\n",
       "      <th>14</th>\n",
       "      <td>Sawbridgeworth</td>\n",
       "      <td>UK</td>\n",
       "      <td>11440</td>\n",
       "      <td>Matheus</td>\n",
       "      <td>5</td>\n",
       "      <td>14588</td>\n",
       "      <td>111</td>\n",
       "      <td>Yes</td>\n",
       "      <td>17</td>\n",
       "      <td>High Street</td>\n",
       "      <td>1242546</td>\n",
       "      <td>1053056</td>\n",
       "      <td>1047783</td>\n",
       "      <td>1007899</td>\n",
       "      <td>10</td>\n",
       "      <td>261</td>\n",
       "      <td>11</td>\n",
       "      <td>19</td>\n",
       "      <td>Bad</td>\n",
       "    </tr>\n",
       "  </tbody>\n",
       "</table>\n",
       "</div>"
      ],
      "text/plain": [
       "                             Town Country  Store ID Manager name  Staff  \\\n",
       "0    Swinton (Greater Manchester)      UK      1437        Roger      9   \n",
       "1                        Stamford      UK      1544         Ella      8   \n",
       "2                         Skipton      UK      2039    Valentina     -2   \n",
       "3                        Stratton      UK      2055      Antonia      7   \n",
       "4                      Shepperton      UK      2141      Gabriel      7   \n",
       "5                       Southwell      UK      2309        Sarah      7   \n",
       "6       Swinton (South Yorkshire)      UK      3800        James      8   \n",
       "7                  Sowerby Bridge      UK      4214       Ashley      9   \n",
       "8                       Sheffield      UK      4857    Guilherme      9   \n",
       "9                         Stanley      UK      4860        Grace      7   \n",
       "10                       Shepshed      UK      7491       Franco      9   \n",
       "11                        Staines      UK      7566       Olivia      8   \n",
       "12                         Sutton      UK      8207       Olivia      8   \n",
       "13                       Stafford      UK      9171        Emily      8   \n",
       "14                 Sawbridgeworth      UK     11440      Matheus      5   \n",
       "\n",
       "    Floor Space  Window Car park  Demographic score         Location  \\\n",
       "0         18526     121      Yes                 10      Retail Park   \n",
       "1         18569     121      Yes                 11  Shopping Centre   \n",
       "2         12288     105       No                 12      Retail Park   \n",
       "3         17092     117       No                 14      High Street   \n",
       "4         11307     103       No                 18      Retail Park   \n",
       "5         17888     119      Yes                 19      Retail Park   \n",
       "6         13814     109      Yes                 17      High Street   \n",
       "7         15643     114        Y                 11      Retail Park   \n",
       "8         13869     109      Yes                 12  Shopping Centre   \n",
       "9         12071     105      Yes                 19      High Street   \n",
       "10        13487     108        Y                 15      Retail Park   \n",
       "11        11071     102       No                 12      Retail Park   \n",
       "12        18923     122      Yes                 18  Shopping Centre   \n",
       "13        13827     109      Yes                 12      Retail Park   \n",
       "14        14588     111      Yes                 17      High Street   \n",
       "\n",
       "    40min population  30 min population  20 min population  10 min population  \\\n",
       "0            1288374            1138224            1006986            1002340   \n",
       "1            1086225            1015321            1012182            1008436   \n",
       "2            1595638            1281661            1104490            1011395   \n",
       "3            1179395            1022959            1009496            1002169   \n",
       "4            1398558            1085170            1003137            1002513   \n",
       "5            1614716            1325848            1220059            1193318   \n",
       "6            1323396            1047485            1000888            1000844   \n",
       "7            1052606            1025407            1004490            1000319   \n",
       "8            1537032            1301956            1220364            1057921   \n",
       "9            1141000            1029186            1005096            1000687   \n",
       "10           1066359            1032143            1012703            1001537   \n",
       "11           1514670            1400857            1319646            1010879   \n",
       "12           1270676            1175257            1032335            1020164   \n",
       "13           1132725            1102537            1058262            1012348   \n",
       "14           1242546            1053056            1047783            1007899   \n",
       "\n",
       "    Store age  Clearance space  Competition number  Competition score  \\\n",
       "0           3              238                  16                 16   \n",
       "1           4              384                  15                 19   \n",
       "2          11              219                  13                 18   \n",
       "3           5              261                  15                 12   \n",
       "4           7              200                  19                 13   \n",
       "5           2              394                  17                 11   \n",
       "6           5              228                  11                 14   \n",
       "7           4              258                  12                 16   \n",
       "8           9              217                  19                 14   \n",
       "9           6              222                  16                 18   \n",
       "10         10              246                  15                 13   \n",
       "11         11              202                  15                 10   \n",
       "12          9              237                  10                 17   \n",
       "13          7              242                  19                 13   \n",
       "14         10              261                  11                 19   \n",
       "\n",
       "   Performance  \n",
       "0         Good  \n",
       "1         Good  \n",
       "2          Bad  \n",
       "3          Bad  \n",
       "4          Bad  \n",
       "5         Good  \n",
       "6          Bad  \n",
       "7         Good  \n",
       "8         Good  \n",
       "9         Good  \n",
       "10        Good  \n",
       "11         Bad  \n",
       "12        Good  \n",
       "13        Good  \n",
       "14         Bad  "
      ]
     },
     "execution_count": 4,
     "metadata": {},
     "output_type": "execute_result"
    }
   ],
   "source": [
    "dataset.head(15)"
   ]
  },
  {
   "attachments": {},
   "cell_type": "markdown",
   "id": "edf0aa80",
   "metadata": {},
   "source": [
    "### Name of all columns in the dataset"
   ]
  },
  {
   "cell_type": "code",
   "execution_count": 5,
   "id": "5d224bc3",
   "metadata": {},
   "outputs": [
    {
     "data": {
      "text/plain": [
       "['Town',\n",
       " 'Country',\n",
       " 'Store ID',\n",
       " 'Manager name',\n",
       " 'Staff',\n",
       " 'Floor Space',\n",
       " 'Window',\n",
       " 'Car park',\n",
       " 'Demographic score',\n",
       " 'Location',\n",
       " '40min population',\n",
       " '30 min population',\n",
       " '20 min population',\n",
       " '10 min population',\n",
       " 'Store age',\n",
       " 'Clearance space',\n",
       " 'Competition number',\n",
       " 'Competition score',\n",
       " 'Performance']"
      ]
     },
     "execution_count": 5,
     "metadata": {},
     "output_type": "execute_result"
    }
   ],
   "source": [
    "list(dataset.columns)"
   ]
  },
  {
   "attachments": {},
   "cell_type": "markdown",
   "id": "f0660170",
   "metadata": {},
   "source": [
    "### Statistical Calculation of numerical columns\n"
   ]
  },
  {
   "cell_type": "code",
   "execution_count": 6,
   "id": "389b4b01",
   "metadata": {},
   "outputs": [
    {
     "data": {
      "text/html": [
       "<div>\n",
       "<style scoped>\n",
       "    .dataframe tbody tr th:only-of-type {\n",
       "        vertical-align: middle;\n",
       "    }\n",
       "\n",
       "    .dataframe tbody tr th {\n",
       "        vertical-align: top;\n",
       "    }\n",
       "\n",
       "    .dataframe thead th {\n",
       "        text-align: right;\n",
       "    }\n",
       "</style>\n",
       "<table border=\"1\" class=\"dataframe\">\n",
       "  <thead>\n",
       "    <tr style=\"text-align: right;\">\n",
       "      <th></th>\n",
       "      <th>Store ID</th>\n",
       "      <th>Staff</th>\n",
       "      <th>Floor Space</th>\n",
       "      <th>Window</th>\n",
       "      <th>Demographic score</th>\n",
       "      <th>40min population</th>\n",
       "      <th>30 min population</th>\n",
       "      <th>20 min population</th>\n",
       "      <th>10 min population</th>\n",
       "      <th>Store age</th>\n",
       "      <th>Clearance space</th>\n",
       "      <th>Competition number</th>\n",
       "      <th>Competition score</th>\n",
       "    </tr>\n",
       "  </thead>\n",
       "  <tbody>\n",
       "    <tr>\n",
       "      <th>count</th>\n",
       "      <td>136.000000</td>\n",
       "      <td>136.000000</td>\n",
       "      <td>136.000000</td>\n",
       "      <td>136.000000</td>\n",
       "      <td>136.000000</td>\n",
       "      <td>1.360000e+02</td>\n",
       "      <td>1.360000e+02</td>\n",
       "      <td>1.360000e+02</td>\n",
       "      <td>1.360000e+02</td>\n",
       "      <td>136.000000</td>\n",
       "      <td>136.000000</td>\n",
       "      <td>136.000000</td>\n",
       "      <td>136.000000</td>\n",
       "    </tr>\n",
       "    <tr>\n",
       "      <th>mean</th>\n",
       "      <td>52172.580882</td>\n",
       "      <td>13.352941</td>\n",
       "      <td>15024.095588</td>\n",
       "      <td>112.044118</td>\n",
       "      <td>14.463235</td>\n",
       "      <td>1.487374e+06</td>\n",
       "      <td>1.249870e+06</td>\n",
       "      <td>1.134533e+06</td>\n",
       "      <td>1.066118e+06</td>\n",
       "      <td>6.529412</td>\n",
       "      <td>262.426471</td>\n",
       "      <td>14.463235</td>\n",
       "      <td>14.808824</td>\n",
       "    </tr>\n",
       "    <tr>\n",
       "      <th>std</th>\n",
       "      <td>28725.990237</td>\n",
       "      <td>56.592439</td>\n",
       "      <td>2761.801921</td>\n",
       "      <td>6.884085</td>\n",
       "      <td>2.874944</td>\n",
       "      <td>2.804989e+05</td>\n",
       "      <td>2.160875e+05</td>\n",
       "      <td>1.490280e+05</td>\n",
       "      <td>8.884585e+04</td>\n",
       "      <td>2.815147</td>\n",
       "      <td>51.724288</td>\n",
       "      <td>2.895483</td>\n",
       "      <td>2.955258</td>\n",
       "    </tr>\n",
       "    <tr>\n",
       "      <th>min</th>\n",
       "      <td>1437.000000</td>\n",
       "      <td>-2.000000</td>\n",
       "      <td>10072.000000</td>\n",
       "      <td>100.000000</td>\n",
       "      <td>10.000000</td>\n",
       "      <td>1.030405e+06</td>\n",
       "      <td>1.000653e+06</td>\n",
       "      <td>1.000214e+06</td>\n",
       "      <td>1.000002e+06</td>\n",
       "      <td>2.000000</td>\n",
       "      <td>200.000000</td>\n",
       "      <td>10.000000</td>\n",
       "      <td>10.000000</td>\n",
       "    </tr>\n",
       "    <tr>\n",
       "      <th>25%</th>\n",
       "      <td>24707.250000</td>\n",
       "      <td>6.000000</td>\n",
       "      <td>12793.000000</td>\n",
       "      <td>106.750000</td>\n",
       "      <td>12.000000</td>\n",
       "      <td>1.254949e+06</td>\n",
       "      <td>1.057284e+06</td>\n",
       "      <td>1.012573e+06</td>\n",
       "      <td>1.005593e+06</td>\n",
       "      <td>4.000000</td>\n",
       "      <td>220.750000</td>\n",
       "      <td>12.000000</td>\n",
       "      <td>13.000000</td>\n",
       "    </tr>\n",
       "    <tr>\n",
       "      <th>50%</th>\n",
       "      <td>56011.500000</td>\n",
       "      <td>7.000000</td>\n",
       "      <td>14596.500000</td>\n",
       "      <td>111.000000</td>\n",
       "      <td>14.500000</td>\n",
       "      <td>1.516338e+06</td>\n",
       "      <td>1.214459e+06</td>\n",
       "      <td>1.077542e+06</td>\n",
       "      <td>1.033228e+06</td>\n",
       "      <td>6.000000</td>\n",
       "      <td>249.000000</td>\n",
       "      <td>15.000000</td>\n",
       "      <td>15.000000</td>\n",
       "    </tr>\n",
       "    <tr>\n",
       "      <th>75%</th>\n",
       "      <td>76870.500000</td>\n",
       "      <td>8.000000</td>\n",
       "      <td>17543.750000</td>\n",
       "      <td>118.000000</td>\n",
       "      <td>17.000000</td>\n",
       "      <td>1.696352e+06</td>\n",
       "      <td>1.396967e+06</td>\n",
       "      <td>1.203077e+06</td>\n",
       "      <td>1.090349e+06</td>\n",
       "      <td>9.000000</td>\n",
       "      <td>292.250000</td>\n",
       "      <td>17.000000</td>\n",
       "      <td>18.000000</td>\n",
       "    </tr>\n",
       "    <tr>\n",
       "      <th>max</th>\n",
       "      <td>99854.000000</td>\n",
       "      <td>600.000000</td>\n",
       "      <td>19869.000000</td>\n",
       "      <td>124.000000</td>\n",
       "      <td>19.000000</td>\n",
       "      <td>1.997044e+06</td>\n",
       "      <td>1.929089e+06</td>\n",
       "      <td>1.723395e+06</td>\n",
       "      <td>1.426533e+06</td>\n",
       "      <td>11.000000</td>\n",
       "      <td>408.000000</td>\n",
       "      <td>19.000000</td>\n",
       "      <td>19.000000</td>\n",
       "    </tr>\n",
       "  </tbody>\n",
       "</table>\n",
       "</div>"
      ],
      "text/plain": [
       "           Store ID       Staff   Floor Space      Window  Demographic score  \\\n",
       "count    136.000000  136.000000    136.000000  136.000000         136.000000   \n",
       "mean   52172.580882   13.352941  15024.095588  112.044118          14.463235   \n",
       "std    28725.990237   56.592439   2761.801921    6.884085           2.874944   \n",
       "min     1437.000000   -2.000000  10072.000000  100.000000          10.000000   \n",
       "25%    24707.250000    6.000000  12793.000000  106.750000          12.000000   \n",
       "50%    56011.500000    7.000000  14596.500000  111.000000          14.500000   \n",
       "75%    76870.500000    8.000000  17543.750000  118.000000          17.000000   \n",
       "max    99854.000000  600.000000  19869.000000  124.000000          19.000000   \n",
       "\n",
       "       40min population  30 min population  20 min population  \\\n",
       "count      1.360000e+02       1.360000e+02       1.360000e+02   \n",
       "mean       1.487374e+06       1.249870e+06       1.134533e+06   \n",
       "std        2.804989e+05       2.160875e+05       1.490280e+05   \n",
       "min        1.030405e+06       1.000653e+06       1.000214e+06   \n",
       "25%        1.254949e+06       1.057284e+06       1.012573e+06   \n",
       "50%        1.516338e+06       1.214459e+06       1.077542e+06   \n",
       "75%        1.696352e+06       1.396967e+06       1.203077e+06   \n",
       "max        1.997044e+06       1.929089e+06       1.723395e+06   \n",
       "\n",
       "       10 min population   Store age  Clearance space  Competition number  \\\n",
       "count       1.360000e+02  136.000000       136.000000          136.000000   \n",
       "mean        1.066118e+06    6.529412       262.426471           14.463235   \n",
       "std         8.884585e+04    2.815147        51.724288            2.895483   \n",
       "min         1.000002e+06    2.000000       200.000000           10.000000   \n",
       "25%         1.005593e+06    4.000000       220.750000           12.000000   \n",
       "50%         1.033228e+06    6.000000       249.000000           15.000000   \n",
       "75%         1.090349e+06    9.000000       292.250000           17.000000   \n",
       "max         1.426533e+06   11.000000       408.000000           19.000000   \n",
       "\n",
       "       Competition score  \n",
       "count         136.000000  \n",
       "mean           14.808824  \n",
       "std             2.955258  \n",
       "min            10.000000  \n",
       "25%            13.000000  \n",
       "50%            15.000000  \n",
       "75%            18.000000  \n",
       "max            19.000000  "
      ]
     },
     "execution_count": 6,
     "metadata": {},
     "output_type": "execute_result"
    }
   ],
   "source": [
    "dataset.describe()"
   ]
  },
  {
   "attachments": {},
   "cell_type": "markdown",
   "id": "ceb2659f",
   "metadata": {},
   "source": [
    "## Exploratory data analysis"
   ]
  },
  {
   "attachments": {},
   "cell_type": "markdown",
   "id": "9995433a",
   "metadata": {},
   "source": [
    "### Total number of rows and columns in dataset"
   ]
  },
  {
   "cell_type": "code",
   "execution_count": 7,
   "id": "2897dbb1",
   "metadata": {},
   "outputs": [
    {
     "name": "stdout",
     "output_type": "stream",
     "text": [
      "Number of rows in dataset 136\n",
      "Number of columns in dataset 19\n"
     ]
    }
   ],
   "source": [
    "print('Number of rows in dataset',dataset.shape[0])\n",
    "print('Number of columns in dataset',dataset.shape[1])"
   ]
  },
  {
   "attachments": {},
   "cell_type": "markdown",
   "id": "8b17d80a",
   "metadata": {},
   "source": [
    "### Number of unique values of \" Stores \" from the dataset\n"
   ]
  },
  {
   "cell_type": "code",
   "execution_count": 8,
   "id": "20a0136c",
   "metadata": {},
   "outputs": [
    {
     "data": {
      "text/plain": [
       "(136,)"
      ]
     },
     "execution_count": 8,
     "metadata": {},
     "output_type": "execute_result"
    }
   ],
   "source": [
    "dataset[\"Store ID\"].unique().shape"
   ]
  },
  {
   "attachments": {},
   "cell_type": "markdown",
   "id": "1836de65",
   "metadata": {},
   "source": [
    "### Number of unique values of \" Town \" from the dataset\n"
   ]
  },
  {
   "cell_type": "code",
   "execution_count": 9,
   "id": "3733a953",
   "metadata": {},
   "outputs": [
    {
     "data": {
      "text/plain": [
       "(136,)"
      ]
     },
     "execution_count": 9,
     "metadata": {},
     "output_type": "execute_result"
    }
   ],
   "source": [
    "dataset[\"Town\"].unique().shape"
   ]
  },
  {
   "attachments": {},
   "cell_type": "markdown",
   "id": "1174a39d",
   "metadata": {},
   "source": [
    "### Number of unique values of \" Manager name \" from the dataset ???"
   ]
  },
  {
   "cell_type": "code",
   "execution_count": 10,
   "id": "4b847ea3",
   "metadata": {},
   "outputs": [
    {
     "data": {
      "text/plain": [
       "(118,)"
      ]
     },
     "execution_count": 10,
     "metadata": {},
     "output_type": "execute_result"
    }
   ],
   "source": [
    "dataset[\"Manager name\"].unique().shape"
   ]
  },
  {
   "attachments": {},
   "cell_type": "markdown",
   "id": "c5c89a5c",
   "metadata": {},
   "source": [
    "### All unique values in the \" Location \" column and count of their values"
   ]
  },
  {
   "cell_type": "code",
   "execution_count": 11,
   "id": "ae8f9d52",
   "metadata": {},
   "outputs": [
    {
     "name": "stdout",
     "output_type": "stream",
     "text": [
      "Unique values from location column are ['Retail Park' 'Shopping Centre' 'High Street' 'Village']\n"
     ]
    },
    {
     "data": {
      "text/plain": [
       "Shopping Centre    52\n",
       "Retail Park        43\n",
       "High Street        40\n",
       "Village             1\n",
       "Name: Location, dtype: int64"
      ]
     },
     "execution_count": 11,
     "metadata": {},
     "output_type": "execute_result"
    }
   ],
   "source": [
    "print('Unique values from location column are', dataset[\"Location\"].unique())\n",
    "dataset[\"Location\"].value_counts()"
   ]
  },
  {
   "attachments": {},
   "cell_type": "markdown",
   "id": "7dd06033",
   "metadata": {},
   "source": [
    "### All unique values in the \" Car park \" column and count of their values"
   ]
  },
  {
   "cell_type": "code",
   "execution_count": 12,
   "id": "0fc691b1",
   "metadata": {},
   "outputs": [
    {
     "name": "stdout",
     "output_type": "stream",
     "text": [
      "Unique values from Car park column are ['Yes' 'No' 'Y' 'N']\n"
     ]
    },
    {
     "data": {
      "text/plain": [
       "Yes    94\n",
       "No     35\n",
       "Y       4\n",
       "N       3\n",
       "Name: Car park, dtype: int64"
      ]
     },
     "execution_count": 12,
     "metadata": {},
     "output_type": "execute_result"
    }
   ],
   "source": [
    "print('Unique values from Car park column are', dataset[\"Car park\"].unique())\n",
    "dataset[\"Car park\"].value_counts()"
   ]
  },
  {
   "attachments": {},
   "cell_type": "markdown",
   "id": "17f81370",
   "metadata": {},
   "source": [
    "### All unique values in the \" Country \" column and count of their values"
   ]
  },
  {
   "cell_type": "code",
   "execution_count": 13,
   "id": "6bf37e4f",
   "metadata": {},
   "outputs": [
    {
     "name": "stdout",
     "output_type": "stream",
     "text": [
      "Unique values from Country column are ['UK' 'France']\n"
     ]
    },
    {
     "data": {
      "text/plain": [
       "UK        134\n",
       "France      2\n",
       "Name: Country, dtype: int64"
      ]
     },
     "execution_count": 13,
     "metadata": {},
     "output_type": "execute_result"
    }
   ],
   "source": [
    "print('Unique values from Country column are', dataset[\"Country\"].unique())\n",
    "dataset[\"Country\"].value_counts()"
   ]
  },
  {
   "attachments": {},
   "cell_type": "markdown",
   "id": "9880e4fd",
   "metadata": {},
   "source": [
    "### All unique values in the \" Performance \" column and count of their values"
   ]
  },
  {
   "cell_type": "code",
   "execution_count": 14,
   "id": "b3e20838",
   "metadata": {},
   "outputs": [
    {
     "name": "stdout",
     "output_type": "stream",
     "text": [
      "Unique values from Performance column are ['Good' 'Bad']\n"
     ]
    },
    {
     "data": {
      "text/plain": [
       "Good    69\n",
       "Bad     67\n",
       "Name: Performance, dtype: int64"
      ]
     },
     "execution_count": 14,
     "metadata": {},
     "output_type": "execute_result"
    }
   ],
   "source": [
    "print('Unique values from Performance column are', dataset[\"Performance\"].unique())\n",
    "dataset[\"Performance\"].value_counts()"
   ]
  },
  {
   "attachments": {},
   "cell_type": "markdown",
   "id": "b86e81ca",
   "metadata": {},
   "source": [
    "### All unique values in the \" Staff \" column and count of their values"
   ]
  },
  {
   "cell_type": "code",
   "execution_count": 15,
   "id": "d4678832",
   "metadata": {},
   "outputs": [
    {
     "name": "stdout",
     "output_type": "stream",
     "text": [
      "Unique values from Staff column are [  9   8  -2   7   5   6 300 600]\n"
     ]
    },
    {
     "data": {
      "text/plain": [
       " 7      29\n",
       " 5      29\n",
       " 6      29\n",
       " 9      28\n",
       " 8      18\n",
       "-2       1\n",
       " 300     1\n",
       " 600     1\n",
       "Name: Staff, dtype: int64"
      ]
     },
     "execution_count": 15,
     "metadata": {},
     "output_type": "execute_result"
    }
   ],
   "source": [
    "print('Unique values from Staff column are', dataset[\"Staff\"].unique())\n",
    "dataset[\"Staff\"].value_counts()"
   ]
  },
  {
   "attachments": {},
   "cell_type": "markdown",
   "id": "a7315de1",
   "metadata": {},
   "source": [
    "### Extracting minimum and maximum age of Store "
   ]
  },
  {
   "cell_type": "code",
   "execution_count": 16,
   "id": "af4e2ddd",
   "metadata": {},
   "outputs": [
    {
     "name": "stdout",
     "output_type": "stream",
     "text": [
      "Minimum age of Store in this dataset is 2\n"
     ]
    }
   ],
   "source": [
    "print('Minimum age of Store in this dataset is', min(dataset[\"Store age\"]))"
   ]
  },
  {
   "cell_type": "code",
   "execution_count": 17,
   "id": "65aeccd7",
   "metadata": {},
   "outputs": [
    {
     "name": "stdout",
     "output_type": "stream",
     "text": [
      "Maximum age of Store in this dataset is 11\n"
     ]
    }
   ],
   "source": [
    "print('Maximum age of Store in this dataset is', max(dataset[\"Store age\"]))"
   ]
  },
  {
   "attachments": {},
   "cell_type": "markdown",
   "id": "477ab605",
   "metadata": {},
   "source": [
    "### Checking all the columns with NANs"
   ]
  },
  {
   "cell_type": "code",
   "execution_count": 18,
   "id": "3a728883",
   "metadata": {},
   "outputs": [],
   "source": [
    "for column in dataset.columns:\n",
    "    if (dataset[column].isnull().values.any()):\n",
    "        print(f\"'{column}' columns contains NAN as value. These rows should be updated in data cleaning.\")\n",
    "    "
   ]
  },
  {
   "attachments": {},
   "cell_type": "markdown",
   "id": "d430f203",
   "metadata": {},
   "source": [
    "the dataset doesn't contain NAN values"
   ]
  },
  {
   "attachments": {},
   "cell_type": "markdown",
   "id": "1c918d2d",
   "metadata": {},
   "source": [
    "## Step 3 - Data Insights Discovered so far"
   ]
  },
  {
   "attachments": {},
   "cell_type": "markdown",
   "id": "ba6fd32b",
   "metadata": {},
   "source": [
    "<p>Data insights</p>\n",
    "<ul>\n",
    "    <li>The dataset contains 136 rows</li>\n",
    "    <li>There are 2 different values for Car park:\n",
    "        <ul>\n",
    "            <li>Y/Yes</li>\n",
    "            <li>N/No</li>\n",
    "        </ul>\n",
    "    </li>\n",
    "    <li>There are 4 different values for Location:\n",
    "        <ul>\n",
    "            <li>Retail Park</li>\n",
    "            <li>Shopping Centre</li>\n",
    "            <li>High Street</li>\n",
    "            <li>Village</li>\n",
    "        </ul>\n",
    "    </li>\n",
    "    <li>There are 2 different values for Country:\n",
    "        <ul>\n",
    "            <li>France</li>\n",
    "            <li>UK</li>\n",
    "        </ul>\n",
    "    </li>\n",
    "    <li>There are 2 different values for Performance:\n",
    "        <ul>\n",
    "            <li>Bad</li>\n",
    "            <li>Good</li>\n",
    "        </ul>\n",
    "    </li>\n",
    "    <li>Store ages are between minimum 2 and maximum 11</li>\n",
    "</ul>\n",
    "<p>The following columns are updated after feature engineering and cleaning:</p>\n",
    "<ul>\n",
    "    <li>Town: removing this column because it contains all unique values</li>\n",
    "    <li>Store ID: removing this column because it contains most of the  unique values</li>\n",
    "    <li>Manager name: removing this column because it contains all unique values and will affect model performance</li>\n",
    "    <li>Country: Doesn’t contain NAN value and string value should be replaced by integer value</li>\n",
    "    <li>Staff: Doesn’t contain NAN value but contain outlier which are removed because they will affect model performance</li>\n",
    "    <li>Floor Space: Doesn’t contain NAN value</li>\n",
    "    <li>Window: Doesn’t contain NAN value</li>\n",
    "    <li>Car park: Doesn’t contain NAN value and string value should be replaced by integer value</li>\n",
    "    <li>Demographic score: Doesn’t contain NAN value</li>\n",
    "    <li>Location: Doesn’t contain NAN value and string value should be replaced by integer value</li>\n",
    "    <li>40min population: Doesn’t contain NAN value</li>\n",
    "    <li>30 min population: Doesn’t contain NAN value</li>\n",
    "    <li>20 min population: Doesn’t contain NAN value</li>\n",
    "    <li>10 min population: Doesn’t contain NAN value</li>\n",
    "    <li>Store age: Doesn’t contain NAN value</li>\n",
    "    <li>Clearance space: Doesn’t contain NAN value</li>\n",
    "    <li>Competition number: Doesn’t contain NAN value</li>\n",
    "    <li>Competition score: Doesn’t contain NAN value</li>\n",
    "    <li>Performance: Doesn’t contain NAN value and string value should be replaced by integer value</li>\n",
    "</ul>"
   ]
  },
  {
   "attachments": {},
   "cell_type": "markdown",
   "id": "ef47d84b",
   "metadata": {},
   "source": [
    "## Step 4 - Data Cleaning & Feature Engineering\n",
    "In this step all the recommendations from previous step are implemented"
   ]
  },
  {
   "attachments": {},
   "cell_type": "markdown",
   "id": "2f83f264",
   "metadata": {},
   "source": [
    "### Total Columns in dataset"
   ]
  },
  {
   "cell_type": "code",
   "execution_count": 19,
   "id": "0dded7b1",
   "metadata": {},
   "outputs": [
    {
     "data": {
      "text/plain": [
       "['Town',\n",
       " 'Country',\n",
       " 'Store ID',\n",
       " 'Manager name',\n",
       " 'Staff',\n",
       " 'Floor Space',\n",
       " 'Window',\n",
       " 'Car park',\n",
       " 'Demographic score',\n",
       " 'Location',\n",
       " '40min population',\n",
       " '30 min population',\n",
       " '20 min population',\n",
       " '10 min population',\n",
       " 'Store age',\n",
       " 'Clearance space',\n",
       " 'Competition number',\n",
       " 'Competition score',\n",
       " 'Performance']"
      ]
     },
     "execution_count": 19,
     "metadata": {},
     "output_type": "execute_result"
    }
   ],
   "source": [
    "list(dataset.columns)"
   ]
  },
  {
   "attachments": {},
   "cell_type": "markdown",
   "id": "b59e775a",
   "metadata": {},
   "source": [
    "### Check numeric and non-numeric columns"
   ]
  },
  {
   "cell_type": "code",
   "execution_count": 20,
   "id": "6a838dec",
   "metadata": {},
   "outputs": [
    {
     "name": "stdout",
     "output_type": "stream",
     "text": [
      "Numeric columns: ['Store ID', 'Staff', 'Floor Space', 'Window', 'Demographic score', '40min population', '30 min population', '20 min population', '10 min population', 'Store age', 'Clearance space', 'Competition number', 'Competition score']\n",
      "Non-numeric columns: ['Town', 'Country', 'Manager name', 'Car park', 'Location', 'Performance']\n"
     ]
    }
   ],
   "source": [
    "# Check which columns are numeric\n",
    "numeric_cols = dataset.select_dtypes(include=['int64', 'float64']).columns.tolist()\n",
    "print(\"Numeric columns:\", numeric_cols)\n",
    "\n",
    "# Check which columns are non-numeric\n",
    "non_numeric_cols = dataset.select_dtypes(exclude=['int64', 'float64']).columns.tolist()\n",
    "print(\"Non-numeric columns:\", non_numeric_cols)"
   ]
  },
  {
   "attachments": {},
   "cell_type": "markdown",
   "id": "b52bb039",
   "metadata": {},
   "source": [
    "### Removing \" Town \" , \" Manager name \", and \" Store ID \" columns as they have all unique values and will leads to bad model performance"
   ]
  },
  {
   "cell_type": "code",
   "execution_count": 21,
   "id": "5b7afffd",
   "metadata": {},
   "outputs": [
    {
     "data": {
      "text/html": [
       "<div>\n",
       "<style scoped>\n",
       "    .dataframe tbody tr th:only-of-type {\n",
       "        vertical-align: middle;\n",
       "    }\n",
       "\n",
       "    .dataframe tbody tr th {\n",
       "        vertical-align: top;\n",
       "    }\n",
       "\n",
       "    .dataframe thead th {\n",
       "        text-align: right;\n",
       "    }\n",
       "</style>\n",
       "<table border=\"1\" class=\"dataframe\">\n",
       "  <thead>\n",
       "    <tr style=\"text-align: right;\">\n",
       "      <th></th>\n",
       "      <th>Country</th>\n",
       "      <th>Staff</th>\n",
       "      <th>Floor Space</th>\n",
       "      <th>Window</th>\n",
       "      <th>Car park</th>\n",
       "      <th>Demographic score</th>\n",
       "      <th>Location</th>\n",
       "      <th>40min population</th>\n",
       "      <th>30 min population</th>\n",
       "      <th>20 min population</th>\n",
       "      <th>10 min population</th>\n",
       "      <th>Store age</th>\n",
       "      <th>Clearance space</th>\n",
       "      <th>Competition number</th>\n",
       "      <th>Competition score</th>\n",
       "      <th>Performance</th>\n",
       "    </tr>\n",
       "  </thead>\n",
       "  <tbody>\n",
       "    <tr>\n",
       "      <th>0</th>\n",
       "      <td>UK</td>\n",
       "      <td>9</td>\n",
       "      <td>18526</td>\n",
       "      <td>121</td>\n",
       "      <td>Yes</td>\n",
       "      <td>10</td>\n",
       "      <td>Retail Park</td>\n",
       "      <td>1288374</td>\n",
       "      <td>1138224</td>\n",
       "      <td>1006986</td>\n",
       "      <td>1002340</td>\n",
       "      <td>3</td>\n",
       "      <td>238</td>\n",
       "      <td>16</td>\n",
       "      <td>16</td>\n",
       "      <td>Good</td>\n",
       "    </tr>\n",
       "    <tr>\n",
       "      <th>1</th>\n",
       "      <td>UK</td>\n",
       "      <td>8</td>\n",
       "      <td>18569</td>\n",
       "      <td>121</td>\n",
       "      <td>Yes</td>\n",
       "      <td>11</td>\n",
       "      <td>Shopping Centre</td>\n",
       "      <td>1086225</td>\n",
       "      <td>1015321</td>\n",
       "      <td>1012182</td>\n",
       "      <td>1008436</td>\n",
       "      <td>4</td>\n",
       "      <td>384</td>\n",
       "      <td>15</td>\n",
       "      <td>19</td>\n",
       "      <td>Good</td>\n",
       "    </tr>\n",
       "    <tr>\n",
       "      <th>2</th>\n",
       "      <td>UK</td>\n",
       "      <td>-2</td>\n",
       "      <td>12288</td>\n",
       "      <td>105</td>\n",
       "      <td>No</td>\n",
       "      <td>12</td>\n",
       "      <td>Retail Park</td>\n",
       "      <td>1595638</td>\n",
       "      <td>1281661</td>\n",
       "      <td>1104490</td>\n",
       "      <td>1011395</td>\n",
       "      <td>11</td>\n",
       "      <td>219</td>\n",
       "      <td>13</td>\n",
       "      <td>18</td>\n",
       "      <td>Bad</td>\n",
       "    </tr>\n",
       "    <tr>\n",
       "      <th>3</th>\n",
       "      <td>UK</td>\n",
       "      <td>7</td>\n",
       "      <td>17092</td>\n",
       "      <td>117</td>\n",
       "      <td>No</td>\n",
       "      <td>14</td>\n",
       "      <td>High Street</td>\n",
       "      <td>1179395</td>\n",
       "      <td>1022959</td>\n",
       "      <td>1009496</td>\n",
       "      <td>1002169</td>\n",
       "      <td>5</td>\n",
       "      <td>261</td>\n",
       "      <td>15</td>\n",
       "      <td>12</td>\n",
       "      <td>Bad</td>\n",
       "    </tr>\n",
       "    <tr>\n",
       "      <th>4</th>\n",
       "      <td>UK</td>\n",
       "      <td>7</td>\n",
       "      <td>11307</td>\n",
       "      <td>103</td>\n",
       "      <td>No</td>\n",
       "      <td>18</td>\n",
       "      <td>Retail Park</td>\n",
       "      <td>1398558</td>\n",
       "      <td>1085170</td>\n",
       "      <td>1003137</td>\n",
       "      <td>1002513</td>\n",
       "      <td>7</td>\n",
       "      <td>200</td>\n",
       "      <td>19</td>\n",
       "      <td>13</td>\n",
       "      <td>Bad</td>\n",
       "    </tr>\n",
       "  </tbody>\n",
       "</table>\n",
       "</div>"
      ],
      "text/plain": [
       "  Country  Staff  Floor Space  Window Car park  Demographic score  \\\n",
       "0      UK      9        18526     121      Yes                 10   \n",
       "1      UK      8        18569     121      Yes                 11   \n",
       "2      UK     -2        12288     105       No                 12   \n",
       "3      UK      7        17092     117       No                 14   \n",
       "4      UK      7        11307     103       No                 18   \n",
       "\n",
       "          Location  40min population  30 min population  20 min population  \\\n",
       "0      Retail Park           1288374            1138224            1006986   \n",
       "1  Shopping Centre           1086225            1015321            1012182   \n",
       "2      Retail Park           1595638            1281661            1104490   \n",
       "3      High Street           1179395            1022959            1009496   \n",
       "4      Retail Park           1398558            1085170            1003137   \n",
       "\n",
       "   10 min population  Store age  Clearance space  Competition number  \\\n",
       "0            1002340          3              238                  16   \n",
       "1            1008436          4              384                  15   \n",
       "2            1011395         11              219                  13   \n",
       "3            1002169          5              261                  15   \n",
       "4            1002513          7              200                  19   \n",
       "\n",
       "   Competition score Performance  \n",
       "0                 16        Good  \n",
       "1                 19        Good  \n",
       "2                 18         Bad  \n",
       "3                 12         Bad  \n",
       "4                 13         Bad  "
      ]
     },
     "execution_count": 21,
     "metadata": {},
     "output_type": "execute_result"
    }
   ],
   "source": [
    "dataset = dataset.drop([\"Town\", \"Store ID\", \"Manager name\"], axis=1)\n",
    "dataset.head()"
   ]
  },
  {
   "attachments": {},
   "cell_type": "markdown",
   "id": "ef8c68f3",
   "metadata": {},
   "source": [
    "### Replacing String valued columns(Car park, Country, Location, Performance) with integar values"
   ]
  },
  {
   "cell_type": "code",
   "execution_count": 22,
   "id": "2b5837e2",
   "metadata": {},
   "outputs": [
    {
     "data": {
      "text/html": [
       "<div>\n",
       "<style scoped>\n",
       "    .dataframe tbody tr th:only-of-type {\n",
       "        vertical-align: middle;\n",
       "    }\n",
       "\n",
       "    .dataframe tbody tr th {\n",
       "        vertical-align: top;\n",
       "    }\n",
       "\n",
       "    .dataframe thead th {\n",
       "        text-align: right;\n",
       "    }\n",
       "</style>\n",
       "<table border=\"1\" class=\"dataframe\">\n",
       "  <thead>\n",
       "    <tr style=\"text-align: right;\">\n",
       "      <th></th>\n",
       "      <th>Country</th>\n",
       "      <th>Staff</th>\n",
       "      <th>Floor Space</th>\n",
       "      <th>Window</th>\n",
       "      <th>Car park</th>\n",
       "      <th>Demographic score</th>\n",
       "      <th>Location</th>\n",
       "      <th>40min population</th>\n",
       "      <th>30 min population</th>\n",
       "      <th>20 min population</th>\n",
       "      <th>10 min population</th>\n",
       "      <th>Store age</th>\n",
       "      <th>Clearance space</th>\n",
       "      <th>Competition number</th>\n",
       "      <th>Competition score</th>\n",
       "      <th>Performance</th>\n",
       "    </tr>\n",
       "  </thead>\n",
       "  <tbody>\n",
       "    <tr>\n",
       "      <th>0</th>\n",
       "      <td>0</td>\n",
       "      <td>9</td>\n",
       "      <td>18526</td>\n",
       "      <td>121</td>\n",
       "      <td>1</td>\n",
       "      <td>10</td>\n",
       "      <td>2</td>\n",
       "      <td>1288374</td>\n",
       "      <td>1138224</td>\n",
       "      <td>1006986</td>\n",
       "      <td>1002340</td>\n",
       "      <td>3</td>\n",
       "      <td>238</td>\n",
       "      <td>16</td>\n",
       "      <td>16</td>\n",
       "      <td>1</td>\n",
       "    </tr>\n",
       "    <tr>\n",
       "      <th>1</th>\n",
       "      <td>0</td>\n",
       "      <td>8</td>\n",
       "      <td>18569</td>\n",
       "      <td>121</td>\n",
       "      <td>1</td>\n",
       "      <td>11</td>\n",
       "      <td>3</td>\n",
       "      <td>1086225</td>\n",
       "      <td>1015321</td>\n",
       "      <td>1012182</td>\n",
       "      <td>1008436</td>\n",
       "      <td>4</td>\n",
       "      <td>384</td>\n",
       "      <td>15</td>\n",
       "      <td>19</td>\n",
       "      <td>1</td>\n",
       "    </tr>\n",
       "    <tr>\n",
       "      <th>2</th>\n",
       "      <td>0</td>\n",
       "      <td>-2</td>\n",
       "      <td>12288</td>\n",
       "      <td>105</td>\n",
       "      <td>0</td>\n",
       "      <td>12</td>\n",
       "      <td>2</td>\n",
       "      <td>1595638</td>\n",
       "      <td>1281661</td>\n",
       "      <td>1104490</td>\n",
       "      <td>1011395</td>\n",
       "      <td>11</td>\n",
       "      <td>219</td>\n",
       "      <td>13</td>\n",
       "      <td>18</td>\n",
       "      <td>0</td>\n",
       "    </tr>\n",
       "    <tr>\n",
       "      <th>3</th>\n",
       "      <td>0</td>\n",
       "      <td>7</td>\n",
       "      <td>17092</td>\n",
       "      <td>117</td>\n",
       "      <td>0</td>\n",
       "      <td>14</td>\n",
       "      <td>1</td>\n",
       "      <td>1179395</td>\n",
       "      <td>1022959</td>\n",
       "      <td>1009496</td>\n",
       "      <td>1002169</td>\n",
       "      <td>5</td>\n",
       "      <td>261</td>\n",
       "      <td>15</td>\n",
       "      <td>12</td>\n",
       "      <td>0</td>\n",
       "    </tr>\n",
       "    <tr>\n",
       "      <th>4</th>\n",
       "      <td>0</td>\n",
       "      <td>7</td>\n",
       "      <td>11307</td>\n",
       "      <td>103</td>\n",
       "      <td>0</td>\n",
       "      <td>18</td>\n",
       "      <td>2</td>\n",
       "      <td>1398558</td>\n",
       "      <td>1085170</td>\n",
       "      <td>1003137</td>\n",
       "      <td>1002513</td>\n",
       "      <td>7</td>\n",
       "      <td>200</td>\n",
       "      <td>19</td>\n",
       "      <td>13</td>\n",
       "      <td>0</td>\n",
       "    </tr>\n",
       "  </tbody>\n",
       "</table>\n",
       "</div>"
      ],
      "text/plain": [
       "   Country  Staff  Floor Space  Window  Car park  Demographic score  Location  \\\n",
       "0        0      9        18526     121         1                 10         2   \n",
       "1        0      8        18569     121         1                 11         3   \n",
       "2        0     -2        12288     105         0                 12         2   \n",
       "3        0      7        17092     117         0                 14         1   \n",
       "4        0      7        11307     103         0                 18         2   \n",
       "\n",
       "   40min population  30 min population  20 min population  10 min population  \\\n",
       "0           1288374            1138224            1006986            1002340   \n",
       "1           1086225            1015321            1012182            1008436   \n",
       "2           1595638            1281661            1104490            1011395   \n",
       "3           1179395            1022959            1009496            1002169   \n",
       "4           1398558            1085170            1003137            1002513   \n",
       "\n",
       "   Store age  Clearance space  Competition number  Competition score  \\\n",
       "0          3              238                  16                 16   \n",
       "1          4              384                  15                 19   \n",
       "2         11              219                  13                 18   \n",
       "3          5              261                  15                 12   \n",
       "4          7              200                  19                 13   \n",
       "\n",
       "   Performance  \n",
       "0            1  \n",
       "1            1  \n",
       "2            0  \n",
       "3            0  \n",
       "4            0  "
      ]
     },
     "execution_count": 22,
     "metadata": {},
     "output_type": "execute_result"
    }
   ],
   "source": [
    "dataset['Car park'] = dataset['Car park'].replace({'Yes': 1, 'No': 0, 'Y':1, 'N':0})\n",
    "dataset['Country'] = dataset['Country'].replace({'UK': 0, 'France':1})\n",
    "dataset['Location'] = dataset['Location'].replace({'Village': 0, 'High Street':1,'Retail Park':2,'Shopping Centre':3})\n",
    "dataset['Performance'] = dataset['Performance'].replace({'Good': 1, 'Bad':0})\n",
    "dataset.head()"
   ]
  },
  {
   "attachments": {},
   "cell_type": "markdown",
   "id": "6f6b452f",
   "metadata": {},
   "source": [
    "### Cleaning Staff column data"
   ]
  },
  {
   "attachments": {},
   "cell_type": "markdown",
   "id": "ba8499c0",
   "metadata": {},
   "source": [
    "#### Detecting outliers through box plot"
   ]
  },
  {
   "cell_type": "code",
   "execution_count": 23,
   "id": "c9748d1d",
   "metadata": {},
   "outputs": [
    {
     "data": {
      "image/png": "[encoded data removed]",
      "text/plain": [
       "<Figure size 500x200 with 1 Axes>"
      ]
     },
     "metadata": {},
     "output_type": "display_data"
    }
   ],
   "source": [
    "plt.figure(figsize=(5,2))\n",
    "sns.boxplot(x =dataset[\"Staff\"])\n",
    "plt.tight_layout()\n",
    "plt.show()"
   ]
  },
  {
   "attachments": {},
   "cell_type": "markdown",
   "id": "c7e9e988",
   "metadata": {},
   "source": [
    "we can see the three outliers -2, 300, and 600 are easily visible through box plot"
   ]
  },
  {
   "attachments": {},
   "cell_type": "markdown",
   "id": "ffa92adf",
   "metadata": {},
   "source": [
    "## For clear view displaying Staff column with histogram and frequency distribution graph"
   ]
  },
  {
   "attachments": {},
   "cell_type": "markdown",
   "id": "fdf15cf7",
   "metadata": {},
   "source": [
    "### Staff data before cleaning"
   ]
  },
  {
   "cell_type": "code",
   "execution_count": 24,
   "id": "c97ebc8b",
   "metadata": {},
   "outputs": [
    {
     "data": {
      "text/plain": [
       "<AxesSubplot: >"
      ]
     },
     "execution_count": 24,
     "metadata": {},
     "output_type": "execute_result"
    },
    {
     "data": {
      "image/png": "[encoded data removed]",
      "text/plain": [
       "<Figure size 640x480 with 1 Axes>"
      ]
     },
     "metadata": {},
     "output_type": "display_data"
    }
   ],
   "source": [
    "dataset[\"Staff\"].hist(bins=20)"
   ]
  },
  {
   "attachments": {},
   "cell_type": "markdown",
   "id": "0436c8ef",
   "metadata": {},
   "source": [
    "### Saving image of histogram"
   ]
  },
  {
   "cell_type": "code",
   "execution_count": 25,
   "id": "3083fed9",
   "metadata": {},
   "outputs": [
    {
     "data": {
      "image/png": "[encoded data removed]",
      "text/plain": [
       "<Figure size 640x480 with 1 Axes>"
      ]
     },
     "metadata": {},
     "output_type": "display_data"
    }
   ],
   "source": [
    "dataset[\"Staff\"]\n",
    "fig, ax = plt.subplots()\n",
    "dataset.hist('Staff', ax=ax, )\n",
    "plt.title('Staff Column Before cleaning')\n",
    "fig.savefig('1.png')"
   ]
  },
  {
   "cell_type": "code",
   "execution_count": 26,
   "id": "ea880e16",
   "metadata": {},
   "outputs": [
    {
     "data": {
      "image/png": "[encoded data removed]",
      "text/plain": [
       "<Figure size 800x300 with 1 Axes>"
      ]
     },
     "metadata": {},
     "output_type": "display_data"
    }
   ],
   "source": [
    "plt.figure(figsize=(8, 3))\n",
    "\n",
    "plt.title(\"Frequency distribution of Staff\")\n",
    "sns.kdeplot(dataset['Staff'], shade=True)\n",
    "\n",
    "plt.show()"
   ]
  },
  {
   "attachments": {},
   "cell_type": "markdown",
   "id": "51aa58fc",
   "metadata": {},
   "source": [
    "### Removing row containing these outliers (-2, 300, 600)"
   ]
  },
  {
   "cell_type": "code",
   "execution_count": 27,
   "id": "1dc6b692",
   "metadata": {},
   "outputs": [],
   "source": [
    "dataset.drop(dataset.index[dataset['Staff'].isin([-2, 300, 600])], inplace=True)\n"
   ]
  },
  {
   "attachments": {},
   "cell_type": "markdown",
   "id": "072bc56a",
   "metadata": {},
   "source": [
    "### Staff data after cleaning"
   ]
  },
  {
   "cell_type": "code",
   "execution_count": 28,
   "id": "ba94759d",
   "metadata": {},
   "outputs": [
    {
     "data": {
      "text/plain": [
       "<AxesSubplot: >"
      ]
     },
     "execution_count": 28,
     "metadata": {},
     "output_type": "execute_result"
    },
    {
     "data": {
      "image/png": "[encoded data removed]",
      "text/plain": [
       "<Figure size 640x480 with 1 Axes>"
      ]
     },
     "metadata": {},
     "output_type": "display_data"
    }
   ],
   "source": [
    "dataset[\"Staff\"].hist(bins=20)"
   ]
  },
  {
   "attachments": {},
   "cell_type": "markdown",
   "id": "1722e7fc",
   "metadata": {},
   "source": [
    "### Saving image of histogram"
   ]
  },
  {
   "cell_type": "code",
   "execution_count": 29,
   "id": "b2e6bd64",
   "metadata": {},
   "outputs": [
    {
     "data": {
      "image/png": "[encoded data removed]",
      "text/plain": [
       "<Figure size 640x480 with 1 Axes>"
      ]
     },
     "metadata": {},
     "output_type": "display_data"
    }
   ],
   "source": [
    "dataset[\"Staff\"]\n",
    "fig, ax = plt.subplots()\n",
    "dataset.hist('Staff', ax=ax)\n",
    "plt.title(\"Staff Column After cleaning\")\n",
    "fig.savefig('2.png')"
   ]
  },
  {
   "cell_type": "code",
   "execution_count": 30,
   "id": "a8a896fa",
   "metadata": {},
   "outputs": [
    {
     "data": {
      "image/png": "[encoded data removed]",
      "text/plain": [
       "<Figure size 800x300 with 1 Axes>"
      ]
     },
     "metadata": {},
     "output_type": "display_data"
    }
   ],
   "source": [
    "plt.figure(figsize=(8, 3))\n",
    "\n",
    "plt.title(\"Frequency distribution of Staff\")\n",
    "sns.kdeplot(dataset['Staff'], shade=True)\n",
    "\n",
    "plt.show()"
   ]
  },
  {
   "attachments": {},
   "cell_type": "markdown",
   "id": "5b09f1ef",
   "metadata": {},
   "source": [
    "### Plotting some other column for better exploration of dataset\n"
   ]
  },
  {
   "cell_type": "code",
   "execution_count": 31,
   "id": "3ffb45bd",
   "metadata": {},
   "outputs": [],
   "source": [
    "color_pallete =[\"#a67c00\",\n",
    "                \"#bf9b30\",\n",
    "                \"#ffbf00\",\n",
    "                \"#ffcf40\",\n",
    "                \"#ffdc73\",\n",
    "                \"#3ea958\",\n",
    "                \"#57b46d\",\n",
    "                \"#6fbe82\",\n",
    "                \"#87c997\"]\n",
    "sns.set_style('whitegrid')\n",
    "sns.set_palette(color_pallete)"
   ]
  },
  {
   "cell_type": "code",
   "execution_count": 32,
   "id": "77c7a718",
   "metadata": {},
   "outputs": [
    {
     "data": {
      "image/png": "[encoded data removed]",
      "text/plain": [
       "<Figure size 640x480 with 1 Axes>"
      ]
     },
     "metadata": {},
     "output_type": "display_data"
    }
   ],
   "source": [
    "labels = ['yes', 'no']\n",
    "sizes  = dataset[\"Car park\"].value_counts().values\n",
    "\n",
    "plt.pie(sizes, labels=labels, autopct='%1.1f%%',shadow=True, startangle=90)\n",
    "\n",
    "plt.axis('equal')  # Equal aspect ratio ensures that pie is drawn as a circle.\n",
    "plt.xticks([])\n",
    "plt.yticks([])\n",
    "\n",
    "plt.title(\"Distribution of Car park\")\n",
    "\n",
    "plt.show()"
   ]
  },
  {
   "cell_type": "code",
   "execution_count": 33,
   "id": "3cc1ddea",
   "metadata": {},
   "outputs": [
    {
     "data": {
      "image/png": "[encoded data removed]",
      "text/plain": [
       "<Figure size 640x480 with 1 Axes>"
      ]
     },
     "metadata": {},
     "output_type": "display_data"
    }
   ],
   "source": [
    "labels = ['good', 'bad']\n",
    "sizes  = dataset[\"Performance\"].value_counts().values\n",
    "\n",
    "plt.pie(sizes, labels=labels, autopct='%1.1f%%',shadow=True, startangle=90)\n",
    "\n",
    "plt.axis('equal')  # Equal aspect ratio ensures that pie is drawn as a circle.\n",
    "plt.xticks([])\n",
    "plt.yticks([])\n",
    "\n",
    "plt.title(\"Distribution of Performance\")\n",
    "\n",
    "plt.show()"
   ]
  },
  {
   "cell_type": "code",
   "execution_count": 34,
   "id": "ba67ef9a",
   "metadata": {},
   "outputs": [
    {
     "data": {
      "image/png": "[encoded data removed]",
      "text/plain": [
       "<Figure size 1300x400 with 1 Axes>"
      ]
     },
     "metadata": {},
     "output_type": "display_data"
    }
   ],
   "source": [
    "plt.figure(figsize=(13, 4))\n",
    "\n",
    "plt.title(\"Competition number\")\n",
    "sns.countplot(x = sorted(dataset['Competition number']))\n",
    "\n",
    "plt.show()"
   ]
  },
  {
   "cell_type": "code",
   "execution_count": 35,
   "id": "0190299b",
   "metadata": {},
   "outputs": [
    {
     "data": {
      "image/png": "[encoded data removed]",
      "text/plain": [
       "<Figure size 1100x200 with 1 Axes>"
      ]
     },
     "metadata": {},
     "output_type": "display_data"
    }
   ],
   "source": [
    "plt.figure(figsize=(11, 2))\n",
    "\n",
    "plt.title(\"Distribution of Staff\")\n",
    "sns.countplot(x = dataset['Staff'].astype(int))\n",
    "\n",
    "plt.show()"
   ]
  },
  {
   "cell_type": "code",
   "execution_count": 36,
   "id": "351b92c2",
   "metadata": {},
   "outputs": [
    {
     "data": {
      "image/png": "[encoded data removed]",
      "text/plain": [
       "<Figure size 1300x400 with 1 Axes>"
      ]
     },
     "metadata": {},
     "output_type": "display_data"
    }
   ],
   "source": [
    "plt.figure(figsize=(13, 4))\n",
    "\n",
    "plt.title(\"Distribution of Window\")\n",
    "sns.countplot(x = dataset['Window'].astype(int))\n",
    "\n",
    "plt.show()"
   ]
  },
  {
   "cell_type": "code",
   "execution_count": 37,
   "id": "ab3e3475",
   "metadata": {},
   "outputs": [
    {
     "data": {
      "image/png": "[encoded data removed]",
      "text/plain": [
       "<Figure size 800x300 with 1 Axes>"
      ]
     },
     "metadata": {},
     "output_type": "display_data"
    }
   ],
   "source": [
    "plt.figure(figsize=(8, 3))\n",
    "\n",
    "plt.title(\"Frequency distribution of 40min population\")\n",
    "sns.kdeplot(dataset['40min population'], shade=True)\n",
    "\n",
    "plt.show()"
   ]
  },
  {
   "cell_type": "code",
   "execution_count": 38,
   "id": "844efa90",
   "metadata": {},
   "outputs": [
    {
     "data": {
      "image/png": "[encoded data removed]",
      "text/plain": [
       "<Figure size 800x300 with 1 Axes>"
      ]
     },
     "metadata": {},
     "output_type": "display_data"
    }
   ],
   "source": [
    "plt.figure(figsize=(8, 3))\n",
    "\n",
    "plt.title(\"Frequency distribution of 30 min population\")\n",
    "sns.kdeplot(dataset['30 min population'], shade=True)\n",
    "\n",
    "plt.show()"
   ]
  },
  {
   "cell_type": "code",
   "execution_count": 39,
   "id": "2d8a3aae",
   "metadata": {},
   "outputs": [
    {
     "data": {
      "image/png": "[encoded data removed]",
      "text/plain": [
       "<Figure size 800x300 with 1 Axes>"
      ]
     },
     "metadata": {},
     "output_type": "display_data"
    }
   ],
   "source": [
    "plt.figure(figsize=(8, 3))\n",
    "\n",
    "plt.title(\"Frequency distribution of 20 min population\")\n",
    "sns.kdeplot(dataset['20 min population'], shade=True)\n",
    "\n",
    "plt.show()"
   ]
  },
  {
   "cell_type": "code",
   "execution_count": 40,
   "id": "73cfb5cb",
   "metadata": {
    "scrolled": true
   },
   "outputs": [
    {
     "data": {
      "image/png": "[encoded data removed]",
      "text/plain": [
       "<Figure size 800x300 with 1 Axes>"
      ]
     },
     "metadata": {},
     "output_type": "display_data"
    }
   ],
   "source": [
    "plt.figure(figsize=(8, 3))\n",
    "\n",
    "plt.title(\"Frequency distribution of 10 min population\")\n",
    "sns.kdeplot(dataset['10 min population'], shade=True)\n",
    "\n",
    "plt.show()"
   ]
  },
  {
   "attachments": {},
   "cell_type": "markdown",
   "id": "83f7793f",
   "metadata": {},
   "source": [
    "## Step 5 - Data Preparation"
   ]
  },
  {
   "attachments": {},
   "cell_type": "markdown",
   "id": "721e1079",
   "metadata": {},
   "source": [
    "<b>\n",
    "In this step, raw dataset is processed to make it model friendly.\n",
    "\n",
    "Lastly the dataset is split in train and test sets with a ratio of 85 to 15 using a random seed (shuffle) of 42.\n",
    "\n",
    "</b>"
   ]
  },
  {
   "attachments": {},
   "cell_type": "markdown",
   "id": "62ffd3bb",
   "metadata": {},
   "source": [
    "### Columns before preperation"
   ]
  },
  {
   "cell_type": "code",
   "execution_count": 41,
   "id": "ddf4f89d",
   "metadata": {},
   "outputs": [
    {
     "data": {
      "text/plain": [
       "Index(['Country', 'Staff', 'Floor Space', 'Window', 'Car park',\n",
       "       'Demographic score', 'Location', '40min population',\n",
       "       '30 min population', '20 min population', '10 min population',\n",
       "       'Store age', 'Clearance space', 'Competition number',\n",
       "       'Competition score', 'Performance'],\n",
       "      dtype='object')"
      ]
     },
     "execution_count": 41,
     "metadata": {},
     "output_type": "execute_result"
    }
   ],
   "source": [
    "dataset.columns"
   ]
  },
  {
   "cell_type": "code",
   "execution_count": 42,
   "id": "09686b47",
   "metadata": {},
   "outputs": [
    {
     "data": {
      "text/html": [
       "<div>\n",
       "<style scoped>\n",
       "    .dataframe tbody tr th:only-of-type {\n",
       "        vertical-align: middle;\n",
       "    }\n",
       "\n",
       "    .dataframe tbody tr th {\n",
       "        vertical-align: top;\n",
       "    }\n",
       "\n",
       "    .dataframe thead th {\n",
       "        text-align: right;\n",
       "    }\n",
       "</style>\n",
       "<table border=\"1\" class=\"dataframe\">\n",
       "  <thead>\n",
       "    <tr style=\"text-align: right;\">\n",
       "      <th></th>\n",
       "      <th>Country</th>\n",
       "      <th>Staff</th>\n",
       "      <th>Floor Space</th>\n",
       "      <th>Window</th>\n",
       "      <th>Car park</th>\n",
       "      <th>Demographic score</th>\n",
       "      <th>Location</th>\n",
       "      <th>40min population</th>\n",
       "      <th>30 min population</th>\n",
       "      <th>20 min population</th>\n",
       "      <th>10 min population</th>\n",
       "      <th>Store age</th>\n",
       "      <th>Clearance space</th>\n",
       "      <th>Competition number</th>\n",
       "      <th>Competition score</th>\n",
       "      <th>Performance</th>\n",
       "    </tr>\n",
       "  </thead>\n",
       "  <tbody>\n",
       "    <tr>\n",
       "      <th>0</th>\n",
       "      <td>0</td>\n",
       "      <td>9</td>\n",
       "      <td>18526</td>\n",
       "      <td>121</td>\n",
       "      <td>1</td>\n",
       "      <td>10</td>\n",
       "      <td>2</td>\n",
       "      <td>1288374</td>\n",
       "      <td>1138224</td>\n",
       "      <td>1006986</td>\n",
       "      <td>1002340</td>\n",
       "      <td>3</td>\n",
       "      <td>238</td>\n",
       "      <td>16</td>\n",
       "      <td>16</td>\n",
       "      <td>1</td>\n",
       "    </tr>\n",
       "    <tr>\n",
       "      <th>1</th>\n",
       "      <td>0</td>\n",
       "      <td>8</td>\n",
       "      <td>18569</td>\n",
       "      <td>121</td>\n",
       "      <td>1</td>\n",
       "      <td>11</td>\n",
       "      <td>3</td>\n",
       "      <td>1086225</td>\n",
       "      <td>1015321</td>\n",
       "      <td>1012182</td>\n",
       "      <td>1008436</td>\n",
       "      <td>4</td>\n",
       "      <td>384</td>\n",
       "      <td>15</td>\n",
       "      <td>19</td>\n",
       "      <td>1</td>\n",
       "    </tr>\n",
       "    <tr>\n",
       "      <th>3</th>\n",
       "      <td>0</td>\n",
       "      <td>7</td>\n",
       "      <td>17092</td>\n",
       "      <td>117</td>\n",
       "      <td>0</td>\n",
       "      <td>14</td>\n",
       "      <td>1</td>\n",
       "      <td>1179395</td>\n",
       "      <td>1022959</td>\n",
       "      <td>1009496</td>\n",
       "      <td>1002169</td>\n",
       "      <td>5</td>\n",
       "      <td>261</td>\n",
       "      <td>15</td>\n",
       "      <td>12</td>\n",
       "      <td>0</td>\n",
       "    </tr>\n",
       "    <tr>\n",
       "      <th>4</th>\n",
       "      <td>0</td>\n",
       "      <td>7</td>\n",
       "      <td>11307</td>\n",
       "      <td>103</td>\n",
       "      <td>0</td>\n",
       "      <td>18</td>\n",
       "      <td>2</td>\n",
       "      <td>1398558</td>\n",
       "      <td>1085170</td>\n",
       "      <td>1003137</td>\n",
       "      <td>1002513</td>\n",
       "      <td>7</td>\n",
       "      <td>200</td>\n",
       "      <td>19</td>\n",
       "      <td>13</td>\n",
       "      <td>0</td>\n",
       "    </tr>\n",
       "    <tr>\n",
       "      <th>5</th>\n",
       "      <td>0</td>\n",
       "      <td>7</td>\n",
       "      <td>17888</td>\n",
       "      <td>119</td>\n",
       "      <td>1</td>\n",
       "      <td>19</td>\n",
       "      <td>2</td>\n",
       "      <td>1614716</td>\n",
       "      <td>1325848</td>\n",
       "      <td>1220059</td>\n",
       "      <td>1193318</td>\n",
       "      <td>2</td>\n",
       "      <td>394</td>\n",
       "      <td>17</td>\n",
       "      <td>11</td>\n",
       "      <td>1</td>\n",
       "    </tr>\n",
       "  </tbody>\n",
       "</table>\n",
       "</div>"
      ],
      "text/plain": [
       "   Country  Staff  Floor Space  Window  Car park  Demographic score  Location  \\\n",
       "0        0      9        18526     121         1                 10         2   \n",
       "1        0      8        18569     121         1                 11         3   \n",
       "3        0      7        17092     117         0                 14         1   \n",
       "4        0      7        11307     103         0                 18         2   \n",
       "5        0      7        17888     119         1                 19         2   \n",
       "\n",
       "   40min population  30 min population  20 min population  10 min population  \\\n",
       "0           1288374            1138224            1006986            1002340   \n",
       "1           1086225            1015321            1012182            1008436   \n",
       "3           1179395            1022959            1009496            1002169   \n",
       "4           1398558            1085170            1003137            1002513   \n",
       "5           1614716            1325848            1220059            1193318   \n",
       "\n",
       "   Store age  Clearance space  Competition number  Competition score  \\\n",
       "0          3              238                  16                 16   \n",
       "1          4              384                  15                 19   \n",
       "3          5              261                  15                 12   \n",
       "4          7              200                  19                 13   \n",
       "5          2              394                  17                 11   \n",
       "\n",
       "   Performance  \n",
       "0            1  \n",
       "1            1  \n",
       "3            0  \n",
       "4            0  \n",
       "5            1  "
      ]
     },
     "execution_count": 42,
     "metadata": {},
     "output_type": "execute_result"
    }
   ],
   "source": [
    "dataset.head()"
   ]
  },
  {
   "attachments": {},
   "cell_type": "markdown",
   "id": "15878a7c",
   "metadata": {},
   "source": [
    "### Using PCA to detect import columns from dataset"
   ]
  },
  {
   "cell_type": "code",
   "execution_count": 43,
   "id": "808b2fd2",
   "metadata": {},
   "outputs": [],
   "source": [
    "import pandas as pd\n",
    "from sklearn.decomposition import PCA\n",
    "\n",
    "df_numeric = dataset.copy()\n",
    "# Normalize the data for PCA\n",
    "df_normalized = (df_numeric - df_numeric.mean()) / df_numeric.std()\n",
    "\n",
    "# Perform PCA to extract important components\n",
    "n_components = 10\n",
    "pca = PCA(n_components=n_components)\n",
    "pca.fit(df_normalized)\n",
    "\n",
    "# Get the names of the most important columns\n",
    "important_cols = pd.DataFrame(pca.components_.T, columns=[f'component_{i}' for i in range(n_components)])\n",
    "important_cols = important_cols.abs().sum(axis=1).sort_values(ascending=False).index.tolist()\n",
    "important_cols = df_numeric.columns[important_cols]"
   ]
  },
  {
   "attachments": {},
   "cell_type": "markdown",
   "id": "c2c13267",
   "metadata": {},
   "source": [
    "### Dataframe after cleaning and feature engineering"
   ]
  },
  {
   "cell_type": "code",
   "execution_count": 44,
   "id": "0b22790b",
   "metadata": {},
   "outputs": [
    {
     "data": {
      "text/html": [
       "<div>\n",
       "<style scoped>\n",
       "    .dataframe tbody tr th:only-of-type {\n",
       "        vertical-align: middle;\n",
       "    }\n",
       "\n",
       "    .dataframe tbody tr th {\n",
       "        vertical-align: top;\n",
       "    }\n",
       "\n",
       "    .dataframe thead th {\n",
       "        text-align: right;\n",
       "    }\n",
       "</style>\n",
       "<table border=\"1\" class=\"dataframe\">\n",
       "  <thead>\n",
       "    <tr style=\"text-align: right;\">\n",
       "      <th></th>\n",
       "      <th>Demographic score</th>\n",
       "      <th>Competition score</th>\n",
       "      <th>Competition number</th>\n",
       "      <th>Store age</th>\n",
       "      <th>Country</th>\n",
       "      <th>Car park</th>\n",
       "      <th>Staff</th>\n",
       "      <th>Location</th>\n",
       "      <th>Performance</th>\n",
       "      <th>Floor Space</th>\n",
       "      <th>40min population</th>\n",
       "      <th>Window</th>\n",
       "      <th>10 min population</th>\n",
       "      <th>20 min population</th>\n",
       "      <th>Clearance space</th>\n",
       "      <th>30 min population</th>\n",
       "    </tr>\n",
       "  </thead>\n",
       "  <tbody>\n",
       "    <tr>\n",
       "      <th>0</th>\n",
       "      <td>10</td>\n",
       "      <td>16</td>\n",
       "      <td>16</td>\n",
       "      <td>3</td>\n",
       "      <td>0</td>\n",
       "      <td>1</td>\n",
       "      <td>9</td>\n",
       "      <td>2</td>\n",
       "      <td>1</td>\n",
       "      <td>18526</td>\n",
       "      <td>1288374</td>\n",
       "      <td>121</td>\n",
       "      <td>1002340</td>\n",
       "      <td>1006986</td>\n",
       "      <td>238</td>\n",
       "      <td>1138224</td>\n",
       "    </tr>\n",
       "    <tr>\n",
       "      <th>1</th>\n",
       "      <td>11</td>\n",
       "      <td>19</td>\n",
       "      <td>15</td>\n",
       "      <td>4</td>\n",
       "      <td>0</td>\n",
       "      <td>1</td>\n",
       "      <td>8</td>\n",
       "      <td>3</td>\n",
       "      <td>1</td>\n",
       "      <td>18569</td>\n",
       "      <td>1086225</td>\n",
       "      <td>121</td>\n",
       "      <td>1008436</td>\n",
       "      <td>1012182</td>\n",
       "      <td>384</td>\n",
       "      <td>1015321</td>\n",
       "    </tr>\n",
       "    <tr>\n",
       "      <th>3</th>\n",
       "      <td>14</td>\n",
       "      <td>12</td>\n",
       "      <td>15</td>\n",
       "      <td>5</td>\n",
       "      <td>0</td>\n",
       "      <td>0</td>\n",
       "      <td>7</td>\n",
       "      <td>1</td>\n",
       "      <td>0</td>\n",
       "      <td>17092</td>\n",
       "      <td>1179395</td>\n",
       "      <td>117</td>\n",
       "      <td>1002169</td>\n",
       "      <td>1009496</td>\n",
       "      <td>261</td>\n",
       "      <td>1022959</td>\n",
       "    </tr>\n",
       "    <tr>\n",
       "      <th>4</th>\n",
       "      <td>18</td>\n",
       "      <td>13</td>\n",
       "      <td>19</td>\n",
       "      <td>7</td>\n",
       "      <td>0</td>\n",
       "      <td>0</td>\n",
       "      <td>7</td>\n",
       "      <td>2</td>\n",
       "      <td>0</td>\n",
       "      <td>11307</td>\n",
       "      <td>1398558</td>\n",
       "      <td>103</td>\n",
       "      <td>1002513</td>\n",
       "      <td>1003137</td>\n",
       "      <td>200</td>\n",
       "      <td>1085170</td>\n",
       "    </tr>\n",
       "    <tr>\n",
       "      <th>5</th>\n",
       "      <td>19</td>\n",
       "      <td>11</td>\n",
       "      <td>17</td>\n",
       "      <td>2</td>\n",
       "      <td>0</td>\n",
       "      <td>1</td>\n",
       "      <td>7</td>\n",
       "      <td>2</td>\n",
       "      <td>1</td>\n",
       "      <td>17888</td>\n",
       "      <td>1614716</td>\n",
       "      <td>119</td>\n",
       "      <td>1193318</td>\n",
       "      <td>1220059</td>\n",
       "      <td>394</td>\n",
       "      <td>1325848</td>\n",
       "    </tr>\n",
       "    <tr>\n",
       "      <th>...</th>\n",
       "      <td>...</td>\n",
       "      <td>...</td>\n",
       "      <td>...</td>\n",
       "      <td>...</td>\n",
       "      <td>...</td>\n",
       "      <td>...</td>\n",
       "      <td>...</td>\n",
       "      <td>...</td>\n",
       "      <td>...</td>\n",
       "      <td>...</td>\n",
       "      <td>...</td>\n",
       "      <td>...</td>\n",
       "      <td>...</td>\n",
       "      <td>...</td>\n",
       "      <td>...</td>\n",
       "      <td>...</td>\n",
       "    </tr>\n",
       "    <tr>\n",
       "      <th>131</th>\n",
       "      <td>13</td>\n",
       "      <td>14</td>\n",
       "      <td>18</td>\n",
       "      <td>6</td>\n",
       "      <td>0</td>\n",
       "      <td>1</td>\n",
       "      <td>7</td>\n",
       "      <td>2</td>\n",
       "      <td>0</td>\n",
       "      <td>14120</td>\n",
       "      <td>1665074</td>\n",
       "      <td>110</td>\n",
       "      <td>1041041</td>\n",
       "      <td>1141898</td>\n",
       "      <td>202</td>\n",
       "      <td>1240813</td>\n",
       "    </tr>\n",
       "    <tr>\n",
       "      <th>132</th>\n",
       "      <td>15</td>\n",
       "      <td>18</td>\n",
       "      <td>13</td>\n",
       "      <td>5</td>\n",
       "      <td>0</td>\n",
       "      <td>0</td>\n",
       "      <td>6</td>\n",
       "      <td>3</td>\n",
       "      <td>0</td>\n",
       "      <td>11205</td>\n",
       "      <td>1657769</td>\n",
       "      <td>103</td>\n",
       "      <td>1160929</td>\n",
       "      <td>1378708</td>\n",
       "      <td>203</td>\n",
       "      <td>1424404</td>\n",
       "    </tr>\n",
       "    <tr>\n",
       "      <th>133</th>\n",
       "      <td>19</td>\n",
       "      <td>18</td>\n",
       "      <td>18</td>\n",
       "      <td>7</td>\n",
       "      <td>0</td>\n",
       "      <td>0</td>\n",
       "      <td>7</td>\n",
       "      <td>3</td>\n",
       "      <td>0</td>\n",
       "      <td>16190</td>\n",
       "      <td>1407456</td>\n",
       "      <td>115</td>\n",
       "      <td>1063718</td>\n",
       "      <td>1200486</td>\n",
       "      <td>341</td>\n",
       "      <td>1359511</td>\n",
       "    </tr>\n",
       "    <tr>\n",
       "      <th>134</th>\n",
       "      <td>17</td>\n",
       "      <td>10</td>\n",
       "      <td>14</td>\n",
       "      <td>11</td>\n",
       "      <td>0</td>\n",
       "      <td>0</td>\n",
       "      <td>6</td>\n",
       "      <td>1</td>\n",
       "      <td>0</td>\n",
       "      <td>15516</td>\n",
       "      <td>1451087</td>\n",
       "      <td>113</td>\n",
       "      <td>1045154</td>\n",
       "      <td>1127276</td>\n",
       "      <td>261</td>\n",
       "      <td>1245725</td>\n",
       "    </tr>\n",
       "    <tr>\n",
       "      <th>135</th>\n",
       "      <td>18</td>\n",
       "      <td>13</td>\n",
       "      <td>18</td>\n",
       "      <td>8</td>\n",
       "      <td>0</td>\n",
       "      <td>1</td>\n",
       "      <td>9</td>\n",
       "      <td>1</td>\n",
       "      <td>1</td>\n",
       "      <td>14468</td>\n",
       "      <td>1706344</td>\n",
       "      <td>111</td>\n",
       "      <td>1020940</td>\n",
       "      <td>1159859</td>\n",
       "      <td>276</td>\n",
       "      <td>1307752</td>\n",
       "    </tr>\n",
       "  </tbody>\n",
       "</table>\n",
       "<p>133 rows × 16 columns</p>\n",
       "</div>"
      ],
      "text/plain": [
       "     Demographic score  Competition score  Competition number  Store age  \\\n",
       "0                   10                 16                  16          3   \n",
       "1                   11                 19                  15          4   \n",
       "3                   14                 12                  15          5   \n",
       "4                   18                 13                  19          7   \n",
       "5                   19                 11                  17          2   \n",
       "..                 ...                ...                 ...        ...   \n",
       "131                 13                 14                  18          6   \n",
       "132                 15                 18                  13          5   \n",
       "133                 19                 18                  18          7   \n",
       "134                 17                 10                  14         11   \n",
       "135                 18                 13                  18          8   \n",
       "\n",
       "     Country  Car park  Staff  Location  Performance  Floor Space  \\\n",
       "0          0         1      9         2            1        18526   \n",
       "1          0         1      8         3            1        18569   \n",
       "3          0         0      7         1            0        17092   \n",
       "4          0         0      7         2            0        11307   \n",
       "5          0         1      7         2            1        17888   \n",
       "..       ...       ...    ...       ...          ...          ...   \n",
       "131        0         1      7         2            0        14120   \n",
       "132        0         0      6         3            0        11205   \n",
       "133        0         0      7         3            0        16190   \n",
       "134        0         0      6         1            0        15516   \n",
       "135        0         1      9         1            1        14468   \n",
       "\n",
       "     40min population  Window  10 min population  20 min population  \\\n",
       "0             1288374     121            1002340            1006986   \n",
       "1             1086225     121            1008436            1012182   \n",
       "3             1179395     117            1002169            1009496   \n",
       "4             1398558     103            1002513            1003137   \n",
       "5             1614716     119            1193318            1220059   \n",
       "..                ...     ...                ...                ...   \n",
       "131           1665074     110            1041041            1141898   \n",
       "132           1657769     103            1160929            1378708   \n",
       "133           1407456     115            1063718            1200486   \n",
       "134           1451087     113            1045154            1127276   \n",
       "135           1706344     111            1020940            1159859   \n",
       "\n",
       "     Clearance space  30 min population  \n",
       "0                238            1138224  \n",
       "1                384            1015321  \n",
       "3                261            1022959  \n",
       "4                200            1085170  \n",
       "5                394            1325848  \n",
       "..               ...                ...  \n",
       "131              202            1240813  \n",
       "132              203            1424404  \n",
       "133              341            1359511  \n",
       "134              261            1245725  \n",
       "135              276            1307752  \n",
       "\n",
       "[133 rows x 16 columns]"
      ]
     },
     "execution_count": 44,
     "metadata": {},
     "output_type": "execute_result"
    }
   ],
   "source": [
    "dataset[important_cols]"
   ]
  },
  {
   "attachments": {},
   "cell_type": "markdown",
   "id": "5c0d6d93",
   "metadata": {},
   "source": [
    "### Important columns after cleaning and feature engineering"
   ]
  },
  {
   "cell_type": "code",
   "execution_count": 45,
   "id": "26b2efef",
   "metadata": {},
   "outputs": [
    {
     "data": {
      "text/plain": [
       "['Demographic score',\n",
       " 'Competition score',\n",
       " 'Competition number',\n",
       " 'Store age',\n",
       " 'Country',\n",
       " 'Car park',\n",
       " 'Staff',\n",
       " 'Location',\n",
       " 'Performance',\n",
       " 'Floor Space',\n",
       " '40min population',\n",
       " 'Window',\n",
       " '10 min population',\n",
       " '20 min population',\n",
       " 'Clearance space',\n",
       " '30 min population']"
      ]
     },
     "execution_count": 45,
     "metadata": {},
     "output_type": "execute_result"
    }
   ],
   "source": [
    "list(dataset[important_cols].columns)"
   ]
  },
  {
   "cell_type": "code",
   "execution_count": 46,
   "id": "55ff37ff",
   "metadata": {},
   "outputs": [
    {
     "data": {
      "text/plain": [
       "['Demographic score',\n",
       " 'Competition score',\n",
       " 'Competition number',\n",
       " 'Store age',\n",
       " 'Country',\n",
       " 'Car park',\n",
       " 'Staff',\n",
       " 'Location',\n",
       " 'Performance',\n",
       " 'Floor Space',\n",
       " '40min population',\n",
       " 'Window',\n",
       " '10 min population',\n",
       " '20 min population',\n",
       " 'Clearance space',\n",
       " '30 min population']"
      ]
     },
     "execution_count": 46,
     "metadata": {},
     "output_type": "execute_result"
    }
   ],
   "source": [
    "['Demographic score',\n",
    " 'Competition score',\n",
    " 'Competition number',\n",
    " 'Store age',\n",
    " 'Country',\n",
    " 'Car park',\n",
    " 'Staff',\n",
    " 'Location',\n",
    " 'Performance',\n",
    " 'Floor Space',\n",
    " '40min population',\n",
    " 'Window',\n",
    " '10 min population',\n",
    " '20 min population',\n",
    " 'Clearance space',\n",
    " '30 min population']"
   ]
  },
  {
   "attachments": {},
   "cell_type": "markdown",
   "id": "0f811474",
   "metadata": {},
   "source": [
    "### Seperating data and label column after cleaning and feature engineering"
   ]
  },
  {
   "cell_type": "code",
   "execution_count": 47,
   "id": "9b1f1158",
   "metadata": {},
   "outputs": [],
   "source": [
    "# Select the important columns from the original DataFrame\n",
    "X = dataset[important_cols]\n",
    "X = X.drop(['Performance'], axis=1)\n",
    "\n",
    "# Set the target variable\n",
    "y = dataset['Performance']"
   ]
  },
  {
   "attachments": {},
   "cell_type": "markdown",
   "id": "cab4a895",
   "metadata": {},
   "source": [
    "### Normalizing dataset for training "
   ]
  },
  {
   "cell_type": "code",
   "execution_count": 48,
   "id": "48cc1486",
   "metadata": {},
   "outputs": [],
   "source": [
    "X = (X - X.min()) / (X.max() - X.min())"
   ]
  },
  {
   "cell_type": "code",
   "execution_count": 49,
   "id": "78e4d592",
   "metadata": {},
   "outputs": [
    {
     "data": {
      "text/html": [
       "<div>\n",
       "<style scoped>\n",
       "    .dataframe tbody tr th:only-of-type {\n",
       "        vertical-align: middle;\n",
       "    }\n",
       "\n",
       "    .dataframe tbody tr th {\n",
       "        vertical-align: top;\n",
       "    }\n",
       "\n",
       "    .dataframe thead th {\n",
       "        text-align: right;\n",
       "    }\n",
       "</style>\n",
       "<table border=\"1\" class=\"dataframe\">\n",
       "  <thead>\n",
       "    <tr style=\"text-align: right;\">\n",
       "      <th></th>\n",
       "      <th>Demographic score</th>\n",
       "      <th>Competition score</th>\n",
       "      <th>Competition number</th>\n",
       "      <th>Store age</th>\n",
       "      <th>Country</th>\n",
       "      <th>Car park</th>\n",
       "      <th>Staff</th>\n",
       "      <th>Location</th>\n",
       "      <th>Floor Space</th>\n",
       "      <th>40min population</th>\n",
       "      <th>Window</th>\n",
       "      <th>10 min population</th>\n",
       "      <th>20 min population</th>\n",
       "      <th>Clearance space</th>\n",
       "      <th>30 min population</th>\n",
       "    </tr>\n",
       "  </thead>\n",
       "  <tbody>\n",
       "    <tr>\n",
       "      <th>0</th>\n",
       "      <td>0.000000</td>\n",
       "      <td>0.666667</td>\n",
       "      <td>0.666667</td>\n",
       "      <td>0.111111</td>\n",
       "      <td>0.0</td>\n",
       "      <td>1.0</td>\n",
       "      <td>1.00</td>\n",
       "      <td>0.666667</td>\n",
       "      <td>0.862917</td>\n",
       "      <td>0.266872</td>\n",
       "      <td>0.875000</td>\n",
       "      <td>0.005481</td>\n",
       "      <td>0.009364</td>\n",
       "      <td>0.182692</td>\n",
       "      <td>0.148175</td>\n",
       "    </tr>\n",
       "    <tr>\n",
       "      <th>1</th>\n",
       "      <td>0.111111</td>\n",
       "      <td>1.000000</td>\n",
       "      <td>0.555556</td>\n",
       "      <td>0.222222</td>\n",
       "      <td>0.0</td>\n",
       "      <td>1.0</td>\n",
       "      <td>0.75</td>\n",
       "      <td>1.000000</td>\n",
       "      <td>0.867306</td>\n",
       "      <td>0.057746</td>\n",
       "      <td>0.875000</td>\n",
       "      <td>0.019773</td>\n",
       "      <td>0.016549</td>\n",
       "      <td>0.884615</td>\n",
       "      <td>0.015799</td>\n",
       "    </tr>\n",
       "    <tr>\n",
       "      <th>3</th>\n",
       "      <td>0.444444</td>\n",
       "      <td>0.222222</td>\n",
       "      <td>0.555556</td>\n",
       "      <td>0.333333</td>\n",
       "      <td>0.0</td>\n",
       "      <td>0.0</td>\n",
       "      <td>0.50</td>\n",
       "      <td>0.333333</td>\n",
       "      <td>0.716546</td>\n",
       "      <td>0.154132</td>\n",
       "      <td>0.708333</td>\n",
       "      <td>0.005081</td>\n",
       "      <td>0.012835</td>\n",
       "      <td>0.293269</td>\n",
       "      <td>0.024025</td>\n",
       "    </tr>\n",
       "    <tr>\n",
       "      <th>4</th>\n",
       "      <td>0.888889</td>\n",
       "      <td>0.333333</td>\n",
       "      <td>1.000000</td>\n",
       "      <td>0.555556</td>\n",
       "      <td>0.0</td>\n",
       "      <td>0.0</td>\n",
       "      <td>0.50</td>\n",
       "      <td>0.666667</td>\n",
       "      <td>0.126059</td>\n",
       "      <td>0.380859</td>\n",
       "      <td>0.125000</td>\n",
       "      <td>0.005887</td>\n",
       "      <td>0.004042</td>\n",
       "      <td>0.000000</td>\n",
       "      <td>0.091032</td>\n",
       "    </tr>\n",
       "    <tr>\n",
       "      <th>5</th>\n",
       "      <td>1.000000</td>\n",
       "      <td>0.111111</td>\n",
       "      <td>0.777778</td>\n",
       "      <td>0.000000</td>\n",
       "      <td>0.0</td>\n",
       "      <td>1.0</td>\n",
       "      <td>0.50</td>\n",
       "      <td>0.666667</td>\n",
       "      <td>0.797795</td>\n",
       "      <td>0.604477</td>\n",
       "      <td>0.791667</td>\n",
       "      <td>0.453228</td>\n",
       "      <td>0.303997</td>\n",
       "      <td>0.932692</td>\n",
       "      <td>0.350261</td>\n",
       "    </tr>\n",
       "  </tbody>\n",
       "</table>\n",
       "</div>"
      ],
      "text/plain": [
       "   Demographic score  Competition score  Competition number  Store age  \\\n",
       "0           0.000000           0.666667            0.666667   0.111111   \n",
       "1           0.111111           1.000000            0.555556   0.222222   \n",
       "3           0.444444           0.222222            0.555556   0.333333   \n",
       "4           0.888889           0.333333            1.000000   0.555556   \n",
       "5           1.000000           0.111111            0.777778   0.000000   \n",
       "\n",
       "   Country  Car park  Staff  Location  Floor Space  40min population  \\\n",
       "0      0.0       1.0   1.00  0.666667     0.862917          0.266872   \n",
       "1      0.0       1.0   0.75  1.000000     0.867306          0.057746   \n",
       "3      0.0       0.0   0.50  0.333333     0.716546          0.154132   \n",
       "4      0.0       0.0   0.50  0.666667     0.126059          0.380859   \n",
       "5      0.0       1.0   0.50  0.666667     0.797795          0.604477   \n",
       "\n",
       "     Window  10 min population  20 min population  Clearance space  \\\n",
       "0  0.875000           0.005481           0.009364         0.182692   \n",
       "1  0.875000           0.019773           0.016549         0.884615   \n",
       "3  0.708333           0.005081           0.012835         0.293269   \n",
       "4  0.125000           0.005887           0.004042         0.000000   \n",
       "5  0.791667           0.453228           0.303997         0.932692   \n",
       "\n",
       "   30 min population  \n",
       "0           0.148175  \n",
       "1           0.015799  \n",
       "3           0.024025  \n",
       "4           0.091032  \n",
       "5           0.350261  "
      ]
     },
     "execution_count": 49,
     "metadata": {},
     "output_type": "execute_result"
    }
   ],
   "source": [
    "X.head()"
   ]
  },
  {
   "cell_type": "code",
   "execution_count": 50,
   "id": "e850786c",
   "metadata": {},
   "outputs": [
    {
     "data": {
      "text/plain": [
       "(133, 15)"
      ]
     },
     "execution_count": 50,
     "metadata": {},
     "output_type": "execute_result"
    }
   ],
   "source": [
    "X.shape"
   ]
  },
  {
   "cell_type": "code",
   "execution_count": 51,
   "id": "65f08f1b",
   "metadata": {},
   "outputs": [
    {
     "data": {
      "text/plain": [
       "(133,)"
      ]
     },
     "execution_count": 51,
     "metadata": {},
     "output_type": "execute_result"
    }
   ],
   "source": [
    "y.shape"
   ]
  },
  {
   "attachments": {},
   "cell_type": "markdown",
   "id": "c1ed3cbd",
   "metadata": {},
   "source": [
    "### Spliting data to train and test "
   ]
  },
  {
   "cell_type": "code",
   "execution_count": 52,
   "id": "77bcc3ba",
   "metadata": {},
   "outputs": [],
   "source": [
    "X_train, X_test, y_train, y_test = train_test_split(X, y, test_size=0.15, random_state=42)"
   ]
  },
  {
   "cell_type": "code",
   "execution_count": 53,
   "id": "2a25c862",
   "metadata": {},
   "outputs": [
    {
     "data": {
      "text/html": [
       "<div>\n",
       "<style scoped>\n",
       "    .dataframe tbody tr th:only-of-type {\n",
       "        vertical-align: middle;\n",
       "    }\n",
       "\n",
       "    .dataframe tbody tr th {\n",
       "        vertical-align: top;\n",
       "    }\n",
       "\n",
       "    .dataframe thead th {\n",
       "        text-align: right;\n",
       "    }\n",
       "</style>\n",
       "<table border=\"1\" class=\"dataframe\">\n",
       "  <thead>\n",
       "    <tr style=\"text-align: right;\">\n",
       "      <th></th>\n",
       "      <th>Demographic score</th>\n",
       "      <th>Competition score</th>\n",
       "      <th>Competition number</th>\n",
       "      <th>Store age</th>\n",
       "      <th>Country</th>\n",
       "      <th>Car park</th>\n",
       "      <th>Staff</th>\n",
       "      <th>Location</th>\n",
       "      <th>Floor Space</th>\n",
       "      <th>40min population</th>\n",
       "      <th>Window</th>\n",
       "      <th>10 min population</th>\n",
       "      <th>20 min population</th>\n",
       "      <th>Clearance space</th>\n",
       "      <th>30 min population</th>\n",
       "    </tr>\n",
       "  </thead>\n",
       "  <tbody>\n",
       "    <tr>\n",
       "      <th>37</th>\n",
       "      <td>0.222222</td>\n",
       "      <td>0.666667</td>\n",
       "      <td>1.000000</td>\n",
       "      <td>0.666667</td>\n",
       "      <td>0.0</td>\n",
       "      <td>0.0</td>\n",
       "      <td>0.50</td>\n",
       "      <td>0.666667</td>\n",
       "      <td>0.179851</td>\n",
       "      <td>0.542878</td>\n",
       "      <td>0.166667</td>\n",
       "      <td>0.219072</td>\n",
       "      <td>0.166252</td>\n",
       "      <td>0.091346</td>\n",
       "      <td>0.526261</td>\n",
       "    </tr>\n",
       "    <tr>\n",
       "      <th>17</th>\n",
       "      <td>0.000000</td>\n",
       "      <td>0.888889</td>\n",
       "      <td>0.000000</td>\n",
       "      <td>0.000000</td>\n",
       "      <td>0.0</td>\n",
       "      <td>1.0</td>\n",
       "      <td>0.25</td>\n",
       "      <td>0.666667</td>\n",
       "      <td>0.085638</td>\n",
       "      <td>0.374387</td>\n",
       "      <td>0.083333</td>\n",
       "      <td>0.072262</td>\n",
       "      <td>0.135035</td>\n",
       "      <td>0.014423</td>\n",
       "      <td>0.121074</td>\n",
       "    </tr>\n",
       "    <tr>\n",
       "      <th>19</th>\n",
       "      <td>0.444444</td>\n",
       "      <td>0.888889</td>\n",
       "      <td>0.111111</td>\n",
       "      <td>0.333333</td>\n",
       "      <td>0.0</td>\n",
       "      <td>0.0</td>\n",
       "      <td>1.00</td>\n",
       "      <td>1.000000</td>\n",
       "      <td>0.209860</td>\n",
       "      <td>0.624990</td>\n",
       "      <td>0.208333</td>\n",
       "      <td>0.694315</td>\n",
       "      <td>0.487903</td>\n",
       "      <td>0.235577</td>\n",
       "      <td>0.519054</td>\n",
       "    </tr>\n",
       "    <tr>\n",
       "      <th>11</th>\n",
       "      <td>0.222222</td>\n",
       "      <td>0.000000</td>\n",
       "      <td>0.555556</td>\n",
       "      <td>1.000000</td>\n",
       "      <td>0.0</td>\n",
       "      <td>0.0</td>\n",
       "      <td>0.75</td>\n",
       "      <td>0.666667</td>\n",
       "      <td>0.101970</td>\n",
       "      <td>0.500978</td>\n",
       "      <td>0.083333</td>\n",
       "      <td>0.025501</td>\n",
       "      <td>0.441704</td>\n",
       "      <td>0.009615</td>\n",
       "      <td>0.431052</td>\n",
       "    </tr>\n",
       "    <tr>\n",
       "      <th>67</th>\n",
       "      <td>0.555556</td>\n",
       "      <td>0.333333</td>\n",
       "      <td>0.444444</td>\n",
       "      <td>0.000000</td>\n",
       "      <td>0.0</td>\n",
       "      <td>1.0</td>\n",
       "      <td>0.75</td>\n",
       "      <td>0.333333</td>\n",
       "      <td>0.485965</td>\n",
       "      <td>0.326102</td>\n",
       "      <td>0.500000</td>\n",
       "      <td>0.060354</td>\n",
       "      <td>0.048902</td>\n",
       "      <td>0.235577</td>\n",
       "      <td>0.095107</td>\n",
       "    </tr>\n",
       "  </tbody>\n",
       "</table>\n",
       "</div>"
      ],
      "text/plain": [
       "    Demographic score  Competition score  Competition number  Store age  \\\n",
       "37           0.222222           0.666667            1.000000   0.666667   \n",
       "17           0.000000           0.888889            0.000000   0.000000   \n",
       "19           0.444444           0.888889            0.111111   0.333333   \n",
       "11           0.222222           0.000000            0.555556   1.000000   \n",
       "67           0.555556           0.333333            0.444444   0.000000   \n",
       "\n",
       "    Country  Car park  Staff  Location  Floor Space  40min population  \\\n",
       "37      0.0       0.0   0.50  0.666667     0.179851          0.542878   \n",
       "17      0.0       1.0   0.25  0.666667     0.085638          0.374387   \n",
       "19      0.0       0.0   1.00  1.000000     0.209860          0.624990   \n",
       "11      0.0       0.0   0.75  0.666667     0.101970          0.500978   \n",
       "67      0.0       1.0   0.75  0.333333     0.485965          0.326102   \n",
       "\n",
       "      Window  10 min population  20 min population  Clearance space  \\\n",
       "37  0.166667           0.219072           0.166252         0.091346   \n",
       "17  0.083333           0.072262           0.135035         0.014423   \n",
       "19  0.208333           0.694315           0.487903         0.235577   \n",
       "11  0.083333           0.025501           0.441704         0.009615   \n",
       "67  0.500000           0.060354           0.048902         0.235577   \n",
       "\n",
       "    30 min population  \n",
       "37           0.526261  \n",
       "17           0.121074  \n",
       "19           0.519054  \n",
       "11           0.431052  \n",
       "67           0.095107  "
      ]
     },
     "execution_count": 53,
     "metadata": {},
     "output_type": "execute_result"
    }
   ],
   "source": [
    "X_train.head()"
   ]
  },
  {
   "attachments": {},
   "cell_type": "markdown",
   "id": "cbd750db",
   "metadata": {},
   "source": [
    "## Step 6 - Creating the Models"
   ]
  },
  {
   "attachments": {},
   "cell_type": "markdown",
   "id": "293c592d",
   "metadata": {},
   "source": [
    "### Logistic Regression"
   ]
  },
  {
   "cell_type": "code",
   "execution_count": 54,
   "id": "be0106b5",
   "metadata": {},
   "outputs": [
    {
     "data": {
      "text/html": [
       "<style>#sk-container-id-1 {color: black;background-color: white;}#sk-container-id-1 pre{padding: 0;}#sk-container-id-1 div.sk-toggleable {background-color: white;}#sk-container-id-1 label.sk-toggleable__label {cursor: pointer;display: block;width: 100%;margin-bottom: 0;padding: 0.3em;box-sizing: border-box;text-align: center;}#sk-container-id-1 label.sk-toggleable__label-arrow:before {content: \"▸\";float: left;margin-right: 0.25em;color: #696969;}#sk-container-id-1 label.sk-toggleable__label-arrow:hover:before {color: black;}#sk-container-id-1 div.sk-estimator:hover label.sk-toggleable__label-arrow:before {color: black;}#sk-container-id-1 div.sk-toggleable__content {max-height: 0;max-width: 0;overflow: hidden;text-align: left;background-color: #f0f8ff;}#sk-container-id-1 div.sk-toggleable__content pre {margin: 0.2em;color: black;border-radius: 0.25em;background-color: #f0f8ff;}#sk-container-id-1 input.sk-toggleable__control:checked~div.sk-toggleable__content {max-height: 200px;max-width: 100%;overflow: auto;}#sk-container-id-1 input.sk-toggleable__control:checked~label.sk-toggleable__label-arrow:before {content: \"▾\";}#sk-container-id-1 div.sk-estimator input.sk-toggleable__control:checked~label.sk-toggleable__label {background-color: #d4ebff;}#sk-container-id-1 div.sk-label input.sk-toggleable__control:checked~label.sk-toggleable__label {background-color: #d4ebff;}#sk-container-id-1 input.sk-hidden--visually {border: 0;clip: rect(1px 1px 1px 1px);clip: rect(1px, 1px, 1px, 1px);height: 1px;margin: -1px;overflow: hidden;padding: 0;position: absolute;width: 1px;}#sk-container-id-1 div.sk-estimator {font-family: monospace;background-color: #f0f8ff;border: 1px dotted black;border-radius: 0.25em;box-sizing: border-box;margin-bottom: 0.5em;}#sk-container-id-1 div.sk-estimator:hover {background-color: #d4ebff;}#sk-container-id-1 div.sk-parallel-item::after {content: \"\";width: 100%;border-bottom: 1px solid gray;flex-grow: 1;}#sk-container-id-1 div.sk-label:hover label.sk-toggleable__label {background-color: #d4ebff;}#sk-container-id-1 div.sk-serial::before {content: \"\";position: absolute;border-left: 1px solid gray;box-sizing: border-box;top: 0;bottom: 0;left: 50%;z-index: 0;}#sk-container-id-1 div.sk-serial {display: flex;flex-direction: column;align-items: center;background-color: white;padding-right: 0.2em;padding-left: 0.2em;position: relative;}#sk-container-id-1 div.sk-item {position: relative;z-index: 1;}#sk-container-id-1 div.sk-parallel {display: flex;align-items: stretch;justify-content: center;background-color: white;position: relative;}#sk-container-id-1 div.sk-item::before, #sk-container-id-1 div.sk-parallel-item::before {content: \"\";position: absolute;border-left: 1px solid gray;box-sizing: border-box;top: 0;bottom: 0;left: 50%;z-index: -1;}#sk-container-id-1 div.sk-parallel-item {display: flex;flex-direction: column;z-index: 1;position: relative;background-color: white;}#sk-container-id-1 div.sk-parallel-item:first-child::after {align-self: flex-end;width: 50%;}#sk-container-id-1 div.sk-parallel-item:last-child::after {align-self: flex-start;width: 50%;}#sk-container-id-1 div.sk-parallel-item:only-child::after {width: 0;}#sk-container-id-1 div.sk-dashed-wrapped {border: 1px dashed gray;margin: 0 0.4em 0.5em 0.4em;box-sizing: border-box;padding-bottom: 0.4em;background-color: white;}#sk-container-id-1 div.sk-label label {font-family: monospace;font-weight: bold;display: inline-block;line-height: 1.2em;}#sk-container-id-1 div.sk-label-container {text-align: center;}#sk-container-id-1 div.sk-container {/* jupyter's `normalize.less` sets `[hidden] { display: none; }` but bootstrap.min.css set `[hidden] { display: none !important; }` so we also need the `!important` here to be able to override the default hidden behavior on the sphinx rendered scikit-learn.org. See: https://github.com/scikit-learn/scikit-learn/issues/21755 */display: inline-block !important;position: relative;}#sk-container-id-1 div.sk-text-repr-fallback {display: none;}</style><div id=\"sk-container-id-1\" class=\"sk-top-container\"><div class=\"sk-text-repr-fallback\"><pre>LogisticRegression(random_state=42)</pre><b>In a Jupyter environment, please rerun this cell to show the HTML representation or trust the notebook. <br />On GitHub, the HTML representation is unable to render, please try loading this page with nbviewer.org.</b></div><div class=\"sk-container\" hidden><div class=\"sk-item\"><div class=\"sk-estimator sk-toggleable\"><input class=\"sk-toggleable__control sk-hidden--visually\" id=\"sk-estimator-id-1\" type=\"checkbox\" checked><label for=\"sk-estimator-id-1\" class=\"sk-toggleable__label sk-toggleable__label-arrow\">LogisticRegression</label><div class=\"sk-toggleable__content\"><pre>LogisticRegression(random_state=42)</pre></div></div></div></div></div>"
      ],
      "text/plain": [
       "LogisticRegression(random_state=42)"
      ]
     },
     "execution_count": 54,
     "metadata": {},
     "output_type": "execute_result"
    }
   ],
   "source": [
    "logistic_regression_classifier = LogisticRegression(random_state=42)\n",
    "logistic_regression_classifier.fit(X_train, y_train)"
   ]
  },
  {
   "cell_type": "code",
   "execution_count": 55,
   "id": "f72c3792",
   "metadata": {},
   "outputs": [],
   "source": [
    "y_pred_lg = logistic_regression_classifier.predict(X_test)"
   ]
  },
  {
   "attachments": {},
   "cell_type": "markdown",
   "id": "66e7176d",
   "metadata": {},
   "source": [
    "### Decision Tree"
   ]
  },
  {
   "cell_type": "code",
   "execution_count": 56,
   "id": "768c4f1d",
   "metadata": {},
   "outputs": [
    {
     "data": {
      "text/html": [
       "<style>#sk-container-id-2 {color: black;background-color: white;}#sk-container-id-2 pre{padding: 0;}#sk-container-id-2 div.sk-toggleable {background-color: white;}#sk-container-id-2 label.sk-toggleable__label {cursor: pointer;display: block;width: 100%;margin-bottom: 0;padding: 0.3em;box-sizing: border-box;text-align: center;}#sk-container-id-2 label.sk-toggleable__label-arrow:before {content: \"▸\";float: left;margin-right: 0.25em;color: #696969;}#sk-container-id-2 label.sk-toggleable__label-arrow:hover:before {color: black;}#sk-container-id-2 div.sk-estimator:hover label.sk-toggleable__label-arrow:before {color: black;}#sk-container-id-2 div.sk-toggleable__content {max-height: 0;max-width: 0;overflow: hidden;text-align: left;background-color: #f0f8ff;}#sk-container-id-2 div.sk-toggleable__content pre {margin: 0.2em;color: black;border-radius: 0.25em;background-color: #f0f8ff;}#sk-container-id-2 input.sk-toggleable__control:checked~div.sk-toggleable__content {max-height: 200px;max-width: 100%;overflow: auto;}#sk-container-id-2 input.sk-toggleable__control:checked~label.sk-toggleable__label-arrow:before {content: \"▾\";}#sk-container-id-2 div.sk-estimator input.sk-toggleable__control:checked~label.sk-toggleable__label {background-color: #d4ebff;}#sk-container-id-2 div.sk-label input.sk-toggleable__control:checked~label.sk-toggleable__label {background-color: #d4ebff;}#sk-container-id-2 input.sk-hidden--visually {border: 0;clip: rect(1px 1px 1px 1px);clip: rect(1px, 1px, 1px, 1px);height: 1px;margin: -1px;overflow: hidden;padding: 0;position: absolute;width: 1px;}#sk-container-id-2 div.sk-estimator {font-family: monospace;background-color: #f0f8ff;border: 1px dotted black;border-radius: 0.25em;box-sizing: border-box;margin-bottom: 0.5em;}#sk-container-id-2 div.sk-estimator:hover {background-color: #d4ebff;}#sk-container-id-2 div.sk-parallel-item::after {content: \"\";width: 100%;border-bottom: 1px solid gray;flex-grow: 1;}#sk-container-id-2 div.sk-label:hover label.sk-toggleable__label {background-color: #d4ebff;}#sk-container-id-2 div.sk-serial::before {content: \"\";position: absolute;border-left: 1px solid gray;box-sizing: border-box;top: 0;bottom: 0;left: 50%;z-index: 0;}#sk-container-id-2 div.sk-serial {display: flex;flex-direction: column;align-items: center;background-color: white;padding-right: 0.2em;padding-left: 0.2em;position: relative;}#sk-container-id-2 div.sk-item {position: relative;z-index: 1;}#sk-container-id-2 div.sk-parallel {display: flex;align-items: stretch;justify-content: center;background-color: white;position: relative;}#sk-container-id-2 div.sk-item::before, #sk-container-id-2 div.sk-parallel-item::before {content: \"\";position: absolute;border-left: 1px solid gray;box-sizing: border-box;top: 0;bottom: 0;left: 50%;z-index: -1;}#sk-container-id-2 div.sk-parallel-item {display: flex;flex-direction: column;z-index: 1;position: relative;background-color: white;}#sk-container-id-2 div.sk-parallel-item:first-child::after {align-self: flex-end;width: 50%;}#sk-container-id-2 div.sk-parallel-item:last-child::after {align-self: flex-start;width: 50%;}#sk-container-id-2 div.sk-parallel-item:only-child::after {width: 0;}#sk-container-id-2 div.sk-dashed-wrapped {border: 1px dashed gray;margin: 0 0.4em 0.5em 0.4em;box-sizing: border-box;padding-bottom: 0.4em;background-color: white;}#sk-container-id-2 div.sk-label label {font-family: monospace;font-weight: bold;display: inline-block;line-height: 1.2em;}#sk-container-id-2 div.sk-label-container {text-align: center;}#sk-container-id-2 div.sk-container {/* jupyter's `normalize.less` sets `[hidden] { display: none; }` but bootstrap.min.css set `[hidden] { display: none !important; }` so we also need the `!important` here to be able to override the default hidden behavior on the sphinx rendered scikit-learn.org. See: https://github.com/scikit-learn/scikit-learn/issues/21755 */display: inline-block !important;position: relative;}#sk-container-id-2 div.sk-text-repr-fallback {display: none;}</style><div id=\"sk-container-id-2\" class=\"sk-top-container\"><div class=\"sk-text-repr-fallback\"><pre>DecisionTreeClassifier(random_state=42)</pre><b>In a Jupyter environment, please rerun this cell to show the HTML representation or trust the notebook. <br />On GitHub, the HTML representation is unable to render, please try loading this page with nbviewer.org.</b></div><div class=\"sk-container\" hidden><div class=\"sk-item\"><div class=\"sk-estimator sk-toggleable\"><input class=\"sk-toggleable__control sk-hidden--visually\" id=\"sk-estimator-id-2\" type=\"checkbox\" checked><label for=\"sk-estimator-id-2\" class=\"sk-toggleable__label sk-toggleable__label-arrow\">DecisionTreeClassifier</label><div class=\"sk-toggleable__content\"><pre>DecisionTreeClassifier(random_state=42)</pre></div></div></div></div></div>"
      ],
      "text/plain": [
       "DecisionTreeClassifier(random_state=42)"
      ]
     },
     "execution_count": 56,
     "metadata": {},
     "output_type": "execute_result"
    }
   ],
   "source": [
    "decision_tree_classifier = DecisionTreeClassifier(random_state=42)\n",
    "decision_tree_classifier.fit(X_train, y_train)"
   ]
  },
  {
   "cell_type": "code",
   "execution_count": 57,
   "id": "1ae40f3a",
   "metadata": {},
   "outputs": [],
   "source": [
    "y_pred_dt = decision_tree_classifier.predict(X_test)"
   ]
  },
  {
   "cell_type": "code",
   "execution_count": 58,
   "id": "374ae960",
   "metadata": {
    "scrolled": true
   },
   "outputs": [],
   "source": [
    "#Neural network module\n",
    "from keras.models import Sequential \n",
    "from keras.layers import Dense,Activation,Dropout \n",
    "from tensorflow.keras.layers import BatchNormalization\n",
    "from keras.utils import np_utils"
   ]
  },
  {
   "cell_type": "code",
   "execution_count": 59,
   "id": "0fa0b429",
   "metadata": {},
   "outputs": [
    {
     "name": "stdout",
     "output_type": "stream",
     "text": [
      "Epoch 1/20\n",
      "12/12 [==============================] - 1s 6ms/step - loss: 0.7733 - accuracy: 0.4779\n",
      "Epoch 2/20\n",
      "12/12 [==============================] - 0s 5ms/step - loss: 0.7408 - accuracy: 0.4779\n",
      "Epoch 3/20\n",
      "12/12 [==============================] - 0s 6ms/step - loss: 0.7206 - accuracy: 0.4779\n",
      "Epoch 4/20\n",
      "12/12 [==============================] - 0s 4ms/step - loss: 0.7071 - accuracy: 0.4779\n",
      "Epoch 5/20\n",
      "12/12 [==============================] - 0s 3ms/step - loss: 0.7001 - accuracy: 0.4690\n",
      "Epoch 6/20\n",
      "12/12 [==============================] - 0s 3ms/step - loss: 0.6931 - accuracy: 0.4690\n",
      "Epoch 7/20\n",
      "12/12 [==============================] - 0s 3ms/step - loss: 0.6889 - accuracy: 0.4690\n",
      "Epoch 8/20\n",
      "12/12 [==============================] - 0s 2ms/step - loss: 0.6851 - accuracy: 0.4690\n",
      "Epoch 9/20\n",
      "12/12 [==============================] - 0s 3ms/step - loss: 0.6818 - accuracy: 0.5133\n",
      "Epoch 10/20\n",
      "12/12 [==============================] - 0s 2ms/step - loss: 0.6795 - accuracy: 0.5664\n",
      "Epoch 11/20\n",
      "12/12 [==============================] - 0s 2ms/step - loss: 0.6777 - accuracy: 0.6106\n",
      "Epoch 12/20\n",
      "12/12 [==============================] - 0s 2ms/step - loss: 0.6753 - accuracy: 0.6195\n",
      "Epoch 13/20\n",
      "12/12 [==============================] - 0s 2ms/step - loss: 0.6728 - accuracy: 0.6195\n",
      "Epoch 14/20\n",
      "12/12 [==============================] - 0s 2ms/step - loss: 0.6708 - accuracy: 0.6283\n",
      "Epoch 15/20\n",
      "12/12 [==============================] - 0s 2ms/step - loss: 0.6682 - accuracy: 0.6460\n",
      "Epoch 16/20\n",
      "12/12 [==============================] - 0s 2ms/step - loss: 0.6654 - accuracy: 0.6283\n",
      "Epoch 17/20\n",
      "12/12 [==============================] - 0s 4ms/step - loss: 0.6624 - accuracy: 0.6637\n",
      "Epoch 18/20\n",
      "12/12 [==============================] - 0s 2ms/step - loss: 0.6588 - accuracy: 0.6549\n",
      "Epoch 19/20\n",
      "12/12 [==============================] - 0s 2ms/step - loss: 0.6562 - accuracy: 0.6460\n",
      "Epoch 20/20\n",
      "12/12 [==============================] - 0s 1ms/step - loss: 0.6526 - accuracy: 0.6726\n",
      "Test accuracy: 70.00\n"
     ]
    }
   ],
   "source": [
    "model = Sequential()\n",
    "model.add(Dense(16, input_dim=15, activation='relu'))\n",
    "model.add(Dense(8, activation='relu'))\n",
    "model.add(Dense(1, activation='sigmoid'))\n",
    "\n",
    "# Compile the model\n",
    "model.compile(loss='binary_crossentropy', optimizer='adam', metrics=['accuracy'])\n",
    "\n",
    "# Train the model\n",
    "model.fit(X_train, y_train, epochs=20, batch_size=10, verbose=1)\n",
    "\n",
    "# Evaluate the model on the test set\n",
    "loss, accuracy = model.evaluate(X_test, y_test, verbose=0)\n",
    "print('Test accuracy: %.2f' % (accuracy*100))"
   ]
  },
  {
   "attachments": {},
   "cell_type": "markdown",
   "id": "e25e1605",
   "metadata": {},
   "source": [
    "## Step 7 - Evaluating the Models"
   ]
  },
  {
   "attachments": {},
   "cell_type": "markdown",
   "id": "f82ea064",
   "metadata": {},
   "source": [
    "### Confusion Testing Accuracy and Matrix of all models"
   ]
  },
  {
   "attachments": {},
   "cell_type": "markdown",
   "id": "962ddec5",
   "metadata": {},
   "source": [
    "### Logistic Regression"
   ]
  },
  {
   "cell_type": "code",
   "execution_count": 62,
   "id": "63ae225d",
   "metadata": {
    "scrolled": true
   },
   "outputs": [
    {
     "name": "stdout",
     "output_type": "stream",
     "text": [
      "Accuracy:  85.0\n",
      "Confusion Matrix: \n",
      " [[9 3]\n",
      " [0 8]]\n"
     ]
    }
   ],
   "source": [
    "cm_lg = confusion_matrix(y_test, y_pred_lg)\n",
    "ac_lg = accuracy_score(y_test, y_pred_lg)\n",
    "print(\"Accuracy: \", ac_lg*100)\n",
    "print(\"Confusion Matrix: \\n\",cm_lg)"
   ]
  },
  {
   "attachments": {},
   "cell_type": "markdown",
   "id": "e48a7887",
   "metadata": {},
   "source": [
    "### Decision Tree"
   ]
  },
  {
   "cell_type": "code",
   "execution_count": 63,
   "id": "a42e4f70",
   "metadata": {},
   "outputs": [
    {
     "name": "stdout",
     "output_type": "stream",
     "text": [
      "Accuracy:  60.0\n",
      "Confusion Matrix: \n",
      " [[6 6]\n",
      " [2 6]]\n"
     ]
    }
   ],
   "source": [
    "cm_dt = confusion_matrix(y_test, y_pred_dt)\n",
    "ac_dt = accuracy_score(y_test, y_pred_dt)\n",
    "print(\"Accuracy: \", ac_dt*100)\n",
    "print(\"Confusion Matrix: \\n\",cm_dt)"
   ]
  },
  {
   "attachments": {},
   "cell_type": "markdown",
   "id": "427479ae",
   "metadata": {},
   "source": [
    "### ANN"
   ]
  },
  {
   "cell_type": "code",
   "execution_count": 64,
   "id": "809a266f",
   "metadata": {},
   "outputs": [
    {
     "name": "stdout",
     "output_type": "stream",
     "text": [
      "1/1 [==============================] - 0s 87ms/step\n",
      "Accuracy:  70.0\n",
      "Confusion Matrix: \n",
      " [[7 5]\n",
      " [1 7]]\n"
     ]
    }
   ],
   "source": [
    "y_pred_ann=model.predict(X_test)\n",
    "threshold = 0.5\n",
    "y_pred_ann = np.where(y_pred_ann >= threshold, 1, 0)\n",
    "cm_ann = confusion_matrix(y_test, y_pred_ann)\n",
    "ac_ann = accuracy_score(y_test, y_pred_ann)\n",
    "print(\"Accuracy: \", ac_ann*100)\n",
    "print(\"Confusion Matrix: \\n\",cm_ann)"
   ]
  },
  {
   "cell_type": "code",
   "execution_count": null,
   "id": "9c1e2d39",
   "metadata": {},
   "outputs": [],
   "source": []
  }
 ],
 "metadata": {
  "kernelspec": {
   "display_name": "Python 3 (ipykernel)",
   "language": "python",
   "name": "python3"
  },
  "language_info": {
   "codemirror_mode": {
    "name": "ipython",
    "version": 3
   },
   "file_extension": ".py",
   "mimetype": "text/x-python",
   "name": "python",
   "nbconvert_exporter": "python",
   "pygments_lexer": "ipython3",
   "version": "3.11.1"
  }
 },
 "nbformat": 4,
 "nbformat_minor": 5
}
