{
 "cells": [
  {
   "cell_type": "markdown",
   "id": "5cb2bf20",
   "metadata": {},
   "source": [
    "# Check whether the name is human name or not "
   ]
  },
  {
   "cell_type": "markdown",
   "id": "1c9487e4",
   "metadata": {},
   "source": [
    "## using nltk"
   ]
  },
  {
   "cell_type": "code",
   "execution_count": 6,
   "id": "55e93160",
   "metadata": {},
   "outputs": [
    {
     "name": "stderr",
     "output_type": "stream",
     "text": [
      "[nltk_data] Downloading package punkt to\n",
      "[nltk_data]     /home/user/data_science/m.osama/nltk_data...\n",
      "[nltk_data]   Unzipping tokenizers/punkt.zip.\n"
     ]
    },
    {
     "data": {
      "text/plain": [
       "True"
      ]
     },
     "execution_count": 6,
     "metadata": {},
     "output_type": "execute_result"
    }
   ],
   "source": [
    "import nltk\n",
    "nltk.download('punkt')"
   ]
  },
  {
   "cell_type": "code",
   "execution_count": 18,
   "id": "18cc816c",
   "metadata": {},
   "outputs": [
    {
     "name": "stdout",
     "output_type": "stream",
     "text": [
      "tag:  ('muneeb', 'O')\n",
      "else tag:  ('muneeb', 'O')\n"
     ]
    }
   ],
   "source": [
    "import nltk\n",
    "from nltk.tag import StanfordNERTagger\n",
    "st = StanfordNERTagger('english.all.3class.distsim.crf.ser.gz',\n",
    "                       'stanford-ner.jar')\n",
    "\n",
    "# Your text goes here\n",
    "text = \"Muneeb\"\n",
    "text = text.lower()\n",
    "for sent in nltk.sent_tokenize(text):\n",
    "    tokens = nltk.word_tokenize(sent)\n",
    "    tags = st.tag(tokens)\n",
    "    for tag in tags:\n",
    "        print('tag: ', tag)\n",
    "        if tag[1] == 'PERSON':\n",
    "            print(tag)\n",
    "        else:\n",
    "            print('else tag: ', tag)"
   ]
  },
  {
   "cell_type": "code",
   "execution_count": 1,
   "id": "0951bad5",
   "metadata": {},
   "outputs": [
    {
     "ename": "ImportError",
     "evalue": "cannot import name 'NERTagger' from 'nltk.tag.stanford' (/home/user/data_science/m.osama/anaconda3/lib/python3.11/site-packages/nltk/tag/stanford.py)",
     "output_type": "error",
     "traceback": [
      "\u001b[0;31m---------------------------------------------------------------------------\u001b[0m",
      "\u001b[0;31mImportError\u001b[0m                               Traceback (most recent call last)",
      "Cell \u001b[0;32mIn[1], line 2\u001b[0m\n\u001b[1;32m      1\u001b[0m \u001b[38;5;28;01mimport\u001b[39;00m \u001b[38;5;21;01mnltk\u001b[39;00m\n\u001b[0;32m----> 2\u001b[0m \u001b[38;5;28;01mfrom\u001b[39;00m \u001b[38;5;21;01mnltk\u001b[39;00m\u001b[38;5;21;01m.\u001b[39;00m\u001b[38;5;21;01mtag\u001b[39;00m\u001b[38;5;21;01m.\u001b[39;00m\u001b[38;5;21;01mstanford\u001b[39;00m \u001b[38;5;28;01mimport\u001b[39;00m NERTagger\n\u001b[1;32m      4\u001b[0m \u001b[38;5;66;03m# Load the Stanford NER model (you'll need to download it first)\u001b[39;00m\n\u001b[1;32m      5\u001b[0m st \u001b[38;5;241m=\u001b[39m NERTagger(\u001b[38;5;124m'\u001b[39m\u001b[38;5;124mstanford-ner/all.3class.distsim.crf.ser.gz\u001b[39m\u001b[38;5;124m'\u001b[39m, \u001b[38;5;124m'\u001b[39m\u001b[38;5;124mstanford-ner/stanford-ner.jar\u001b[39m\u001b[38;5;124m'\u001b[39m)\n",
      "\u001b[0;31mImportError\u001b[0m: cannot import name 'NERTagger' from 'nltk.tag.stanford' (/home/user/data_science/m.osama/anaconda3/lib/python3.11/site-packages/nltk/tag/stanford.py)"
     ]
    }
   ],
   "source": [
    "import nltk\n",
    "from nltk.tag.stanford import NERTagger\n",
    "\n",
    "# Load the Stanford NER model (you'll need to download it first)\n",
    "st = NERTagger('stanford-ner/all.3class.distsim.crf.ser.gz', 'stanford-ner/stanford-ner.jar')\n",
    "\n",
    "# Your text goes here\n",
    "text = \"YOUR TEXT GOES HERE\"\n",
    "\n",
    "for sent in nltk.sent_tokenize(text):\n",
    "    tokens = nltk.tokenize.word_tokenize(sent)\n",
    "    tags = st.tag(tokens)\n",
    "    for tag in tags:\n",
    "        if tag[1] == 'PERSON':\n",
    "            print(tag)\n"
   ]
  },
  {
   "cell_type": "code",
   "execution_count": 12,
   "id": "ef553e7b",
   "metadata": {},
   "outputs": [
    {
     "name": "stdout",
     "output_type": "stream",
     "text": [
      "Collecting nameparser\n",
      "  Downloading nameparser-1.1.3-py2.py3-none-any.whl (24 kB)\n",
      "Installing collected packages: nameparser\n",
      "Successfully installed nameparser-1.1.3\n",
      "Note: you may need to restart the kernel to use updated packages.\n"
     ]
    }
   ],
   "source": [
    "pip install nameparser"
   ]
  },
  {
   "cell_type": "markdown",
   "id": "8ccbc529",
   "metadata": {},
   "source": [
    "# Remove Repeating character "
   ]
  },
  {
   "cell_type": "code",
   "execution_count": 15,
   "id": "739f476d",
   "metadata": {},
   "outputs": [
    {
     "name": "stdout",
     "output_type": "stream",
     "text": [
      "  Column1 Column2\n",
      "0  danial     NaN\n",
      "1     NaN    john\n",
      "2    john    john\n",
      "3     bbb     NaN\n",
      "4     NaN     NaN\n",
      "5       A       C\n",
      "6      AA      AA\n",
      "7     AAA     AAA\n",
      "8     ABA     ABA\n"
     ]
    }
   ],
   "source": [
    "import pandas as pd\n",
    "import numpy as np\n",
    "\n",
    "# Create a sample dataframe with two columns\n",
    "data = {\n",
    "    \"Column1\": [\"danial\", 'aaaaa', \"john\", 'bbb', 'cccccc', 'A', 'AA', 'AAA', 'ABA'],\n",
    "    \"Column2\": ['aaaaa', 'john', 'john', 'dddd', 'eeeeee', 'C', 'AA', 'AAA', 'ABA']\n",
    "}\n",
    "df = pd.DataFrame(data)\n",
    "\n",
    "# Define a function to convert repeating characters to NaN\n",
    "def convert_repeating_to_nan(x):\n",
    "    # Check if the length of the set of characters is greater than 1\n",
    "    # and if the length of the string is greater than 1 (to exclude single characters)\n",
    "    if len(set(x)) == 1 and len(x) > 3:\n",
    "        return np.nan\n",
    "    return x\n",
    "\n",
    "# Apply the function to both columns\n",
    "df[[\"Column1\", \"Column2\"]] = df[[\"Column1\", \"Column2\"]].applymap(convert_repeating_to_nan)\n",
    "\n",
    "# Print the modified dataframe\n",
    "print(df)\n"
   ]
  },
  {
   "cell_type": "code",
   "execution_count": 6,
   "id": "256caceb",
   "metadata": {},
   "outputs": [],
   "source": [
    "import numpy as np\n",
    "data = {\n",
    "    \"Column1\": [\"john\", 'danial', np.nan, 'aa', np.nan, 'danial', 'danial', 'danial'],\n",
    "    \"Column2\": [\"danial\", 'av', np.nan, 'danial', np.nan,  'john', 'john', 'john'],\n",
    "    \"gender\": [np.nan, np.nan, 'F', np.nan, np.nan,  'M', 'F', 'M']\n",
    "    \n",
    "}\n",
    "\n",
    "df = pd.DataFrame(data)"
   ]
  },
  {
   "cell_type": "markdown",
   "id": "1e0ab9d3",
   "metadata": {},
   "source": [
    "# Gender Prediction"
   ]
  },
  {
   "cell_type": "code",
   "execution_count": 12,
   "id": "563e3a3b",
   "metadata": {},
   "outputs": [],
   "source": [
    "import gender_guesser.detector as gender\n"
   ]
  },
  {
   "cell_type": "markdown",
   "id": "4add19cc",
   "metadata": {},
   "source": [
    "## single name prediction"
   ]
  },
  {
   "cell_type": "code",
   "execution_count": 38,
   "id": "5fed7520",
   "metadata": {},
   "outputs": [
    {
     "data": {
      "text/plain": [
       "'unknown'"
      ]
     },
     "execution_count": 38,
     "metadata": {},
     "output_type": "execute_result"
    }
   ],
   "source": [
    "name = 'btn'\n",
    "d = gender.Detector()\n",
    "\n",
    "gender_prediction = d.get_gender(name.lower().capitalize())\n",
    "gender_prediction"
   ]
  },
  {
   "cell_type": "markdown",
   "id": "66a124f1",
   "metadata": {},
   "source": [
    "## use dataframe for multiple prediction"
   ]
  },
  {
   "cell_type": "code",
   "execution_count": 19,
   "id": "1c35afeb",
   "metadata": {},
   "outputs": [],
   "source": [
    "d = gender.Detector()\n",
    "\n",
    "def gender_prediction(row):\n",
    "#     print( 'col1',row[0],  'col2',row[1],  'gen', row[2])\n",
    "    fname = row[0]\n",
    "    lname = row[1]\n",
    "    gen = row[2]\n",
    "    if pd.isna(gen) == True:\n",
    "#         print('gender nullll ')\n",
    "        gender_prediction = ''\n",
    "        if isinstance(fname, str) and len(fname) > 3:\n",
    "            gender_prediction = d.get_gender(fname.lower().capitalize())\n",
    "        if isinstance(fname, str) and len(fname) <=3 and pd.isna(lname) == False:\n",
    "            name = fname + lname\n",
    "            gender_prediction = d.get_gender(name.lower().capitalize())\n",
    "        if gender_prediction != '' and gender_prediction == 'male':\n",
    "                gender_prediction = \"M\" \n",
    "        elif gender_prediction != '' and gender_prediction == 'female':\n",
    "            gender_prediction = \"F\"\n",
    "        else:\n",
    "            gender_prediction = np.nan\n",
    "        return gender_prediction\n",
    "    else:\n",
    "        return gen"
   ]
  },
  {
   "cell_type": "code",
   "execution_count": 20,
   "id": "3ce4954c",
   "metadata": {},
   "outputs": [],
   "source": [
    "df['gender2'] = df[['Column1', 'Column2', 'gender']].apply(gender_prediction, axis=1)\n"
   ]
  },
  {
   "cell_type": "code",
   "execution_count": 21,
   "id": "03450e5e",
   "metadata": {},
   "outputs": [
    {
     "data": {
      "text/html": [
       "<div>\n",
       "<style scoped>\n",
       "    .dataframe tbody tr th:only-of-type {\n",
       "        vertical-align: middle;\n",
       "    }\n",
       "\n",
       "    .dataframe tbody tr th {\n",
       "        vertical-align: top;\n",
       "    }\n",
       "\n",
       "    .dataframe thead th {\n",
       "        text-align: right;\n",
       "    }\n",
       "</style>\n",
       "<table border=\"1\" class=\"dataframe\">\n",
       "  <thead>\n",
       "    <tr style=\"text-align: right;\">\n",
       "      <th></th>\n",
       "      <th>Column1</th>\n",
       "      <th>Column2</th>\n",
       "      <th>gender</th>\n",
       "      <th>gender2</th>\n",
       "    </tr>\n",
       "  </thead>\n",
       "  <tbody>\n",
       "    <tr>\n",
       "      <th>0</th>\n",
       "      <td>john</td>\n",
       "      <td>danial</td>\n",
       "      <td>NaN</td>\n",
       "      <td>M</td>\n",
       "    </tr>\n",
       "    <tr>\n",
       "      <th>1</th>\n",
       "      <td>danial</td>\n",
       "      <td>av</td>\n",
       "      <td>NaN</td>\n",
       "      <td>M</td>\n",
       "    </tr>\n",
       "    <tr>\n",
       "      <th>2</th>\n",
       "      <td>NaN</td>\n",
       "      <td>NaN</td>\n",
       "      <td>F</td>\n",
       "      <td>F</td>\n",
       "    </tr>\n",
       "    <tr>\n",
       "      <th>3</th>\n",
       "      <td>aa</td>\n",
       "      <td>danial</td>\n",
       "      <td>NaN</td>\n",
       "      <td>NaN</td>\n",
       "    </tr>\n",
       "    <tr>\n",
       "      <th>4</th>\n",
       "      <td>NaN</td>\n",
       "      <td>NaN</td>\n",
       "      <td>NaN</td>\n",
       "      <td>NaN</td>\n",
       "    </tr>\n",
       "    <tr>\n",
       "      <th>5</th>\n",
       "      <td>danial</td>\n",
       "      <td>john</td>\n",
       "      <td>M</td>\n",
       "      <td>M</td>\n",
       "    </tr>\n",
       "    <tr>\n",
       "      <th>6</th>\n",
       "      <td>danial</td>\n",
       "      <td>john</td>\n",
       "      <td>F</td>\n",
       "      <td>F</td>\n",
       "    </tr>\n",
       "    <tr>\n",
       "      <th>7</th>\n",
       "      <td>danial</td>\n",
       "      <td>john</td>\n",
       "      <td>M</td>\n",
       "      <td>M</td>\n",
       "    </tr>\n",
       "  </tbody>\n",
       "</table>\n",
       "</div>"
      ],
      "text/plain": [
       "  Column1 Column2 gender gender2\n",
       "0    john  danial    NaN       M\n",
       "1  danial      av    NaN       M\n",
       "2     NaN     NaN      F       F\n",
       "3      aa  danial    NaN     NaN\n",
       "4     NaN     NaN    NaN     NaN\n",
       "5  danial    john      M       M\n",
       "6  danial    john      F       F\n",
       "7  danial    john      M       M"
      ]
     },
     "execution_count": 21,
     "metadata": {},
     "output_type": "execute_result"
    }
   ],
   "source": [
    "df"
   ]
  },
  {
   "cell_type": "code",
   "execution_count": 18,
   "id": "7818e82e",
   "metadata": {},
   "outputs": [
    {
     "data": {
      "text/html": [
       "<div>\n",
       "<style scoped>\n",
       "    .dataframe tbody tr th:only-of-type {\n",
       "        vertical-align: middle;\n",
       "    }\n",
       "\n",
       "    .dataframe tbody tr th {\n",
       "        vertical-align: top;\n",
       "    }\n",
       "\n",
       "    .dataframe thead th {\n",
       "        text-align: right;\n",
       "    }\n",
       "</style>\n",
       "<table border=\"1\" class=\"dataframe\">\n",
       "  <thead>\n",
       "    <tr style=\"text-align: right;\">\n",
       "      <th></th>\n",
       "      <th>Column1</th>\n",
       "      <th>Column2</th>\n",
       "      <th>gender</th>\n",
       "      <th>gender2</th>\n",
       "    </tr>\n",
       "  </thead>\n",
       "  <tbody>\n",
       "    <tr>\n",
       "      <th>0</th>\n",
       "      <td>john</td>\n",
       "      <td>danial</td>\n",
       "      <td>NaN</td>\n",
       "      <td>None</td>\n",
       "    </tr>\n",
       "    <tr>\n",
       "      <th>1</th>\n",
       "      <td>danial</td>\n",
       "      <td>av</td>\n",
       "      <td>NaN</td>\n",
       "      <td>None</td>\n",
       "    </tr>\n",
       "    <tr>\n",
       "      <th>3</th>\n",
       "      <td>aa</td>\n",
       "      <td>danial</td>\n",
       "      <td>NaN</td>\n",
       "      <td>None</td>\n",
       "    </tr>\n",
       "    <tr>\n",
       "      <th>4</th>\n",
       "      <td>NaN</td>\n",
       "      <td>NaN</td>\n",
       "      <td>NaN</td>\n",
       "      <td>None</td>\n",
       "    </tr>\n",
       "  </tbody>\n",
       "</table>\n",
       "</div>"
      ],
      "text/plain": [
       "  Column1 Column2 gender gender2\n",
       "0    john  danial    NaN    None\n",
       "1  danial      av    NaN    None\n",
       "3      aa  danial    NaN    None\n",
       "4     NaN     NaN    NaN    None"
      ]
     },
     "execution_count": 18,
     "metadata": {},
     "output_type": "execute_result"
    }
   ],
   "source": [
    "df[pd.isna(df['gender'])]"
   ]
  },
  {
   "cell_type": "markdown",
   "id": "2f385cb2",
   "metadata": {},
   "source": [
    "# remove row containing an specific value"
   ]
  },
  {
   "cell_type": "code",
   "execution_count": 42,
   "id": "4513d4bf",
   "metadata": {},
   "outputs": [
    {
     "name": "stdout",
     "output_type": "stream",
     "text": [
      "    daysago  line_race  rating\n",
      "0        62         11      56\n",
      "1        83         11      67\n",
      "2       111          9      66\n",
      "3       139         10      83\n",
      "4       160         10      88\n",
      "5       204          9      52\n",
      "6       222          8      66\n",
      "7       245          9      70\n",
      "9       258         11      68\n",
      "10      275          8      72\n"
     ]
    }
   ],
   "source": [
    "import pandas as pd\n",
    "\n",
    "# Create a sample DataFrame\n",
    "data = {\n",
    "    'daysago': [62, 83, 111, 139, 160, 204, 222, 245,0, 258, 275],\n",
    "    'line_race': [11, 11, 9, 10, 10, 9, 8, 9,0, 11, 8],\n",
    "    'rating': [56, 67, 66, 83, 88, 52, 66, 70,0, 68, 72]\n",
    "}\n",
    "\n",
    "df = pd.DataFrame(data)\n",
    "\n",
    "# Remove rows where 'line_race' is equal to 0\n",
    "df = df[df['line_race'] != 0]\n",
    "\n",
    "# Print the updated DataFrame\n",
    "print(df)\n"
   ]
  },
  {
   "cell_type": "markdown",
   "id": "18b60fa9",
   "metadata": {},
   "source": [
    "# put np.nan on black and spaces"
   ]
  },
  {
   "cell_type": "code",
   "execution_count": 1,
   "id": "e000ba31",
   "metadata": {},
   "outputs": [
    {
     "name": "stdout",
     "output_type": "stream",
     "text": [
      "          A    B    C\n",
      "0 -0.532681  foo  0.0\n",
      "1  1.490752  bar  1.0\n",
      "2 -1.387326  foo  2.0\n",
      "3  0.814772  baz  NaN\n",
      "4 -0.222552  NaN  4.0\n",
      "5 -1.176781  qux  NaN\n"
     ]
    }
   ],
   "source": [
    "import pandas as pd\n",
    "import numpy as np\n",
    "\n",
    "# Create a sample DataFrame\n",
    "data = {\n",
    "    'A': [-0.532681, 1.490752, -1.387326, 0.814772, -0.222552, -1.176781],\n",
    "    'B': ['foo', 'bar', 'foo', 'baz', '   ', 'qux'],\n",
    "    'C': [0, 1, 2, ' ', 4, '  ']\n",
    "}\n",
    "\n",
    "df = pd.DataFrame(data)\n",
    "\n",
    "# Replace fields that are entirely space (or empty) with NaN\n",
    "df = df.replace(r'^\\s*$', np.nan, regex=True)\n",
    "\n",
    "print(df)\n"
   ]
  },
  {
   "cell_type": "markdown",
   "id": "c0ca5182",
   "metadata": {},
   "source": [
    "# use on multiple columns "
   ]
  },
  {
   "cell_type": "code",
   "execution_count": 9,
   "id": "cd859120",
   "metadata": {},
   "outputs": [],
   "source": [
    "cols = ['C', 'D']\n",
    "df[cols] = df[cols].replace(r'^\\s*$', np.nan, regex=True)"
   ]
  },
  {
   "cell_type": "code",
   "execution_count": 10,
   "id": "7ba74b39",
   "metadata": {},
   "outputs": [
    {
     "data": {
      "text/html": [
       "<div>\n",
       "<style scoped>\n",
       "    .dataframe tbody tr th:only-of-type {\n",
       "        vertical-align: middle;\n",
       "    }\n",
       "\n",
       "    .dataframe tbody tr th {\n",
       "        vertical-align: top;\n",
       "    }\n",
       "\n",
       "    .dataframe thead th {\n",
       "        text-align: right;\n",
       "    }\n",
       "</style>\n",
       "<table border=\"1\" class=\"dataframe\">\n",
       "  <thead>\n",
       "    <tr style=\"text-align: right;\">\n",
       "      <th></th>\n",
       "      <th>A</th>\n",
       "      <th>B</th>\n",
       "      <th>C</th>\n",
       "      <th>D</th>\n",
       "    </tr>\n",
       "  </thead>\n",
       "  <tbody>\n",
       "    <tr>\n",
       "      <th>2000-01-01</th>\n",
       "      <td>-0.532681</td>\n",
       "      <td>foo</td>\n",
       "      <td>0.0</td>\n",
       "      <td>1.0</td>\n",
       "    </tr>\n",
       "    <tr>\n",
       "      <th>2000-01-02</th>\n",
       "      <td>1.490752</td>\n",
       "      <td>bar</td>\n",
       "      <td>1.0</td>\n",
       "      <td>3.0</td>\n",
       "    </tr>\n",
       "    <tr>\n",
       "      <th>2000-01-03</th>\n",
       "      <td>-1.387326</td>\n",
       "      <td>foo</td>\n",
       "      <td>2.0</td>\n",
       "      <td>NaN</td>\n",
       "    </tr>\n",
       "    <tr>\n",
       "      <th>2000-01-04</th>\n",
       "      <td>0.814772</td>\n",
       "      <td>baz</td>\n",
       "      <td>NaN</td>\n",
       "      <td>5.0</td>\n",
       "    </tr>\n",
       "    <tr>\n",
       "      <th>2000-01-05</th>\n",
       "      <td>-0.222552</td>\n",
       "      <td></td>\n",
       "      <td>4.0</td>\n",
       "      <td>NaN</td>\n",
       "    </tr>\n",
       "    <tr>\n",
       "      <th>2000-01-06</th>\n",
       "      <td>-1.176781</td>\n",
       "      <td>qux</td>\n",
       "      <td>NaN</td>\n",
       "      <td>7.0</td>\n",
       "    </tr>\n",
       "  </tbody>\n",
       "</table>\n",
       "</div>"
      ],
      "text/plain": [
       "                   A    B    C    D\n",
       "2000-01-01 -0.532681  foo  0.0  1.0\n",
       "2000-01-02  1.490752  bar  1.0  3.0\n",
       "2000-01-03 -1.387326  foo  2.0  NaN\n",
       "2000-01-04  0.814772  baz  NaN  5.0\n",
       "2000-01-05 -0.222552       4.0  NaN\n",
       "2000-01-06 -1.176781  qux  NaN  7.0"
      ]
     },
     "execution_count": 10,
     "metadata": {},
     "output_type": "execute_result"
    }
   ],
   "source": [
    "df"
   ]
  },
  {
   "cell_type": "markdown",
   "id": "96c15ef9",
   "metadata": {},
   "source": [
    "# validate ip pattern"
   ]
  },
  {
   "cell_type": "code",
   "execution_count": 18,
   "id": "eb459f20",
   "metadata": {},
   "outputs": [],
   "source": [
    "import re\n",
    " \n",
    "# Make a regular expression\n",
    "# for validating an Ip-address\n",
    "regex = \"^((25[0-5]|2[0-4][0-9]|1[0-9][0-9]|[1-9]?[0-9])\\.){3}(25[0-5]|2[0-4][0-9]|1[0-9][0-9]|[1-9]?[0-9])$\"\n",
    " \n",
    " \n",
    "     \n",
    "# Define a function for\n",
    "# validate an Ip address\n",
    "def check(Ip): \n",
    " \n",
    "    # pass the regular expression\n",
    "    # and the string in search() method\n",
    "    if(re.search(regex, Ip)): \n",
    "        print(\"Valid Ip address\") \n",
    "         \n",
    "    else: \n",
    "        print(\"Invalid Ip address\") "
   ]
  },
  {
   "cell_type": "code",
   "execution_count": 23,
   "id": "6eb077dc",
   "metadata": {},
   "outputs": [
    {
     "name": "stdout",
     "output_type": "stream",
     "text": [
      "Valid Ip address\n",
      "Valid Ip address\n",
      "Invalid Ip address\n",
      "Valid Ip address\n"
     ]
    }
   ],
   "source": [
    "check('192.168.0.1')\n",
    "check('110.234.52.124')\n",
    "check('666.1.2.2')\n",
    "check('25.99.208.255')"
   ]
  },
  {
   "cell_type": "markdown",
   "id": "77fea62f",
   "metadata": {},
   "source": [
    "# Append Dataframe"
   ]
  },
  {
   "cell_type": "code",
   "execution_count": 2,
   "id": "5be97e13",
   "metadata": {},
   "outputs": [
    {
     "data": {
      "text/html": [
       "<div>\n",
       "<style scoped>\n",
       "    .dataframe tbody tr th:only-of-type {\n",
       "        vertical-align: middle;\n",
       "    }\n",
       "\n",
       "    .dataframe tbody tr th {\n",
       "        vertical-align: top;\n",
       "    }\n",
       "\n",
       "    .dataframe thead th {\n",
       "        text-align: right;\n",
       "    }\n",
       "</style>\n",
       "<table border=\"1\" class=\"dataframe\">\n",
       "  <thead>\n",
       "    <tr style=\"text-align: right;\">\n",
       "      <th></th>\n",
       "      <th>A</th>\n",
       "      <th>B</th>\n",
       "    </tr>\n",
       "  </thead>\n",
       "  <tbody>\n",
       "    <tr>\n",
       "      <th>0</th>\n",
       "      <td>A0</td>\n",
       "      <td>B0</td>\n",
       "    </tr>\n",
       "    <tr>\n",
       "      <th>1</th>\n",
       "      <td>A1</td>\n",
       "      <td>B1</td>\n",
       "    </tr>\n",
       "    <tr>\n",
       "      <th>2</th>\n",
       "      <td>A2</td>\n",
       "      <td>B2</td>\n",
       "    </tr>\n",
       "    <tr>\n",
       "      <th>3</th>\n",
       "      <td>A3</td>\n",
       "      <td>B3</td>\n",
       "    </tr>\n",
       "    <tr>\n",
       "      <th>0</th>\n",
       "      <td>A4</td>\n",
       "      <td>B4</td>\n",
       "    </tr>\n",
       "    <tr>\n",
       "      <th>1</th>\n",
       "      <td>A5</td>\n",
       "      <td>B5</td>\n",
       "    </tr>\n",
       "    <tr>\n",
       "      <th>2</th>\n",
       "      <td>A6</td>\n",
       "      <td>B6</td>\n",
       "    </tr>\n",
       "    <tr>\n",
       "      <th>3</th>\n",
       "      <td>A7</td>\n",
       "      <td>B7</td>\n",
       "    </tr>\n",
       "  </tbody>\n",
       "</table>\n",
       "</div>"
      ],
      "text/plain": [
       "    A   B\n",
       "0  A0  B0\n",
       "1  A1  B1\n",
       "2  A2  B2\n",
       "3  A3  B3\n",
       "0  A4  B4\n",
       "1  A5  B5\n",
       "2  A6  B6\n",
       "3  A7  B7"
      ]
     },
     "execution_count": 2,
     "metadata": {},
     "output_type": "execute_result"
    }
   ],
   "source": [
    "import pandas as pd\n",
    "\n",
    "# Create two DataFrames\n",
    "df1 = pd.DataFrame({'A': ['A0', 'A1', 'A2', 'A3'], 'B': ['B0', 'B1', 'B2', 'B3']})\n",
    "df2 = pd.DataFrame({'A': ['A4', 'A5', 'A6', 'A7'], 'B': ['B4', 'B5', 'B6', 'B7']})\n",
    "\n",
    "\n",
    "concatenated_df = pd.concat([df1, df2], axis=0)\n",
    "\n",
    "# Display the result\n",
    "concatenated_df\n"
   ]
  },
  {
   "cell_type": "code",
   "execution_count": null,
   "id": "091814c4",
   "metadata": {},
   "outputs": [],
   "source": []
  }
 ],
 "metadata": {
  "kernelspec": {
   "display_name": "Python 3 (ipykernel)",
   "language": "python",
   "name": "python3"
  },
  "language_info": {
   "codemirror_mode": {
    "name": "ipython",
    "version": 3
   },
   "file_extension": ".py",
   "mimetype": "text/x-python",
   "name": "python",
   "nbconvert_exporter": "python",
   "pygments_lexer": "ipython3",
   "version": "3.11.3"
  }
 },
 "nbformat": 4,
 "nbformat_minor": 5
}
