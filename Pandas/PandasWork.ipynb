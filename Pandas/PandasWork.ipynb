{
  "cells": [
    {
      "cell_type": "markdown",
      "metadata": {
        "id": "view-in-github",
        "colab_type": "text"
      },
      "source": [
        "<a href=\"https://colab.research.google.com/github/Muhammad-Usama-07/Data-Science-Journey/blob/main/Pandas/PandasWork.ipynb\" target=\"_parent\"><img src=\"https://colab.research.google.com/assets/colab-badge.svg\" alt=\"Open In Colab\"/></a>"
      ]
    },
    {
      "cell_type": "markdown",
      "metadata": {
        "id": "mdUXJuwxGqvx"
      },
      "source": [
        "# What is Pandas in python?"
      ]
    },
    {
      "cell_type": "markdown",
      "metadata": {
        "id": "Yc6xbAGcGqv4"
      },
      "source": [
        "pandas is a software library written for the Python programming language for data manipulation and analysis. In particular, it offers data structures and operations for manipulating numerical tables and time series.\n",
        "To get started with pandas, you will need to get comfortable with its two workhorse data structures: Series and DataFrame. While they are not a universal solution for every problem, they provide a solid, easy-to-use basis for most applications."
      ]
    },
    {
      "cell_type": "markdown",
      "metadata": {
        "id": "_03jG-hvGqv5"
      },
      "source": [
        "# *Working with Series in Pandas"
      ]
    },
    {
      "cell_type": "markdown",
      "metadata": {
        "id": "63l6hwRBGqv5"
      },
      "source": [
        "## Pandas Series Object"
      ]
    },
    {
      "cell_type": "markdown",
      "metadata": {
        "id": "vlL-gU1fGqv6"
      },
      "source": [
        "A Series is the primary building block of pandas."
      ]
    },
    {
      "cell_type": "markdown",
      "metadata": {
        "id": "tPrZ-f8YGqv6"
      },
      "source": [
        "Series represents a one-dimensional labeled indexed array based on the NumPy ndarray.\n",
        "Like an array, a Series can hold zero or more values of any single data type"
      ]
    },
    {
      "cell_type": "markdown",
      "metadata": {
        "id": "ClfzzyzfGqv7"
      },
      "source": [
        "### Part-(a). Creating Series"
      ]
    },
    {
      "cell_type": "markdown",
      "metadata": {
        "id": "qg9Z3IyQGqv8"
      },
      "source": [
        " Series can be created and initialized by passing either a scalar value, a NumPy ndarray, a Python list, or a Python Dict as the data parameter of the Series constructor. This is the default parameter and does not need to be specified if it is the first item."
      ]
    },
    {
      "cell_type": "code",
      "execution_count": null,
      "metadata": {
        "id": "sWMLHIkJGqv9"
      },
      "outputs": [],
      "source": [
        "import numpy as np \n",
        "import pandas as pd "
      ]
    },
    {
      "cell_type": "markdown",
      "metadata": {
        "id": "6Zq51rrVGqv-"
      },
      "source": [
        "#### 1. Create one item Series"
      ]
    },
    {
      "cell_type": "code",
      "execution_count": null,
      "metadata": {
        "id": "qgph-hgVGqv_",
        "outputId": "faf4a87d-2207-4dd0-a39f-820cca823f67"
      },
      "outputs": [
        {
          "data": {
            "text/plain": [
              "0    3\n",
              "dtype: int64"
            ]
          },
          "execution_count": 2,
          "metadata": {},
          "output_type": "execute_result"
        }
      ],
      "source": [
        "s1 = pd.Series(3)\n",
        "s1"
      ]
    },
    {
      "cell_type": "markdown",
      "metadata": {
        "id": "fC6PFf6jGqwB"
      },
      "source": [
        "#### 2. create a series of multiple items using a list"
      ]
    },
    {
      "cell_type": "code",
      "execution_count": null,
      "metadata": {
        "id": "CaTys6XyGqwB",
        "outputId": "357db51c-4d5b-4c91-a084-35441a22f0fc"
      },
      "outputs": [
        {
          "data": {
            "text/plain": [
              "0    1\n",
              "1    2\n",
              "2    3\n",
              "3    4\n",
              "4    5\n",
              "dtype: int64"
            ]
          },
          "execution_count": 3,
          "metadata": {},
          "output_type": "execute_result"
        }
      ],
      "source": [
        "ser_mul = pd.Series([1,2,3,4,5])\n",
        "ser_mul"
      ]
    },
    {
      "cell_type": "markdown",
      "metadata": {
        "id": "gjGIOdiFGqwC"
      },
      "source": [
        "#### 3. getting the values in the Series"
      ]
    },
    {
      "cell_type": "code",
      "execution_count": null,
      "metadata": {
        "id": "aacze6JrGqwC",
        "outputId": "19deddb6-bea8-437b-b36e-26537692ef97"
      },
      "outputs": [
        {
          "data": {
            "text/plain": [
              "array([1, 2, 3, 4, 5], dtype=int64)"
            ]
          },
          "execution_count": 4,
          "metadata": {},
          "output_type": "execute_result"
        }
      ],
      "source": [
        "ser_mul.values"
      ]
    },
    {
      "cell_type": "markdown",
      "metadata": {
        "id": "bseIYq3HGqwD"
      },
      "source": [
        "#### 4. getting the index of the Series"
      ]
    },
    {
      "cell_type": "code",
      "execution_count": null,
      "metadata": {
        "id": "S_dbFAMJGqwD",
        "outputId": "752303c3-afaf-4799-9f1a-bf2087b0cdfb"
      },
      "outputs": [
        {
          "data": {
            "text/plain": [
              "RangeIndex(start=0, stop=5, step=1)"
            ]
          },
          "execution_count": 5,
          "metadata": {},
          "output_type": "execute_result"
        }
      ],
      "source": [
        "ser_mul.index"
      ]
    },
    {
      "cell_type": "markdown",
      "metadata": {
        "id": "dEIq4G1qGqwE"
      },
      "source": [
        "#### 5. Explicitly Creating index(which are string but not integar)"
      ]
    },
    {
      "cell_type": "code",
      "execution_count": null,
      "metadata": {
        "id": "PwEdYHInGqwE",
        "outputId": "ca4f0692-5c46-4cf9-f7f7-f83c2fef8398"
      },
      "outputs": [
        {
          "data": {
            "text/plain": [
              "a    1\n",
              "b    2\n",
              "c    3\n",
              "d    4\n",
              "dtype: int64"
            ]
          },
          "execution_count": 6,
          "metadata": {},
          "output_type": "execute_result"
        }
      ],
      "source": [
        "ser2_str_index = pd.Series([1,2,3,4], index=['a','b','c','d'])\n",
        "ser2_str_index"
      ]
    },
    {
      "cell_type": "markdown",
      "metadata": {
        "id": "FC0FrlXkGqwF"
      },
      "source": [
        "#### 6. Accesssing value by label, Accesssing value by integar "
      ]
    },
    {
      "cell_type": "code",
      "execution_count": null,
      "metadata": {
        "id": "gOIAEOVGGqwF",
        "outputId": "3ea40a3c-ee7b-406d-8c39-42f849ee909f"
      },
      "outputs": [
        {
          "name": "stdout",
          "output_type": "stream",
          "text": [
            "By Lable, The value is: 4 \n",
            "By Lable, The value is: 4 \n"
          ]
        }
      ],
      "source": [
        "print(f\"By Lable, The value is: {ser2_str_index['d']} \")\n",
        "print(f\"By Lable, The value is: {ser2_str_index[3]} \")"
      ]
    },
    {
      "cell_type": "markdown",
      "metadata": {
        "id": "MDOD2ISxGqwG"
      },
      "source": [
        "#### 7. create Series from an existing index(scalar value with be copied at each index label)"
      ]
    },
    {
      "cell_type": "code",
      "execution_count": null,
      "metadata": {
        "id": "ims4iYHSGqwG",
        "outputId": "b82aa660-9471-4d13-c6d3-24c7e7b3c855"
      },
      "outputs": [
        {
          "data": {
            "text/plain": [
              "a    A\n",
              "b    B\n",
              "c    C\n",
              "d    D\n",
              "dtype: object"
            ]
          },
          "execution_count": 8,
          "metadata": {},
          "output_type": "execute_result"
        }
      ],
      "source": [
        "ser3_str = pd.Series(['A','B','C','D'], index = ser2_str_index.index)\n",
        "ser3_str"
      ]
    },
    {
      "cell_type": "markdown",
      "metadata": {
        "id": "ThjqKGxuGqwH"
      },
      "source": [
        "#### 8. creating Series from dict"
      ]
    },
    {
      "cell_type": "code",
      "execution_count": null,
      "metadata": {
        "id": "cdqJG78oGqwI",
        "outputId": "4d4da78e-b2f6-40f0-a3e0-bd8edddbbd90"
      },
      "outputs": [
        {
          "data": {
            "text/plain": [
              "a    1\n",
              "b    2\n",
              "c    3\n",
              "d    4\n",
              "dtype: int64"
            ]
          },
          "execution_count": 9,
          "metadata": {},
          "output_type": "execute_result"
        }
      ],
      "source": [
        "ser_dict = pd.Series({'a':1,\n",
        "                      'b':2,\n",
        "                      'c':3,\n",
        "                      'd':4})\n",
        "ser_dict"
      ]
    },
    {
      "cell_type": "markdown",
      "metadata": {
        "id": "ZhWxUE9-GqwI"
      },
      "source": [
        "#### 9. Creating Series from numpy array"
      ]
    },
    {
      "cell_type": "code",
      "execution_count": null,
      "metadata": {
        "id": "XJR4Qv2jGqwI",
        "outputId": "0074293b-75e8-48d1-adaa-c0b38674e290"
      },
      "outputs": [
        {
          "data": {
            "text/plain": [
              "0    11\n",
              "1    33\n",
              "2    22\n",
              "3    44\n",
              "dtype: int32"
            ]
          },
          "execution_count": 10,
          "metadata": {},
          "output_type": "execute_result"
        }
      ],
      "source": [
        "seri_num = pd.Series(np.array([11,33,22,44]))\n",
        "seri_num"
      ]
    },
    {
      "cell_type": "markdown",
      "metadata": {
        "id": "arRJvP13GqwJ"
      },
      "source": [
        "#### 10. Checking Size, shape, uniqueness, and counts of values"
      ]
    },
    {
      "cell_type": "code",
      "execution_count": null,
      "metadata": {
        "id": "H3YuuNd5GqwK",
        "outputId": "c2aaaa4e-5311-4766-df0d-89ebb0ec4d87"
      },
      "outputs": [
        {
          "data": {
            "text/plain": [
              "0     0.0\n",
              "1     1.0\n",
              "2     1.0\n",
              "3     2.0\n",
              "4     3.0\n",
              "5     4.0\n",
              "6     4.0\n",
              "7     5.0\n",
              "8     6.0\n",
              "9     7.0\n",
              "10    NaN\n",
              "dtype: float64"
            ]
          },
          "execution_count": 11,
          "metadata": {},
          "output_type": "execute_result"
        }
      ],
      "source": [
        "# example series, which also contains a NaN(not a number)\n",
        "# numpy nan property is used here to create an NaN \n",
        "s = pd.Series([0, 1, 1, 2, 3, 4, 4, 5, 6, 7,np.nan]) \n",
        "s"
      ]
    },
    {
      "cell_type": "code",
      "execution_count": null,
      "metadata": {
        "id": "kX-Ntrt_GqwK",
        "outputId": "a1d840fc-0a8e-4f2c-c280-91bf1e16eb0d"
      },
      "outputs": [
        {
          "name": "stdout",
          "output_type": "stream",
          "text": [
            "11\n",
            "11\n",
            "(11,)\n",
            "10\n",
            "[ 0.  1.  2.  3.  4.  5.  6.  7. nan]\n",
            "4.0    2\n",
            "1.0    2\n",
            "7.0    1\n",
            "6.0    1\n",
            "5.0    1\n",
            "3.0    1\n",
            "2.0    1\n",
            "0.0    1\n",
            "dtype: int64\n"
          ]
        }
      ],
      "source": [
        "print(len(s))\n",
        "print(s.size)\n",
        "print(s.shape)\n",
        "print(s.count())\n",
        "print(s.unique())\n",
        "print(s.value_counts())"
      ]
    },
    {
      "cell_type": "markdown",
      "metadata": {
        "id": "0Y1KsT40GqwL"
      },
      "source": [
        "#### 11. Peeking at data with heads, tails, and take"
      ]
    },
    {
      "cell_type": "code",
      "execution_count": null,
      "metadata": {
        "id": "9Kp88BGsGqwL",
        "outputId": "cdfd3c61-e98e-48c4-cc28-9493a9a6f26e"
      },
      "outputs": [
        {
          "data": {
            "text/plain": [
              "0    0.0\n",
              "1    1.0\n",
              "2    1.0\n",
              "3    2.0\n",
              "4    3.0\n",
              "dtype: float64"
            ]
          },
          "execution_count": 13,
          "metadata": {},
          "output_type": "execute_result"
        }
      ],
      "source": [
        "# first five values\n",
        "s.head()"
      ]
    },
    {
      "cell_type": "code",
      "execution_count": null,
      "metadata": {
        "id": "W_24wcmxGqwM",
        "outputId": "c6f72ab3-330e-4534-af38-d6a1eaff6ab8"
      },
      "outputs": [
        {
          "data": {
            "text/plain": [
              "6     4.0\n",
              "7     5.0\n",
              "8     6.0\n",
              "9     7.0\n",
              "10    NaN\n",
              "dtype: float64"
            ]
          },
          "execution_count": 14,
          "metadata": {},
          "output_type": "execute_result"
        }
      ],
      "source": [
        "# last five values\n",
        "s.tail()"
      ]
    },
    {
      "cell_type": "code",
      "execution_count": null,
      "metadata": {
        "id": "bXOAnRhNGqwM",
        "outputId": "0c4635de-2565-4eab-9be2-be1fa3b19068"
      },
      "outputs": [
        {
          "data": {
            "text/plain": [
              "0    0.0\n",
              "1    1.0\n",
              "2    1.0\n",
              "dtype: float64"
            ]
          },
          "execution_count": 15,
          "metadata": {},
          "output_type": "execute_result"
        }
      ],
      "source": [
        "# first three values\n",
        "s.head(n = 3)"
      ]
    },
    {
      "cell_type": "code",
      "execution_count": null,
      "metadata": {
        "id": "r-XAUt3PGqwM",
        "outputId": "cfa046d1-a17d-4ac2-a444-ad0b7e79af25"
      },
      "outputs": [
        {
          "data": {
            "text/plain": [
              "8     6.0\n",
              "9     7.0\n",
              "10    NaN\n",
              "dtype: float64"
            ]
          },
          "execution_count": 16,
          "metadata": {},
          "output_type": "execute_result"
        }
      ],
      "source": [
        "# last three values\n",
        "s.tail(n = 3)"
      ]
    },
    {
      "cell_type": "code",
      "execution_count": null,
      "metadata": {
        "id": "8XI7vLHkGqwN",
        "outputId": "193e53ab-a367-4d20-df08-54c7e64e9ee1"
      },
      "outputs": [
        {
          "data": {
            "text/plain": [
              "2    1.0\n",
              "6    4.0\n",
              "4    3.0\n",
              "dtype: float64"
            ]
          },
          "execution_count": 17,
          "metadata": {},
          "output_type": "execute_result"
        }
      ],
      "source": [
        "s.take([2,6,4])"
      ]
    },
    {
      "cell_type": "markdown",
      "metadata": {
        "id": "-1pzlFYsGqwO"
      },
      "source": [
        "#### 12. Lable lookup(get multiple item from Series)"
      ]
    },
    {
      "cell_type": "code",
      "execution_count": null,
      "metadata": {
        "id": "sPH8mkzLGqwO",
        "outputId": "d9be2b3c-79a9-4529-ad03-b2b9b192e94c"
      },
      "outputs": [
        {
          "data": {
            "text/plain": [
              "c    3\n",
              "a    1\n",
              "dtype: int64"
            ]
          },
          "execution_count": 18,
          "metadata": {},
          "output_type": "execute_result"
        }
      ],
      "source": [
        "ser2_str_index[['c','a']]"
      ]
    },
    {
      "cell_type": "markdown",
      "metadata": {
        "id": "CmN0SoANGqwO"
      },
      "source": [
        "#### 13. Position Bases lookup(get multiple item from Series)"
      ]
    },
    {
      "cell_type": "code",
      "execution_count": null,
      "metadata": {
        "id": "U0EV6JrzGqwP",
        "outputId": "87f9f71e-0992-4ac5-f5ff-32511892dd55"
      },
      "outputs": [
        {
          "data": {
            "text/plain": [
              "b    2\n",
              "d    4\n",
              "dtype: int64"
            ]
          },
          "execution_count": 19,
          "metadata": {},
          "output_type": "execute_result"
        }
      ],
      "source": [
        "ser2_str_index[[1,3]]"
      ]
    },
    {
      "cell_type": "markdown",
      "metadata": {
        "id": "cuXxXh36GqwP"
      },
      "source": [
        "#### 14. Series with an integer index, but not starting with 0"
      ]
    },
    {
      "cell_type": "code",
      "execution_count": null,
      "metadata": {
        "id": "31g8HYhOGqwP",
        "outputId": "9ff4f3b3-3752-4b62-a1c7-1bc0a5ce451d"
      },
      "outputs": [
        {
          "data": {
            "text/plain": [
              "3    1\n",
              "4    2\n",
              "5    3\n",
              "6    4\n",
              "dtype: int64"
            ]
          },
          "execution_count": 20,
          "metadata": {},
          "output_type": "execute_result"
        }
      ],
      "source": [
        "seri_int = pd.Series([1,2,3,4], index= [3,4,5,6])\n",
        "seri_int"
      ]
    },
    {
      "cell_type": "markdown",
      "metadata": {
        "id": "NlUd_rK8GqwQ"
      },
      "source": [
        "#### 15. label-based lookup versus position-based lookup"
      ]
    },
    {
      "cell_type": "code",
      "execution_count": null,
      "metadata": {
        "id": "uiZzf3TdGqwQ",
        "outputId": "293f8cb3-b4bd-4ca2-88e0-9d8277aa6eb2"
      },
      "outputs": [
        {
          "data": {
            "text/plain": [
              "3"
            ]
          },
          "execution_count": 21,
          "metadata": {},
          "output_type": "execute_result"
        }
      ],
      "source": [
        "seri_int[5]  # 2 is considered as label based look up\n",
        "       # coz label also has 2 init"
      ]
    },
    {
      "cell_type": "code",
      "execution_count": null,
      "metadata": {
        "id": "Nmy_fMDIGqwQ",
        "outputId": "1071bf8b-61af-4ae9-dc45-e6a3a5137c33"
      },
      "outputs": [
        {
          "ename": "KeyError",
          "evalue": "0",
          "output_type": "error",
          "traceback": [
            "\u001b[1;31m---------------------------------------------------------------------------\u001b[0m",
            "\u001b[1;31mKeyError\u001b[0m                                  Traceback (most recent call last)",
            "\u001b[1;32m<ipython-input-22-86191cfcc0e3>\u001b[0m in \u001b[0;36m<module>\u001b[1;34m\u001b[0m\n\u001b[1;32m----> 1\u001b[1;33m \u001b[0mseri_int\u001b[0m\u001b[1;33m[\u001b[0m\u001b[1;36m0\u001b[0m\u001b[1;33m]\u001b[0m   \u001b[1;31m# now see in this case we have integer label lookup,position lookup is not working\u001b[0m\u001b[1;33m\u001b[0m\u001b[1;33m\u001b[0m\u001b[0m\n\u001b[0m",
            "\u001b[1;32m~\\anaconda3\\lib\\site-packages\\pandas\\core\\series.py\u001b[0m in \u001b[0;36m__getitem__\u001b[1;34m(self, key)\u001b[0m\n\u001b[0;32m    869\u001b[0m         \u001b[0mkey\u001b[0m \u001b[1;33m=\u001b[0m \u001b[0mcom\u001b[0m\u001b[1;33m.\u001b[0m\u001b[0mapply_if_callable\u001b[0m\u001b[1;33m(\u001b[0m\u001b[0mkey\u001b[0m\u001b[1;33m,\u001b[0m \u001b[0mself\u001b[0m\u001b[1;33m)\u001b[0m\u001b[1;33m\u001b[0m\u001b[1;33m\u001b[0m\u001b[0m\n\u001b[0;32m    870\u001b[0m         \u001b[1;32mtry\u001b[0m\u001b[1;33m:\u001b[0m\u001b[1;33m\u001b[0m\u001b[1;33m\u001b[0m\u001b[0m\n\u001b[1;32m--> 871\u001b[1;33m             \u001b[0mresult\u001b[0m \u001b[1;33m=\u001b[0m \u001b[0mself\u001b[0m\u001b[1;33m.\u001b[0m\u001b[0mindex\u001b[0m\u001b[1;33m.\u001b[0m\u001b[0mget_value\u001b[0m\u001b[1;33m(\u001b[0m\u001b[0mself\u001b[0m\u001b[1;33m,\u001b[0m \u001b[0mkey\u001b[0m\u001b[1;33m)\u001b[0m\u001b[1;33m\u001b[0m\u001b[1;33m\u001b[0m\u001b[0m\n\u001b[0m\u001b[0;32m    872\u001b[0m \u001b[1;33m\u001b[0m\u001b[0m\n\u001b[0;32m    873\u001b[0m             \u001b[1;32mif\u001b[0m \u001b[1;32mnot\u001b[0m \u001b[0mis_scalar\u001b[0m\u001b[1;33m(\u001b[0m\u001b[0mresult\u001b[0m\u001b[1;33m)\u001b[0m\u001b[1;33m:\u001b[0m\u001b[1;33m\u001b[0m\u001b[1;33m\u001b[0m\u001b[0m\n",
            "\u001b[1;32m~\\anaconda3\\lib\\site-packages\\pandas\\core\\indexes\\base.py\u001b[0m in \u001b[0;36mget_value\u001b[1;34m(self, series, key)\u001b[0m\n\u001b[0;32m   4403\u001b[0m         \u001b[0mk\u001b[0m \u001b[1;33m=\u001b[0m \u001b[0mself\u001b[0m\u001b[1;33m.\u001b[0m\u001b[0m_convert_scalar_indexer\u001b[0m\u001b[1;33m(\u001b[0m\u001b[0mk\u001b[0m\u001b[1;33m,\u001b[0m \u001b[0mkind\u001b[0m\u001b[1;33m=\u001b[0m\u001b[1;34m\"getitem\"\u001b[0m\u001b[1;33m)\u001b[0m\u001b[1;33m\u001b[0m\u001b[1;33m\u001b[0m\u001b[0m\n\u001b[0;32m   4404\u001b[0m         \u001b[1;32mtry\u001b[0m\u001b[1;33m:\u001b[0m\u001b[1;33m\u001b[0m\u001b[1;33m\u001b[0m\u001b[0m\n\u001b[1;32m-> 4405\u001b[1;33m             \u001b[1;32mreturn\u001b[0m \u001b[0mself\u001b[0m\u001b[1;33m.\u001b[0m\u001b[0m_engine\u001b[0m\u001b[1;33m.\u001b[0m\u001b[0mget_value\u001b[0m\u001b[1;33m(\u001b[0m\u001b[0ms\u001b[0m\u001b[1;33m,\u001b[0m \u001b[0mk\u001b[0m\u001b[1;33m,\u001b[0m \u001b[0mtz\u001b[0m\u001b[1;33m=\u001b[0m\u001b[0mgetattr\u001b[0m\u001b[1;33m(\u001b[0m\u001b[0mseries\u001b[0m\u001b[1;33m.\u001b[0m\u001b[0mdtype\u001b[0m\u001b[1;33m,\u001b[0m \u001b[1;34m\"tz\"\u001b[0m\u001b[1;33m,\u001b[0m \u001b[1;32mNone\u001b[0m\u001b[1;33m)\u001b[0m\u001b[1;33m)\u001b[0m\u001b[1;33m\u001b[0m\u001b[1;33m\u001b[0m\u001b[0m\n\u001b[0m\u001b[0;32m   4406\u001b[0m         \u001b[1;32mexcept\u001b[0m \u001b[0mKeyError\u001b[0m \u001b[1;32mas\u001b[0m \u001b[0me1\u001b[0m\u001b[1;33m:\u001b[0m\u001b[1;33m\u001b[0m\u001b[1;33m\u001b[0m\u001b[0m\n\u001b[0;32m   4407\u001b[0m             \u001b[1;32mif\u001b[0m \u001b[0mlen\u001b[0m\u001b[1;33m(\u001b[0m\u001b[0mself\u001b[0m\u001b[1;33m)\u001b[0m \u001b[1;33m>\u001b[0m \u001b[1;36m0\u001b[0m \u001b[1;32mand\u001b[0m \u001b[1;33m(\u001b[0m\u001b[0mself\u001b[0m\u001b[1;33m.\u001b[0m\u001b[0mholds_integer\u001b[0m\u001b[1;33m(\u001b[0m\u001b[1;33m)\u001b[0m \u001b[1;32mor\u001b[0m \u001b[0mself\u001b[0m\u001b[1;33m.\u001b[0m\u001b[0mis_boolean\u001b[0m\u001b[1;33m(\u001b[0m\u001b[1;33m)\u001b[0m\u001b[1;33m)\u001b[0m\u001b[1;33m:\u001b[0m\u001b[1;33m\u001b[0m\u001b[1;33m\u001b[0m\u001b[0m\n",
            "\u001b[1;32mpandas\\_libs\\index.pyx\u001b[0m in \u001b[0;36mpandas._libs.index.IndexEngine.get_value\u001b[1;34m()\u001b[0m\n",
            "\u001b[1;32mpandas\\_libs\\index.pyx\u001b[0m in \u001b[0;36mpandas._libs.index.IndexEngine.get_value\u001b[1;34m()\u001b[0m\n",
            "\u001b[1;32mpandas\\_libs\\index.pyx\u001b[0m in \u001b[0;36mpandas._libs.index.IndexEngine.get_loc\u001b[1;34m()\u001b[0m\n",
            "\u001b[1;32mpandas\\_libs\\hashtable_class_helper.pxi\u001b[0m in \u001b[0;36mpandas._libs.hashtable.Int64HashTable.get_item\u001b[1;34m()\u001b[0m\n",
            "\u001b[1;32mpandas\\_libs\\hashtable_class_helper.pxi\u001b[0m in \u001b[0;36mpandas._libs.hashtable.Int64HashTable.get_item\u001b[1;34m()\u001b[0m\n",
            "\u001b[1;31mKeyError\u001b[0m: 0"
          ]
        }
      ],
      "source": [
        "seri_int[0]   # now see in this case we have integer label lookup,position lookup is not working"
      ]
    },
    {
      "cell_type": "markdown",
      "metadata": {
        "id": "sEtb_eUVGqwR"
      },
      "source": [
        "#### 16. Using loc and iloc"
      ]
    },
    {
      "cell_type": "code",
      "execution_count": null,
      "metadata": {
        "id": "huOKkrVRGqwR",
        "outputId": "4faa2771-18a8-4108-f373-7c3edd06af04"
      },
      "outputs": [
        {
          "name": "stdout",
          "output_type": "stream",
          "text": [
            "1\n",
            "2\n",
            "3\n",
            "4\n"
          ]
        }
      ],
      "source": [
        " # loc also works on label based look up\n",
        "print(seri_int.loc[3])\n",
        "print(seri_int.loc[4])\n",
        "print(seri_int.loc[5])\n",
        "print(seri_int.loc[6])\n"
      ]
    },
    {
      "cell_type": "code",
      "execution_count": null,
      "metadata": {
        "id": "I6xzunq4GqwR",
        "outputId": "c2dbb992-5707-436f-c9cb-1c252eb9c507"
      },
      "outputs": [
        {
          "ename": "KeyError",
          "evalue": "0",
          "output_type": "error",
          "traceback": [
            "\u001b[1;31m---------------------------------------------------------------------------\u001b[0m",
            "\u001b[1;31mKeyError\u001b[0m                                  Traceback (most recent call last)",
            "\u001b[1;32m~\\anaconda3\\lib\\site-packages\\pandas\\core\\indexes\\base.py\u001b[0m in \u001b[0;36mget_loc\u001b[1;34m(self, key, method, tolerance)\u001b[0m\n\u001b[0;32m   2645\u001b[0m             \u001b[1;32mtry\u001b[0m\u001b[1;33m:\u001b[0m\u001b[1;33m\u001b[0m\u001b[1;33m\u001b[0m\u001b[0m\n\u001b[1;32m-> 2646\u001b[1;33m                 \u001b[1;32mreturn\u001b[0m \u001b[0mself\u001b[0m\u001b[1;33m.\u001b[0m\u001b[0m_engine\u001b[0m\u001b[1;33m.\u001b[0m\u001b[0mget_loc\u001b[0m\u001b[1;33m(\u001b[0m\u001b[0mkey\u001b[0m\u001b[1;33m)\u001b[0m\u001b[1;33m\u001b[0m\u001b[1;33m\u001b[0m\u001b[0m\n\u001b[0m\u001b[0;32m   2647\u001b[0m             \u001b[1;32mexcept\u001b[0m \u001b[0mKeyError\u001b[0m\u001b[1;33m:\u001b[0m\u001b[1;33m\u001b[0m\u001b[1;33m\u001b[0m\u001b[0m\n",
            "\u001b[1;32mpandas\\_libs\\index.pyx\u001b[0m in \u001b[0;36mpandas._libs.index.IndexEngine.get_loc\u001b[1;34m()\u001b[0m\n",
            "\u001b[1;32mpandas\\_libs\\index.pyx\u001b[0m in \u001b[0;36mpandas._libs.index.IndexEngine.get_loc\u001b[1;34m()\u001b[0m\n",
            "\u001b[1;32mpandas\\_libs\\hashtable_class_helper.pxi\u001b[0m in \u001b[0;36mpandas._libs.hashtable.Int64HashTable.get_item\u001b[1;34m()\u001b[0m\n",
            "\u001b[1;32mpandas\\_libs\\hashtable_class_helper.pxi\u001b[0m in \u001b[0;36mpandas._libs.hashtable.Int64HashTable.get_item\u001b[1;34m()\u001b[0m\n",
            "\u001b[1;31mKeyError\u001b[0m: 0",
            "\nDuring handling of the above exception, another exception occurred:\n",
            "\u001b[1;31mKeyError\u001b[0m                                  Traceback (most recent call last)",
            "\u001b[1;32m<ipython-input-24-580753e7f33a>\u001b[0m in \u001b[0;36m<module>\u001b[1;34m\u001b[0m\n\u001b[1;32m----> 1\u001b[1;33m \u001b[0mprint\u001b[0m\u001b[1;33m(\u001b[0m\u001b[0mseri_int\u001b[0m\u001b[1;33m.\u001b[0m\u001b[0mloc\u001b[0m\u001b[1;33m[\u001b[0m\u001b[1;36m0\u001b[0m\u001b[1;33m]\u001b[0m\u001b[1;33m)\u001b[0m\u001b[1;33m\u001b[0m\u001b[1;33m\u001b[0m\u001b[0m\n\u001b[0m\u001b[0;32m      2\u001b[0m \u001b[0mprint\u001b[0m\u001b[1;33m(\u001b[0m\u001b[0mseri_int\u001b[0m\u001b[1;33m.\u001b[0m\u001b[0mloc\u001b[0m\u001b[1;33m[\u001b[0m\u001b[1;36m1\u001b[0m\u001b[1;33m]\u001b[0m\u001b[1;33m)\u001b[0m\u001b[1;33m\u001b[0m\u001b[1;33m\u001b[0m\u001b[0m\n\u001b[0;32m      3\u001b[0m \u001b[0mprint\u001b[0m\u001b[1;33m(\u001b[0m\u001b[0mseri_int\u001b[0m\u001b[1;33m.\u001b[0m\u001b[0mloc\u001b[0m\u001b[1;33m[\u001b[0m\u001b[1;36m2\u001b[0m\u001b[1;33m]\u001b[0m\u001b[1;33m)\u001b[0m\u001b[1;33m\u001b[0m\u001b[1;33m\u001b[0m\u001b[0m\n\u001b[0;32m      4\u001b[0m \u001b[0mprint\u001b[0m\u001b[1;33m(\u001b[0m\u001b[0mseri_int\u001b[0m\u001b[1;33m.\u001b[0m\u001b[0mloc\u001b[0m\u001b[1;33m[\u001b[0m\u001b[1;36m3\u001b[0m\u001b[1;33m]\u001b[0m\u001b[1;33m)\u001b[0m\u001b[1;33m\u001b[0m\u001b[1;33m\u001b[0m\u001b[0m\n",
            "\u001b[1;32m~\\anaconda3\\lib\\site-packages\\pandas\\core\\indexing.py\u001b[0m in \u001b[0;36m__getitem__\u001b[1;34m(self, key)\u001b[0m\n\u001b[0;32m   1766\u001b[0m \u001b[1;33m\u001b[0m\u001b[0m\n\u001b[0;32m   1767\u001b[0m             \u001b[0mmaybe_callable\u001b[0m \u001b[1;33m=\u001b[0m \u001b[0mcom\u001b[0m\u001b[1;33m.\u001b[0m\u001b[0mapply_if_callable\u001b[0m\u001b[1;33m(\u001b[0m\u001b[0mkey\u001b[0m\u001b[1;33m,\u001b[0m \u001b[0mself\u001b[0m\u001b[1;33m.\u001b[0m\u001b[0mobj\u001b[0m\u001b[1;33m)\u001b[0m\u001b[1;33m\u001b[0m\u001b[1;33m\u001b[0m\u001b[0m\n\u001b[1;32m-> 1768\u001b[1;33m             \u001b[1;32mreturn\u001b[0m \u001b[0mself\u001b[0m\u001b[1;33m.\u001b[0m\u001b[0m_getitem_axis\u001b[0m\u001b[1;33m(\u001b[0m\u001b[0mmaybe_callable\u001b[0m\u001b[1;33m,\u001b[0m \u001b[0maxis\u001b[0m\u001b[1;33m=\u001b[0m\u001b[0maxis\u001b[0m\u001b[1;33m)\u001b[0m\u001b[1;33m\u001b[0m\u001b[1;33m\u001b[0m\u001b[0m\n\u001b[0m\u001b[0;32m   1769\u001b[0m \u001b[1;33m\u001b[0m\u001b[0m\n\u001b[0;32m   1770\u001b[0m     \u001b[1;32mdef\u001b[0m \u001b[0m_is_scalar_access\u001b[0m\u001b[1;33m(\u001b[0m\u001b[0mself\u001b[0m\u001b[1;33m,\u001b[0m \u001b[0mkey\u001b[0m\u001b[1;33m:\u001b[0m \u001b[0mTuple\u001b[0m\u001b[1;33m)\u001b[0m\u001b[1;33m:\u001b[0m\u001b[1;33m\u001b[0m\u001b[1;33m\u001b[0m\u001b[0m\n",
            "\u001b[1;32m~\\anaconda3\\lib\\site-packages\\pandas\\core\\indexing.py\u001b[0m in \u001b[0;36m_getitem_axis\u001b[1;34m(self, key, axis)\u001b[0m\n\u001b[0;32m   1963\u001b[0m         \u001b[1;31m# fall thru to straight lookup\u001b[0m\u001b[1;33m\u001b[0m\u001b[1;33m\u001b[0m\u001b[1;33m\u001b[0m\u001b[0m\n\u001b[0;32m   1964\u001b[0m         \u001b[0mself\u001b[0m\u001b[1;33m.\u001b[0m\u001b[0m_validate_key\u001b[0m\u001b[1;33m(\u001b[0m\u001b[0mkey\u001b[0m\u001b[1;33m,\u001b[0m \u001b[0maxis\u001b[0m\u001b[1;33m)\u001b[0m\u001b[1;33m\u001b[0m\u001b[1;33m\u001b[0m\u001b[0m\n\u001b[1;32m-> 1965\u001b[1;33m         \u001b[1;32mreturn\u001b[0m \u001b[0mself\u001b[0m\u001b[1;33m.\u001b[0m\u001b[0m_get_label\u001b[0m\u001b[1;33m(\u001b[0m\u001b[0mkey\u001b[0m\u001b[1;33m,\u001b[0m \u001b[0maxis\u001b[0m\u001b[1;33m=\u001b[0m\u001b[0maxis\u001b[0m\u001b[1;33m)\u001b[0m\u001b[1;33m\u001b[0m\u001b[1;33m\u001b[0m\u001b[0m\n\u001b[0m\u001b[0;32m   1966\u001b[0m \u001b[1;33m\u001b[0m\u001b[0m\n\u001b[0;32m   1967\u001b[0m \u001b[1;33m\u001b[0m\u001b[0m\n",
            "\u001b[1;32m~\\anaconda3\\lib\\site-packages\\pandas\\core\\indexing.py\u001b[0m in \u001b[0;36m_get_label\u001b[1;34m(self, label, axis)\u001b[0m\n\u001b[0;32m    619\u001b[0m             \u001b[1;31m# but will fail when the index is not present\u001b[0m\u001b[1;33m\u001b[0m\u001b[1;33m\u001b[0m\u001b[1;33m\u001b[0m\u001b[0m\n\u001b[0;32m    620\u001b[0m             \u001b[1;31m# see GH5667\u001b[0m\u001b[1;33m\u001b[0m\u001b[1;33m\u001b[0m\u001b[1;33m\u001b[0m\u001b[0m\n\u001b[1;32m--> 621\u001b[1;33m             \u001b[1;32mreturn\u001b[0m \u001b[0mself\u001b[0m\u001b[1;33m.\u001b[0m\u001b[0mobj\u001b[0m\u001b[1;33m.\u001b[0m\u001b[0m_xs\u001b[0m\u001b[1;33m(\u001b[0m\u001b[0mlabel\u001b[0m\u001b[1;33m,\u001b[0m \u001b[0maxis\u001b[0m\u001b[1;33m=\u001b[0m\u001b[0maxis\u001b[0m\u001b[1;33m)\u001b[0m\u001b[1;33m\u001b[0m\u001b[1;33m\u001b[0m\u001b[0m\n\u001b[0m\u001b[0;32m    622\u001b[0m         \u001b[1;32melif\u001b[0m \u001b[0misinstance\u001b[0m\u001b[1;33m(\u001b[0m\u001b[0mlabel\u001b[0m\u001b[1;33m,\u001b[0m \u001b[0mtuple\u001b[0m\u001b[1;33m)\u001b[0m \u001b[1;32mand\u001b[0m \u001b[0misinstance\u001b[0m\u001b[1;33m(\u001b[0m\u001b[0mlabel\u001b[0m\u001b[1;33m[\u001b[0m\u001b[0maxis\u001b[0m\u001b[1;33m]\u001b[0m\u001b[1;33m,\u001b[0m \u001b[0mslice\u001b[0m\u001b[1;33m)\u001b[0m\u001b[1;33m:\u001b[0m\u001b[1;33m\u001b[0m\u001b[1;33m\u001b[0m\u001b[0m\n\u001b[0;32m    623\u001b[0m             \u001b[1;32mraise\u001b[0m \u001b[0mIndexingError\u001b[0m\u001b[1;33m(\u001b[0m\u001b[1;34m\"no slices here, handle elsewhere\"\u001b[0m\u001b[1;33m)\u001b[0m\u001b[1;33m\u001b[0m\u001b[1;33m\u001b[0m\u001b[0m\n",
            "\u001b[1;32m~\\anaconda3\\lib\\site-packages\\pandas\\core\\generic.py\u001b[0m in \u001b[0;36mxs\u001b[1;34m(self, key, axis, level, drop_level)\u001b[0m\n\u001b[0;32m   3535\u001b[0m             \u001b[0mloc\u001b[0m\u001b[1;33m,\u001b[0m \u001b[0mnew_index\u001b[0m \u001b[1;33m=\u001b[0m \u001b[0mself\u001b[0m\u001b[1;33m.\u001b[0m\u001b[0mindex\u001b[0m\u001b[1;33m.\u001b[0m\u001b[0mget_loc_level\u001b[0m\u001b[1;33m(\u001b[0m\u001b[0mkey\u001b[0m\u001b[1;33m,\u001b[0m \u001b[0mdrop_level\u001b[0m\u001b[1;33m=\u001b[0m\u001b[0mdrop_level\u001b[0m\u001b[1;33m)\u001b[0m\u001b[1;33m\u001b[0m\u001b[1;33m\u001b[0m\u001b[0m\n\u001b[0;32m   3536\u001b[0m         \u001b[1;32melse\u001b[0m\u001b[1;33m:\u001b[0m\u001b[1;33m\u001b[0m\u001b[1;33m\u001b[0m\u001b[0m\n\u001b[1;32m-> 3537\u001b[1;33m             \u001b[0mloc\u001b[0m \u001b[1;33m=\u001b[0m \u001b[0mself\u001b[0m\u001b[1;33m.\u001b[0m\u001b[0mindex\u001b[0m\u001b[1;33m.\u001b[0m\u001b[0mget_loc\u001b[0m\u001b[1;33m(\u001b[0m\u001b[0mkey\u001b[0m\u001b[1;33m)\u001b[0m\u001b[1;33m\u001b[0m\u001b[1;33m\u001b[0m\u001b[0m\n\u001b[0m\u001b[0;32m   3538\u001b[0m \u001b[1;33m\u001b[0m\u001b[0m\n\u001b[0;32m   3539\u001b[0m             \u001b[1;32mif\u001b[0m \u001b[0misinstance\u001b[0m\u001b[1;33m(\u001b[0m\u001b[0mloc\u001b[0m\u001b[1;33m,\u001b[0m \u001b[0mnp\u001b[0m\u001b[1;33m.\u001b[0m\u001b[0mndarray\u001b[0m\u001b[1;33m)\u001b[0m\u001b[1;33m:\u001b[0m\u001b[1;33m\u001b[0m\u001b[1;33m\u001b[0m\u001b[0m\n",
            "\u001b[1;32m~\\anaconda3\\lib\\site-packages\\pandas\\core\\indexes\\base.py\u001b[0m in \u001b[0;36mget_loc\u001b[1;34m(self, key, method, tolerance)\u001b[0m\n\u001b[0;32m   2646\u001b[0m                 \u001b[1;32mreturn\u001b[0m \u001b[0mself\u001b[0m\u001b[1;33m.\u001b[0m\u001b[0m_engine\u001b[0m\u001b[1;33m.\u001b[0m\u001b[0mget_loc\u001b[0m\u001b[1;33m(\u001b[0m\u001b[0mkey\u001b[0m\u001b[1;33m)\u001b[0m\u001b[1;33m\u001b[0m\u001b[1;33m\u001b[0m\u001b[0m\n\u001b[0;32m   2647\u001b[0m             \u001b[1;32mexcept\u001b[0m \u001b[0mKeyError\u001b[0m\u001b[1;33m:\u001b[0m\u001b[1;33m\u001b[0m\u001b[1;33m\u001b[0m\u001b[0m\n\u001b[1;32m-> 2648\u001b[1;33m                 \u001b[1;32mreturn\u001b[0m \u001b[0mself\u001b[0m\u001b[1;33m.\u001b[0m\u001b[0m_engine\u001b[0m\u001b[1;33m.\u001b[0m\u001b[0mget_loc\u001b[0m\u001b[1;33m(\u001b[0m\u001b[0mself\u001b[0m\u001b[1;33m.\u001b[0m\u001b[0m_maybe_cast_indexer\u001b[0m\u001b[1;33m(\u001b[0m\u001b[0mkey\u001b[0m\u001b[1;33m)\u001b[0m\u001b[1;33m)\u001b[0m\u001b[1;33m\u001b[0m\u001b[1;33m\u001b[0m\u001b[0m\n\u001b[0m\u001b[0;32m   2649\u001b[0m         \u001b[0mindexer\u001b[0m \u001b[1;33m=\u001b[0m \u001b[0mself\u001b[0m\u001b[1;33m.\u001b[0m\u001b[0mget_indexer\u001b[0m\u001b[1;33m(\u001b[0m\u001b[1;33m[\u001b[0m\u001b[0mkey\u001b[0m\u001b[1;33m]\u001b[0m\u001b[1;33m,\u001b[0m \u001b[0mmethod\u001b[0m\u001b[1;33m=\u001b[0m\u001b[0mmethod\u001b[0m\u001b[1;33m,\u001b[0m \u001b[0mtolerance\u001b[0m\u001b[1;33m=\u001b[0m\u001b[0mtolerance\u001b[0m\u001b[1;33m)\u001b[0m\u001b[1;33m\u001b[0m\u001b[1;33m\u001b[0m\u001b[0m\n\u001b[0;32m   2650\u001b[0m         \u001b[1;32mif\u001b[0m \u001b[0mindexer\u001b[0m\u001b[1;33m.\u001b[0m\u001b[0mndim\u001b[0m \u001b[1;33m>\u001b[0m \u001b[1;36m1\u001b[0m \u001b[1;32mor\u001b[0m \u001b[0mindexer\u001b[0m\u001b[1;33m.\u001b[0m\u001b[0msize\u001b[0m \u001b[1;33m>\u001b[0m \u001b[1;36m1\u001b[0m\u001b[1;33m:\u001b[0m\u001b[1;33m\u001b[0m\u001b[1;33m\u001b[0m\u001b[0m\n",
            "\u001b[1;32mpandas\\_libs\\index.pyx\u001b[0m in \u001b[0;36mpandas._libs.index.IndexEngine.get_loc\u001b[1;34m()\u001b[0m\n",
            "\u001b[1;32mpandas\\_libs\\index.pyx\u001b[0m in \u001b[0;36mpandas._libs.index.IndexEngine.get_loc\u001b[1;34m()\u001b[0m\n",
            "\u001b[1;32mpandas\\_libs\\hashtable_class_helper.pxi\u001b[0m in \u001b[0;36mpandas._libs.hashtable.Int64HashTable.get_item\u001b[1;34m()\u001b[0m\n",
            "\u001b[1;32mpandas\\_libs\\hashtable_class_helper.pxi\u001b[0m in \u001b[0;36mpandas._libs.hashtable.Int64HashTable.get_item\u001b[1;34m()\u001b[0m\n",
            "\u001b[1;31mKeyError\u001b[0m: 0"
          ]
        }
      ],
      "source": [
        "print(seri_int.loc[0])\n",
        "print(seri_int.loc[1])\n",
        "print(seri_int.loc[2])\n",
        "print(seri_int.loc[3])\n"
      ]
    },
    {
      "cell_type": "code",
      "execution_count": null,
      "metadata": {
        "id": "Ra9pTas9GqwR",
        "outputId": "2c4c243d-2883-46b0-b120-1d3ed0e44190"
      },
      "outputs": [
        {
          "name": "stdout",
          "output_type": "stream",
          "text": [
            "4\n"
          ]
        },
        {
          "ename": "IndexError",
          "evalue": "single positional indexer is out-of-bounds",
          "output_type": "error",
          "traceback": [
            "\u001b[1;31m---------------------------------------------------------------------------\u001b[0m",
            "\u001b[1;31mIndexError\u001b[0m                                Traceback (most recent call last)",
            "\u001b[1;32m<ipython-input-25-9466ed9af284>\u001b[0m in \u001b[0;36m<module>\u001b[1;34m\u001b[0m\n\u001b[0;32m      1\u001b[0m \u001b[1;31m#iLoc forcefully works on position based look up even you dont specify position based index\u001b[0m\u001b[1;33m\u001b[0m\u001b[1;33m\u001b[0m\u001b[1;33m\u001b[0m\u001b[0m\n\u001b[0;32m      2\u001b[0m \u001b[0mprint\u001b[0m\u001b[1;33m(\u001b[0m\u001b[0mseri_int\u001b[0m\u001b[1;33m.\u001b[0m\u001b[0miloc\u001b[0m\u001b[1;33m[\u001b[0m\u001b[1;36m3\u001b[0m\u001b[1;33m]\u001b[0m\u001b[1;33m)\u001b[0m\u001b[1;33m\u001b[0m\u001b[1;33m\u001b[0m\u001b[0m\n\u001b[1;32m----> 3\u001b[1;33m \u001b[0mprint\u001b[0m\u001b[1;33m(\u001b[0m\u001b[0mseri_int\u001b[0m\u001b[1;33m.\u001b[0m\u001b[0miloc\u001b[0m\u001b[1;33m[\u001b[0m\u001b[1;36m4\u001b[0m\u001b[1;33m]\u001b[0m\u001b[1;33m)\u001b[0m\u001b[1;33m\u001b[0m\u001b[1;33m\u001b[0m\u001b[0m\n\u001b[0m\u001b[0;32m      4\u001b[0m \u001b[0mprint\u001b[0m\u001b[1;33m(\u001b[0m\u001b[0mseri_int\u001b[0m\u001b[1;33m.\u001b[0m\u001b[0miloc\u001b[0m\u001b[1;33m[\u001b[0m\u001b[1;36m5\u001b[0m\u001b[1;33m]\u001b[0m\u001b[1;33m)\u001b[0m\u001b[1;33m\u001b[0m\u001b[1;33m\u001b[0m\u001b[0m\n\u001b[0;32m      5\u001b[0m \u001b[0mprint\u001b[0m\u001b[1;33m(\u001b[0m\u001b[0mseri_int\u001b[0m\u001b[1;33m.\u001b[0m\u001b[0miloc\u001b[0m\u001b[1;33m[\u001b[0m\u001b[1;36m6\u001b[0m\u001b[1;33m]\u001b[0m\u001b[1;33m)\u001b[0m\u001b[1;33m\u001b[0m\u001b[1;33m\u001b[0m\u001b[0m\n",
            "\u001b[1;32m~\\anaconda3\\lib\\site-packages\\pandas\\core\\indexing.py\u001b[0m in \u001b[0;36m__getitem__\u001b[1;34m(self, key)\u001b[0m\n\u001b[0;32m   1766\u001b[0m \u001b[1;33m\u001b[0m\u001b[0m\n\u001b[0;32m   1767\u001b[0m             \u001b[0mmaybe_callable\u001b[0m \u001b[1;33m=\u001b[0m \u001b[0mcom\u001b[0m\u001b[1;33m.\u001b[0m\u001b[0mapply_if_callable\u001b[0m\u001b[1;33m(\u001b[0m\u001b[0mkey\u001b[0m\u001b[1;33m,\u001b[0m \u001b[0mself\u001b[0m\u001b[1;33m.\u001b[0m\u001b[0mobj\u001b[0m\u001b[1;33m)\u001b[0m\u001b[1;33m\u001b[0m\u001b[1;33m\u001b[0m\u001b[0m\n\u001b[1;32m-> 1768\u001b[1;33m             \u001b[1;32mreturn\u001b[0m \u001b[0mself\u001b[0m\u001b[1;33m.\u001b[0m\u001b[0m_getitem_axis\u001b[0m\u001b[1;33m(\u001b[0m\u001b[0mmaybe_callable\u001b[0m\u001b[1;33m,\u001b[0m \u001b[0maxis\u001b[0m\u001b[1;33m=\u001b[0m\u001b[0maxis\u001b[0m\u001b[1;33m)\u001b[0m\u001b[1;33m\u001b[0m\u001b[1;33m\u001b[0m\u001b[0m\n\u001b[0m\u001b[0;32m   1769\u001b[0m \u001b[1;33m\u001b[0m\u001b[0m\n\u001b[0;32m   1770\u001b[0m     \u001b[1;32mdef\u001b[0m \u001b[0m_is_scalar_access\u001b[0m\u001b[1;33m(\u001b[0m\u001b[0mself\u001b[0m\u001b[1;33m,\u001b[0m \u001b[0mkey\u001b[0m\u001b[1;33m:\u001b[0m \u001b[0mTuple\u001b[0m\u001b[1;33m)\u001b[0m\u001b[1;33m:\u001b[0m\u001b[1;33m\u001b[0m\u001b[1;33m\u001b[0m\u001b[0m\n",
            "\u001b[1;32m~\\anaconda3\\lib\\site-packages\\pandas\\core\\indexing.py\u001b[0m in \u001b[0;36m_getitem_axis\u001b[1;34m(self, key, axis)\u001b[0m\n\u001b[0;32m   2136\u001b[0m \u001b[1;33m\u001b[0m\u001b[0m\n\u001b[0;32m   2137\u001b[0m             \u001b[1;31m# validate the location\u001b[0m\u001b[1;33m\u001b[0m\u001b[1;33m\u001b[0m\u001b[1;33m\u001b[0m\u001b[0m\n\u001b[1;32m-> 2138\u001b[1;33m             \u001b[0mself\u001b[0m\u001b[1;33m.\u001b[0m\u001b[0m_validate_integer\u001b[0m\u001b[1;33m(\u001b[0m\u001b[0mkey\u001b[0m\u001b[1;33m,\u001b[0m \u001b[0maxis\u001b[0m\u001b[1;33m)\u001b[0m\u001b[1;33m\u001b[0m\u001b[1;33m\u001b[0m\u001b[0m\n\u001b[0m\u001b[0;32m   2139\u001b[0m \u001b[1;33m\u001b[0m\u001b[0m\n\u001b[0;32m   2140\u001b[0m             \u001b[1;32mreturn\u001b[0m \u001b[0mself\u001b[0m\u001b[1;33m.\u001b[0m\u001b[0m_get_loc\u001b[0m\u001b[1;33m(\u001b[0m\u001b[0mkey\u001b[0m\u001b[1;33m,\u001b[0m \u001b[0maxis\u001b[0m\u001b[1;33m=\u001b[0m\u001b[0maxis\u001b[0m\u001b[1;33m)\u001b[0m\u001b[1;33m\u001b[0m\u001b[1;33m\u001b[0m\u001b[0m\n",
            "\u001b[1;32m~\\anaconda3\\lib\\site-packages\\pandas\\core\\indexing.py\u001b[0m in \u001b[0;36m_validate_integer\u001b[1;34m(self, key, axis)\u001b[0m\n\u001b[0;32m   2061\u001b[0m         \u001b[0mlen_axis\u001b[0m \u001b[1;33m=\u001b[0m \u001b[0mlen\u001b[0m\u001b[1;33m(\u001b[0m\u001b[0mself\u001b[0m\u001b[1;33m.\u001b[0m\u001b[0mobj\u001b[0m\u001b[1;33m.\u001b[0m\u001b[0m_get_axis\u001b[0m\u001b[1;33m(\u001b[0m\u001b[0maxis\u001b[0m\u001b[1;33m)\u001b[0m\u001b[1;33m)\u001b[0m\u001b[1;33m\u001b[0m\u001b[1;33m\u001b[0m\u001b[0m\n\u001b[0;32m   2062\u001b[0m         \u001b[1;32mif\u001b[0m \u001b[0mkey\u001b[0m \u001b[1;33m>=\u001b[0m \u001b[0mlen_axis\u001b[0m \u001b[1;32mor\u001b[0m \u001b[0mkey\u001b[0m \u001b[1;33m<\u001b[0m \u001b[1;33m-\u001b[0m\u001b[0mlen_axis\u001b[0m\u001b[1;33m:\u001b[0m\u001b[1;33m\u001b[0m\u001b[1;33m\u001b[0m\u001b[0m\n\u001b[1;32m-> 2063\u001b[1;33m             \u001b[1;32mraise\u001b[0m \u001b[0mIndexError\u001b[0m\u001b[1;33m(\u001b[0m\u001b[1;34m\"single positional indexer is out-of-bounds\"\u001b[0m\u001b[1;33m)\u001b[0m\u001b[1;33m\u001b[0m\u001b[1;33m\u001b[0m\u001b[0m\n\u001b[0m\u001b[0;32m   2064\u001b[0m \u001b[1;33m\u001b[0m\u001b[0m\n\u001b[0;32m   2065\u001b[0m     \u001b[1;32mdef\u001b[0m \u001b[0m_getitem_tuple\u001b[0m\u001b[1;33m(\u001b[0m\u001b[0mself\u001b[0m\u001b[1;33m,\u001b[0m \u001b[0mtup\u001b[0m\u001b[1;33m:\u001b[0m \u001b[0mTuple\u001b[0m\u001b[1;33m)\u001b[0m\u001b[1;33m:\u001b[0m\u001b[1;33m\u001b[0m\u001b[1;33m\u001b[0m\u001b[0m\n",
            "\u001b[1;31mIndexError\u001b[0m: single positional indexer is out-of-bounds"
          ]
        }
      ],
      "source": [
        "#iLoc forcefully works on position based look up even you dont specify position based index\n",
        "print(seri_int.iloc[3])\n",
        "print(seri_int.iloc[4])\n",
        "print(seri_int.iloc[5])\n",
        "print(seri_int.iloc[6])\n"
      ]
    },
    {
      "cell_type": "code",
      "execution_count": null,
      "metadata": {
        "id": "eB7shWO2GqwS",
        "outputId": "142b2e70-db98-49a9-bf1e-27eeaf6cfe27"
      },
      "outputs": [
        {
          "name": "stdout",
          "output_type": "stream",
          "text": [
            "1\n",
            "2\n",
            "3\n",
            "4\n"
          ]
        }
      ],
      "source": [
        "print(seri_int.iloc[0])\n",
        "print(seri_int.iloc[1])\n",
        "print(seri_int.iloc[2])\n",
        "print(seri_int.iloc[3])\n"
      ]
    },
    {
      "cell_type": "markdown",
      "metadata": {
        "id": "oJeYzxYNGqwS"
      },
      "source": [
        "#### 17. Alignment via index labels"
      ]
    },
    {
      "cell_type": "markdown",
      "metadata": {
        "id": "IT1ZvCTrGqwS"
      },
      "source": [
        "A fundamental difference between a NumPy ndarray and a pandas Series is the ability of a Series to automatically align data from another Series based on label values before performing an operation."
      ]
    },
    {
      "cell_type": "code",
      "execution_count": null,
      "metadata": {
        "id": "nhRkBTeCGqwS",
        "outputId": "21c431c4-d4ab-4662-accf-043a72cf7b1b"
      },
      "outputs": [
        {
          "data": {
            "text/plain": [
              "a    1\n",
              "b    2\n",
              "c    3\n",
              "d    4\n",
              "dtype: int64"
            ]
          },
          "execution_count": 27,
          "metadata": {},
          "output_type": "execute_result"
        }
      ],
      "source": [
        "s2 = pd.Series([1,2,3,4], index=['a','b','c','d'])\n",
        "s2"
      ]
    },
    {
      "cell_type": "code",
      "execution_count": null,
      "metadata": {
        "id": "t3iAVHb_GqwT",
        "outputId": "c18ee3f8-82de-4691-d70f-d1b4c4fb9722"
      },
      "outputs": [
        {
          "data": {
            "text/plain": [
              "d    4\n",
              "c    3\n",
              "b    2\n",
              "a    1\n",
              "dtype: int64"
            ]
          },
          "execution_count": 28,
          "metadata": {},
          "output_type": "execute_result"
        }
      ],
      "source": [
        "s3 = pd.Series([4,3,2,1], index=['d','c','b','a'])\n",
        "s3"
      ]
    },
    {
      "cell_type": "code",
      "execution_count": null,
      "metadata": {
        "id": "zFnCD7WNGqwT",
        "outputId": "fd96d3f5-7518-4998-9a5e-bcdd62c686ee"
      },
      "outputs": [
        {
          "data": {
            "text/plain": [
              "a    2\n",
              "b    4\n",
              "c    6\n",
              "d    8\n",
              "dtype: int64"
            ]
          },
          "execution_count": 29,
          "metadata": {},
          "output_type": "execute_result"
        }
      ],
      "source": [
        "s2+s3"
      ]
    },
    {
      "cell_type": "code",
      "execution_count": null,
      "metadata": {
        "id": "xedUwnilGqwT",
        "outputId": "9a96175a-450d-40f4-da2e-b6299bb8dc84"
      },
      "outputs": [
        {
          "data": {
            "text/plain": [
              "a    2\n",
              "b    4\n",
              "c    6\n",
              "d    8\n",
              "dtype: int64"
            ]
          },
          "execution_count": 30,
          "metadata": {},
          "output_type": "execute_result"
        }
      ],
      "source": [
        "s3+s2"
      ]
    },
    {
      "cell_type": "markdown",
      "metadata": {
        "id": "Gf99Q1TWGqwT"
      },
      "source": [
        "#### 18. Concatinate Series(Using Dictionary and extra item from another Series)"
      ]
    },
    {
      "cell_type": "markdown",
      "metadata": {
        "id": "OrRSo81JGqwT"
      },
      "source": [
        "Nan + number = NaN \n",
        "(NaN added to a number results in NaN)"
      ]
    },
    {
      "cell_type": "markdown",
      "metadata": {
        "id": "HrGsUdzSGqwU"
      },
      "source": [
        "number + NaN = NaN\n",
        "(Number added to a Nan results in NaN)"
      ]
    },
    {
      "cell_type": "code",
      "execution_count": null,
      "metadata": {
        "id": "of-xXDBKGqwU",
        "outputId": "24509af2-0bfe-41c0-990b-c0789c8c8de1"
      },
      "outputs": [
        {
          "data": {
            "text/plain": [
              "a    1\n",
              "b    2\n",
              "c    3\n",
              "d    4\n",
              "dtype: int64"
            ]
          },
          "execution_count": 31,
          "metadata": {},
          "output_type": "execute_result"
        }
      ],
      "source": [
        "s4 = pd.Series({'a':1,\n",
        "                'b':2,\n",
        "                'c':3,\n",
        "                'd':4})\n",
        "s4"
      ]
    },
    {
      "cell_type": "code",
      "execution_count": null,
      "metadata": {
        "id": "xaOf5x_FGqwU",
        "outputId": "4f2901bf-bac8-4a53-a0e7-bf36db14303c"
      },
      "outputs": [
        {
          "data": {
            "text/plain": [
              "c    1\n",
              "e    2\n",
              "d    3\n",
              "f    4\n",
              "dtype: int64"
            ]
          },
          "execution_count": 32,
          "metadata": {},
          "output_type": "execute_result"
        }
      ],
      "source": [
        "s5 = pd.Series({'c':1,\n",
        "                'e':2,\n",
        "                'd':3,\n",
        "                'f':4})\n",
        "s5"
      ]
    },
    {
      "cell_type": "code",
      "execution_count": null,
      "metadata": {
        "id": "LvUmerU0GqwU",
        "outputId": "f6e5ed26-e27a-490e-b43b-cfdcd6793f51"
      },
      "outputs": [
        {
          "data": {
            "text/plain": [
              "a    NaN\n",
              "b    NaN\n",
              "c    4.0\n",
              "d    7.0\n",
              "e    NaN\n",
              "f    NaN\n",
              "dtype: float64"
            ]
          },
          "execution_count": 33,
          "metadata": {},
          "output_type": "execute_result"
        }
      ],
      "source": [
        "# NaN's result for a and e\n",
        "# demonstrates alignment\n",
        "s4+s5"
      ]
    },
    {
      "cell_type": "markdown",
      "metadata": {
        "id": "6UASLShJGqwV"
      },
      "source": [
        "#### 19. Concatinating Series(if the series has duplicate index)"
      ]
    },
    {
      "cell_type": "code",
      "execution_count": null,
      "metadata": {
        "id": "9z2fzaKIGqwV",
        "outputId": "f3935c35-4475-4bc4-8065-af4bcd5427ec"
      },
      "outputs": [
        {
          "data": {
            "text/plain": [
              "a    1.0\n",
              "a    2.0\n",
              "b    3.0\n",
              "dtype: float64"
            ]
          },
          "execution_count": 34,
          "metadata": {},
          "output_type": "execute_result"
        }
      ],
      "source": [
        "s6 = pd.Series([1.0,2.0,3.0], index=['a','a','b'])\n",
        "s6"
      ]
    },
    {
      "cell_type": "code",
      "execution_count": null,
      "metadata": {
        "id": "ahANiKv-GqwY",
        "outputId": "9c23bc5c-732c-4b41-bd6a-6eac4e5461f7"
      },
      "outputs": [
        {
          "data": {
            "text/plain": [
              "a    1.0\n",
              "a    2.0\n",
              "c    3.0\n",
              "dtype: float64"
            ]
          },
          "execution_count": 35,
          "metadata": {},
          "output_type": "execute_result"
        }
      ],
      "source": [
        "s7 = pd.Series([1.0,2.0,3.0], index=['a','a','c'])\n",
        "s7"
      ]
    },
    {
      "cell_type": "code",
      "execution_count": null,
      "metadata": {
        "id": "Ty-CH2vPGqwZ",
        "outputId": "ee0e795d-ef47-4de7-ca3a-1917dd3e8863"
      },
      "outputs": [
        {
          "data": {
            "text/plain": [
              "a    2.0\n",
              "a    3.0\n",
              "a    3.0\n",
              "a    4.0\n",
              "b    NaN\n",
              "c    NaN\n",
              "dtype: float64"
            ]
          },
          "execution_count": 36,
          "metadata": {},
          "output_type": "execute_result"
        }
      ],
      "source": [
        "s6+s7"
      ]
    },
    {
      "cell_type": "markdown",
      "metadata": {
        "id": "_SQK9-C9Gqwa"
      },
      "source": [
        "![download.png](attachment:download.png)"
      ]
    },
    {
      "cell_type": "markdown",
      "metadata": {
        "id": "2LENCCJCGqwa"
      },
      "source": [
        "#### 20. Handling(the case of Not-A-Number) with Series"
      ]
    },
    {
      "cell_type": "code",
      "execution_count": null,
      "metadata": {
        "id": "Bd2-Wm_ZGqwa",
        "outputId": "6f7251cd-e997-484b-e3d1-1e27fdcee78b"
      },
      "outputs": [
        {
          "data": {
            "text/plain": [
              "3.0"
            ]
          },
          "execution_count": 37,
          "metadata": {},
          "output_type": "execute_result"
        }
      ],
      "source": [
        "# simple mean of numpy array values\n",
        "nda = np.array([1, 2, 3, 4, 5])\n",
        "nda.mean()"
      ]
    },
    {
      "cell_type": "code",
      "execution_count": null,
      "metadata": {
        "id": "GyBD8SKAGqwb",
        "outputId": "89c6bde7-132d-4a4c-8278-a318b9839061"
      },
      "outputs": [
        {
          "data": {
            "text/plain": [
              "nan"
            ]
          },
          "execution_count": 38,
          "metadata": {},
          "output_type": "execute_result"
        }
      ],
      "source": [
        "# mean of numpy array values with a NaN\n",
        "nda = np.array([1, 2, 3, 4, np.NaN])\n",
        "nda.mean()"
      ]
    },
    {
      "cell_type": "code",
      "execution_count": null,
      "metadata": {
        "id": "QKf--TQ3Gqwb",
        "outputId": "690cbc6b-8264-4764-8fe5-fc970f7747a8"
      },
      "outputs": [
        {
          "data": {
            "text/plain": [
              "2.5"
            ]
          },
          "execution_count": 39,
          "metadata": {},
          "output_type": "execute_result"
        }
      ],
      "source": [
        "# But Panda's Series ignores NaN values\n",
        "s8 = pd.Series(nda)      \n",
        "s8.mean()"
      ]
    },
    {
      "cell_type": "markdown",
      "metadata": {
        "id": "gUN9qbPmGqwb"
      },
      "source": [
        "#### 21.  Series handle NaN values like NumPy"
      ]
    },
    {
      "cell_type": "code",
      "execution_count": null,
      "metadata": {
        "id": "KboL2kIaGqwc",
        "outputId": "80104e31-6992-4bd1-d20b-bb1161774586"
      },
      "outputs": [
        {
          "data": {
            "text/plain": [
              "nan"
            ]
          },
          "execution_count": 40,
          "metadata": {},
          "output_type": "execute_result"
        }
      ],
      "source": [
        "s8.mean(skipna=False)"
      ]
    },
    {
      "cell_type": "markdown",
      "metadata": {
        "id": "V8hulxauGqwc"
      },
      "source": [
        "#### 22. ***Working Boolean Selection"
      ]
    },
    {
      "cell_type": "code",
      "execution_count": null,
      "metadata": {
        "id": "WOard--LGqwc",
        "outputId": "9e71ac72-09b4-4016-f4b0-395aad02ec4a"
      },
      "outputs": [
        {
          "data": {
            "text/plain": [
              "0    False\n",
              "1    False\n",
              "2    False\n",
              "3    False\n",
              "4     True\n",
              "5     True\n",
              "6     True\n",
              "7     True\n",
              "8     True\n",
              "9     True\n",
              "dtype: bool"
            ]
          },
          "execution_count": 41,
          "metadata": {},
          "output_type": "execute_result"
        }
      ],
      "source": [
        "s9 = pd.Series(np.arange(0,10))\n",
        "s9 > 3"
      ]
    },
    {
      "cell_type": "markdown",
      "metadata": {
        "id": "pnNTtt7vGqwc"
      },
      "source": [
        "#### 23. select rows where values are > 5"
      ]
    },
    {
      "cell_type": "code",
      "execution_count": null,
      "metadata": {
        "id": "aMB8irMIGqwc",
        "outputId": "fc859ebc-a2dc-40fe-a829-7717ae09a8cb"
      },
      "outputs": [
        {
          "data": {
            "text/plain": [
              "6    6\n",
              "7    7\n",
              "8    8\n",
              "9    9\n",
              "dtype: int32"
            ]
          },
          "execution_count": 42,
          "metadata": {},
          "output_type": "execute_result"
        }
      ],
      "source": [
        "logicalResults = s9 > 5\n",
        "s9[logicalResults]"
      ]
    },
    {
      "cell_type": "markdown",
      "metadata": {
        "id": "_iqTeCFtGqwd"
      },
      "source": [
        "#### 24. A little shorter version to Select"
      ]
    },
    {
      "cell_type": "code",
      "execution_count": null,
      "metadata": {
        "id": "fUfJi9pCGqwd",
        "outputId": "c3fbdeee-95ec-4e11-c47d-3573c91526fb"
      },
      "outputs": [
        {
          "data": {
            "text/plain": [
              "6    6\n",
              "7    7\n",
              "8    8\n",
              "9    9\n",
              "dtype: int32"
            ]
          },
          "execution_count": 43,
          "metadata": {},
          "output_type": "execute_result"
        }
      ],
      "source": [
        "s9[s9>5]"
      ]
    },
    {
      "cell_type": "markdown",
      "metadata": {
        "id": "8xi7W_PkGqwd"
      },
      "source": [
        "#### 25. Select specific range of rows from series"
      ]
    },
    {
      "cell_type": "code",
      "execution_count": null,
      "metadata": {
        "id": "c-W-Z0RKGqwd",
        "outputId": "35885c74-8b12-4c36-e986-b9ac77676ec8"
      },
      "outputs": [
        {
          "data": {
            "text/plain": [
              "6    6\n",
              "7    7\n",
              "dtype: int32"
            ]
          },
          "execution_count": 46,
          "metadata": {},
          "output_type": "execute_result"
        }
      ],
      "source": [
        "# commented as it throws an exception\n",
        "# s[s > 5 and s < 8]\n",
        "\n",
        "# correct syntax\n",
        "s9[(s9 > 5) & (s9 < 8)]"
      ]
    },
    {
      "cell_type": "markdown",
      "metadata": {
        "id": "KcaYnO4UGqwe"
      },
      "source": [
        "#### 26. Getting sum of values by giving boolean indexing "
      ]
    },
    {
      "cell_type": "code",
      "execution_count": null,
      "metadata": {
        "id": "vtRqN4YwGqwe",
        "outputId": "0632a10d-0118-44e2-e1e0-946af13a2516"
      },
      "outputs": [
        {
          "data": {
            "text/plain": [
              "3"
            ]
          },
          "execution_count": 47,
          "metadata": {},
          "output_type": "execute_result"
        }
      ],
      "source": [
        "(np.array([True,False,True,True])).sum()"
      ]
    },
    {
      "cell_type": "markdown",
      "metadata": {
        "id": "Rke6hHv8Gqwe"
      },
      "source": [
        "#### 27. Get all item those satisfy the condition "
      ]
    },
    {
      "cell_type": "code",
      "execution_count": null,
      "metadata": {
        "id": "k7T8y7xbGqwe",
        "outputId": "63534930-7c01-4b82-e3da-ace296dbf56e"
      },
      "outputs": [
        {
          "data": {
            "text/plain": [
              "True"
            ]
          },
          "execution_count": 48,
          "metadata": {},
          "output_type": "execute_result"
        }
      ],
      "source": [
        "# are all items >= 0?\n",
        "(s9 >= 0).all()"
      ]
    },
    {
      "cell_type": "markdown",
      "metadata": {
        "id": "wRt4pi-xGqwf"
      },
      "source": [
        "#### 28. Get any of those item that satisfy the condition"
      ]
    },
    {
      "cell_type": "code",
      "execution_count": null,
      "metadata": {
        "id": "uwU8GsQQGqwf",
        "outputId": "d1c3c4a1-b31f-4c62-d645-cc52cc7754e5"
      },
      "outputs": [
        {
          "data": {
            "text/plain": [
              "True"
            ]
          },
          "execution_count": 51,
          "metadata": {},
          "output_type": "execute_result"
        }
      ],
      "source": [
        "# any items < 2?\n",
        "(s9[s9 < 2].any())"
      ]
    },
    {
      "cell_type": "markdown",
      "metadata": {
        "id": "tuPl9VPqGqwf"
      },
      "source": [
        "#### 29. count values that satisfy the condition"
      ]
    },
    {
      "cell_type": "code",
      "execution_count": null,
      "metadata": {
        "id": "e0SymCMPGqwf",
        "outputId": "d41fb3d3-ca52-48dc-a215-deb7be0ed606"
      },
      "outputs": [
        {
          "data": {
            "text/plain": [
              "10"
            ]
          },
          "execution_count": 52,
          "metadata": {},
          "output_type": "execute_result"
        }
      ],
      "source": [
        "# how many values < 2?\n",
        "(s9 < 2).count()"
      ]
    },
    {
      "cell_type": "markdown",
      "metadata": {
        "id": "mmUIaYv6Gqwf"
      },
      "source": [
        "### 30. Reindexing a Series\n",
        "Reindexing in pandas is a process that makes the data in a Series or DataFrame match a given set of labels. This is core to the functionality of pandas as it enables label alignment across multiple objects, which may originally have different indexing schemes. This process of performing a reindex includes the following steps:\n",
        "\n",
        "1. Reordering existing data to match a set of labels.\n",
        "2. Inserting NaN markers where no data exists for a label.\n",
        "3. Possibly, filling missing data for a label using some type of logic (defaulting to adding NaN values)."
      ]
    },
    {
      "cell_type": "markdown",
      "metadata": {
        "id": "lo15MeyvGqwg"
      },
      "source": [
        "#### 31. Changing indexes of a series "
      ]
    },
    {
      "cell_type": "code",
      "execution_count": null,
      "metadata": {
        "id": "Sju2TDckGqwg",
        "outputId": "8547c009-3894-45c4-cae3-08a0623acf35"
      },
      "outputs": [
        {
          "data": {
            "text/plain": [
              "0    1.505688\n",
              "1    0.285284\n",
              "2   -2.395424\n",
              "3    0.167540\n",
              "4    1.288886\n",
              "dtype: float64"
            ]
          },
          "execution_count": 53,
          "metadata": {},
          "output_type": "execute_result"
        }
      ],
      "source": [
        "#Creating Sample Series\n",
        "s10 = pd.Series(np.random.randn(5))\n",
        "s10"
      ]
    },
    {
      "cell_type": "code",
      "execution_count": null,
      "metadata": {
        "id": "iW2oKzWvGqwg",
        "outputId": "8ce02088-2881-4fb5-bf5b-9a372545de50"
      },
      "outputs": [
        {
          "data": {
            "text/plain": [
              "a    1.505688\n",
              "b    0.285284\n",
              "c   -2.395424\n",
              "d    0.167540\n",
              "e    1.288886\n",
              "dtype: float64"
            ]
          },
          "execution_count": 54,
          "metadata": {},
          "output_type": "execute_result"
        }
      ],
      "source": [
        "# Changing Indexes\n",
        "s10.index=['a','b','c','d','e']\n",
        "s10"
      ]
    },
    {
      "cell_type": "markdown",
      "metadata": {
        "id": "R5XIRtaPGqwg"
      },
      "source": [
        "#### 32. Concatinating Series\n",
        "let's examine a slightly more practical example. The following code concatenates two Series objects resulting in duplicate index labels, which may not be desired in the resulting Series:"
      ]
    },
    {
      "cell_type": "code",
      "execution_count": null,
      "metadata": {
        "id": "reAv3hk6Gqwg",
        "outputId": "1b013b3f-f49a-41a7-d2a4-d5cf5d5e1ab7"
      },
      "outputs": [
        {
          "data": {
            "text/plain": [
              "0   -1.900792\n",
              "1    0.167370\n",
              "2    0.005499\n",
              "dtype: float64"
            ]
          },
          "execution_count": 61,
          "metadata": {},
          "output_type": "execute_result"
        }
      ],
      "source": [
        "s11 = pd.Series(np.random.randn(3))\n",
        "s11"
      ]
    },
    {
      "cell_type": "code",
      "execution_count": null,
      "metadata": {
        "id": "lp_Lk6KvGqwh",
        "outputId": "3f3406f4-259e-4095-9dfe-33c604c034a7"
      },
      "outputs": [
        {
          "data": {
            "text/plain": [
              "0   -1.825490\n",
              "1    0.350967\n",
              "2    1.149903\n",
              "dtype: float64"
            ]
          },
          "execution_count": 62,
          "metadata": {},
          "output_type": "execute_result"
        }
      ],
      "source": [
        "s12 = pd.Series(np.random.randn(3))\n",
        "s12"
      ]
    },
    {
      "cell_type": "code",
      "execution_count": null,
      "metadata": {
        "id": "NQh3vf5GGqwh",
        "outputId": "7a7fd844-6b99-4ca3-972e-08dc7d984a43"
      },
      "outputs": [
        {
          "data": {
            "text/plain": [
              "0   -1.900792\n",
              "1    0.167370\n",
              "2    0.005499\n",
              "0   -1.825490\n",
              "1    0.350967\n",
              "2    1.149903\n",
              "dtype: float64"
            ]
          },
          "execution_count": 63,
          "metadata": {},
          "output_type": "execute_result"
        }
      ],
      "source": [
        "comb_Seri = pd.concat([s11,s12])\n",
        "comb_Seri"
      ]
    },
    {
      "cell_type": "markdown",
      "metadata": {
        "id": "frHbAXj8Gqwh"
      },
      "source": [
        "#### 33. Reset index(duplication of index may be remove)\n",
        "Reindexing using the .index property in-place(CPU-memory) modifies the Series."
      ]
    },
    {
      "cell_type": "code",
      "execution_count": null,
      "metadata": {
        "id": "8RQcjWQ-Gqwi",
        "outputId": "042d9fcd-aa2b-47f5-fcd8-a66eaede598a"
      },
      "outputs": [
        {
          "data": {
            "text/plain": [
              "0   -1.900792\n",
              "1    0.167370\n",
              "2    0.005499\n",
              "3   -1.825490\n",
              "4    0.350967\n",
              "5    1.149903\n",
              "dtype: float64"
            ]
          },
          "execution_count": 66,
          "metadata": {},
          "output_type": "execute_result"
        }
      ],
      "source": [
        "comb_Seri.index = np.arange(0, len(comb_Seri))\n",
        "comb_Seri"
      ]
    },
    {
      "cell_type": "markdown",
      "metadata": {
        "id": "MOlw5ODiGqwi"
      },
      "source": [
        "#### 34. Using reindex() method to reindex\n",
        "Greater flexibility in creating a new index is provided using the .reindex() method. An example of the flexibility of .reindex() over assigning the .index property directly is that the list provided to .reindex() can be of a different length than the number of rows in the Series:"
      ]
    },
    {
      "cell_type": "code",
      "execution_count": null,
      "metadata": {
        "id": "a8mYoSZVGqwi",
        "outputId": "4461402b-df53-46cc-946f-ff8e11396e48"
      },
      "outputs": [
        {
          "name": "stdout",
          "output_type": "stream",
          "text": [
            "a   -1.135632\n",
            "b    1.212112\n",
            "d   -0.173215\n",
            "dtype: float64\n",
            "a   -1.135632\n",
            "b    1.212112\n",
            "c         NaN\n",
            "dtype: float64\n"
          ]
        }
      ],
      "source": [
        "s13 = pd.Series(np.random.randn(3),['a','b','d'])\n",
        "print(s13)\n",
        "\n",
        "s14 = s13.reindex(['a','b','c'])\n",
        "print(s14)"
      ]
    },
    {
      "cell_type": "markdown",
      "metadata": {
        "id": "PxDCelqCGqwi"
      },
      "source": [
        "Things to be noted:\n",
        "\n",
        "1. reindex() donot re-index inplace, it will return a new series original will not be modified\n",
        "2. if any index not matching the previous index will be assigned NaN\n",
        "3. The index present in previous indexes, if not included in re-index \n",
        "    then the row will not be added in new series. "
      ]
    },
    {
      "cell_type": "markdown",
      "metadata": {
        "id": "XFZRrPmoGqwi"
      },
      "source": [
        "#### 35. Concatinating string and integar labels"
      ]
    },
    {
      "cell_type": "code",
      "execution_count": null,
      "metadata": {
        "id": "jNba2OxpGqwj",
        "outputId": "c2c3ca25-66b2-4a76-cf34-0d97b7901818"
      },
      "outputs": [
        {
          "data": {
            "text/plain": [
              "0   NaN\n",
              "1   NaN\n",
              "2   NaN\n",
              "0   NaN\n",
              "1   NaN\n",
              "2   NaN\n",
              "dtype: float64"
            ]
          },
          "execution_count": 71,
          "metadata": {},
          "output_type": "execute_result"
        }
      ],
      "source": [
        "s15 = pd.Series([0, 1, 2], index=[0, 1, 2])\n",
        "s16 = pd.Series([3, 4, 5], index=['0', '1', '2'])\n",
        "s15 + s16"
      ]
    },
    {
      "cell_type": "code",
      "execution_count": null,
      "metadata": {
        "id": "FHtmeYyRGqwj",
        "outputId": "3a3ea1d0-d6ad-4754-e49d-8edc945388ea"
      },
      "outputs": [
        {
          "data": {
            "text/plain": [
              "0    3\n",
              "1    5\n",
              "2    7\n",
              "dtype: int64"
            ]
          },
          "execution_count": 72,
          "metadata": {},
          "output_type": "execute_result"
        }
      ],
      "source": [
        "# reindex by casting the label types and we will get the desired result\n",
        "\n",
        "s16.index = s16.index.values.astype(int)\n",
        "s15 + s16"
      ]
    },
    {
      "cell_type": "markdown",
      "metadata": {
        "id": "ncO56f41Gqwj"
      },
      "source": [
        "#### 36. fill with Some Value instead of NaN\n",
        "Overriding the default action of inserting NaN as a missing value during reindexing can be changed by using the fill_value parameter of the method."
      ]
    },
    {
      "cell_type": "code",
      "execution_count": null,
      "metadata": {
        "id": "c0m5lQiJGqwj",
        "outputId": "a54e2654-938e-40ec-d2d1-521bfa51b208"
      },
      "outputs": [
        {
          "data": {
            "text/plain": [
              "1    1\n",
              "3    0\n",
              "dtype: int64"
            ]
          },
          "execution_count": 73,
          "metadata": {},
          "output_type": "execute_result"
        }
      ],
      "source": [
        "s17_fill_val = s15.reindex([1,3], fill_value=0)\n",
        "s17_fill_val"
      ]
    },
    {
      "cell_type": "markdown",
      "metadata": {
        "id": "RY4fGXHYGqwj"
      },
      "source": [
        "#### 37. ForwardFill BackWordFill and nearest\n",
        "ffill, bfill, & nearest"
      ]
    },
    {
      "cell_type": "code",
      "execution_count": null,
      "metadata": {
        "id": "dZyVlP_UGqwj",
        "outputId": "e4736461-2f62-48f8-83b0-8398d3d1a8c5"
      },
      "outputs": [
        {
          "name": "stdout",
          "output_type": "stream",
          "text": [
            "0     apple\n",
            "4     Mango\n",
            "7    Banana\n",
            "dtype: object\n"
          ]
        }
      ],
      "source": [
        "s18 = pd.Series(['apple','Mango','Banana'], index=[0,4,7])\n",
        "print(s18)"
      ]
    },
    {
      "cell_type": "code",
      "execution_count": null,
      "metadata": {
        "id": "q7ZYZWUGGqwk",
        "outputId": "72e4b419-facf-48d3-de0c-3bfc0eec7341"
      },
      "outputs": [
        {
          "data": {
            "text/plain": [
              "0     apple\n",
              "1     apple\n",
              "2     apple\n",
              "3     apple\n",
              "4     Mango\n",
              "5     Mango\n",
              "6     Mango\n",
              "7    Banana\n",
              "8    Banana\n",
              "9    Banana\n",
              "dtype: object"
            ]
          },
          "execution_count": 79,
          "metadata": {},
          "output_type": "execute_result"
        }
      ],
      "source": [
        "# Forward Fill\n",
        "s18.reindex(np.arange(0,10),method='ffill')"
      ]
    },
    {
      "cell_type": "code",
      "execution_count": null,
      "metadata": {
        "id": "w0CQegVxGqwk",
        "outputId": "8ef38770-dac6-44c4-bd54-2864f808a5c6"
      },
      "outputs": [
        {
          "data": {
            "text/plain": [
              "0     apple\n",
              "1     Mango\n",
              "2     Mango\n",
              "3     Mango\n",
              "4     Mango\n",
              "5    Banana\n",
              "6    Banana\n",
              "7    Banana\n",
              "8       NaN\n",
              "9       NaN\n",
              "dtype: object"
            ]
          },
          "execution_count": 81,
          "metadata": {},
          "output_type": "execute_result"
        }
      ],
      "source": [
        "# backward Fill\n",
        "s18.reindex(np.arange(0,10),method='bfill')"
      ]
    },
    {
      "cell_type": "code",
      "execution_count": null,
      "metadata": {
        "id": "T6-Ko-PZGqwk",
        "outputId": "b8fb49e1-728d-44ed-a9fa-3e252a322b2e"
      },
      "outputs": [
        {
          "data": {
            "text/plain": [
              "0     apple\n",
              "1     apple\n",
              "2     Mango\n",
              "3     Mango\n",
              "4     Mango\n",
              "5     Mango\n",
              "6    Banana\n",
              "7    Banana\n",
              "8    Banana\n",
              "9    Banana\n",
              "dtype: object"
            ]
          },
          "execution_count": 82,
          "metadata": {},
          "output_type": "execute_result"
        }
      ],
      "source": [
        "# nearest Fill\n",
        "s18.reindex(np.arange(0,10),method='nearest')"
      ]
    },
    {
      "cell_type": "markdown",
      "metadata": {
        "id": "vicISiycGqwk"
      },
      "source": [
        "### 38. Slicing a Series"
      ]
    },
    {
      "cell_type": "code",
      "execution_count": null,
      "metadata": {
        "id": "181TwW41Gqwl",
        "outputId": "cd77b01c-6b4b-4238-9a86-f52f11524be1"
      },
      "outputs": [
        {
          "name": "stdout",
          "output_type": "stream",
          "text": [
            "original series\n",
            "10    50\n",
            "11    51\n",
            "12    52\n",
            "13    53\n",
            "14    54\n",
            "15    55\n",
            "16    56\n",
            "17    57\n",
            "18    58\n",
            "19    59\n",
            "20    60\n",
            "dtype: int32\n",
            "sliced series\n",
            "12    52\n",
            "13    53\n",
            "14    54\n",
            "15    55\n",
            "dtype: int32\n"
          ]
        }
      ],
      "source": [
        "# a Series to use for slicing\n",
        "# using index labels not starting at 0 to demonstrate\n",
        "# position based slicing\n",
        "s19 = pd.Series(np.arange(50,61), index=np.arange(10,21))\n",
        "print('original series')\n",
        "print(s19)\n",
        "print('sliced series')\n",
        "print(s19[2:6:1])"
      ]
    },
    {
      "cell_type": "markdown",
      "metadata": {
        "id": "afNp6d0nGqwl"
      },
      "source": [
        "#### 39. first five by slicing, same as .head(5)"
      ]
    },
    {
      "cell_type": "code",
      "execution_count": null,
      "metadata": {
        "id": "asZvwcBPGqwl",
        "outputId": "2ed7f2da-ccf4-4819-b1ec-e04934104729"
      },
      "outputs": [
        {
          "data": {
            "text/plain": [
              "10    50\n",
              "11    51\n",
              "12    52\n",
              "13    53\n",
              "14    54\n",
              "dtype: int32"
            ]
          },
          "execution_count": 88,
          "metadata": {},
          "output_type": "execute_result"
        }
      ],
      "source": [
        "s19[:5]"
      ]
    },
    {
      "cell_type": "markdown",
      "metadata": {
        "id": "849Iaid6Gqwl"
      },
      "source": [
        "#### 40. Missing Data in Series\n",
        "NaN values represent data is missing in the series"
      ]
    },
    {
      "cell_type": "code",
      "execution_count": null,
      "metadata": {
        "id": "MBDDSAaVGqwm",
        "outputId": "710b6d5a-136f-480f-ae55-ee2d90b82d46"
      },
      "outputs": [
        {
          "data": {
            "text/plain": [
              "California        NaN\n",
              "Ohio          35000.0\n",
              "Oregon        16000.0\n",
              "Texas         71000.0\n",
              "dtype: float64"
            ]
          },
          "execution_count": 93,
          "metadata": {},
          "output_type": "execute_result"
        }
      ],
      "source": [
        "sdata = {'Ohio': 35000, 'Texas': 71000, 'Oregon': 16000, 'Utah': 5000}\n",
        "states = ['California', 'Ohio', 'Oregon', 'Texas']\n",
        "\n",
        "s20 = pd.Series(sdata, index=states)\n",
        "s20"
      ]
    },
    {
      "cell_type": "markdown",
      "metadata": {
        "id": "_iLuEUb_Gqwm"
      },
      "source": [
        "#### 41. Check if series has null values"
      ]
    },
    {
      "cell_type": "code",
      "execution_count": null,
      "metadata": {
        "id": "dMwTaqboGqwm",
        "outputId": "917a8cec-8fde-4769-dbc6-f7933555b068"
      },
      "outputs": [
        {
          "data": {
            "text/plain": [
              "California     True\n",
              "Ohio          False\n",
              "Oregon        False\n",
              "Texas         False\n",
              "dtype: bool"
            ]
          },
          "execution_count": 95,
          "metadata": {},
          "output_type": "execute_result"
        }
      ],
      "source": [
        "pd.isnull(s20)  # obj4.isnull()"
      ]
    },
    {
      "cell_type": "markdown",
      "metadata": {
        "id": "xtRKWYapGqwm"
      },
      "source": [
        "#### 42. Check if series has not null values(return true)"
      ]
    },
    {
      "cell_type": "code",
      "execution_count": null,
      "metadata": {
        "id": "0KL1aIK7Gqwm",
        "outputId": "4f6628e8-b040-4dd1-e2e9-7c37e121626f"
      },
      "outputs": [
        {
          "data": {
            "text/plain": [
              "California    False\n",
              "Ohio           True\n",
              "Oregon         True\n",
              "Texas          True\n",
              "dtype: bool"
            ]
          },
          "execution_count": 96,
          "metadata": {},
          "output_type": "execute_result"
        }
      ],
      "source": [
        "pd.notnull(s20)"
      ]
    },
    {
      "cell_type": "markdown",
      "metadata": {
        "id": "-AfodxnlGqwm"
      },
      "source": [
        "## 43. The pandas DataFrame Object\n",
        "A DataFrame represents a rectangular table of data and contains an ordered collection of columns, each of which can be a different value type (numeric, string, boolean, etc.)."
      ]
    },
    {
      "cell_type": "markdown",
      "metadata": {
        "id": "QNalkyTmGqwn"
      },
      "source": [
        "#### 44. Creating a DataFrame from scratch"
      ]
    },
    {
      "cell_type": "code",
      "execution_count": null,
      "metadata": {
        "id": "BXexZiZlGqwn",
        "outputId": "12deb5ce-59a7-4766-f9ae-004de8237fd9"
      },
      "outputs": [
        {
          "data": {
            "text/html": [
              "<div>\n",
              "<style scoped>\n",
              "    .dataframe tbody tr th:only-of-type {\n",
              "        vertical-align: middle;\n",
              "    }\n",
              "\n",
              "    .dataframe tbody tr th {\n",
              "        vertical-align: top;\n",
              "    }\n",
              "\n",
              "    .dataframe thead th {\n",
              "        text-align: right;\n",
              "    }\n",
              "</style>\n",
              "<table border=\"1\" class=\"dataframe\">\n",
              "  <thead>\n",
              "    <tr style=\"text-align: right;\">\n",
              "      <th></th>\n",
              "      <th>0</th>\n",
              "      <th>1</th>\n",
              "      <th>2</th>\n",
              "      <th>3</th>\n",
              "      <th>4</th>\n",
              "    </tr>\n",
              "  </thead>\n",
              "  <tbody>\n",
              "    <tr>\n",
              "      <th>0</th>\n",
              "      <td>1</td>\n",
              "      <td>2</td>\n",
              "      <td>3</td>\n",
              "      <td>4</td>\n",
              "      <td>5</td>\n",
              "    </tr>\n",
              "    <tr>\n",
              "      <th>1</th>\n",
              "      <td>2</td>\n",
              "      <td>4</td>\n",
              "      <td>5</td>\n",
              "      <td>7</td>\n",
              "      <td>8</td>\n",
              "    </tr>\n",
              "  </tbody>\n",
              "</table>\n",
              "</div>"
            ],
            "text/plain": [
              "   0  1  2  3  4\n",
              "0  1  2  3  4  5\n",
              "1  2  4  5  7  8"
            ]
          },
          "execution_count": 99,
          "metadata": {},
          "output_type": "execute_result"
        }
      ],
      "source": [
        "# create a DataFrame from a 2-d ndarray\n",
        "# default row and columns indexes\n",
        "df = pd.DataFrame(np.array([[1,2,3,4,5],[2,4,5,7,8]]))\n",
        "df"
      ]
    },
    {
      "cell_type": "markdown",
      "metadata": {
        "id": "NxkKTBE8Gqwn"
      },
      "source": [
        "#### 45. Create a DataFrame for a list of Series objects"
      ]
    },
    {
      "cell_type": "code",
      "execution_count": null,
      "metadata": {
        "id": "H_enhEwlGqwn",
        "outputId": "50787e3b-b86a-425c-be8a-e6f9d2e94eec"
      },
      "outputs": [
        {
          "data": {
            "text/html": [
              "<div>\n",
              "<style scoped>\n",
              "    .dataframe tbody tr th:only-of-type {\n",
              "        vertical-align: middle;\n",
              "    }\n",
              "\n",
              "    .dataframe tbody tr th {\n",
              "        vertical-align: top;\n",
              "    }\n",
              "\n",
              "    .dataframe thead th {\n",
              "        text-align: right;\n",
              "    }\n",
              "</style>\n",
              "<table border=\"1\" class=\"dataframe\">\n",
              "  <thead>\n",
              "    <tr style=\"text-align: right;\">\n",
              "      <th></th>\n",
              "      <th>0</th>\n",
              "      <th>1</th>\n",
              "      <th>2</th>\n",
              "      <th>3</th>\n",
              "      <th>4</th>\n",
              "    </tr>\n",
              "  </thead>\n",
              "  <tbody>\n",
              "    <tr>\n",
              "      <th>0</th>\n",
              "      <td>10</td>\n",
              "      <td>11</td>\n",
              "      <td>12</td>\n",
              "      <td>13</td>\n",
              "      <td>14</td>\n",
              "    </tr>\n",
              "    <tr>\n",
              "      <th>1</th>\n",
              "      <td>20</td>\n",
              "      <td>21</td>\n",
              "      <td>22</td>\n",
              "      <td>23</td>\n",
              "      <td>24</td>\n",
              "    </tr>\n",
              "  </tbody>\n",
              "</table>\n",
              "</div>"
            ],
            "text/plain": [
              "    0   1   2   3   4\n",
              "0  10  11  12  13  14\n",
              "1  20  21  22  23  24"
            ]
          },
          "execution_count": 102,
          "metadata": {},
          "output_type": "execute_result"
        }
      ],
      "source": [
        "df2 = pd.DataFrame([pd.Series(np.arange(10,15)),pd.Series(np.arange(20,25))])\n",
        "df2"
      ]
    },
    {
      "cell_type": "markdown",
      "metadata": {
        "id": "gx2TZ9h0Gqwn"
      },
      "source": [
        "#### 46. Create a DataFrame with two Series objects in dictionary\n",
        " and assigning different column name"
      ]
    },
    {
      "cell_type": "code",
      "execution_count": null,
      "metadata": {
        "id": "_0pM6Hq5Gqwo",
        "outputId": "2101e44f-852e-4742-a6be-2e877cd87160"
      },
      "outputs": [
        {
          "data": {
            "text/html": [
              "<div>\n",
              "<style scoped>\n",
              "    .dataframe tbody tr th:only-of-type {\n",
              "        vertical-align: middle;\n",
              "    }\n",
              "\n",
              "    .dataframe tbody tr th {\n",
              "        vertical-align: top;\n",
              "    }\n",
              "\n",
              "    .dataframe thead th {\n",
              "        text-align: right;\n",
              "    }\n",
              "</style>\n",
              "<table border=\"1\" class=\"dataframe\">\n",
              "  <thead>\n",
              "    <tr style=\"text-align: right;\">\n",
              "      <th></th>\n",
              "      <th>item1</th>\n",
              "      <th>item2</th>\n",
              "    </tr>\n",
              "  </thead>\n",
              "  <tbody>\n",
              "    <tr>\n",
              "      <th>0</th>\n",
              "      <td>0</td>\n",
              "      <td>5</td>\n",
              "    </tr>\n",
              "    <tr>\n",
              "      <th>1</th>\n",
              "      <td>1</td>\n",
              "      <td>6</td>\n",
              "    </tr>\n",
              "    <tr>\n",
              "      <th>2</th>\n",
              "      <td>2</td>\n",
              "      <td>7</td>\n",
              "    </tr>\n",
              "    <tr>\n",
              "      <th>3</th>\n",
              "      <td>3</td>\n",
              "      <td>8</td>\n",
              "    </tr>\n",
              "    <tr>\n",
              "      <th>4</th>\n",
              "      <td>4</td>\n",
              "      <td>9</td>\n",
              "    </tr>\n",
              "  </tbody>\n",
              "</table>\n",
              "</div>"
            ],
            "text/plain": [
              "   item1  item2\n",
              "0      0      5\n",
              "1      1      6\n",
              "2      2      7\n",
              "3      3      8\n",
              "4      4      9"
            ]
          },
          "execution_count": 103,
          "metadata": {},
          "output_type": "execute_result"
        }
      ],
      "source": [
        "s21 = pd.Series(np.arange(0,5))\n",
        "s22 = pd.Series(np.arange(5,10))\n",
        "df3 = pd.DataFrame({'item1':s21,'item2':s22})\n",
        "df3"
      ]
    },
    {
      "cell_type": "markdown",
      "metadata": {
        "id": "l3pqtPxvGqwo"
      },
      "source": [
        "#### 47. Create a DataFrame with named columns and rows"
      ]
    },
    {
      "cell_type": "code",
      "execution_count": null,
      "metadata": {
        "id": "vw9xP9SyGqwp",
        "outputId": "dc33dd2f-353b-4efe-8af2-e9aaf1f225f9"
      },
      "outputs": [
        {
          "data": {
            "text/html": [
              "<div>\n",
              "<style scoped>\n",
              "    .dataframe tbody tr th:only-of-type {\n",
              "        vertical-align: middle;\n",
              "    }\n",
              "\n",
              "    .dataframe tbody tr th {\n",
              "        vertical-align: top;\n",
              "    }\n",
              "\n",
              "    .dataframe thead th {\n",
              "        text-align: right;\n",
              "    }\n",
              "</style>\n",
              "<table border=\"1\" class=\"dataframe\">\n",
              "  <thead>\n",
              "    <tr style=\"text-align: right;\">\n",
              "      <th></th>\n",
              "      <th>Mon</th>\n",
              "      <th>Tue</th>\n",
              "      <th>Wed</th>\n",
              "      <th>Thus</th>\n",
              "      <th>Fri</th>\n",
              "    </tr>\n",
              "  </thead>\n",
              "  <tbody>\n",
              "    <tr>\n",
              "      <th>orange</th>\n",
              "      <td>1</td>\n",
              "      <td>2</td>\n",
              "      <td>3</td>\n",
              "      <td>4</td>\n",
              "      <td>5</td>\n",
              "    </tr>\n",
              "    <tr>\n",
              "      <th>Mango</th>\n",
              "      <td>6</td>\n",
              "      <td>7</td>\n",
              "      <td>8</td>\n",
              "      <td>9</td>\n",
              "      <td>1</td>\n",
              "    </tr>\n",
              "  </tbody>\n",
              "</table>\n",
              "</div>"
            ],
            "text/plain": [
              "        Mon  Tue  Wed  Thus  Fri\n",
              "orange    1    2    3     4    5\n",
              "Mango     6    7    8     9    1"
            ]
          },
          "execution_count": 104,
          "metadata": {},
          "output_type": "execute_result"
        }
      ],
      "source": [
        "df4 = pd.DataFrame(np.array([[1,2,3,4,5],[6,7,8,9,1]]),index=['orange','Mango'],columns=['Mon','Tue','Wed','Thus','Fri'])\n",
        "df4"
      ]
    },
    {
      "cell_type": "markdown",
      "metadata": {
        "id": "N89jQOtcGqwp"
      },
      "source": [
        "#### 48. Demonstrate alignment during creation"
      ]
    },
    {
      "cell_type": "code",
      "execution_count": null,
      "metadata": {
        "id": "lJygfzlFGqwp",
        "outputId": "f2171208-7af9-432e-aac3-6bf401f3cef0"
      },
      "outputs": [
        {
          "data": {
            "text/html": [
              "<div>\n",
              "<style scoped>\n",
              "    .dataframe tbody tr th:only-of-type {\n",
              "        vertical-align: middle;\n",
              "    }\n",
              "\n",
              "    .dataframe tbody tr th {\n",
              "        vertical-align: top;\n",
              "    }\n",
              "\n",
              "    .dataframe thead th {\n",
              "        text-align: right;\n",
              "    }\n",
              "</style>\n",
              "<table border=\"1\" class=\"dataframe\">\n",
              "  <thead>\n",
              "    <tr style=\"text-align: right;\">\n",
              "      <th></th>\n",
              "      <th>a1</th>\n",
              "      <th>a2</th>\n",
              "      <th>a3</th>\n",
              "    </tr>\n",
              "  </thead>\n",
              "  <tbody>\n",
              "    <tr>\n",
              "      <th>0</th>\n",
              "      <td>0</td>\n",
              "      <td>5</td>\n",
              "      <td>15.0</td>\n",
              "    </tr>\n",
              "    <tr>\n",
              "      <th>1</th>\n",
              "      <td>1</td>\n",
              "      <td>6</td>\n",
              "      <td>NaN</td>\n",
              "    </tr>\n",
              "    <tr>\n",
              "      <th>2</th>\n",
              "      <td>2</td>\n",
              "      <td>7</td>\n",
              "      <td>16.0</td>\n",
              "    </tr>\n",
              "    <tr>\n",
              "      <th>3</th>\n",
              "      <td>3</td>\n",
              "      <td>8</td>\n",
              "      <td>NaN</td>\n",
              "    </tr>\n",
              "    <tr>\n",
              "      <th>4</th>\n",
              "      <td>4</td>\n",
              "      <td>9</td>\n",
              "      <td>NaN</td>\n",
              "    </tr>\n",
              "  </tbody>\n",
              "</table>\n",
              "</div>"
            ],
            "text/plain": [
              "   a1  a2    a3\n",
              "0   0   5  15.0\n",
              "1   1   6   NaN\n",
              "2   2   7  16.0\n",
              "3   3   8   NaN\n",
              "4   4   9   NaN"
            ]
          },
          "execution_count": 106,
          "metadata": {},
          "output_type": "execute_result"
        }
      ],
      "source": [
        "s23 = pd.Series(np.arange(15,17),index=[0,2])\n",
        "df5 = pd.DataFrame({'a1':s21, 'a2':s22, 'a3':s23})\n",
        "df5"
      ]
    },
    {
      "cell_type": "markdown",
      "metadata": {
        "id": "vIGB6wU2Gqwp"
      },
      "source": [
        "#### 49. Creating data frames(using dictionary)"
      ]
    },
    {
      "cell_type": "code",
      "execution_count": null,
      "metadata": {
        "id": "NbRjP3qXGqwq",
        "outputId": "a6714578-2340-4885-8f80-db8a5ab1729a"
      },
      "outputs": [
        {
          "data": {
            "text/html": [
              "<div>\n",
              "<style scoped>\n",
              "    .dataframe tbody tr th:only-of-type {\n",
              "        vertical-align: middle;\n",
              "    }\n",
              "\n",
              "    .dataframe tbody tr th {\n",
              "        vertical-align: top;\n",
              "    }\n",
              "\n",
              "    .dataframe thead th {\n",
              "        text-align: right;\n",
              "    }\n",
              "</style>\n",
              "<table border=\"1\" class=\"dataframe\">\n",
              "  <thead>\n",
              "    <tr style=\"text-align: right;\">\n",
              "      <th></th>\n",
              "      <th>Mango</th>\n",
              "      <th>Orange</th>\n",
              "      <th>Packet</th>\n",
              "    </tr>\n",
              "  </thead>\n",
              "  <tbody>\n",
              "    <tr>\n",
              "      <th>0</th>\n",
              "      <td>3</td>\n",
              "      <td>9</td>\n",
              "      <td>8</td>\n",
              "    </tr>\n",
              "    <tr>\n",
              "      <th>1</th>\n",
              "      <td>5</td>\n",
              "      <td>8</td>\n",
              "      <td>7</td>\n",
              "    </tr>\n",
              "    <tr>\n",
              "      <th>2</th>\n",
              "      <td>6</td>\n",
              "      <td>6</td>\n",
              "      <td>9</td>\n",
              "    </tr>\n",
              "    <tr>\n",
              "      <th>3</th>\n",
              "      <td>8</td>\n",
              "      <td>9</td>\n",
              "      <td>9</td>\n",
              "    </tr>\n",
              "    <tr>\n",
              "      <th>4</th>\n",
              "      <td>4</td>\n",
              "      <td>9</td>\n",
              "      <td>8</td>\n",
              "    </tr>\n",
              "    <tr>\n",
              "      <th>5</th>\n",
              "      <td>7</td>\n",
              "      <td>7</td>\n",
              "      <td>7</td>\n",
              "    </tr>\n",
              "    <tr>\n",
              "      <th>6</th>\n",
              "      <td>7</td>\n",
              "      <td>7</td>\n",
              "      <td>6</td>\n",
              "    </tr>\n",
              "  </tbody>\n",
              "</table>\n",
              "</div>"
            ],
            "text/plain": [
              "   Mango  Orange  Packet\n",
              "0      3       9       8\n",
              "1      5       8       7\n",
              "2      6       6       9\n",
              "3      8       9       9\n",
              "4      4       9       8\n",
              "5      7       7       7\n",
              "6      7       7       6"
            ]
          },
          "execution_count": 2,
          "metadata": {},
          "output_type": "execute_result"
        }
      ],
      "source": [
        "dataf = {'Mango':[3,5,6,8,4,7,7],\n",
        "         'Orange':[9,8,6,9,9,7,7],\n",
        "         'Packet':[8,7,9,9,8,7,6]}\n",
        "df6 = pd.DataFrame(dataf)\n",
        "df6"
      ]
    },
    {
      "cell_type": "markdown",
      "metadata": {
        "id": "U86jaGjIGqwq"
      },
      "source": [
        "#### 50. Accessing Each Column"
      ]
    },
    {
      "cell_type": "code",
      "execution_count": null,
      "metadata": {
        "id": "uQMkC2dqGqwq",
        "outputId": "ae160660-fc64-4726-957a-bdcd976cf920"
      },
      "outputs": [
        {
          "data": {
            "text/plain": [
              "0    3\n",
              "1    5\n",
              "2    6\n",
              "3    8\n",
              "4    4\n",
              "5    7\n",
              "6    7\n",
              "Name: Mango, dtype: int64"
            ]
          },
          "execution_count": 4,
          "metadata": {},
          "output_type": "execute_result"
        }
      ],
      "source": [
        "df6.Mango"
      ]
    },
    {
      "cell_type": "code",
      "execution_count": null,
      "metadata": {
        "id": "Gvyohfv-Gqwq",
        "outputId": "0f962675-5f67-43fd-db5f-6ad9f05045ed"
      },
      "outputs": [
        {
          "data": {
            "text/plain": [
              "0    3\n",
              "1    5\n",
              "2    6\n",
              "3    8\n",
              "4    4\n",
              "5    7\n",
              "6    7\n",
              "Name: Mango, dtype: int64"
            ]
          },
          "execution_count": 5,
          "metadata": {},
          "output_type": "execute_result"
        }
      ],
      "source": [
        "df6['Mango']"
      ]
    },
    {
      "cell_type": "markdown",
      "metadata": {
        "id": "Dqk8YnoHGqwr"
      },
      "source": [
        "#### 51. Adding new column to old dataframe"
      ]
    },
    {
      "cell_type": "code",
      "execution_count": null,
      "metadata": {
        "id": "m9E-xPWZGqwr",
        "outputId": "d06af36e-d281-4579-fb95-c0e74e6ca73b"
      },
      "outputs": [
        {
          "data": {
            "text/html": [
              "<div>\n",
              "<style scoped>\n",
              "    .dataframe tbody tr th:only-of-type {\n",
              "        vertical-align: middle;\n",
              "    }\n",
              "\n",
              "    .dataframe tbody tr th {\n",
              "        vertical-align: top;\n",
              "    }\n",
              "\n",
              "    .dataframe thead th {\n",
              "        text-align: right;\n",
              "    }\n",
              "</style>\n",
              "<table border=\"1\" class=\"dataframe\">\n",
              "  <thead>\n",
              "    <tr style=\"text-align: right;\">\n",
              "      <th></th>\n",
              "      <th>Mango</th>\n",
              "      <th>Orange</th>\n",
              "      <th>Packet</th>\n",
              "      <th>Dept</th>\n",
              "    </tr>\n",
              "  </thead>\n",
              "  <tbody>\n",
              "    <tr>\n",
              "      <th>one</th>\n",
              "      <td>3</td>\n",
              "      <td>9</td>\n",
              "      <td>8</td>\n",
              "      <td>NaN</td>\n",
              "    </tr>\n",
              "    <tr>\n",
              "      <th>two</th>\n",
              "      <td>5</td>\n",
              "      <td>8</td>\n",
              "      <td>7</td>\n",
              "      <td>NaN</td>\n",
              "    </tr>\n",
              "    <tr>\n",
              "      <th>three</th>\n",
              "      <td>6</td>\n",
              "      <td>6</td>\n",
              "      <td>9</td>\n",
              "      <td>NaN</td>\n",
              "    </tr>\n",
              "    <tr>\n",
              "      <th>four</th>\n",
              "      <td>8</td>\n",
              "      <td>9</td>\n",
              "      <td>9</td>\n",
              "      <td>NaN</td>\n",
              "    </tr>\n",
              "    <tr>\n",
              "      <th>five</th>\n",
              "      <td>4</td>\n",
              "      <td>9</td>\n",
              "      <td>8</td>\n",
              "      <td>NaN</td>\n",
              "    </tr>\n",
              "    <tr>\n",
              "      <th>six</th>\n",
              "      <td>7</td>\n",
              "      <td>7</td>\n",
              "      <td>7</td>\n",
              "      <td>NaN</td>\n",
              "    </tr>\n",
              "    <tr>\n",
              "      <th>seven</th>\n",
              "      <td>7</td>\n",
              "      <td>7</td>\n",
              "      <td>6</td>\n",
              "      <td>NaN</td>\n",
              "    </tr>\n",
              "  </tbody>\n",
              "</table>\n",
              "</div>"
            ],
            "text/plain": [
              "       Mango  Orange  Packet Dept\n",
              "one        3       9       8  NaN\n",
              "two        5       8       7  NaN\n",
              "three      6       6       9  NaN\n",
              "four       8       9       9  NaN\n",
              "five       4       9       8  NaN\n",
              "six        7       7       7  NaN\n",
              "seven      7       7       6  NaN"
            ]
          },
          "execution_count": 12,
          "metadata": {},
          "output_type": "execute_result"
        }
      ],
      "source": [
        "df7 = pd.DataFrame(dataf,columns=['Mango','Orange','Packet','Dept'], index=['one','two','three','four','five','six','seven'],)\n",
        "df7"
      ]
    },
    {
      "cell_type": "markdown",
      "metadata": {
        "id": "sAsiTXqoGqwr"
      },
      "source": [
        "#### 52. Assigning value to new column"
      ]
    },
    {
      "cell_type": "code",
      "execution_count": null,
      "metadata": {
        "id": "0ufohaujGqwr",
        "outputId": "7e6c2aa9-f3a8-4221-b78c-97c9b4c88ed0"
      },
      "outputs": [
        {
          "data": {
            "text/html": [
              "<div>\n",
              "<style scoped>\n",
              "    .dataframe tbody tr th:only-of-type {\n",
              "        vertical-align: middle;\n",
              "    }\n",
              "\n",
              "    .dataframe tbody tr th {\n",
              "        vertical-align: top;\n",
              "    }\n",
              "\n",
              "    .dataframe thead th {\n",
              "        text-align: right;\n",
              "    }\n",
              "</style>\n",
              "<table border=\"1\" class=\"dataframe\">\n",
              "  <thead>\n",
              "    <tr style=\"text-align: right;\">\n",
              "      <th></th>\n",
              "      <th>Mango</th>\n",
              "      <th>Orange</th>\n",
              "      <th>Packet</th>\n",
              "      <th>Dept</th>\n",
              "    </tr>\n",
              "  </thead>\n",
              "  <tbody>\n",
              "    <tr>\n",
              "      <th>one</th>\n",
              "      <td>3</td>\n",
              "      <td>9</td>\n",
              "      <td>8</td>\n",
              "      <td>30</td>\n",
              "    </tr>\n",
              "    <tr>\n",
              "      <th>two</th>\n",
              "      <td>5</td>\n",
              "      <td>8</td>\n",
              "      <td>7</td>\n",
              "      <td>30</td>\n",
              "    </tr>\n",
              "    <tr>\n",
              "      <th>three</th>\n",
              "      <td>6</td>\n",
              "      <td>6</td>\n",
              "      <td>9</td>\n",
              "      <td>30</td>\n",
              "    </tr>\n",
              "    <tr>\n",
              "      <th>four</th>\n",
              "      <td>8</td>\n",
              "      <td>9</td>\n",
              "      <td>9</td>\n",
              "      <td>30</td>\n",
              "    </tr>\n",
              "    <tr>\n",
              "      <th>five</th>\n",
              "      <td>4</td>\n",
              "      <td>9</td>\n",
              "      <td>8</td>\n",
              "      <td>30</td>\n",
              "    </tr>\n",
              "    <tr>\n",
              "      <th>six</th>\n",
              "      <td>7</td>\n",
              "      <td>7</td>\n",
              "      <td>7</td>\n",
              "      <td>30</td>\n",
              "    </tr>\n",
              "    <tr>\n",
              "      <th>seven</th>\n",
              "      <td>7</td>\n",
              "      <td>7</td>\n",
              "      <td>6</td>\n",
              "      <td>30</td>\n",
              "    </tr>\n",
              "  </tbody>\n",
              "</table>\n",
              "</div>"
            ],
            "text/plain": [
              "       Mango  Orange  Packet  Dept\n",
              "one        3       9       8    30\n",
              "two        5       8       7    30\n",
              "three      6       6       9    30\n",
              "four       8       9       9    30\n",
              "five       4       9       8    30\n",
              "six        7       7       7    30\n",
              "seven      7       7       6    30"
            ]
          },
          "execution_count": 11,
          "metadata": {},
          "output_type": "execute_result"
        }
      ],
      "source": [
        "df7.Dept = 30\n",
        "df7"
      ]
    },
    {
      "cell_type": "markdown",
      "metadata": {
        "id": "Cwiz18apGqws"
      },
      "source": [
        "#### 53. Assigning value to dataframe using Series"
      ]
    },
    {
      "cell_type": "code",
      "execution_count": null,
      "metadata": {
        "id": "NUVDMEKBGqws",
        "outputId": "48f4a25e-a1c2-4144-d1ee-fe459d658186"
      },
      "outputs": [
        {
          "data": {
            "text/html": [
              "<div>\n",
              "<style scoped>\n",
              "    .dataframe tbody tr th:only-of-type {\n",
              "        vertical-align: middle;\n",
              "    }\n",
              "\n",
              "    .dataframe tbody tr th {\n",
              "        vertical-align: top;\n",
              "    }\n",
              "\n",
              "    .dataframe thead th {\n",
              "        text-align: right;\n",
              "    }\n",
              "</style>\n",
              "<table border=\"1\" class=\"dataframe\">\n",
              "  <thead>\n",
              "    <tr style=\"text-align: right;\">\n",
              "      <th></th>\n",
              "      <th>Mango</th>\n",
              "      <th>Orange</th>\n",
              "      <th>Packet</th>\n",
              "      <th>Dept</th>\n",
              "    </tr>\n",
              "  </thead>\n",
              "  <tbody>\n",
              "    <tr>\n",
              "      <th>one</th>\n",
              "      <td>3</td>\n",
              "      <td>9</td>\n",
              "      <td>8</td>\n",
              "      <td>NaN</td>\n",
              "    </tr>\n",
              "    <tr>\n",
              "      <th>two</th>\n",
              "      <td>5</td>\n",
              "      <td>8</td>\n",
              "      <td>7</td>\n",
              "      <td>1.2</td>\n",
              "    </tr>\n",
              "    <tr>\n",
              "      <th>three</th>\n",
              "      <td>6</td>\n",
              "      <td>6</td>\n",
              "      <td>9</td>\n",
              "      <td>-3.2</td>\n",
              "    </tr>\n",
              "    <tr>\n",
              "      <th>four</th>\n",
              "      <td>8</td>\n",
              "      <td>9</td>\n",
              "      <td>9</td>\n",
              "      <td>-5.6</td>\n",
              "    </tr>\n",
              "    <tr>\n",
              "      <th>five</th>\n",
              "      <td>4</td>\n",
              "      <td>9</td>\n",
              "      <td>8</td>\n",
              "      <td>NaN</td>\n",
              "    </tr>\n",
              "    <tr>\n",
              "      <th>six</th>\n",
              "      <td>7</td>\n",
              "      <td>7</td>\n",
              "      <td>7</td>\n",
              "      <td>NaN</td>\n",
              "    </tr>\n",
              "    <tr>\n",
              "      <th>seven</th>\n",
              "      <td>7</td>\n",
              "      <td>7</td>\n",
              "      <td>6</td>\n",
              "      <td>NaN</td>\n",
              "    </tr>\n",
              "  </tbody>\n",
              "</table>\n",
              "</div>"
            ],
            "text/plain": [
              "       Mango  Orange  Packet  Dept\n",
              "one        3       9       8   NaN\n",
              "two        5       8       7   1.2\n",
              "three      6       6       9  -3.2\n",
              "four       8       9       9  -5.6\n",
              "five       4       9       8   NaN\n",
              "six        7       7       7   NaN\n",
              "seven      7       7       6   NaN"
            ]
          },
          "execution_count": 13,
          "metadata": {},
          "output_type": "execute_result"
        }
      ],
      "source": [
        "df7.Dept = pd.Series([1.2,-3.2,-5.6],index=['two','three','four'])\n",
        "df7"
      ]
    },
    {
      "cell_type": "markdown",
      "metadata": {
        "id": "5_hBkBjaGqws"
      },
      "source": [
        "#### 54. Adding new column with boolean value"
      ]
    },
    {
      "cell_type": "code",
      "execution_count": null,
      "metadata": {
        "id": "enEYSz1pGqws",
        "outputId": "d8cc87f2-ccbc-41a8-9896-0de7143d3bdd"
      },
      "outputs": [
        {
          "data": {
            "text/html": [
              "<div>\n",
              "<style scoped>\n",
              "    .dataframe tbody tr th:only-of-type {\n",
              "        vertical-align: middle;\n",
              "    }\n",
              "\n",
              "    .dataframe tbody tr th {\n",
              "        vertical-align: top;\n",
              "    }\n",
              "\n",
              "    .dataframe thead th {\n",
              "        text-align: right;\n",
              "    }\n",
              "</style>\n",
              "<table border=\"1\" class=\"dataframe\">\n",
              "  <thead>\n",
              "    <tr style=\"text-align: right;\">\n",
              "      <th></th>\n",
              "      <th>Mango</th>\n",
              "      <th>Orange</th>\n",
              "      <th>Packet</th>\n",
              "      <th>Dept</th>\n",
              "      <th>Estimate</th>\n",
              "    </tr>\n",
              "  </thead>\n",
              "  <tbody>\n",
              "    <tr>\n",
              "      <th>one</th>\n",
              "      <td>3</td>\n",
              "      <td>9</td>\n",
              "      <td>8</td>\n",
              "      <td>NaN</td>\n",
              "      <td>True</td>\n",
              "    </tr>\n",
              "    <tr>\n",
              "      <th>two</th>\n",
              "      <td>5</td>\n",
              "      <td>8</td>\n",
              "      <td>7</td>\n",
              "      <td>1.2</td>\n",
              "      <td>False</td>\n",
              "    </tr>\n",
              "    <tr>\n",
              "      <th>three</th>\n",
              "      <td>6</td>\n",
              "      <td>6</td>\n",
              "      <td>9</td>\n",
              "      <td>-3.2</td>\n",
              "      <td>False</td>\n",
              "    </tr>\n",
              "    <tr>\n",
              "      <th>four</th>\n",
              "      <td>8</td>\n",
              "      <td>9</td>\n",
              "      <td>9</td>\n",
              "      <td>-5.6</td>\n",
              "      <td>True</td>\n",
              "    </tr>\n",
              "    <tr>\n",
              "      <th>five</th>\n",
              "      <td>4</td>\n",
              "      <td>9</td>\n",
              "      <td>8</td>\n",
              "      <td>NaN</td>\n",
              "      <td>True</td>\n",
              "    </tr>\n",
              "    <tr>\n",
              "      <th>six</th>\n",
              "      <td>7</td>\n",
              "      <td>7</td>\n",
              "      <td>7</td>\n",
              "      <td>NaN</td>\n",
              "      <td>False</td>\n",
              "    </tr>\n",
              "    <tr>\n",
              "      <th>seven</th>\n",
              "      <td>7</td>\n",
              "      <td>7</td>\n",
              "      <td>6</td>\n",
              "      <td>NaN</td>\n",
              "      <td>False</td>\n",
              "    </tr>\n",
              "  </tbody>\n",
              "</table>\n",
              "</div>"
            ],
            "text/plain": [
              "       Mango  Orange  Packet  Dept  Estimate\n",
              "one        3       9       8   NaN      True\n",
              "two        5       8       7   1.2     False\n",
              "three      6       6       9  -3.2     False\n",
              "four       8       9       9  -5.6      True\n",
              "five       4       9       8   NaN      True\n",
              "six        7       7       7   NaN     False\n",
              "seven      7       7       6   NaN     False"
            ]
          },
          "execution_count": 15,
          "metadata": {},
          "output_type": "execute_result"
        }
      ],
      "source": [
        "df7['Estimate'] = df7.Orange == 9\n",
        "df7"
      ]
    },
    {
      "cell_type": "markdown",
      "metadata": {
        "id": "Eu3R75AGGqws"
      },
      "source": [
        "#### 55. Deleting Column"
      ]
    },
    {
      "cell_type": "code",
      "execution_count": null,
      "metadata": {
        "id": "GA9bMalPGqws",
        "outputId": "745e8e12-fd6e-4eec-e461-0ef70bb533b9"
      },
      "outputs": [
        {
          "data": {
            "text/html": [
              "<div>\n",
              "<style scoped>\n",
              "    .dataframe tbody tr th:only-of-type {\n",
              "        vertical-align: middle;\n",
              "    }\n",
              "\n",
              "    .dataframe tbody tr th {\n",
              "        vertical-align: top;\n",
              "    }\n",
              "\n",
              "    .dataframe thead th {\n",
              "        text-align: right;\n",
              "    }\n",
              "</style>\n",
              "<table border=\"1\" class=\"dataframe\">\n",
              "  <thead>\n",
              "    <tr style=\"text-align: right;\">\n",
              "      <th></th>\n",
              "      <th>Mango</th>\n",
              "      <th>Orange</th>\n",
              "      <th>Packet</th>\n",
              "      <th>Dept</th>\n",
              "    </tr>\n",
              "  </thead>\n",
              "  <tbody>\n",
              "    <tr>\n",
              "      <th>one</th>\n",
              "      <td>3</td>\n",
              "      <td>9</td>\n",
              "      <td>8</td>\n",
              "      <td>NaN</td>\n",
              "    </tr>\n",
              "    <tr>\n",
              "      <th>two</th>\n",
              "      <td>5</td>\n",
              "      <td>8</td>\n",
              "      <td>7</td>\n",
              "      <td>1.2</td>\n",
              "    </tr>\n",
              "    <tr>\n",
              "      <th>three</th>\n",
              "      <td>6</td>\n",
              "      <td>6</td>\n",
              "      <td>9</td>\n",
              "      <td>-3.2</td>\n",
              "    </tr>\n",
              "    <tr>\n",
              "      <th>four</th>\n",
              "      <td>8</td>\n",
              "      <td>9</td>\n",
              "      <td>9</td>\n",
              "      <td>-5.6</td>\n",
              "    </tr>\n",
              "    <tr>\n",
              "      <th>five</th>\n",
              "      <td>4</td>\n",
              "      <td>9</td>\n",
              "      <td>8</td>\n",
              "      <td>NaN</td>\n",
              "    </tr>\n",
              "    <tr>\n",
              "      <th>six</th>\n",
              "      <td>7</td>\n",
              "      <td>7</td>\n",
              "      <td>7</td>\n",
              "      <td>NaN</td>\n",
              "    </tr>\n",
              "    <tr>\n",
              "      <th>seven</th>\n",
              "      <td>7</td>\n",
              "      <td>7</td>\n",
              "      <td>6</td>\n",
              "      <td>NaN</td>\n",
              "    </tr>\n",
              "  </tbody>\n",
              "</table>\n",
              "</div>"
            ],
            "text/plain": [
              "       Mango  Orange  Packet  Dept\n",
              "one        3       9       8   NaN\n",
              "two        5       8       7   1.2\n",
              "three      6       6       9  -3.2\n",
              "four       8       9       9  -5.6\n",
              "five       4       9       8   NaN\n",
              "six        7       7       7   NaN\n",
              "seven      7       7       6   NaN"
            ]
          },
          "execution_count": 16,
          "metadata": {},
          "output_type": "execute_result"
        }
      ],
      "source": [
        "del df7['Estimate']\n",
        "df7"
      ]
    },
    {
      "cell_type": "markdown",
      "metadata": {
        "id": "klE7Og62Gqwt"
      },
      "source": [
        "#### 56. Adding data in the form of nested dictionary "
      ]
    },
    {
      "cell_type": "code",
      "execution_count": null,
      "metadata": {
        "id": "bLUSQNE9Gqwt",
        "outputId": "d9d16d60-0798-4145-cb8d-ec452aa7a758"
      },
      "outputs": [
        {
          "data": {
            "text/html": [
              "<div>\n",
              "<style scoped>\n",
              "    .dataframe tbody tr th:only-of-type {\n",
              "        vertical-align: middle;\n",
              "    }\n",
              "\n",
              "    .dataframe tbody tr th {\n",
              "        vertical-align: top;\n",
              "    }\n",
              "\n",
              "    .dataframe thead th {\n",
              "        text-align: right;\n",
              "    }\n",
              "</style>\n",
              "<table border=\"1\" class=\"dataframe\">\n",
              "  <thead>\n",
              "    <tr style=\"text-align: right;\">\n",
              "      <th></th>\n",
              "      <th>Apple</th>\n",
              "      <th>Banana</th>\n",
              "    </tr>\n",
              "  </thead>\n",
              "  <tbody>\n",
              "    <tr>\n",
              "      <th>2010</th>\n",
              "      <td>566</td>\n",
              "      <td>466</td>\n",
              "    </tr>\n",
              "    <tr>\n",
              "      <th>2012</th>\n",
              "      <td>600</td>\n",
              "      <td>700</td>\n",
              "    </tr>\n",
              "  </tbody>\n",
              "</table>\n",
              "</div>"
            ],
            "text/plain": [
              "      Apple  Banana\n",
              "2010    566     466\n",
              "2012    600     700"
            ]
          },
          "execution_count": 23,
          "metadata": {},
          "output_type": "execute_result"
        }
      ],
      "source": [
        "dictodic = {'Apple':{2010:566,2012:600},\n",
        "            'Banana':{2010:466,2012:700}}\n",
        "df8 = pd.DataFrame(dictodic)\n",
        "df8"
      ]
    },
    {
      "cell_type": "markdown",
      "metadata": {
        "id": "k8H2rYgfGqwt"
      },
      "source": [
        "#### 57.  Making Row as column and column as row (Taking Transpose)"
      ]
    },
    {
      "cell_type": "code",
      "execution_count": null,
      "metadata": {
        "id": "L0-R3P-dGqwt",
        "outputId": "3be1e680-5f4b-4d3a-cd4a-5abb3697eb74"
      },
      "outputs": [
        {
          "data": {
            "text/html": [
              "<div>\n",
              "<style scoped>\n",
              "    .dataframe tbody tr th:only-of-type {\n",
              "        vertical-align: middle;\n",
              "    }\n",
              "\n",
              "    .dataframe tbody tr th {\n",
              "        vertical-align: top;\n",
              "    }\n",
              "\n",
              "    .dataframe thead th {\n",
              "        text-align: right;\n",
              "    }\n",
              "</style>\n",
              "<table border=\"1\" class=\"dataframe\">\n",
              "  <thead>\n",
              "    <tr style=\"text-align: right;\">\n",
              "      <th></th>\n",
              "      <th>2010</th>\n",
              "      <th>2012</th>\n",
              "    </tr>\n",
              "  </thead>\n",
              "  <tbody>\n",
              "    <tr>\n",
              "      <th>Apple</th>\n",
              "      <td>566</td>\n",
              "      <td>600</td>\n",
              "    </tr>\n",
              "    <tr>\n",
              "      <th>Banana</th>\n",
              "      <td>466</td>\n",
              "      <td>700</td>\n",
              "    </tr>\n",
              "  </tbody>\n",
              "</table>\n",
              "</div>"
            ],
            "text/plain": [
              "        2010  2012\n",
              "Apple    566   600\n",
              "Banana   466   700"
            ]
          },
          "execution_count": 22,
          "metadata": {},
          "output_type": "execute_result"
        }
      ],
      "source": [
        "df8.T"
      ]
    },
    {
      "cell_type": "code",
      "execution_count": null,
      "metadata": {
        "id": "gEjtqL2ZGqwt"
      },
      "outputs": [],
      "source": []
    },
    {
      "cell_type": "markdown",
      "source": [
        "# Perform Aggregation in Dataframe"
      ],
      "metadata": {
        "id": "NS67x2yWGvuU"
      }
    },
    {
      "cell_type": "markdown",
      "source": [
        "## Summary Statistics"
      ],
      "metadata": {
        "id": "Vm7ofRHaHbUS"
      }
    },
    {
      "cell_type": "markdown",
      "source": [
        "### find summaries on single column"
      ],
      "metadata": {
        "id": "KLqZ2B0yHjbF"
      }
    },
    {
      "cell_type": "code",
      "source": [
        "def action_function(column):\n",
        "  # return column.min()\n",
        "  # return column.max()\n",
        "  return column.quantile(0.3)\n",
        "df['column_name'].agg(action_function)"
      ],
      "metadata": {
        "id": "0-It5rzHG6C2"
      },
      "execution_count": null,
      "outputs": []
    },
    {
      "cell_type": "markdown",
      "source": [
        "### Apply same summary on multiple column"
      ],
      "metadata": {
        "id": "g6ESp96jTHER"
      }
    },
    {
      "cell_type": "code",
      "source": [
        "def action_function(column):\n",
        "  # return column.min()\n",
        "  # return column.max()\n",
        "  return column.quantile(0.3)\n",
        "df[['column1_name', 'column2_name']].agg(action_function)"
      ],
      "metadata": {
        "id": "YZE9hI9-TH1L"
      },
      "execution_count": null,
      "outputs": []
    },
    {
      "cell_type": "markdown",
      "source": [
        "### Apply multiply summaries on single column"
      ],
      "metadata": {
        "id": "Ir69T9faTnsi"
      }
    },
    {
      "cell_type": "code",
      "source": [
        "def action_function1(column):\n",
        "  # return column.min()\n",
        "  # return column.max()\n",
        "  return column.quantile(0.3)\n",
        "def action_function2(column):\n",
        "  # return column.min()\n",
        "  # return column.max()\n",
        "  return column.quantile(0.3)\n",
        "df['column1_name'].agg(action_function1, action_function1)"
      ],
      "metadata": {
        "id": "cuJqNd-6Tu7x"
      },
      "execution_count": null,
      "outputs": []
    }
  ],
  "metadata": {
    "kernelspec": {
      "display_name": "Python 3",
      "language": "python",
      "name": "python3"
    },
    "language_info": {
      "codemirror_mode": {
        "name": "ipython",
        "version": 3
      },
      "file_extension": ".py",
      "mimetype": "text/x-python",
      "name": "python",
      "nbconvert_exporter": "python",
      "pygments_lexer": "ipython3",
      "version": "3.8.3"
    },
    "colab": {
      "provenance": [],
      "toc_visible": true,
      "include_colab_link": true
    }
  },
  "nbformat": 4,
  "nbformat_minor": 0
}